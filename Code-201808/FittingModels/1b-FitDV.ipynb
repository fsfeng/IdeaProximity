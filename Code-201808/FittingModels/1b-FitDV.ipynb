{
 "cells": [
  {
   "cell_type": "code",
   "execution_count": 1,
   "metadata": {},
   "outputs": [
    {
     "name": "stderr",
     "output_type": "stream",
     "text": [
      "/homedir/eco/sfeng/bigdata/python/miniconda3/lib/python3.6/site-packages/h5py/__init__.py:36: FutureWarning: Conversion of the second argument of issubdtype from `float` to `np.floating` is deprecated. In future, it will be treated as `np.float64 == np.dtype(float).type`.\n",
      "  from ._conv import register_converters as _register_converters\n",
      "Using TensorFlow backend.\n",
      "/homedir/eco/sfeng/bigdata/python/miniconda3/lib/python3.6/importlib/_bootstrap.py:219: RuntimeWarning: compiletime version 3.5 of module 'tensorflow.python.framework.fast_tensor_util' does not match runtime version 3.6\n",
      "  return f(*args, **kwds)\n"
     ]
    }
   ],
   "source": [
    "import scipy as sp\n",
    "import numpy as np\n",
    "import pandas as pd\n",
    "import timeit\n",
    "import matplotlib.pyplot as plt\n",
    "import requests\n",
    "import pprint\n",
    "import sklearn\n",
    "import gensim\n",
    "import datetime\n",
    "import json\n",
    "import pickle\n",
    "import fastparquet\n",
    "\n",
    "seed = 3\n",
    "\n",
    "import os\n",
    "os.chdir('/mnt/t48/bighomes-active/sfeng/patentdiffusion/')"
   ]
  },
  {
   "cell_type": "code",
   "execution_count": 2,
   "metadata": {},
   "outputs": [
    {
     "name": "stderr",
     "output_type": "stream",
     "text": [
      "INFO:root:good day to you madam fiona\n"
     ]
    }
   ],
   "source": [
    "import logging\n",
    "logger = logging.getLogger()\n",
    "logger.setLevel(logging.INFO)\n",
    "logging.basicConfig(level=logging.INFO)\n",
    "logger.addHandler(logging.FileHandler('Logs/DV_{0}.log'.format(datetime.datetime.now().\\\n",
    "                                                            strftime(\"%Y-%m-%d\"), 'a')))\n",
    "print = logging.info\n",
    "print('good day to you madam fiona')"
   ]
  },
  {
   "cell_type": "markdown",
   "metadata": {},
   "source": [
    "Code from:\n",
    "- https://sfengc7.stern.nyu.edu:8888/notebooks/patentdiffusion/201801KnowledgeSpilloversRep/MCSampleRegression/1-Doc2Vec.ipynb\n",
    "- Documentation here: https://radimrehurek.com/gensim/models/doc2vec.html, see example here: https://github.com/RaRe-Technologies/gensim/blob/develop/docs/notebooks/doc2vec-lee.ipynb"
   ]
  },
  {
   "cell_type": "code",
   "execution_count": null,
   "metadata": {},
   "outputs": [],
   "source": [
    "pats = fastparquet.ParquetFile(\"RawData/Cleaned/patabs7615_us_no_dup.parq\").to_pandas().sample(frac = 0.7, random_state = seed)\n",
    "abs_stemmed = pats[\"abs_stemmed\"].tolist()\n",
    "pat_labels = pats[\"patent\"].astype(str).tolist()\n",
    "del(pats)"
   ]
  },
  {
   "cell_type": "code",
   "execution_count": null,
   "metadata": {
    "scrolled": true
   },
   "outputs": [],
   "source": [
    "from gensim import models\n",
    "from gensim.models.doc2vec import TaggedDocument\n",
    "\n",
    "class DocIterator(object):\n",
    "    def __init__(self, doc_list, labels_list):\n",
    "        self.labels_list = labels_list\n",
    "        self.doc_list = doc_list\n",
    "\n",
    "    def __iter__(self):\n",
    "        for idx, doc in enumerate(self.doc_list):\n",
    "            # print 'creating tagged document...%d' % idx\n",
    "            yield TaggedDocument(words=doc.split(), tags=[self.labels_list[idx]])\n",
    "\n",
    "\n",
    "iterator = DocIterator(abs_stemmed, pat_labels)\n",
    "print('building vocabulary')\n",
    "\n",
    "%time model = gensim.models.Doc2Vec(size=100, window=10, min_count=50, workers=4, alpha=0.025, min_alpha=0.025)\n",
    "%time model.build_vocab(iterator)\n",
    "\n",
    "print('done building vocabulary')\n",
    "print('start training the model')\n",
    "\n",
    "starttime = datetime.datetime.now()\n",
    "print(\"start\")\n",
    "print(starttime)\n",
    "model.train(iterator, total_examples=model.corpus_count, epochs=30)\n",
    "endtime = datetime.datetime.now()\n",
    "print(\"end\")\n",
    "print(endtime)\n",
    "\n",
    "model.save(\"DataStore/2018-07-P2/ML/doc2vec_0712.model\")\n",
    "print(\"Finished saving model\")\n",
    "print(datetime.datetime.now())"
   ]
  },
  {
   "cell_type": "code",
   "execution_count": null,
   "metadata": {},
   "outputs": [],
   "source": [
    "## Not doing all patents anymore\n",
    "# docvecs = []\n",
    "# for i in iter(pat_labels):\n",
    "#     docvecs.append(model.docvecs[i])\n",
    "    \n",
    "# dv = pd.DataFrame(docvecs, columns = [str(i) for i in range(100)])\n",
    "# dv.index = [int(i) for i in pat_labels]\n",
    "# fastparquet.write(\"DataStore/2018-07-P2/ML/docvecs_pats_0712.parq\", dv, compression=\"GZIP\")"
   ]
  },
  {
   "cell_type": "code",
   "execution_count": null,
   "metadata": {},
   "outputs": [],
   "source": [
    "# model = gensim.models.doc2vec.Doc2Vec.load(\"DataStore/2018-07-P2/ML/doc2vec_0712.model\")\n",
    "pa = fastparquet.ParquetFile(\"RawData/Cleaned/patabs7615_us_no_dup.parq\").to_pandas([\"abs_stemmed\"])[\"abs_stemmed\"].tolist()\n",
    "try:\n",
    "    texts = [t.split() for t in pa]\n",
    "    print(\"inferring new vectors\")\n",
    "    print(datetime.datetime.now())\n",
    "    new_vecs = [model.infer_vector(t) for t in texts]\n",
    "    print(\"finished inferring new vectors\")\n",
    "    print(datetime.datetime.now())\n",
    "    nv = pd.DataFrame(new_vecs, columns = [str(i) for i in range(100)], index = range(len(new_vecs)))\n",
    "    fastparquet.write(\"DataStore/2018-07-P2/ML/docvecs_pats_0712.parq\", nv, compression = \"GZIP\")\n",
    "except Exception as e:\n",
    "    logging.exception(\"message\")"
   ]
  },
  {
   "cell_type": "code",
   "execution_count": null,
   "metadata": {},
   "outputs": [],
   "source": []
  }
 ],
 "metadata": {
  "hide_input": false,
  "kernelspec": {
   "display_name": "Python 3",
   "language": "python",
   "name": "python3"
  },
  "language_info": {
   "codemirror_mode": {
    "name": "ipython",
    "version": 3
   },
   "file_extension": ".py",
   "mimetype": "text/x-python",
   "name": "python",
   "nbconvert_exporter": "python",
   "pygments_lexer": "ipython3",
   "version": "3.6.7"
  }
 },
 "nbformat": 4,
 "nbformat_minor": 2
}
