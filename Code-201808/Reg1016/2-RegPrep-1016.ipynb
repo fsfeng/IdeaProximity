{
 "cells": [
  {
   "cell_type": "code",
   "execution_count": 1,
   "metadata": {},
   "outputs": [
    {
     "name": "stderr",
     "output_type": "stream",
     "text": [
      "/homedir/eco/sfeng/bigdata/python/miniconda3/lib/python3.6/site-packages/statsmodels/compat/pandas.py:56: FutureWarning: The pandas.core.datetools module is deprecated and will be removed in a future version. Please use the pandas.tseries module instead.\n",
      "  from pandas.core import datetools\n"
     ]
    }
   ],
   "source": [
    "import scipy as sp\n",
    "import numpy as np\n",
    "import pandas as pd\n",
    "import timeit\n",
    "import re\n",
    "import json\n",
    "import pickle\n",
    "import fastparquet\n",
    "import os\n",
    "os.chdir('/mnt/t48/bighomes-active/sfeng/patentdiffusion/')\n",
    "seed = 3\n",
    "import seaborn as sns\n",
    "import matplotlib\n",
    "import matplotlib.pyplot as plt\n",
    "from sklearn.preprocessing import StandardScaler\n",
    "scaler = StandardScaler()\n",
    "import datetime\n",
    "import statsmodels.api as sm\n",
    "import statsmodels.formula.api as smf\n",
    "import statsmodels.iolib.summary2 as summary2\n",
    "import logging"
   ]
  },
  {
   "cell_type": "code",
   "execution_count": 2,
   "metadata": {},
   "outputs": [],
   "source": [
    "\n",
    "fe = {\n",
    "    \n",
    "     \"Year FE\": \"{0} ~ C(inv_msa_match) + C(tp_gyear)\",\n",
    "}\n",
    "\n",
    "comp_fe = {\n",
    "     \n",
    "     \"Inv M\": \"{0} ~ C(common_pat_inv) + C(tp_gyear) + C(tp_primclass_FE)\",\n",
    "     \"Lawyer M\": \"{0} ~ C(lawyer_match) + C(tp_gyear) + C(tp_primclass_FE)\",\n",
    "     \"CC M\": \"{0} ~ C(common_cited_match) + C(tp_gyear) + C(tp_primclass_FE)\",\n",
    "     \"PC M\": \"{0} ~ C(primclass_match) + C(tp_gyear) + C(tp_primclass_FE)\",\n",
    "     \"NPC M\": \"{0} ~ C(common_npc_match) + C(tp_gyear) + C(tp_primclass_FE)\",\n",
    "     \"Examiner M\": \"{0} ~ C(examiner_match) + C(tp_gyear) + C(tp_primclass_FE)\",\n",
    "    \n",
    "}\n",
    "\n",
    "techsim = {\n",
    "     # All sim\n",
    "    \n",
    "    \"Sim PC\": \"{0} ~ C(inv_msa_match) + C(tp_gyear) + mean_{0}_pc\",\n",
    "    \n",
    "    \"Int PC\": \"{0} ~ C(inv_msa_match)*mean_{0}_pc + C(tp_gyear)\",\n",
    "\n",
    "    \"Sim PC MSA\": \"{0} ~ C(inv_msa_match) + C(tp_gyear) + mean_{0}_pc_msa\",\n",
    "\n",
    "    \"Int PC MSA\": \"{0} ~ C(inv_msa_match)*mean_{0}_pc_msa + C(tp_gyear)\",\n",
    "    \n",
    "    \"Break Int PC MSA\": \"{0} ~ C(inv_msa_match) + pc_msa_greater_0:mean_{0}_pc_msa + \\\n",
    "    pc_msa_less_0:mean_{0}_pc_msa + C(inv_msa_match):pc_msa_greater_0:mean_{0}_pc_msa + \\\n",
    "    C(inv_msa_match):pc_msa_less_0:mean_{0}_pc_msa + C(tp_gyear)\"\n",
    "}"
   ]
  },
  {
   "cell_type": "code",
   "execution_count": 3,
   "metadata": {},
   "outputs": [],
   "source": [
    "base_m = {**fe, **techsim}"
   ]
  },
  {
   "cell_type": "code",
   "execution_count": 4,
   "metadata": {},
   "outputs": [],
   "source": [
    "add_vars = [(\"PC FE\", \" + C(tp_primclass_FE)\"),\n",
    "           (\"Inv M\", \" + C(common_pat_inv) + C(common_est_inv)\"),\n",
    "           (\"Lawyer M\", \" + C(lawyer_match)\"),\n",
    "           (\"Exam M\", \" + C(examiner_match)\"),\n",
    "            \n",
    "           \n",
    "           # FE\n",
    "           (\"MSA FE\", \" + C(tp_inv_msa_FE)\"),\n",
    "           (\"Lawyer FE\", \" + C(tp_lawyer_FE)\"), \n",
    "           (\"Exam FE\", \" + C(tp_examiner_FE)\"),\n",
    "            \n",
    "           # PC Match\n",
    "           (\"PC M\", \" + C(primclass_match)\"),\n",
    "#            # Not enough True observations to estimate\n",
    "           (\"NonP M\", \" + C(common_npc_match)\"), \n",
    "           ]"
   ]
  },
  {
   "cell_type": "code",
   "execution_count": 5,
   "metadata": {},
   "outputs": [],
   "source": [
    "iter_mods = [None]*len(add_vars)\n",
    "for i,v in enumerate(add_vars):\n",
    "    if i == 0:\n",
    "        eqn = v[1]\n",
    "    else:\n",
    "        eqn = iter_mods[i-1][2]+v[1]\n",
    "    iter_mods[i] = (v[0]+\"-\", v[0], eqn)"
   ]
  },
  {
   "cell_type": "code",
   "execution_count": 6,
   "metadata": {},
   "outputs": [
    {
     "data": {
      "text/plain": [
       "[('PC FE-', 'PC FE', ' + C(tp_primclass_FE)'),\n",
       " ('Inv M-',\n",
       "  'Inv M',\n",
       "  ' + C(tp_primclass_FE) + C(common_pat_inv) + C(common_est_inv)'),\n",
       " ('Lawyer M-',\n",
       "  'Lawyer M',\n",
       "  ' + C(tp_primclass_FE) + C(common_pat_inv) + C(common_est_inv) + C(lawyer_match)')]"
      ]
     },
     "execution_count": 6,
     "metadata": {},
     "output_type": "execute_result"
    }
   ],
   "source": [
    "iter_mods[:3]"
   ]
  },
  {
   "cell_type": "code",
   "execution_count": 7,
   "metadata": {},
   "outputs": [],
   "source": [
    "all_m = {}             \n",
    "for m in iter_mods:\n",
    "    new_m = {m[0]+k : v+m[2] for k,v in base_m.items()}\n",
    "    all_m.update(new_m)\n",
    "    \n",
    "# Add FE Match\n",
    "all_m.update(comp_fe)"
   ]
  },
  {
   "cell_type": "code",
   "execution_count": 8,
   "metadata": {},
   "outputs": [],
   "source": [
    "# Models\n",
    "s1 = list(all_m.values())\n",
    "s2 = [i.replace(\"{0} \", \"norm_{0} \").replace(\"mean_\", \"norm_mean_\") for i in s1]\n",
    "sim_regs = s1+s2\n",
    "\n",
    "n_eqns = len(s1)\n",
    "\n",
    "# Model names\n",
    "m1 = list(all_m.keys())\n",
    "# Add Norm\n",
    "m2 = [\"N \"+i for i in m1]\n",
    "mn = m1+m2"
   ]
  },
  {
   "cell_type": "code",
   "execution_count": 10,
   "metadata": {},
   "outputs": [],
   "source": [
    "# Create regression dictionary\n",
    "regs = {}\n",
    "pathdir = \"DataStore/2018-10/Reg1016/\"\n",
    "reg_f = \"reg_model_1016.pkl\"\n",
    "\n",
    "regs[\"model_names\"] = pd.Series(mn)\n",
    "regs[\"n_eqns\"] = n_eqns\n",
    "regs[\"ldavecs\"] = pd.Series([i.format(\"sim_ldavecs\") for i in sim_regs])\n",
    "regs[\"docvecs\"] = pd.Series([i.format(\"sim_docvecs\") for i in sim_regs])\n",
    "\n",
    "# Include mean_sim_docvecs\n",
    "for c in [\"tp_pct_common_cited\"]:\n",
    "    # Just replace KS measure\n",
    "    l = [i.replace(\"sim_docvecs \", \"{0} \".format(c)) for i in regs[\"docvecs\"]]\n",
    "    regs[c] = pd.Series(l)\n",
    "pickle.dump(regs, open(pathdir+reg_f, \"wb\"))"
   ]
  },
  {
   "cell_type": "code",
   "execution_count": 18,
   "metadata": {},
   "outputs": [],
   "source": [
    "pc10 = {\n",
    "    \"PC FE-Year FE\": \"{0} ~ C(inv_msa_match) + C(tp_gyear) + C(tp_primclass_FE)\",\n",
    "    \"MSA FE-Year FE\": \"{0} ~ C(inv_msa_match) + C(tp_gyear) + C(tp_primclass_FE) + C(tp_inv_msa_FE)\",\n",
    "    \"Lawyer FE-Year FE\": \"{0} ~ C(inv_msa_match) + C(tp_gyear) + C(tp_primclass_FE)  + C(tp_inv_msa_FE)\\\n",
    "    + C(tp_lawyer_FE)\",\n",
    "    \"Examiner FE-Year FE\": \"{0} ~ C(inv_msa_match) + C(tp_gyear) + C(tp_primclass_FE) + C(tp_inv_msa_FE)\\\n",
    "    + C(tp_lawyer_FE) + C(tp_examiner_FE)\",\n",
    "}\n",
    "\n",
    "pc10_N = {\"N \"+k: \"norm_\"+v for k,v in pc10.items()}\n",
    "pc10.update(pc10_N)\n",
    "pc10 = {k: v.format(\"perc_match_10\") for k,v in pc10.items()}\n",
    "\n",
    "regs[\"JTH_model_names\"] = pd.Series(list(pc10.keys())) \n",
    "regs[\"JTH_cite\"] = pd.Series(list(pc10.values())) "
   ]
  },
  {
   "cell_type": "code",
   "execution_count": 19,
   "metadata": {},
   "outputs": [],
   "source": [
    "pickle.dump(regs, open(pathdir+reg_f, \"wb\"))"
   ]
  },
  {
   "cell_type": "code",
   "execution_count": null,
   "metadata": {},
   "outputs": [],
   "source": []
  }
 ],
 "metadata": {
  "hide_input": false,
  "kernelspec": {
   "display_name": "Python 3",
   "language": "python",
   "name": "python3"
  },
  "language_info": {
   "codemirror_mode": {
    "name": "ipython",
    "version": 3
   },
   "file_extension": ".py",
   "mimetype": "text/x-python",
   "name": "python",
   "nbconvert_exporter": "python",
   "pygments_lexer": "ipython3",
   "version": "3.6.5"
  }
 },
 "nbformat": 4,
 "nbformat_minor": 2
}
