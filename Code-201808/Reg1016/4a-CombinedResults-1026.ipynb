{
 "cells": [
  {
   "cell_type": "code",
   "execution_count": 1,
   "metadata": {},
   "outputs": [
    {
     "name": "stderr",
     "output_type": "stream",
     "text": [
      "/homedir/eco/sfeng/bigdata/python/miniconda3/lib/python3.6/site-packages/statsmodels/compat/pandas.py:56: FutureWarning: The pandas.core.datetools module is deprecated and will be removed in a future version. Please use the pandas.tseries module instead.\n",
      "  from pandas.core import datetools\n"
     ]
    }
   ],
   "source": [
    "import scipy as sp\n",
    "import numpy as np\n",
    "import pandas as pd\n",
    "import timeit\n",
    "import re\n",
    "import json\n",
    "import pickle\n",
    "import fastparquet\n",
    "import os\n",
    "os.chdir('/mnt/t48/bighomes-active/sfeng/patentdiffusion/')\n",
    "seed = 3\n",
    "import seaborn as sns\n",
    "import matplotlib\n",
    "import matplotlib.pyplot as plt\n",
    "from sklearn.preprocessing import StandardScaler\n",
    "scaler = StandardScaler()\n",
    "import datetime\n",
    "import statsmodels.api as sm\n",
    "import statsmodels.formula.api as smf\n",
    "import statsmodels.iolib.summary2 as summary2"
   ]
  },
  {
   "cell_type": "markdown",
   "metadata": {},
   "source": [
    "Based on: https://sfengc7.stern.nyu.edu:8888/notebooks/patentdiffusion/201808Results/Reg1016/4a-CombinedResults-1016.ipynb, https://sfengc7.stern.nyu.edu:8888/notebooks/patentdiffusion/201808Results/Reg1016/4b-RegCoefficients-1016.ipynb"
   ]
  },
  {
   "cell_type": "code",
   "execution_count": 2,
   "metadata": {},
   "outputs": [],
   "source": [
    "pathdir = \"DataStore/2018-10/Reg1016/\"\n",
    "reg_f = \"reg_model_1016.pkl\"\n",
    "\n",
    "regs = pickle.load(open(pathdir+reg_f, \"rb\"))\n",
    "\n",
    "# Model names to equations\n",
    "regs[\"model_names_eqn\"] = dict(zip(regs[\"model_names\"].tolist(), regs[\"model_names\"].index.tolist()))"
   ]
  },
  {
   "cell_type": "code",
   "execution_count": 82,
   "metadata": {},
   "outputs": [
    {
     "name": "stdout",
     "output_type": "stream",
     "text": [
      "4512\n",
      "4512\n"
     ]
    }
   ],
   "source": [
    "# JTH Rep\n",
    "jr = pd.read_csv(\"DataStore/2018-10/Reg1016/JTH_cite_reg_1026.csv\",index_col=0)\n",
    "jr = jr.replace({\"$I(MSA \\, Match)$\":\"C(inv_msa_match)[T.True]\",\n",
    "                \"Examiner FE-Year FE\":\"Exam FE-Year FE\",\n",
    "                \"N Examiner FE-Year FE\":\"N Exam FE-Year FE\"})\n",
    "jr[\"samp\"] = \"JTH Rep\"\n",
    "\n",
    "# FE results (0930 - uses full dataset) and Sim results (1003 - uses only those with sim pc, sim pc msa values)\n",
    "rr = pd.read_csv(\"DataStore/2018-10/Reg1016/reg_pairs_out_HC1_1016.csv\",index_col=0)\n",
    "\n",
    "# Use reg_model_1002 to assign model numbers\n",
    "rr[\"Model Num\"] = rr[\"Model\"].map(regs[\"model_names_eqn\"])\n",
    "\n",
    "# Get rid of models without a number (squared ones excluded from analysis)\n",
    "print(len(rr))\n",
    "rr = rr.loc[rr[\"Model Num\"].notnull()]\n",
    "print(len(rr))\n",
    "rr[\"samp\"] = rr[\"samp\"].apply(eval)\n",
    "rr = pd.concat([jr,rr],axis=0)\n",
    "# Reset index\n",
    "rr = rr.reset_index(drop=True)\n",
    "# Integer model number\n",
    "rr[\"Model Num\"] = rr[\"Model Num\"].astype(int)\n",
    "# Equation id\n",
    "rr[\"id\"] = [\"({0}, {1}, {2})\".format(i,j,k) for i,j,k in zip(rr[\"samp\"], rr[\"LKS\"], rr[\"Model\"])]\n",
    "rr[\"id\"] = rr[\"id\"].astype(str)\n",
    "\n",
    "# Add S.E.\n",
    "# S.E. index\n",
    "se_ind = rr.loc[rr[\"index\"].isnull()].index.tolist()\n",
    "\n",
    "for ind in se_ind:\n",
    "    rr.loc[ind, \"index\"] = \"SE {0}\".format(rr.loc[ind-1, \"index\"])"
   ]
  },
  {
   "cell_type": "code",
   "execution_count": 65,
   "metadata": {},
   "outputs": [
    {
     "data": {
      "text/plain": [
       "array(['PC FE-Year FE', 'MSA FE-Year FE', 'Lawyer FE-Year FE',\n",
       "       'Examiner FE-Year FE', 'N PC FE-Year FE', 'N MSA FE-Year FE',\n",
       "       'N Lawyer FE-Year FE', 'N Examiner FE-Year FE', 'N PC FE-Sim PC',\n",
       "       'N PC FE-Int PC', 'N PC FE-Sim PC MSA', 'N PC FE-Int PC MSA',\n",
       "       'N PC FE-Break Int PC MSA', 'N Inv M-Year FE', 'N Inv M-Sim PC',\n",
       "       'N Inv M-Int PC', 'N Inv M-Sim PC MSA', 'N Inv M-Int PC MSA',\n",
       "       'N Inv M-Break Int PC MSA', 'N Lawyer M-Year FE',\n",
       "       'N Lawyer M-Sim PC', 'N Lawyer M-Int PC', 'N Lawyer M-Sim PC MSA',\n",
       "       'N Lawyer M-Int PC MSA', 'N Lawyer M-Break Int PC MSA',\n",
       "       'N Exam M-Year FE', 'N Exam M-Sim PC', 'N Exam M-Int PC',\n",
       "       'N Exam M-Sim PC MSA', 'N Exam M-Int PC MSA',\n",
       "       'N Exam M-Break Int PC MSA', 'N MSA FE-Sim PC', 'N MSA FE-Int PC',\n",
       "       'N MSA FE-Sim PC MSA', 'N MSA FE-Int PC MSA',\n",
       "       'N MSA FE-Break Int PC MSA', 'N Lawyer FE-Sim PC',\n",
       "       'N Lawyer FE-Int PC', 'N Lawyer FE-Sim PC MSA',\n",
       "       'N Lawyer FE-Int PC MSA', 'N Lawyer FE-Break Int PC MSA',\n",
       "       'N Exam FE-Year FE', 'N Exam FE-Sim PC', 'N Exam FE-Int PC',\n",
       "       'N Exam FE-Sim PC MSA', 'N Exam FE-Int PC MSA',\n",
       "       'N Exam FE-Break Int PC MSA', 'N PC M-Year FE', 'N PC M-Sim PC',\n",
       "       'N PC M-Int PC', 'N PC M-Sim PC MSA', 'N PC M-Int PC MSA',\n",
       "       'N PC M-Break Int PC MSA', 'N NonP M-Year FE', 'N NonP M-Sim PC',\n",
       "       'N NonP M-Int PC', 'N NonP M-Sim PC MSA', 'N NonP M-Int PC MSA',\n",
       "       'N NonP M-Break Int PC MSA', 'N Inv M', 'N Lawyer M', 'N CC M',\n",
       "       'N PC M', 'N NPC M', 'N Examiner M'], dtype=object)"
      ]
     },
     "execution_count": 65,
     "metadata": {},
     "output_type": "execute_result"
    }
   ],
   "source": [
    "rr[\"Model\"].unique()"
   ]
  },
  {
   "cell_type": "markdown",
   "metadata": {},
   "source": [
    "### 1. Year and PC Controls"
   ]
  },
  {
   "cell_type": "code",
   "execution_count": 100,
   "metadata": {},
   "outputs": [],
   "source": [
    "# Regression models\n",
    "# Primclass\n",
    "rm_pc = [\n",
    "    # JTH norm percentage match PC FE\n",
    "    \"(JTH Rep, norm_perc_match_10, N PC FE-Year FE)\",\n",
    "    # pcc N PC FE\n",
    "    \"(('tp_pct_common_cited', 'primclass'), norm_tp_pct_common_cited, N PC FE-Year FE)\",\n",
    "    # docvecs N PC FE\n",
    "    \"(('docvecs', 'primclass'), norm_sim_docvecs, N PC FE-Year FE)\",  \n",
    "]\n",
    "\n",
    "rm_pc_n = [\"Citations Benchmark\", \"Pct Common Cited Pats\", \"Sim DocVecs, PC FE\"]\n",
    "\n",
    "# NAICS\n",
    "rm_n = [\n",
    "    # JTH norm percentage match PC FE\n",
    "    \"(JTH Rep, norm_perc_match_10, N PC FE-Year FE)\",\n",
    "    # pcc N PC FE\n",
    "    \"(('tp_pct_common_cited', 'naics_name'), norm_tp_pct_common_cited, N PC FE-Year FE)\",\n",
    "    # docvecs N PC FE\n",
    "    \"(('docvecs', 'naics_name'), norm_sim_docvecs, N PC FE-Year FE)\", \n",
    "]\n",
    "\n",
    "# rm_n_n = [\"Citations Benchmark\", \"Pct Common Cited Pats\", \"Sim DocVecs, PC FE\", \"Sim DocVecs, Sim PC\", \"Sim DocVecs, Sim PC MSA\"]\n",
    "rm_n_n = rm_pc_n\n",
    "\n",
    "rm_d = dict(zip(rm_pc, rm_pc_n))\n",
    "rm_d.update(dict(zip(rm_n, rm_n_n)))"
   ]
  },
  {
   "cell_type": "markdown",
   "metadata": {},
   "source": [
    "### NAICS Table"
   ]
  },
  {
   "cell_type": "code",
   "execution_count": 101,
   "metadata": {},
   "outputs": [],
   "source": [
    "# Localization estimates\n",
    "t = {}\n",
    "for l in [(\"naics_name\", rm_n), (\"primclass\", rm_pc)]:\n",
    "    rc = rr.loc[rr[\"id\"].isin(l[1]) & rr[\"index\"].isin([\"C(inv_msa_match)[T.True]\",\\\n",
    "            \"SE C(inv_msa_match)[T.True]\", \"$N$\", \"Adjusted $R^2$\"])].copy()\n",
    "    rc[\"id\"] = rc[\"id\"].map(rm_d)\n",
    "    rc.loc[rc[\"index\"].isin([\"$N$\", \"Adjusted $R^2$\"]), \"id\"] =\\\n",
    "    rc.loc[rc[\"index\"].isin([\"$N$\", \"Adjusted $R^2$\"]), \"index\"]\n",
    "    # Fixed effects columns\n",
    "    rc[\"Year \\& PC FE\"] = \"\"\n",
    "    rc[\"Other Controls\"] = \"\"\n",
    "    rc.loc[(rc[\"index\"] == \"SE C(inv_msa_match)[T.True]\"), ['id']] = \"\"\n",
    "    rc.loc[(rc[\"index\"] == \"C(inv_msa_match)[T.True]\"), [\"Year \\& PC FE\"]] = True\n",
    "    rc.loc[(rc[\"index\"] == \"C(inv_msa_match)[T.True]\"), [\"Other Controls\"]] = False\n",
    "    # cols = ['id', '1975-85', '1985-95', '1995-05', '2005-15', \"Year \\& PC FE\", \"Other Controls\"]\n",
    "    cols = ['id', '1975-85', '1985-95', '1995-05', '2005-15']\n",
    "    rc = rc[cols]\n",
    "    rc = rc.rename(columns={\"id\": \"\"})\n",
    "    t[l[0]] = rc\n",
    "t1 = t"
   ]
  },
  {
   "cell_type": "code",
   "execution_count": 102,
   "metadata": {},
   "outputs": [
    {
     "name": "stdout",
     "output_type": "stream",
     "text": [
      "naics_name\n",
      "\\begin{tabular}{lcccc}\n",
      "\\toprule\n",
      "                       &    1975-85 &    1985-95 &    1995-05 &    2005-15 \\\\\n",
      "\\midrule\n",
      "   Citations Benchmark &  0.2422*** &  0.2849*** &  0.2968*** &  0.3365*** \\\\\n",
      "                       &   (0.0074) &   (0.0051) &   (0.0041) &   (0.0054) \\\\\n",
      "                   $N$ &      58647 &     107358 &     185154 &     154619 \\\\\n",
      "        Adjusted $R^2$ &       0.03 &       0.05 &       0.05 &       0.05 \\\\\n",
      " Pct Common Cited Pats &  0.0321*** &  0.0737*** &  0.0802*** &  0.0689*** \\\\\n",
      "                       &   (0.0056) &   (0.0075) &   (0.0064) &   (0.0050) \\\\\n",
      "                   $N$ &     188668 &     273463 &     384536 &     548061 \\\\\n",
      "        Adjusted $R^2$ &       0.00 &       0.00 &       0.00 &       0.00 \\\\\n",
      "    Sim DocVecs, PC FE &  0.0309*** &  0.0585*** &  0.0596*** &  0.0555*** \\\\\n",
      "                       &   (0.0053) &   (0.0043) &   (0.0034) &   (0.0030) \\\\\n",
      "                   $N$ &     192773 &     280962 &     437405 &     563881 \\\\\n",
      "        Adjusted $R^2$ &       0.06 &       0.07 &       0.08 &       0.05 \\\\\n",
      "\\bottomrule\n",
      "\\end{tabular}\n",
      "\n",
      "primclass\n",
      "\\begin{tabular}{lcccc}\n",
      "\\toprule\n",
      "                       &    1975-85 &    1985-95 &    1995-05 &    2005-15 \\\\\n",
      "\\midrule\n",
      "   Citations Benchmark &  0.2422*** &  0.2849*** &  0.2968*** &  0.3365*** \\\\\n",
      "                       &   (0.0074) &   (0.0051) &   (0.0041) &   (0.0054) \\\\\n",
      "                   $N$ &      58647 &     107358 &     185154 &     154619 \\\\\n",
      "        Adjusted $R^2$ &       0.03 &       0.05 &       0.05 &       0.05 \\\\\n",
      " Pct Common Cited Pats &  0.1163*** &  0.1693*** &  0.1512*** &  0.1360*** \\\\\n",
      "                       &   (0.0097) &   (0.0095) &   (0.0070) &   (0.0057) \\\\\n",
      "                   $N$ &     166703 &     244415 &     351637 &     504227 \\\\\n",
      "        Adjusted $R^2$ &       0.01 &       0.01 &       0.01 &       0.01 \\\\\n",
      "    Sim DocVecs, PC FE &  0.0525*** &  0.0799*** &  0.0774*** &  0.0571*** \\\\\n",
      "                       &   (0.0064) &   (0.0051) &   (0.0038) &   (0.0032) \\\\\n",
      "                   $N$ &     170564 &     251218 &     400729 &     518334 \\\\\n",
      "        Adjusted $R^2$ &       0.06 &       0.07 &       0.07 &       0.05 \\\\\n",
      "\\bottomrule\n",
      "\\end{tabular}\n",
      "\n"
     ]
    }
   ],
   "source": [
    "for k,v in t1.items():\n",
    "    print(k)\n",
    "    print(v.to_latex(index=False, escape=False, column_format=\"lcccc\"))"
   ]
  },
  {
   "cell_type": "markdown",
   "metadata": {},
   "source": [
    "### 2. All further controls"
   ]
  },
  {
   "cell_type": "code",
   "execution_count": 103,
   "metadata": {},
   "outputs": [],
   "source": [
    "# Regression models\n",
    "# Primclass\n",
    "rm_pc = [\n",
    "    # JTH norm percentage match PC FE\n",
    "    \"(JTH Rep, norm_perc_match_10, N Exam FE-Year FE)\",\n",
    "    # pcc N PC FE\n",
    "    \"(('tp_pct_common_cited', 'primclass'), norm_tp_pct_common_cited, N Exam FE-Year FE)\",\n",
    "    # docvecs N PC FE\n",
    "    \"(('docvecs', 'primclass'), norm_sim_docvecs, N Exam FE-Year FE)\",  \n",
    "]\n",
    "\n",
    "rm_pc_n = [\"Citations Benchmark\", \"Pct Common Cited Pats\", \"Sim DocVecs, PC FE\"]\n",
    "\n",
    "# NAICS\n",
    "rm_n = [\n",
    "    # JTH norm percentage match PC FE\n",
    "    \"(JTH Rep, norm_perc_match_10, N Exam FE-Year FE)\",\n",
    "    # pcc N PC FE\n",
    "    \"(('tp_pct_common_cited', 'naics_name'), norm_tp_pct_common_cited, N PC M-Year FE)\",\n",
    "    # docvecs N PC FE\n",
    "    \"(('docvecs', 'naics_name'), norm_sim_docvecs, N PC M-Year FE)\", \n",
    "]\n",
    "\n",
    "# rm_n_n = [\"Citations Benchmark\", \"Pct Common Cited Pats\", \"Sim DocVecs, PC FE\", \"Sim DocVecs, Sim PC\", \"Sim DocVecs, Sim PC MSA\"]\n",
    "rm_n_n = rm_pc_n\n",
    "\n",
    "rm_d = dict(zip(rm_pc, rm_pc_n))\n",
    "rm_d.update(dict(zip(rm_n, rm_n_n)))"
   ]
  },
  {
   "cell_type": "code",
   "execution_count": 104,
   "metadata": {},
   "outputs": [],
   "source": [
    "# Localization estimates\n",
    "t = {}\n",
    "for l in [(\"naics_name\", rm_n), (\"primclass\", rm_pc)]:\n",
    "    rc = rr.loc[rr[\"id\"].isin(l[1]) & rr[\"index\"].isin([\"C(inv_msa_match)[T.True]\",\\\n",
    "            \"SE C(inv_msa_match)[T.True]\", \"$N$\", \"Adjusted $R^2$\"])].copy()\n",
    "    rc[\"id\"] = rc[\"id\"].map(rm_d)\n",
    "    rc.loc[rc[\"index\"].isin([\"$N$\", \"Adjusted $R^2$\"]), \"id\"] =\\\n",
    "    rc.loc[rc[\"index\"].isin([\"$N$\", \"Adjusted $R^2$\"]), \"index\"]\n",
    "    # Fixed effects columns\n",
    "    rc[\"Year \\& PC FE\"] = \"\"\n",
    "    rc[\"Other Controls\"] = \"\"\n",
    "    rc.loc[(rc[\"index\"] == \"SE C(inv_msa_match)[T.True]\"), ['id']] = \"\"\n",
    "    rc.loc[(rc[\"index\"] == \"C(inv_msa_match)[T.True]\"), [\"Year \\& PC FE\"]] = True\n",
    "    rc.loc[(rc[\"index\"] == \"C(inv_msa_match)[T.True]\"), [\"Other Controls\"]] = False\n",
    "    # cols = ['id', '1975-85', '1985-95', '1995-05', '2005-15', \"Year \\& PC FE\", \"Other Controls\"]\n",
    "    cols = ['id', '1975-85', '1985-95', '1995-05', '2005-15']\n",
    "    rc = rc[cols]\n",
    "    rc = rc.rename(columns={\"id\": \"\"})\n",
    "    t[l[0]] = rc\n",
    "t2 = t"
   ]
  },
  {
   "cell_type": "code",
   "execution_count": 105,
   "metadata": {},
   "outputs": [
    {
     "name": "stdout",
     "output_type": "stream",
     "text": [
      "naics_name\n",
      "\\begin{tabular}{lcccc}\n",
      "\\toprule\n",
      "                       &    1975-85 &    1985-95 &    1995-05 &    2005-15 \\\\\n",
      "\\midrule\n",
      "   Citations Benchmark &  0.2340*** &  0.2783*** &  0.2864*** &  0.3215*** \\\\\n",
      "                       &   (0.0073) &   (0.0050) &   (0.0040) &   (0.0053) \\\\\n",
      "                   $N$ &      58647 &     107358 &     185154 &     154619 \\\\\n",
      "        Adjusted $R^2$ &       0.04 &       0.06 &       0.08 &       0.07 \\\\\n",
      " Pct Common Cited Pats &     0.0051 &    0.0075* &  0.0134*** &  0.0125*** \\\\\n",
      "                       &   (0.0038) &   (0.0045) &   (0.0036) &   (0.0028) \\\\\n",
      "                   $N$ &     188668 &     273463 &     384536 &     548061 \\\\\n",
      "        Adjusted $R^2$ &       0.09 &       0.15 &       0.14 &       0.16 \\\\\n",
      "    Sim DocVecs, PC FE &  0.0171*** &  0.0354*** &  0.0344*** &  0.0333*** \\\\\n",
      "                       &   (0.0053) &   (0.0043) &   (0.0034) &   (0.0030) \\\\\n",
      "                   $N$ &     192773 &     280962 &     437405 &     563881 \\\\\n",
      "        Adjusted $R^2$ &       0.08 &       0.09 &       0.10 &       0.06 \\\\\n",
      "\\bottomrule\n",
      "\\end{tabular}\n",
      "\n",
      "primclass\n",
      "\\begin{tabular}{lcccc}\n",
      "\\toprule\n",
      "                       &    1975-85 &    1985-95 &    1995-05 &    2005-15 \\\\\n",
      "\\midrule\n",
      "   Citations Benchmark &  0.2340*** &  0.2783*** &  0.2864*** &  0.3215*** \\\\\n",
      "                       &   (0.0073) &   (0.0050) &   (0.0040) &   (0.0053) \\\\\n",
      "                   $N$ &      58647 &     107358 &     185154 &     154619 \\\\\n",
      "        Adjusted $R^2$ &       0.04 &       0.06 &       0.08 &       0.07 \\\\\n",
      " Pct Common Cited Pats &  0.0179*** &  0.0376*** &  0.0438*** &  0.0263*** \\\\\n",
      "                       &   (0.0066) &   (0.0058) &   (0.0043) &   (0.0031) \\\\\n",
      "                   $N$ &     166703 &     244415 &     351637 &     504227 \\\\\n",
      "        Adjusted $R^2$ &       0.10 &       0.14 &       0.14 &       0.20 \\\\\n",
      "    Sim DocVecs, PC FE &  0.0277*** &  0.0502*** &  0.0531*** &  0.0395*** \\\\\n",
      "                       &   (0.0066) &   (0.0052) &   (0.0039) &   (0.0033) \\\\\n",
      "                   $N$ &     170564 &     251218 &     400729 &     518334 \\\\\n",
      "        Adjusted $R^2$ &       0.07 &       0.08 &       0.08 &       0.06 \\\\\n",
      "\\bottomrule\n",
      "\\end{tabular}\n",
      "\n"
     ]
    }
   ],
   "source": [
    "for k,v in t2.items():\n",
    "    print(k)\n",
    "    print(v.to_latex(index=False, escape=False, column_format=\"lcccc\"))"
   ]
  },
  {
   "cell_type": "code",
   "execution_count": null,
   "metadata": {},
   "outputs": [],
   "source": []
  }
 ],
 "metadata": {
  "hide_input": false,
  "kernelspec": {
   "display_name": "Python 3",
   "language": "python",
   "name": "python3"
  },
  "language_info": {
   "codemirror_mode": {
    "name": "ipython",
    "version": 3
   },
   "file_extension": ".py",
   "mimetype": "text/x-python",
   "name": "python",
   "nbconvert_exporter": "python",
   "pygments_lexer": "ipython3",
   "version": "3.6.5"
  }
 },
 "nbformat": 4,
 "nbformat_minor": 2
}
