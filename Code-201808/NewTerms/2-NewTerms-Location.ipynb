{
 "cells": [
  {
   "cell_type": "code",
   "execution_count": 1,
   "metadata": {},
   "outputs": [
    {
     "name": "stderr",
     "output_type": "stream",
     "text": [
      "/homedir/eco/sfeng/bigdata/python/miniconda3/lib/python3.6/site-packages/h5py/__init__.py:36: FutureWarning: Conversion of the second argument of issubdtype from `float` to `np.floating` is deprecated. In future, it will be treated as `np.float64 == np.dtype(float).type`.\n",
      "  from ._conv import register_converters as _register_converters\n"
     ]
    }
   ],
   "source": [
    "import numpy as np\n",
    "import scipy as sp\n",
    "import pandas as pd\n",
    "import timeit\n",
    "import datetime\n",
    "import time\n",
    "import pprint\n",
    "import itertools\n",
    "import pickle\n",
    "import sklearn\n",
    "import dask\n",
    "import os\n",
    "os.chdir('/mnt/t48/bighomes-active/sfeng/patentdiffusion/')\n",
    "import fastparquet\n",
    "seed = 3\n",
    "import seaborn as sns\n",
    "import matplotlib\n",
    "import matplotlib.pyplot as plt\n",
    "import h5py\n",
    "import collections\n",
    "import dask.dataframe as dd"
   ]
  },
  {
   "cell_type": "markdown",
   "metadata": {},
   "source": [
    "### Similarity across patents using the same terms over time\n",
    "- Code from https://sfengc7.stern.nyu.edu:8888/notebooks/patentdiffusion/201807Results/MutualCitations/3b-NewTerms-Sim.ipynb"
   ]
  },
  {
   "cell_type": "code",
   "execution_count": 13,
   "metadata": {
    "collapsed": true
   },
   "outputs": [],
   "source": [
    "py = pd.read_pickle(\"DataStore/2018-06/newterm_pat_year_0614.pkl\")\n",
    "\n",
    "# Groupby term, yr_from_first and get set of leading & following patents\n",
    "lead_pats = {n: g[\"patent\"].tolist() for n,g in py.loc[py[\"yr_from_first\"] == 0,\\\n",
    "                            [\"yr_from_first\", \"patent\", \"term\"]].groupby(\"term\")}\n",
    "follow_pats = {n: g[\"patent\"].tolist() for n,g in py.loc[py[\"yr_from_first\"] >= 1,\\\n",
    "                            [\"yr_from_first\", \"patent\", \"term\"]].groupby(\"term\") \\\n",
    "              if n in lead_pats.keys()}\n",
    "# Filter lead_pats by terms in follow_pats\n",
    "lead_pats = {k:v for k,v in lead_pats.items() if k in follow_pats.keys()}\n",
    "\n",
    "# Dataframe\n",
    "pairlists = pd.DataFrame({\"term\": list(lead_pats.keys()), \n",
    "                          \"lead_pats\": [v for k,v in lead_pats.items()],\n",
    "                         \"follow_pats\": [v for k,v in follow_pats.items()]})\n",
    "\n"
   ]
  },
  {
   "cell_type": "code",
   "execution_count": 14,
   "metadata": {},
   "outputs": [
    {
     "name": "stdout",
     "output_type": "stream",
     "text": [
      "Loading matrix and dict\n",
      "2018-09-10 14:13:16.275875\n",
      "CPU times: user 5.14 ms, sys: 0 ns, total: 5.14 ms\n",
      "Wall time: 5.21 ms\n",
      "CPU times: user 200 µs, sys: 0 ns, total: 200 µs\n",
      "Wall time: 210 µs\n",
      "CPU times: user 82 ms, sys: 244 µs, total: 82.3 ms\n",
      "Wall time: 81.1 ms\n",
      "getting sim\n",
      "finished\n",
      "2018-09-10 14:16:20.898967\n",
      "Loading matrix and dict\n",
      "2018-09-10 14:16:20.899898\n",
      "CPU times: user 3.23 ms, sys: 159 µs, total: 3.39 ms\n",
      "Wall time: 3.43 ms\n",
      "CPU times: user 197 µs, sys: 0 ns, total: 197 µs\n",
      "Wall time: 208 µs\n",
      "CPU times: user 52.9 ms, sys: 2.12 ms, total: 55 ms\n",
      "Wall time: 50.9 ms\n",
      "getting sim\n",
      "finished\n",
      "2018-09-10 14:17:40.696567\n"
     ]
    }
   ],
   "source": [
    "import scipy.spatial.distance as distance\n",
    "import dask.array as da\n",
    "import math\n",
    "dms = [\"ldavecs\", \"docvecs\"]\n",
    "res = {}\n",
    "\n",
    "for dm in dms:\n",
    "    print(\"Loading matrix and dict\")\n",
    "    print(datetime.datetime.now())\n",
    "    pat_dict = fastparquet.ParquetFile(\"RawData/Cleaned/patabs7615_us_no_dup.parq\").to_pandas([\"patent\"])[\"patent\"].tolist()\n",
    "    pat_dict = dict(zip(pat_dict, range(len(pat_dict))))\n",
    "    pm = fastparquet.ParquetFile(\"DataStore/2018-07-P2/ML/{0}_pats_0712.parq\".format(dm))\\\n",
    "        .to_pandas().values\n",
    "    \n",
    "    l3 = pairlists\n",
    "    # Only use patents in dictionary\n",
    "    %time l3[\"lead_pats\"] = [[i for i in l if i in pat_dict.keys()] for l in l3[\"lead_pats\"].tolist()]\n",
    "    \n",
    "    # Get pats and then sample from follow_pats\n",
    "    %time fp = ([i for i in l if i in pat_dict.keys()] for l in l3[\"follow_pats\"].tolist())    \n",
    "    %time l3[\"follow_pats\"] = [np.random.choice(l, int(np.round(len(l)/3)), replace=False) for l in fp]\n",
    "    \n",
    "    r = pd.DataFrame()\n",
    "    print(\"getting sim\")\n",
    "    for n in list(range(len(l3))):\n",
    "        l4 = pd.DataFrame()\n",
    "        # Patent lists\n",
    "        tps = l3.loc[n, \"lead_pats\"]\n",
    "        ops = l3.loc[n, \"follow_pats\"]\n",
    "        # Patent vectors\n",
    "        i = pm[[pat_dict[p] for p in tps]]\n",
    "        j = pm[[pat_dict[p] for p in ops]]\n",
    "        \n",
    "        # Cosine distance\n",
    "        cos_dis = distance.cdist(i,j, metric = \"cosine\")\n",
    "        cos_dis = 1-cos_dis\n",
    "        l4[\"sim_{0}\".format(dm)] = cos_dis.flatten()\n",
    "        # index: hope this is correct?\n",
    "        pairs = list(itertools.product(tps, ops))\n",
    "        \n",
    "        l4[\"lead_pat\"] = [i[0] for i in pairs]\n",
    "        l4[\"follow_pat\"] = [i[1] for i in pairs]\n",
    "        l4[\"term\"] = l3.loc[n, \"term\"]\n",
    "        \n",
    "        r = r.append(l4, ignore_index = True) \n",
    "    # Save results\n",
    "    res[dm] = r\n",
    "    \n",
    "    print(\"finished\")\n",
    "    print(datetime.datetime.now())\n",
    "    del(l3, r)         \n",
    "    "
   ]
  },
  {
   "cell_type": "code",
   "execution_count": 15,
   "metadata": {},
   "outputs": [
    {
     "name": "stdout",
     "output_type": "stream",
     "text": [
      "5609605\n"
     ]
    }
   ],
   "source": [
    "r = res[\"docvecs\"].merge(res[\"ldavecs\"][[\"lead_pat\", \"follow_pat\", \"sim_ldavecs\"]], how = \"left\",\\\n",
    "                         on = [\"lead_pat\", \"follow_pat\"])\n",
    "print(len(r))"
   ]
  },
  {
   "cell_type": "code",
   "execution_count": 16,
   "metadata": {
    "collapsed": true
   },
   "outputs": [],
   "source": [
    "fastparquet.write(\"DataStore/2018-08/newterms_lead_follow_0910.parq\", r, compression=\"GZIP\")\n",
    "del(r)"
   ]
  },
  {
   "cell_type": "markdown",
   "metadata": {},
   "source": [
    "### Add relevant data"
   ]
  },
  {
   "cell_type": "code",
   "execution_count": 2,
   "metadata": {},
   "outputs": [
    {
     "name": "stdout",
     "output_type": "stream",
     "text": [
      "5609234\n",
      "5609234\n"
     ]
    }
   ],
   "source": [
    "nt = fastparquet.ParquetFile(\"DataStore/2018-08/newterms_lead_follow_0910.parq\").to_pandas().drop_duplicates()\\\n",
    ".rename(columns={\"lead_pat\":\"tp\", \"follow_pat\":\"op\"})\n",
    "pdf = fastparquet.ParquetFile(\"RawData/Cleaned/patent_loc_unique_us_0628.parq\").to_pandas(\\\n",
    "                            [\"patent\", \"appyear\", \"inv_msa\", \"primclass\", \"naics_name\", \"title\"])\n",
    "print(len(nt))\n",
    "nt = nt.merge(pdf.add_prefix(\"tp_\"), how=\"left\", left_on = \"tp\", right_on=\"tp_patent\").drop(\"tp_patent\",1)\n",
    "nt = nt.merge(pdf.add_prefix(\"op_\"), how=\"left\", left_on = \"op\", right_on=\"op_patent\").drop(\"op_patent\",1)  \n",
    "print(len(nt))\n",
    "\n",
    "# Add other variables\n",
    "nt[\"inv_msa_match\"] = (nt[\"tp_inv_msa\"] == nt[\"op_inv_msa\"])\n",
    "nt[\"year_diff\"] = nt[\"op_appyear\"] - nt[\"tp_appyear\"]"
   ]
  },
  {
   "cell_type": "code",
   "execution_count": 3,
   "metadata": {},
   "outputs": [
    {
     "name": "stdout",
     "output_type": "stream",
     "text": [
      "CPU times: user 3min 57s, sys: 53.4 s, total: 4min 50s\n",
      "Wall time: 2min\n",
      "CPU times: user 2.83 s, sys: 121 ms, total: 2.95 s\n",
      "Wall time: 2.89 s\n",
      "CPU times: user 6.94 s, sys: 0 ns, total: 6.94 s\n",
      "Wall time: 6.99 s\n",
      "CPU times: user 13 ms, sys: 18.9 ms, total: 31.9 ms\n",
      "Wall time: 31.6 ms\n",
      "CPU times: user 1.29 s, sys: 0 ns, total: 1.29 s\n",
      "Wall time: 1.26 s\n",
      "CPU times: user 3.85 s, sys: 82.6 ms, total: 3.93 s\n",
      "Wall time: 3.74 s\n",
      "CPU times: user 91.7 ms, sys: 8.59 ms, total: 100 ms\n",
      "Wall time: 97.6 ms\n",
      "CPU times: user 20.8 s, sys: 0 ns, total: 20.8 s\n",
      "Wall time: 22 s\n"
     ]
    }
   ],
   "source": [
    "# Add list of cited patents for each\n",
    "cit = dd.read_parquet(\"RawData/Cleaned/cit_0628.parq\")\n",
    "\n",
    "%time c2 = cit[cit[\"citing\"].isin(nt[\"tp\"]) | cit[\"citing\"].isin(nt[\"op\"])].compute()\n",
    "del(cit)\n",
    "\n",
    "# See if there's a direct citation\n",
    "%time c3 = {n:g[\"cited\"].tolist() for n,g in c2.groupby(\"citing\")}\n",
    "%time nt[\"direct_cite\"] = [True if tp in c3.get(op, []) else False for tp, op in zip(nt[\"tp\"], nt[\"op\"])]\n",
    "del(c3)\n",
    "\n",
    "\n",
    "# Add assignees for each patent\n",
    "asgs = pickle.load(open(\"RawData/Cleaned/patent_assignee_dict_0628.pkl\", \"rb\"))\n",
    "\n",
    "# Remove self-citations\n",
    "%time asg_match = (set(asgs.get(cited, [])).intersection(asgs.get(citing, [])) for cited, citing \\\n",
    "                   in zip(c2[\"cited\"], c2[\"citing\"]))\n",
    "%time asg_match = [len(i) for i in asg_match]\n",
    "del(asgs)\n",
    "\n",
    "c2[\"asg_match\"] = asg_match\n",
    "c2 = c2.loc[c2[\"asg_match\"] == 0]\n",
    "c2 = c2.drop(\"asg_match\", 1)\n",
    "\n",
    "# Number of common citations\n",
    "%time c3 = {n:g[\"cited\"].tolist() for n,g in c2.groupby(\"citing\")}\n",
    "\n",
    "%time num_common_cites = (set(c3.get(tp, [])).intersection(set(c3.get(op, []))) for tp, op in zip(nt[\"tp\"], nt[\"op\"]))\n",
    "%time nt[\"num_common_cites\"] = [len(i) for i in num_common_cites]"
   ]
  },
  {
   "cell_type": "code",
   "execution_count": 8,
   "metadata": {},
   "outputs": [
    {
     "name": "stderr",
     "output_type": "stream",
     "text": [
      "/homedir/eco/sfeng/bigdata/python/miniconda3/lib/python3.6/site-packages/ipykernel_launcher.py:6: FutureWarning: reshape is deprecated and will raise in a subsequent release. Please use .values.reshape(...) instead\n",
      "  \n",
      "/homedir/eco/sfeng/bigdata/python/miniconda3/lib/python3.6/site-packages/sklearn/utils/validation.py:475: DataConversionWarning: Data with input dtype int64 was converted to float64 by StandardScaler.\n",
      "  warnings.warn(msg, DataConversionWarning)\n"
     ]
    }
   ],
   "source": [
    "# Normalize spillover measures\n",
    "from sklearn.preprocessing import StandardScaler\n",
    "scaler = StandardScaler()\n",
    "for c in [\"sim_ldavecs\", \"sim_docvecs\", \"num_common_cites\"]:\n",
    "    nt[\"norm_{0}\".format(c)] = np.nan\n",
    "    nt.loc[nt[c].notnull(), \"norm_{0}\".format(c)] = scaler.fit_transform(nt.loc[nt[c].notnull(), c].values\\\n",
    "                                                                         .reshape(-1, 1))"
   ]
  },
  {
   "cell_type": "code",
   "execution_count": 10,
   "metadata": {},
   "outputs": [
    {
     "data": {
      "text/html": [
       "<div>\n",
       "<style scoped>\n",
       "    .dataframe tbody tr th:only-of-type {\n",
       "        vertical-align: middle;\n",
       "    }\n",
       "\n",
       "    .dataframe tbody tr th {\n",
       "        vertical-align: top;\n",
       "    }\n",
       "\n",
       "    .dataframe thead th {\n",
       "        text-align: right;\n",
       "    }\n",
       "</style>\n",
       "<table border=\"1\" class=\"dataframe\">\n",
       "  <thead>\n",
       "    <tr style=\"text-align: right;\">\n",
       "      <th></th>\n",
       "      <th></th>\n",
       "      <th>sim_docvecs</th>\n",
       "      <th>num_common_cites</th>\n",
       "      <th>norm_sim_docvecs</th>\n",
       "      <th>norm_num_common_cites</th>\n",
       "    </tr>\n",
       "    <tr>\n",
       "      <th>inv_msa_match</th>\n",
       "      <th>year_diff</th>\n",
       "      <th></th>\n",
       "      <th></th>\n",
       "      <th></th>\n",
       "      <th></th>\n",
       "    </tr>\n",
       "  </thead>\n",
       "  <tbody>\n",
       "    <tr>\n",
       "      <th rowspan=\"9\" valign=\"top\">False</th>\n",
       "      <th>1.0</th>\n",
       "      <td>0.130</td>\n",
       "      <td>0.002</td>\n",
       "      <td>0.023</td>\n",
       "      <td>0.002</td>\n",
       "    </tr>\n",
       "    <tr>\n",
       "      <th>2.0</th>\n",
       "      <td>0.130</td>\n",
       "      <td>0.002</td>\n",
       "      <td>0.023</td>\n",
       "      <td>0.004</td>\n",
       "    </tr>\n",
       "    <tr>\n",
       "      <th>3.0</th>\n",
       "      <td>0.127</td>\n",
       "      <td>0.001</td>\n",
       "      <td>-0.001</td>\n",
       "      <td>0.001</td>\n",
       "    </tr>\n",
       "    <tr>\n",
       "      <th>4.0</th>\n",
       "      <td>0.134</td>\n",
       "      <td>0.000</td>\n",
       "      <td>0.054</td>\n",
       "      <td>-0.005</td>\n",
       "    </tr>\n",
       "    <tr>\n",
       "      <th>5.0</th>\n",
       "      <td>0.124</td>\n",
       "      <td>0.001</td>\n",
       "      <td>-0.019</td>\n",
       "      <td>-0.004</td>\n",
       "    </tr>\n",
       "    <tr>\n",
       "      <th>6.0</th>\n",
       "      <td>0.129</td>\n",
       "      <td>0.001</td>\n",
       "      <td>0.017</td>\n",
       "      <td>-0.003</td>\n",
       "    </tr>\n",
       "    <tr>\n",
       "      <th>7.0</th>\n",
       "      <td>0.132</td>\n",
       "      <td>0.001</td>\n",
       "      <td>0.037</td>\n",
       "      <td>-0.004</td>\n",
       "    </tr>\n",
       "    <tr>\n",
       "      <th>8.0</th>\n",
       "      <td>0.122</td>\n",
       "      <td>0.001</td>\n",
       "      <td>-0.032</td>\n",
       "      <td>-0.004</td>\n",
       "    </tr>\n",
       "    <tr>\n",
       "      <th>9.0</th>\n",
       "      <td>0.123</td>\n",
       "      <td>0.001</td>\n",
       "      <td>-0.028</td>\n",
       "      <td>-0.003</td>\n",
       "    </tr>\n",
       "    <tr>\n",
       "      <th rowspan=\"9\" valign=\"top\">True</th>\n",
       "      <th>1.0</th>\n",
       "      <td>0.164</td>\n",
       "      <td>0.037</td>\n",
       "      <td>0.282</td>\n",
       "      <td>0.216</td>\n",
       "    </tr>\n",
       "    <tr>\n",
       "      <th>2.0</th>\n",
       "      <td>0.157</td>\n",
       "      <td>0.016</td>\n",
       "      <td>0.233</td>\n",
       "      <td>0.090</td>\n",
       "    </tr>\n",
       "    <tr>\n",
       "      <th>3.0</th>\n",
       "      <td>0.156</td>\n",
       "      <td>0.051</td>\n",
       "      <td>0.223</td>\n",
       "      <td>0.305</td>\n",
       "    </tr>\n",
       "    <tr>\n",
       "      <th>4.0</th>\n",
       "      <td>0.157</td>\n",
       "      <td>0.004</td>\n",
       "      <td>0.228</td>\n",
       "      <td>0.018</td>\n",
       "    </tr>\n",
       "    <tr>\n",
       "      <th>5.0</th>\n",
       "      <td>0.139</td>\n",
       "      <td>0.008</td>\n",
       "      <td>0.092</td>\n",
       "      <td>0.044</td>\n",
       "    </tr>\n",
       "    <tr>\n",
       "      <th>6.0</th>\n",
       "      <td>0.146</td>\n",
       "      <td>0.007</td>\n",
       "      <td>0.144</td>\n",
       "      <td>0.036</td>\n",
       "    </tr>\n",
       "    <tr>\n",
       "      <th>7.0</th>\n",
       "      <td>0.138</td>\n",
       "      <td>0.004</td>\n",
       "      <td>0.085</td>\n",
       "      <td>0.019</td>\n",
       "    </tr>\n",
       "    <tr>\n",
       "      <th>8.0</th>\n",
       "      <td>0.133</td>\n",
       "      <td>0.003</td>\n",
       "      <td>0.048</td>\n",
       "      <td>0.010</td>\n",
       "    </tr>\n",
       "    <tr>\n",
       "      <th>9.0</th>\n",
       "      <td>0.137</td>\n",
       "      <td>0.002</td>\n",
       "      <td>0.078</td>\n",
       "      <td>0.006</td>\n",
       "    </tr>\n",
       "  </tbody>\n",
       "</table>\n",
       "</div>"
      ],
      "text/plain": [
       "                         sim_docvecs  num_common_cites  norm_sim_docvecs  \\\n",
       "inv_msa_match year_diff                                                    \n",
       "False         1.0              0.130             0.002             0.023   \n",
       "              2.0              0.130             0.002             0.023   \n",
       "              3.0              0.127             0.001            -0.001   \n",
       "              4.0              0.134             0.000             0.054   \n",
       "              5.0              0.124             0.001            -0.019   \n",
       "              6.0              0.129             0.001             0.017   \n",
       "              7.0              0.132             0.001             0.037   \n",
       "              8.0              0.122             0.001            -0.032   \n",
       "              9.0              0.123             0.001            -0.028   \n",
       "True          1.0              0.164             0.037             0.282   \n",
       "              2.0              0.157             0.016             0.233   \n",
       "              3.0              0.156             0.051             0.223   \n",
       "              4.0              0.157             0.004             0.228   \n",
       "              5.0              0.139             0.008             0.092   \n",
       "              6.0              0.146             0.007             0.144   \n",
       "              7.0              0.138             0.004             0.085   \n",
       "              8.0              0.133             0.003             0.048   \n",
       "              9.0              0.137             0.002             0.078   \n",
       "\n",
       "                         norm_num_common_cites  \n",
       "inv_msa_match year_diff                         \n",
       "False         1.0                        0.002  \n",
       "              2.0                        0.004  \n",
       "              3.0                        0.001  \n",
       "              4.0                       -0.005  \n",
       "              5.0                       -0.004  \n",
       "              6.0                       -0.003  \n",
       "              7.0                       -0.004  \n",
       "              8.0                       -0.004  \n",
       "              9.0                       -0.003  \n",
       "True          1.0                        0.216  \n",
       "              2.0                        0.090  \n",
       "              3.0                        0.305  \n",
       "              4.0                        0.018  \n",
       "              5.0                        0.044  \n",
       "              6.0                        0.036  \n",
       "              7.0                        0.019  \n",
       "              8.0                        0.010  \n",
       "              9.0                        0.006  "
      ]
     },
     "execution_count": 10,
     "metadata": {},
     "output_type": "execute_result"
    }
   ],
   "source": [
    "np.round(nt[[\"sim_docvecs\", \"num_common_cites\",\\\n",
    "    \"norm_sim_docvecs\", \"norm_num_common_cites\",\n",
    "    \"inv_msa_match\", \"year_diff\"]].groupby([\"inv_msa_match\", \"year_diff\"]).mean(),3)"
   ]
  },
  {
   "cell_type": "code",
   "execution_count": 11,
   "metadata": {},
   "outputs": [
    {
     "data": {
      "text/html": [
       "<div>\n",
       "<style scoped>\n",
       "    .dataframe tbody tr th:only-of-type {\n",
       "        vertical-align: middle;\n",
       "    }\n",
       "\n",
       "    .dataframe tbody tr th {\n",
       "        vertical-align: top;\n",
       "    }\n",
       "\n",
       "    .dataframe thead th {\n",
       "        text-align: right;\n",
       "    }\n",
       "</style>\n",
       "<table border=\"1\" class=\"dataframe\">\n",
       "  <thead>\n",
       "    <tr style=\"text-align: right;\">\n",
       "      <th></th>\n",
       "      <th>sim_docvecs</th>\n",
       "      <th>num_common_cites</th>\n",
       "      <th>norm_sim_docvecs</th>\n",
       "      <th>norm_num_common_cites</th>\n",
       "    </tr>\n",
       "  </thead>\n",
       "  <tbody>\n",
       "    <tr>\n",
       "      <th>sim_docvecs</th>\n",
       "      <td>1.000000</td>\n",
       "      <td>0.016308</td>\n",
       "      <td>1.000000</td>\n",
       "      <td>0.016308</td>\n",
       "    </tr>\n",
       "    <tr>\n",
       "      <th>num_common_cites</th>\n",
       "      <td>0.016308</td>\n",
       "      <td>1.000000</td>\n",
       "      <td>0.016308</td>\n",
       "      <td>1.000000</td>\n",
       "    </tr>\n",
       "    <tr>\n",
       "      <th>norm_sim_docvecs</th>\n",
       "      <td>1.000000</td>\n",
       "      <td>0.016308</td>\n",
       "      <td>1.000000</td>\n",
       "      <td>0.016308</td>\n",
       "    </tr>\n",
       "    <tr>\n",
       "      <th>norm_num_common_cites</th>\n",
       "      <td>0.016308</td>\n",
       "      <td>1.000000</td>\n",
       "      <td>0.016308</td>\n",
       "      <td>1.000000</td>\n",
       "    </tr>\n",
       "  </tbody>\n",
       "</table>\n",
       "</div>"
      ],
      "text/plain": [
       "                       sim_docvecs  num_common_cites  norm_sim_docvecs  \\\n",
       "sim_docvecs               1.000000          0.016308          1.000000   \n",
       "num_common_cites          0.016308          1.000000          0.016308   \n",
       "norm_sim_docvecs          1.000000          0.016308          1.000000   \n",
       "norm_num_common_cites     0.016308          1.000000          0.016308   \n",
       "\n",
       "                       norm_num_common_cites  \n",
       "sim_docvecs                         0.016308  \n",
       "num_common_cites                    1.000000  \n",
       "norm_sim_docvecs                    0.016308  \n",
       "norm_num_common_cites               1.000000  "
      ]
     },
     "execution_count": 11,
     "metadata": {},
     "output_type": "execute_result"
    }
   ],
   "source": [
    "nt[[\"sim_docvecs\", \"num_common_cites\",\\\n",
    "    \"norm_sim_docvecs\", \"norm_num_common_cites\",]].corr()"
   ]
  },
  {
   "cell_type": "markdown",
   "metadata": {},
   "source": [
    "### Add common inventor"
   ]
  },
  {
   "cell_type": "code",
   "execution_count": 3,
   "metadata": {},
   "outputs": [
    {
     "name": "stdout",
     "output_type": "stream",
     "text": [
      "CPU times: user 12min 6s, sys: 443 ms, total: 12min 6s\n",
      "Wall time: 12min 6s\n"
     ]
    }
   ],
   "source": [
    "nt = fastparquet.ParquetFile(\"DataStore/2018-08/newterms_lead_follow_0910.parq\").to_pandas().drop_duplicates()\n",
    "\n",
    "inv = fastparquet.ParquetFile(\"RawData/Cleaned/patent_inventors_0628.parq\").to_pandas([\"patent\", \"inventor_id\"])\n",
    "%time inv = {n: g[\"inventor_id\"].tolist() for n, g in inv.groupby(\"patent\")}"
   ]
  },
  {
   "cell_type": "code",
   "execution_count": 4,
   "metadata": {},
   "outputs": [
    {
     "name": "stdout",
     "output_type": "stream",
     "text": [
      "CPU times: user 12.5 s, sys: 199 ms, total: 12.7 s\n",
      "Wall time: 12 s\n"
     ]
    },
    {
     "data": {
      "text/plain": [
       "False    4415275\n",
       "True         575\n",
       "Name: common_pat_inv, dtype: int64"
      ]
     },
     "metadata": {},
     "output_type": "display_data"
    }
   ],
   "source": [
    "%time num_common_inv = [len(set(inv[tp]).intersection(inv[op])) if (tp in inv.keys()) & (op in inv.keys())\\\n",
    "                      else np.nan for tp, op in zip(nt[\"tp\"], nt[\"op\"])]\n",
    "nt[\"num_common_pat_inv\"] = num_common_inv\n",
    "del(num_common_inv)\n",
    "nt[\"common_pat_inv\"] = np.nan\n",
    "nt.loc[nt[\"num_common_pat_inv\"] >= 1, \"common_pat_inv\"] = True\n",
    "nt.loc[nt[\"num_common_pat_inv\"] == 0, \"common_pat_inv\"] = False\n",
    "\n",
    "display(nt[\"common_pat_inv\"].value_counts())\n",
    "nt = nt.drop(\"num_common_pat_inv\",1)"
   ]
  },
  {
   "cell_type": "code",
   "execution_count": 6,
   "metadata": {},
   "outputs": [
    {
     "data": {
      "text/plain": [
       "Index(['sim_docvecs', 'tp', 'op', 'term', 'sim_ldavecs', 'tp_appyear',\n",
       "       'tp_inv_msa', 'tp_primclass', 'tp_naics_name', 'tp_title', 'op_appyear',\n",
       "       'op_inv_msa', 'op_primclass', 'op_naics_name', 'op_title',\n",
       "       'inv_msa_match', 'year_diff', 'direct_cite', 'num_common_cites',\n",
       "       'norm_sim_ldavecs', 'norm_sim_docvecs', 'norm_num_common_cites',\n",
       "       'common_pat_inv'],\n",
       "      dtype='object')"
      ]
     },
     "execution_count": 6,
     "metadata": {},
     "output_type": "execute_result"
    }
   ],
   "source": [
    "nt = nt.drop(\"num_common_pat_inv\",1)\n",
    "nt.columns"
   ]
  },
  {
   "cell_type": "markdown",
   "metadata": {},
   "source": [
    "### Add common non-patent reference"
   ]
  },
  {
   "cell_type": "code",
   "execution_count": 4,
   "metadata": {},
   "outputs": [],
   "source": [
    "nt = fastparquet.ParquetFile(\"DataStore/2018-08/newterms_lead_follow_0910.parq\").to_pandas().drop_duplicates()\n",
    "\n",
    "# %time oc = fastparquet.ParquetFile(\"RawData/Cleaned/otherreference1016.parq\").to_pandas()\n",
    "# %time oc = {n:g[\"ref_id\"].tolist() for n,g in oc.groupby(\"patent_id\")}"
   ]
  },
  {
   "cell_type": "code",
   "execution_count": 5,
   "metadata": {},
   "outputs": [
    {
     "name": "stdout",
     "output_type": "stream",
     "text": [
      "CPU times: user 502 ms, sys: 228 ms, total: 730 ms\n",
      "Wall time: 722 ms\n",
      "CPU times: user 19.5 s, sys: 123 ms, total: 19.6 s\n",
      "Wall time: 19.7 s\n"
     ]
    },
    {
     "data": {
      "text/plain": [
       "False    5609194\n",
       "True          40\n",
       "Name: common_npc_match, dtype: int64"
      ]
     },
     "metadata": {},
     "output_type": "display_data"
    }
   ],
   "source": [
    "%time num_common_cites = (set(oc.get(tp, [])).intersection(set(oc.get(op, []))) for tp, op in zip(nt[\"tp\"], nt[\"op\"]))\n",
    "%time nt[\"num_common_npc\"] = [len(i) for i in num_common_cites]\n",
    "nt[\"common_npc_match\"] = (nt[\"num_common_npc\"] >= 1)\n",
    "display(nt[\"common_npc_match\"].value_counts())"
   ]
  },
  {
   "cell_type": "code",
   "execution_count": 6,
   "metadata": {},
   "outputs": [],
   "source": [
    "fastparquet.write(\"DataStore/2018-08/newterms_lead_follow_0910.parq\", nt, compression=\"GZIP\")"
   ]
  },
  {
   "cell_type": "code",
   "execution_count": 13,
   "metadata": {},
   "outputs": [
    {
     "data": {
      "text/plain": [
       "Index(['sim_docvecs', 'tp', 'op', 'term', 'sim_ldavecs', 'tp_appyear',\n",
       "       'tp_inv_msa', 'tp_primclass', 'tp_naics_name', 'tp_title', 'op_appyear',\n",
       "       'op_inv_msa', 'op_primclass', 'op_naics_name', 'op_title',\n",
       "       'inv_msa_match', 'year_diff', 'direct_cite', 'num_common_cites',\n",
       "       'norm_sim_ldavecs', 'norm_sim_docvecs', 'norm_num_common_cites'],\n",
       "      dtype='object')"
      ]
     },
     "execution_count": 13,
     "metadata": {},
     "output_type": "execute_result"
    }
   ],
   "source": [
    "nt.columns"
   ]
  },
  {
   "cell_type": "code",
   "execution_count": null,
   "metadata": {
    "collapsed": true
   },
   "outputs": [],
   "source": []
  }
 ],
 "metadata": {
  "hide_input": false,
  "kernelspec": {
   "display_name": "Python 3",
   "language": "python",
   "name": "python3"
  },
  "language_info": {
   "codemirror_mode": {
    "name": "ipython",
    "version": 3
   },
   "file_extension": ".py",
   "mimetype": "text/x-python",
   "name": "python",
   "nbconvert_exporter": "python",
   "pygments_lexer": "ipython3",
   "version": "3.6.5"
  }
 },
 "nbformat": 4,
 "nbformat_minor": 2
}
