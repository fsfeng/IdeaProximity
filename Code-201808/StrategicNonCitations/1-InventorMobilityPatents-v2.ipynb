{
 "cells": [
  {
   "cell_type": "code",
   "execution_count": 1,
   "metadata": {},
   "outputs": [
    {
     "name": "stderr",
     "output_type": "stream",
     "text": [
      "/homedir/eco/sfeng/bigdata/python/miniconda3/lib/python3.6/site-packages/h5py/__init__.py:36: FutureWarning: Conversion of the second argument of issubdtype from `float` to `np.floating` is deprecated. In future, it will be treated as `np.float64 == np.dtype(float).type`.\n",
      "  from ._conv import register_converters as _register_converters\n"
     ]
    }
   ],
   "source": [
    "import numpy as np\n",
    "import scipy as sp\n",
    "import pandas as pd\n",
    "import timeit\n",
    "import datetime\n",
    "import time\n",
    "import pprint\n",
    "import itertools\n",
    "import pickle\n",
    "import sklearn\n",
    "import dask\n",
    "import dask.dataframe as dd\n",
    "import os\n",
    "os.chdir('/mnt/t48/bighomes-active/sfeng/patentdiffusion/')\n",
    "import fastparquet\n",
    "seed = 3\n",
    "import seaborn as sns\n",
    "import matplotlib\n",
    "import matplotlib.pyplot as plt\n",
    "# Distances\n",
    "import scipy.spatial.distance as distance\n",
    "# KL\n",
    "from scipy.stats import entropy\n",
    "# Normalize\n",
    "from sklearn.preprocessing import normalize\n",
    "from sklearn.preprocessing import StandardScaler\n",
    "scaler = StandardScaler()\n",
    "# Pairwise distances\n",
    "from sklearn.metrics.pairwise import pairwise_distances\n",
    "import h5py\n",
    "# Percentiles\n",
    "from scipy.stats import percentileofscore"
   ]
  },
  {
   "cell_type": "markdown",
   "metadata": {},
   "source": [
    "### Removing duplicate patents\n",
    "- This is a huge problem; over 10% of patent text granted is duplicated"
   ]
  },
  {
   "cell_type": "code",
   "execution_count": 2,
   "metadata": {},
   "outputs": [],
   "source": [
    "# # Create patent assignee unique data\n",
    "# pa = fastparquet.ParquetFile(\"RawData/Cleaned/patent_assignees_0628.parq\").to_pandas()\n",
    "# print(len(pa))\n",
    "# # Patent-asg count\n",
    "# pa = pa[[\"patent\", \"assignee_id\", \"type\"]].groupby([\"patent\", \"assignee_id\"]).count().reset_index()\n",
    "# print(len(pa))\n",
    "# # Sort by assignee count per patent\n",
    "# pa = pa.sort_values([\"patent\", \"type\"], ascending = [1,0])\n",
    "# # Keep assignee with most count\n",
    "# pa = pa.drop_duplicates(subset=[\"patent\"], keep=\"first\").drop(\"type\",1)\n",
    "# print(len(pa))\n",
    "# fastparquet.write(\"RawData/Cleaned/patent_assignees_unique_0628.parq\", pa, compression=\"GZIP\")"
   ]
  },
  {
   "cell_type": "code",
   "execution_count": 3,
   "metadata": {},
   "outputs": [
    {
     "name": "stdout",
     "output_type": "stream",
     "text": [
      "5017246\n",
      "4302101\n"
     ]
    }
   ],
   "source": [
    "# Inventor-patent pairs\n",
    "ip = fastparquet.ParquetFile(\"RawData/Cleaned/patent_inventors_0628.parq\").to_pandas()\n",
    "dup_pats = pd.read_pickle(\"RawData/Cleaned/duplicate_pattext_0712.pkl\").tolist()\n",
    "print(len(ip))\n",
    "# Get relevant US Patents\n",
    "usp = fastparquet.ParquetFile(\"RawData/Cleaned/patent_loc_unique_us_0628.parq\").to_pandas([\"patent\"])[\"patent\"]\n",
    "# Look at only relevant US patents and non-duplicated patents\n",
    "ip = ip.loc[ip[\"patent\"].isin(usp) & ~(ip[\"patent\"].isin(dup_pats))]\n",
    "print(len(ip))\n",
    "# Patent-assignee pairs\n",
    "pa = fastparquet.ParquetFile(\"RawData/Cleaned/patent_assignees_unique_0628.parq\").to_pandas()\n",
    "ip = ip.merge(pa, how = \"left\", on = \"patent\")\n",
    "del(pa, usp)"
   ]
  },
  {
   "cell_type": "code",
   "execution_count": 4,
   "metadata": {},
   "outputs": [
    {
     "name": "stdout",
     "output_type": "stream",
     "text": [
      "4302101\n",
      "3860816\n",
      "141583\n",
      "12377\n"
     ]
    }
   ],
   "source": [
    "# Get rid of patents with no assignee\n",
    "print(len(ip))\n",
    "ip = ip.loc[ip[\"assignee_id\"].notnull()]\n",
    "print(len(ip))\n",
    "\n",
    "# Count number of assignees by inventor\n",
    "i2 = ip[[\"inventor_id\", \"assignee_id\"]].drop_duplicates(\"assignee_id\").groupby(\"inventor_id\").size()\n",
    "print(len(i2)) # Num inventors working at firms in total\n",
    "\n",
    "# Keep inventors at more than 2 different assignees\n",
    "i2 = i2.loc[i2 >= 2]\n",
    "print(len(i2))"
   ]
  },
  {
   "cell_type": "code",
   "execution_count": 5,
   "metadata": {},
   "outputs": [
    {
     "name": "stdout",
     "output_type": "stream",
     "text": [
      "3860816\n",
      "140076\n"
     ]
    }
   ],
   "source": [
    "# Patents by inventors who move\n",
    "print(len(ip))\n",
    "ip = ip.loc[ip[\"inventor_id\"].isin(i2.index.tolist())]\n",
    "print(len(ip))\n",
    "ip.to_pickle(\"DataStore/2018-07/inv_move_pats_0712.pkl\")"
   ]
  },
  {
   "cell_type": "markdown",
   "metadata": {},
   "source": [
    "### Magnitude\n",
    "- 12377/141583 total inventors working at firms have switched firms\n",
    "- They account for 140076 of 3860816 patents assigned\n",
    "\n",
    "___________\n",
    "\n",
    "## Inventor similarity pairs\n",
    "\n",
    "### 1. Total number of patent pairs for each inventor?"
   ]
  },
  {
   "cell_type": "code",
   "execution_count": 6,
   "metadata": {},
   "outputs": [
    {
     "name": "stdout",
     "output_type": "stream",
     "text": [
      "3278262\n",
      "CPU times: user 3.58 s, sys: 6.76 ms, total: 3.58 s\n",
      "Wall time: 3.56 s\n"
     ]
    }
   ],
   "source": [
    "%%time\n",
    "ig = ip[[\"patent\", \"inventor_id\"]].groupby([\"inventor_id\"])\n",
    "inv_pairs = [len(set(itertools.combinations(g[\"patent\"].tolist(),2))) for n,g in ig]\n",
    "print(np.sum(inv_pairs))"
   ]
  },
  {
   "cell_type": "markdown",
   "metadata": {},
   "source": [
    "### 2. Create pairs of inventor patents dataframe"
   ]
  },
  {
   "cell_type": "code",
   "execution_count": 7,
   "metadata": {},
   "outputs": [],
   "source": [
    "inv_pairs = [list(itertools.combinations(g[\"patent\"].tolist(),2)) for n,g in ig]\n",
    "inv_pairs = [item for sublist in inv_pairs for item in sublist]\n",
    "\n",
    "# Order them by earlier patent first\n",
    "inv_pairs = [(i,j) if i<j else (j,i) for i,j in inv_pairs ]"
   ]
  },
  {
   "cell_type": "code",
   "execution_count": 8,
   "metadata": {},
   "outputs": [
    {
     "name": "stdout",
     "output_type": "stream",
     "text": [
      "3281556\n",
      "3087989\n"
     ]
    }
   ],
   "source": [
    "# Convert to dataframe\n",
    "inv_pairs = pd.DataFrame({\"tp\": [i[0] for i in inv_pairs],\n",
    "                         \"op\": [i[1] for i in inv_pairs]})\n",
    "print(len(inv_pairs))\n",
    "inv_pairs = inv_pairs.drop_duplicates()\n",
    "print(len(inv_pairs))"
   ]
  },
  {
   "cell_type": "code",
   "execution_count": 9,
   "metadata": {},
   "outputs": [],
   "source": [
    "# Get inventor\n",
    "pat_asg = dict(zip(ip[\"patent\"], ip[\"assignee_id\"]))\n",
    "inv_pairs[\"inventor_id\"] = inv_pairs[\"tp\"].map(dict(zip(ip[\"patent\"], ip[\"inventor_id\"])))\n",
    "# Get assignee for each patent\n",
    "inv_pairs[\"tp_asg\"] = inv_pairs[\"tp\"].map(pat_asg)\n",
    "inv_pairs[\"op_asg\"] = inv_pairs[\"op\"].map(pat_asg)\n",
    "# # Assignee match DON'T DO THIS\n",
    "# inv_pairs[\"asg_match\"] = (inv_pairs[\"tp_asg\"] == inv_pairs[\"op_asg\"])"
   ]
  },
  {
   "cell_type": "markdown",
   "metadata": {},
   "source": [
    "### 3. Assignee match: if assignee list in pairs have an assignee in common"
   ]
  },
  {
   "cell_type": "code",
   "execution_count": 10,
   "metadata": {},
   "outputs": [
    {
     "name": "stdout",
     "output_type": "stream",
     "text": [
      "3087989\n",
      "CPU times: user 84.3 ms, sys: 80.5 ms, total: 165 ms\n",
      "Wall time: 164 ms\n",
      "CPU times: user 3.29 s, sys: 14.9 ms, total: 3.3 s\n",
      "Wall time: 3.28 s\n",
      "3087989\n"
     ]
    }
   ],
   "source": [
    "asgs = pickle.load(open(\"RawData/Cleaned/patent_assignee_dict_0628.pkl\", \"rb\"))\n",
    "print(len(inv_pairs))\n",
    "# Check that target and other do not have same assignee\n",
    "%time asg_match = (set(asgs.get(tp, [])).intersection(asgs.get(op, [])) for tp, op in zip(inv_pairs[\"tp\"], inv_pairs[\"op\"]))\n",
    "%time asg_match = [len(i) for i in asg_match]\n",
    "\n",
    "inv_pairs[\"asg_match\"] = [True if i >=1 else False for i in asg_match]\n",
    "print(len(inv_pairs))"
   ]
  },
  {
   "cell_type": "code",
   "execution_count": 11,
   "metadata": {},
   "outputs": [
    {
     "data": {
      "text/plain": [
       "False    1819533\n",
       "True     1268456\n",
       "Name: asg_match, dtype: int64"
      ]
     },
     "execution_count": 11,
     "metadata": {},
     "output_type": "execute_result"
    }
   ],
   "source": [
    "inv_pairs[\"asg_match\"].value_counts()"
   ]
  },
  {
   "cell_type": "markdown",
   "metadata": {},
   "source": [
    "### 4. Did citation occur?"
   ]
  },
  {
   "cell_type": "code",
   "execution_count": 12,
   "metadata": {},
   "outputs": [
    {
     "name": "stdout",
     "output_type": "stream",
     "text": [
      "3315549\n",
      "345420\n"
     ]
    }
   ],
   "source": [
    "cit = dd.read_parquet(\"RawData/Cleaned/cit_0628.parq\")\n",
    "# Use only relevant citations\n",
    "cit = cit[cit[\"cited\"].isin(inv_pairs[\"tp\"])]\n",
    "print(len(cit))\n",
    "cit = cit[cit[\"citing\"].isin(inv_pairs[\"op\"])]\n",
    "print(len(cit))\n",
    "cit = cit.compute()\n",
    "\n",
    "# Citation dictionary\n",
    "cit = dict(zip(list(zip(cit[\"cited\"], cit[\"citing\"])), [True]*len(cit)))"
   ]
  },
  {
   "cell_type": "code",
   "execution_count": 13,
   "metadata": {},
   "outputs": [],
   "source": [
    "inv_pairs[\"op_cites_tp\"] = [cit.get(i, False) for i in zip(inv_pairs[\"tp\"], inv_pairs[\"op\"])]"
   ]
  },
  {
   "cell_type": "code",
   "execution_count": 14,
   "metadata": {},
   "outputs": [
    {
     "data": {
      "text/plain": [
       "False    2954128\n",
       "True      133861\n",
       "Name: op_cites_tp, dtype: int64"
      ]
     },
     "execution_count": 14,
     "metadata": {},
     "output_type": "execute_result"
    }
   ],
   "source": [
    "inv_pairs[\"op_cites_tp\"].value_counts()"
   ]
  },
  {
   "cell_type": "code",
   "execution_count": 15,
   "metadata": {},
   "outputs": [],
   "source": [
    "fastparquet.write(\"DataStore/2018-07/inv_move_pat_pairs_0712.parq\", inv_pairs, compression=\"GZIP\")"
   ]
  },
  {
   "cell_type": "code",
   "execution_count": 16,
   "metadata": {},
   "outputs": [],
   "source": [
    "del(inv_pairs)"
   ]
  },
  {
   "cell_type": "markdown",
   "metadata": {},
   "source": [
    "### 5. Similarity"
   ]
  },
  {
   "cell_type": "code",
   "execution_count": null,
   "metadata": {},
   "outputs": [
    {
     "name": "stdout",
     "output_type": "stream",
     "text": [
      "Loading matrix and dict\n",
      "2018-07-14 10:48:37.078151\n",
      "3087989\n",
      "2144532\n",
      "2144532\n",
      "2144532\n",
      "Getting patent pair similarity\n",
      "cosine\n",
      "2018-07-14 10:48:49.787916\n"
     ]
    }
   ],
   "source": [
    "import scipy.spatial.distance as distance\n",
    "dms = [\"ldavecs\", \"docvecs\"]\n",
    "# dms = [\"ldavecs\"]\n",
    "res = {}\n",
    "for dm in dms:\n",
    "    print(\"Loading matrix and dict\")\n",
    "    print(datetime.datetime.now())\n",
    "    \n",
    "    pat_dict = fastparquet.ParquetFile(\"RawData/Cleaned/patabs7615_us_no_dup.parq\").to_pandas([\"patent\"])[\"patent\"].tolist()\n",
    "    pat_dict = dict(zip(pat_dict, range(len(pat_dict))))\n",
    "    pm = dd.read_parquet(\"DataStore/2018-07-P2/ML/{0}_pats_0712.parq\".format(dm)).values.compute()\n",
    "    \n",
    "    l3 = fastparquet.ParquetFile(\"DataStore/2018-07/inv_move_pat_pairs_0712.parq\").to_pandas([\"tp\", \"op\"])\n",
    "    \n",
    "    # Remove missing values\n",
    "    print(len(l3))\n",
    "    l3 = l3.loc[l3[\"tp\"].isin(pat_dict.keys()) & l3[\"op\"].isin(pat_dict.keys())]\n",
    "    print(len(l3))\n",
    "    if dm == \"ldavecs\":\n",
    "        ncols = 60\n",
    "    else:\n",
    "        ncols = 100\n",
    "    print(len(l3))\n",
    "    tp_pv = pm[[pat_dict[p] for p in l3[\"tp\"].tolist()]]\n",
    "    op_pv = pm[[pat_dict[p] for p in l3[\"op\"].tolist()]]\n",
    "    print(len(l3))\n",
    "    del(pat_dict, pm)\n",
    "\n",
    "    # Split into chunks\n",
    "    n_chunks = np.round(len(l3)/3000)\n",
    "    tp_chunks = np.array_split(tp_pv, n_chunks)\n",
    "    op_chunks = np.array_split(op_pv, n_chunks)\n",
    "    del(tp_pv, op_pv)\n",
    "\n",
    "    print(\"Getting patent pair similarity\")\n",
    "    print(\"cosine\")\n",
    "    print(datetime.datetime.now())\n",
    "    # Cosine\n",
    "    # Recursively lengthen the array of cosine distances\n",
    "    cos_dis = np.array([])\n",
    "    for i,j in zip(tp_chunks, op_chunks):\n",
    "        cos_dis = np.hstack((cos_dis, np.hstack([np.diag(distance.cdist(i,j, metric = \"cosine\"))])))\n",
    "        \n",
    "    l3[\"sim_{0}\".format(dm)] = 1-cos_dis\n",
    "    res[dm] = l3\n",
    "    print(\"finished\")\n",
    "    print(datetime.datetime.now())\n",
    "    del(l3)    \n",
    "        "
   ]
  },
  {
   "cell_type": "code",
   "execution_count": null,
   "metadata": {},
   "outputs": [],
   "source": [
    "sim = res[\"ldavecs\"].merge(res[\"docvecs\"][[\"tp\", \"op\", \"sim_docvecs\"]],\n",
    "                          how = \"left\", on = [\"tp\", \"op\"])\n",
    "# Save raw similarity\n",
    "fastparquet.write(\"DataStore/2018-07/inv_move_pat_pairs_sim_0712.parq\", sim, compression=\"GZIP\")"
   ]
  },
  {
   "cell_type": "code",
   "execution_count": null,
   "metadata": {},
   "outputs": [],
   "source": [
    "inv_pairs = fastparquet.ParquetFile(\"DataStore/2018-07/inv_move_pat_pairs_0712.parq\").to_pandas().drop(\\\n",
    "                                        [\"sim_ldavecs\", \"sim_docvecs\", \"bin_sim_ldavecs\", \"bin_sim_docvecs\"],1)\n",
    "# sim = fastparquet.ParquetFile(\"DataStore/2018-07/inv_move_pat_pairs_sim_0712.parq\").to_pandas()\n",
    "# Merge with original\n",
    "inv_pairs = inv_pairs.merge(sim, how = \"left\", on = [\"tp\", \"op\"])"
   ]
  },
  {
   "cell_type": "code",
   "execution_count": 5,
   "metadata": {},
   "outputs": [
    {
     "data": {
      "text/plain": [
       "count    2144532.000\n",
       "mean           0.254\n",
       "std            0.185\n",
       "min           -0.696\n",
       "25%            0.125\n",
       "50%            0.235\n",
       "75%            0.364\n",
       "max            1.000\n",
       "Name: sim_docvecs, dtype: float64"
      ]
     },
     "execution_count": 5,
     "metadata": {},
     "output_type": "execute_result"
    }
   ],
   "source": [
    "np.round(sim[\"sim_docvecs\"].describe(),3)"
   ]
  },
  {
   "cell_type": "code",
   "execution_count": 6,
   "metadata": {},
   "outputs": [],
   "source": [
    "# Scale\n",
    "eps = 0.01\n",
    "dv_min = 0.7\n",
    "def scale_docvecs(x):\n",
    "    scaled = ((x+dv_min)/(1+dv_min))*(1-eps)+eps\n",
    "    return scaled\n",
    "def scale_ldavecs(x):\n",
    "    scaled = x*(1-eps)+eps\n",
    "    return scaled\n",
    "\n",
    "# Scale measures\n",
    "inv_pairs[\"sim_docvecs\"] = inv_pairs[\"sim_docvecs\"].apply(scale_docvecs)\n",
    "inv_pairs[\"sim_ldavecs\"] = inv_pairs[\"sim_ldavecs\"].apply(scale_ldavecs)"
   ]
  },
  {
   "cell_type": "code",
   "execution_count": 7,
   "metadata": {},
   "outputs": [],
   "source": [
    "# Bins\n",
    "import math\n",
    "\n",
    "def sim_bin(x, a):\n",
    "    try:\n",
    "        return math.ceil(x / a) * a\n",
    "    except:\n",
    "        return np.nan\n",
    "    \n",
    "inv_pairs[\"bin_sim_ldavecs\"] = inv_pairs[\"sim_ldavecs\"].apply(lambda x: sim_bin(x, 0.1))\n",
    "inv_pairs[\"bin_sim_docvecs\"] = inv_pairs[\"sim_docvecs\"].apply(lambda x: sim_bin(x, 0.1))"
   ]
  },
  {
   "cell_type": "code",
   "execution_count": 11,
   "metadata": {},
   "outputs": [],
   "source": [
    "fastparquet.write(\"DataStore/2018-07/inv_move_pat_pairs_0712.parq\", inv_pairs, compression=\"GZIP\")"
   ]
  },
  {
   "cell_type": "code",
   "execution_count": 8,
   "metadata": {},
   "outputs": [
    {
     "data": {
      "text/html": [
       "<div>\n",
       "<style scoped>\n",
       "    .dataframe tbody tr th:only-of-type {\n",
       "        vertical-align: middle;\n",
       "    }\n",
       "\n",
       "    .dataframe tbody tr th {\n",
       "        vertical-align: top;\n",
       "    }\n",
       "\n",
       "    .dataframe thead th {\n",
       "        text-align: right;\n",
       "    }\n",
       "</style>\n",
       "<table border=\"1\" class=\"dataframe\">\n",
       "  <thead>\n",
       "    <tr style=\"text-align: right;\">\n",
       "      <th></th>\n",
       "      <th></th>\n",
       "      <th>op_cites_tp</th>\n",
       "    </tr>\n",
       "    <tr>\n",
       "      <th>bin_sim_docvecs</th>\n",
       "      <th>asg_match</th>\n",
       "      <th></th>\n",
       "    </tr>\n",
       "  </thead>\n",
       "  <tbody>\n",
       "    <tr>\n",
       "      <th rowspan=\"2\" valign=\"top\">0.1</th>\n",
       "      <th>False</th>\n",
       "      <td>0.000000</td>\n",
       "    </tr>\n",
       "    <tr>\n",
       "      <th>True</th>\n",
       "      <td>0.000000</td>\n",
       "    </tr>\n",
       "    <tr>\n",
       "      <th rowspan=\"2\" valign=\"top\">0.2</th>\n",
       "      <th>False</th>\n",
       "      <td>0.004739</td>\n",
       "    </tr>\n",
       "    <tr>\n",
       "      <th>True</th>\n",
       "      <td>0.041237</td>\n",
       "    </tr>\n",
       "    <tr>\n",
       "      <th rowspan=\"2\" valign=\"top\">0.3</th>\n",
       "      <th>False</th>\n",
       "      <td>0.004717</td>\n",
       "    </tr>\n",
       "    <tr>\n",
       "      <th>True</th>\n",
       "      <td>0.017634</td>\n",
       "    </tr>\n",
       "    <tr>\n",
       "      <th rowspan=\"2\" valign=\"top\">0.4</th>\n",
       "      <th>False</th>\n",
       "      <td>0.006432</td>\n",
       "    </tr>\n",
       "    <tr>\n",
       "      <th>True</th>\n",
       "      <td>0.023333</td>\n",
       "    </tr>\n",
       "    <tr>\n",
       "      <th rowspan=\"2\" valign=\"top\">0.5</th>\n",
       "      <th>False</th>\n",
       "      <td>0.012876</td>\n",
       "    </tr>\n",
       "    <tr>\n",
       "      <th>True</th>\n",
       "      <td>0.036670</td>\n",
       "    </tr>\n",
       "    <tr>\n",
       "      <th rowspan=\"2\" valign=\"top\">0.6</th>\n",
       "      <th>False</th>\n",
       "      <td>0.032597</td>\n",
       "    </tr>\n",
       "    <tr>\n",
       "      <th>True</th>\n",
       "      <td>0.054488</td>\n",
       "    </tr>\n",
       "    <tr>\n",
       "      <th rowspan=\"2\" valign=\"top\">0.7</th>\n",
       "      <th>False</th>\n",
       "      <td>0.073049</td>\n",
       "    </tr>\n",
       "    <tr>\n",
       "      <th>True</th>\n",
       "      <td>0.078816</td>\n",
       "    </tr>\n",
       "    <tr>\n",
       "      <th rowspan=\"2\" valign=\"top\">0.8</th>\n",
       "      <th>False</th>\n",
       "      <td>0.120461</td>\n",
       "    </tr>\n",
       "    <tr>\n",
       "      <th>True</th>\n",
       "      <td>0.077334</td>\n",
       "    </tr>\n",
       "    <tr>\n",
       "      <th rowspan=\"2\" valign=\"top\">0.9</th>\n",
       "      <th>False</th>\n",
       "      <td>0.211639</td>\n",
       "    </tr>\n",
       "    <tr>\n",
       "      <th>True</th>\n",
       "      <td>0.085948</td>\n",
       "    </tr>\n",
       "    <tr>\n",
       "      <th rowspan=\"2\" valign=\"top\">1.0</th>\n",
       "      <th>False</th>\n",
       "      <td>0.369748</td>\n",
       "    </tr>\n",
       "    <tr>\n",
       "      <th>True</th>\n",
       "      <td>0.203089</td>\n",
       "    </tr>\n",
       "  </tbody>\n",
       "</table>\n",
       "</div>"
      ],
      "text/plain": [
       "                           op_cites_tp\n",
       "bin_sim_docvecs asg_match             \n",
       "0.1             False         0.000000\n",
       "                True          0.000000\n",
       "0.2             False         0.004739\n",
       "                True          0.041237\n",
       "0.3             False         0.004717\n",
       "                True          0.017634\n",
       "0.4             False         0.006432\n",
       "                True          0.023333\n",
       "0.5             False         0.012876\n",
       "                True          0.036670\n",
       "0.6             False         0.032597\n",
       "                True          0.054488\n",
       "0.7             False         0.073049\n",
       "                True          0.078816\n",
       "0.8             False         0.120461\n",
       "                True          0.077334\n",
       "0.9             False         0.211639\n",
       "                True          0.085948\n",
       "1.0             False         0.369748\n",
       "                True          0.203089"
      ]
     },
     "execution_count": 8,
     "metadata": {},
     "output_type": "execute_result"
    }
   ],
   "source": [
    "inv_pairs[[\"bin_sim_docvecs\", \"asg_match\", \"op_cites_tp\"]].groupby([\"bin_sim_docvecs\", \"asg_match\"]).mean()"
   ]
  },
  {
   "cell_type": "code",
   "execution_count": 9,
   "metadata": {},
   "outputs": [
    {
     "data": {
      "text/html": [
       "<div>\n",
       "<style scoped>\n",
       "    .dataframe tbody tr th:only-of-type {\n",
       "        vertical-align: middle;\n",
       "    }\n",
       "\n",
       "    .dataframe tbody tr th {\n",
       "        vertical-align: top;\n",
       "    }\n",
       "\n",
       "    .dataframe thead th {\n",
       "        text-align: right;\n",
       "    }\n",
       "</style>\n",
       "<table border=\"1\" class=\"dataframe\">\n",
       "  <thead>\n",
       "    <tr style=\"text-align: right;\">\n",
       "      <th></th>\n",
       "      <th></th>\n",
       "      <th>op_cites_tp</th>\n",
       "    </tr>\n",
       "    <tr>\n",
       "      <th>bin_sim_ldavecs</th>\n",
       "      <th>asg_match</th>\n",
       "      <th></th>\n",
       "    </tr>\n",
       "  </thead>\n",
       "  <tbody>\n",
       "    <tr>\n",
       "      <th rowspan=\"2\" valign=\"top\">0.1</th>\n",
       "      <th>False</th>\n",
       "      <td>0.008046</td>\n",
       "    </tr>\n",
       "    <tr>\n",
       "      <th>True</th>\n",
       "      <td>0.029525</td>\n",
       "    </tr>\n",
       "    <tr>\n",
       "      <th rowspan=\"2\" valign=\"top\">0.2</th>\n",
       "      <th>False</th>\n",
       "      <td>0.016276</td>\n",
       "    </tr>\n",
       "    <tr>\n",
       "      <th>True</th>\n",
       "      <td>0.048270</td>\n",
       "    </tr>\n",
       "    <tr>\n",
       "      <th rowspan=\"2\" valign=\"top\">0.3</th>\n",
       "      <th>False</th>\n",
       "      <td>0.026112</td>\n",
       "    </tr>\n",
       "    <tr>\n",
       "      <th>True</th>\n",
       "      <td>0.056831</td>\n",
       "    </tr>\n",
       "    <tr>\n",
       "      <th rowspan=\"2\" valign=\"top\">0.4</th>\n",
       "      <th>False</th>\n",
       "      <td>0.036836</td>\n",
       "    </tr>\n",
       "    <tr>\n",
       "      <th>True</th>\n",
       "      <td>0.060344</td>\n",
       "    </tr>\n",
       "    <tr>\n",
       "      <th rowspan=\"2\" valign=\"top\">0.5</th>\n",
       "      <th>False</th>\n",
       "      <td>0.045256</td>\n",
       "    </tr>\n",
       "    <tr>\n",
       "      <th>True</th>\n",
       "      <td>0.070155</td>\n",
       "    </tr>\n",
       "    <tr>\n",
       "      <th rowspan=\"2\" valign=\"top\">0.6</th>\n",
       "      <th>False</th>\n",
       "      <td>0.054658</td>\n",
       "    </tr>\n",
       "    <tr>\n",
       "      <th>True</th>\n",
       "      <td>0.079122</td>\n",
       "    </tr>\n",
       "    <tr>\n",
       "      <th rowspan=\"2\" valign=\"top\">0.7</th>\n",
       "      <th>False</th>\n",
       "      <td>0.063911</td>\n",
       "    </tr>\n",
       "    <tr>\n",
       "      <th>True</th>\n",
       "      <td>0.084062</td>\n",
       "    </tr>\n",
       "    <tr>\n",
       "      <th rowspan=\"2\" valign=\"top\">0.8</th>\n",
       "      <th>False</th>\n",
       "      <td>0.073009</td>\n",
       "    </tr>\n",
       "    <tr>\n",
       "      <th>True</th>\n",
       "      <td>0.097854</td>\n",
       "    </tr>\n",
       "    <tr>\n",
       "      <th rowspan=\"2\" valign=\"top\">0.9</th>\n",
       "      <th>False</th>\n",
       "      <td>0.085645</td>\n",
       "    </tr>\n",
       "    <tr>\n",
       "      <th>True</th>\n",
       "      <td>0.110160</td>\n",
       "    </tr>\n",
       "    <tr>\n",
       "      <th rowspan=\"2\" valign=\"top\">1.0</th>\n",
       "      <th>False</th>\n",
       "      <td>0.115765</td>\n",
       "    </tr>\n",
       "    <tr>\n",
       "      <th>True</th>\n",
       "      <td>0.033696</td>\n",
       "    </tr>\n",
       "  </tbody>\n",
       "</table>\n",
       "</div>"
      ],
      "text/plain": [
       "                           op_cites_tp\n",
       "bin_sim_ldavecs asg_match             \n",
       "0.1             False         0.008046\n",
       "                True          0.029525\n",
       "0.2             False         0.016276\n",
       "                True          0.048270\n",
       "0.3             False         0.026112\n",
       "                True          0.056831\n",
       "0.4             False         0.036836\n",
       "                True          0.060344\n",
       "0.5             False         0.045256\n",
       "                True          0.070155\n",
       "0.6             False         0.054658\n",
       "                True          0.079122\n",
       "0.7             False         0.063911\n",
       "                True          0.084062\n",
       "0.8             False         0.073009\n",
       "                True          0.097854\n",
       "0.9             False         0.085645\n",
       "                True          0.110160\n",
       "1.0             False         0.115765\n",
       "                True          0.033696"
      ]
     },
     "execution_count": 9,
     "metadata": {},
     "output_type": "execute_result"
    }
   ],
   "source": [
    "inv_pairs[[\"bin_sim_ldavecs\", \"asg_match\", \"op_cites_tp\"]].groupby([\"bin_sim_ldavecs\", \"asg_match\"]).mean()"
   ]
  },
  {
   "cell_type": "code",
   "execution_count": 10,
   "metadata": {},
   "outputs": [
    {
     "data": {
      "text/html": [
       "<div>\n",
       "<style scoped>\n",
       "    .dataframe tbody tr th:only-of-type {\n",
       "        vertical-align: middle;\n",
       "    }\n",
       "\n",
       "    .dataframe tbody tr th {\n",
       "        vertical-align: top;\n",
       "    }\n",
       "\n",
       "    .dataframe thead th {\n",
       "        text-align: right;\n",
       "    }\n",
       "</style>\n",
       "<table border=\"1\" class=\"dataframe\">\n",
       "  <thead>\n",
       "    <tr style=\"text-align: right;\">\n",
       "      <th></th>\n",
       "      <th></th>\n",
       "      <th>op_cites_tp</th>\n",
       "    </tr>\n",
       "    <tr>\n",
       "      <th>bin_sim_docvecs</th>\n",
       "      <th>asg_match</th>\n",
       "      <th></th>\n",
       "    </tr>\n",
       "  </thead>\n",
       "  <tbody>\n",
       "    <tr>\n",
       "      <th rowspan=\"2\" valign=\"top\">0.1</th>\n",
       "      <th>False</th>\n",
       "      <td>17</td>\n",
       "    </tr>\n",
       "    <tr>\n",
       "      <th>True</th>\n",
       "      <td>11</td>\n",
       "    </tr>\n",
       "    <tr>\n",
       "      <th rowspan=\"2\" valign=\"top\">0.2</th>\n",
       "      <th>False</th>\n",
       "      <td>211</td>\n",
       "    </tr>\n",
       "    <tr>\n",
       "      <th>True</th>\n",
       "      <td>97</td>\n",
       "    </tr>\n",
       "    <tr>\n",
       "      <th rowspan=\"2\" valign=\"top\">0.3</th>\n",
       "      <th>False</th>\n",
       "      <td>2756</td>\n",
       "    </tr>\n",
       "    <tr>\n",
       "      <th>True</th>\n",
       "      <td>1361</td>\n",
       "    </tr>\n",
       "    <tr>\n",
       "      <th rowspan=\"2\" valign=\"top\">0.4</th>\n",
       "      <th>False</th>\n",
       "      <td>61874</td>\n",
       "    </tr>\n",
       "    <tr>\n",
       "      <th>True</th>\n",
       "      <td>21472</td>\n",
       "    </tr>\n",
       "    <tr>\n",
       "      <th rowspan=\"2\" valign=\"top\">0.5</th>\n",
       "      <th>False</th>\n",
       "      <td>363480</td>\n",
       "    </tr>\n",
       "    <tr>\n",
       "      <th>True</th>\n",
       "      <td>161359</td>\n",
       "    </tr>\n",
       "    <tr>\n",
       "      <th rowspan=\"2\" valign=\"top\">0.6</th>\n",
       "      <th>False</th>\n",
       "      <td>491885</td>\n",
       "    </tr>\n",
       "    <tr>\n",
       "      <th>True</th>\n",
       "      <td>320015</td>\n",
       "    </tr>\n",
       "    <tr>\n",
       "      <th rowspan=\"2\" valign=\"top\">0.7</th>\n",
       "      <th>False</th>\n",
       "      <td>227873</td>\n",
       "    </tr>\n",
       "    <tr>\n",
       "      <th>True</th>\n",
       "      <td>239659</td>\n",
       "    </tr>\n",
       "    <tr>\n",
       "      <th rowspan=\"2\" valign=\"top\">0.8</th>\n",
       "      <th>False</th>\n",
       "      <td>48887</td>\n",
       "    </tr>\n",
       "    <tr>\n",
       "      <th>True</th>\n",
       "      <td>138672</td>\n",
       "    </tr>\n",
       "    <tr>\n",
       "      <th rowspan=\"2\" valign=\"top\">0.9</th>\n",
       "      <th>False</th>\n",
       "      <td>7286</td>\n",
       "    </tr>\n",
       "    <tr>\n",
       "      <th>True</th>\n",
       "      <td>53288</td>\n",
       "    </tr>\n",
       "    <tr>\n",
       "      <th rowspan=\"2\" valign=\"top\">1.0</th>\n",
       "      <th>False</th>\n",
       "      <td>833</td>\n",
       "    </tr>\n",
       "    <tr>\n",
       "      <th>True</th>\n",
       "      <td>3496</td>\n",
       "    </tr>\n",
       "  </tbody>\n",
       "</table>\n",
       "</div>"
      ],
      "text/plain": [
       "                           op_cites_tp\n",
       "bin_sim_docvecs asg_match             \n",
       "0.1             False               17\n",
       "                True                11\n",
       "0.2             False              211\n",
       "                True                97\n",
       "0.3             False             2756\n",
       "                True              1361\n",
       "0.4             False            61874\n",
       "                True             21472\n",
       "0.5             False           363480\n",
       "                True            161359\n",
       "0.6             False           491885\n",
       "                True            320015\n",
       "0.7             False           227873\n",
       "                True            239659\n",
       "0.8             False            48887\n",
       "                True            138672\n",
       "0.9             False             7286\n",
       "                True             53288\n",
       "1.0             False              833\n",
       "                True              3496"
      ]
     },
     "execution_count": 10,
     "metadata": {},
     "output_type": "execute_result"
    }
   ],
   "source": [
    "inv_pairs[[\"bin_sim_docvecs\", \"asg_match\", \"op_cites_tp\"]].groupby([\"bin_sim_docvecs\", \"asg_match\"]).count()"
   ]
  },
  {
   "cell_type": "code",
   "execution_count": 24,
   "metadata": {},
   "outputs": [
    {
     "data": {
      "text/html": [
       "<div>\n",
       "<style scoped>\n",
       "    .dataframe tbody tr th:only-of-type {\n",
       "        vertical-align: middle;\n",
       "    }\n",
       "\n",
       "    .dataframe tbody tr th {\n",
       "        vertical-align: top;\n",
       "    }\n",
       "\n",
       "    .dataframe thead th {\n",
       "        text-align: right;\n",
       "    }\n",
       "</style>\n",
       "<table border=\"1\" class=\"dataframe\">\n",
       "  <thead>\n",
       "    <tr style=\"text-align: right;\">\n",
       "      <th></th>\n",
       "      <th></th>\n",
       "      <th>op_cites_tp</th>\n",
       "    </tr>\n",
       "    <tr>\n",
       "      <th>bin_sim_docvecs</th>\n",
       "      <th>asg_match</th>\n",
       "      <th></th>\n",
       "    </tr>\n",
       "  </thead>\n",
       "  <tbody>\n",
       "    <tr>\n",
       "      <th rowspan=\"2\" valign=\"top\">0.1</th>\n",
       "      <th>False</th>\n",
       "      <td>54</td>\n",
       "    </tr>\n",
       "    <tr>\n",
       "      <th>True</th>\n",
       "      <td>6</td>\n",
       "    </tr>\n",
       "    <tr>\n",
       "      <th rowspan=\"2\" valign=\"top\">0.2</th>\n",
       "      <th>False</th>\n",
       "      <td>7757</td>\n",
       "    </tr>\n",
       "    <tr>\n",
       "      <th>True</th>\n",
       "      <td>1534</td>\n",
       "    </tr>\n",
       "    <tr>\n",
       "      <th rowspan=\"2\" valign=\"top\">0.3</th>\n",
       "      <th>False</th>\n",
       "      <td>137179</td>\n",
       "    </tr>\n",
       "    <tr>\n",
       "      <th>True</th>\n",
       "      <td>40566</td>\n",
       "    </tr>\n",
       "    <tr>\n",
       "      <th rowspan=\"2\" valign=\"top\">0.4</th>\n",
       "      <th>False</th>\n",
       "      <td>478685</td>\n",
       "    </tr>\n",
       "    <tr>\n",
       "      <th>True</th>\n",
       "      <td>218881</td>\n",
       "    </tr>\n",
       "    <tr>\n",
       "      <th rowspan=\"2\" valign=\"top\">0.5</th>\n",
       "      <th>False</th>\n",
       "      <td>470791</td>\n",
       "    </tr>\n",
       "    <tr>\n",
       "      <th>True</th>\n",
       "      <td>331589</td>\n",
       "    </tr>\n",
       "    <tr>\n",
       "      <th rowspan=\"2\" valign=\"top\">0.6</th>\n",
       "      <th>False</th>\n",
       "      <td>172419</td>\n",
       "    </tr>\n",
       "    <tr>\n",
       "      <th>True</th>\n",
       "      <td>191723</td>\n",
       "    </tr>\n",
       "    <tr>\n",
       "      <th rowspan=\"2\" valign=\"top\">0.7</th>\n",
       "      <th>False</th>\n",
       "      <td>31265</td>\n",
       "    </tr>\n",
       "    <tr>\n",
       "      <th>True</th>\n",
       "      <td>67363</td>\n",
       "    </tr>\n",
       "    <tr>\n",
       "      <th rowspan=\"2\" valign=\"top\">0.8</th>\n",
       "      <th>False</th>\n",
       "      <td>5865</td>\n",
       "    </tr>\n",
       "    <tr>\n",
       "      <th>True</th>\n",
       "      <td>39395</td>\n",
       "    </tr>\n",
       "    <tr>\n",
       "      <th rowspan=\"2\" valign=\"top\">0.9</th>\n",
       "      <th>False</th>\n",
       "      <td>5435</td>\n",
       "    </tr>\n",
       "    <tr>\n",
       "      <th>True</th>\n",
       "      <td>63912</td>\n",
       "    </tr>\n",
       "    <tr>\n",
       "      <th rowspan=\"2\" valign=\"top\">1.0</th>\n",
       "      <th>False</th>\n",
       "      <td>2315</td>\n",
       "    </tr>\n",
       "    <tr>\n",
       "      <th>True</th>\n",
       "      <td>50771</td>\n",
       "    </tr>\n",
       "  </tbody>\n",
       "</table>\n",
       "</div>"
      ],
      "text/plain": [
       "                           op_cites_tp\n",
       "bin_sim_docvecs asg_match             \n",
       "0.1             False               54\n",
       "                True                 6\n",
       "0.2             False             7757\n",
       "                True              1534\n",
       "0.3             False           137179\n",
       "                True             40566\n",
       "0.4             False           478685\n",
       "                True            218881\n",
       "0.5             False           470791\n",
       "                True            331589\n",
       "0.6             False           172419\n",
       "                True            191723\n",
       "0.7             False            31265\n",
       "                True             67363\n",
       "0.8             False             5865\n",
       "                True             39395\n",
       "0.9             False             5435\n",
       "                True             63912\n",
       "1.0             False             2315\n",
       "                True             50771"
      ]
     },
     "execution_count": 24,
     "metadata": {},
     "output_type": "execute_result"
    }
   ],
   "source": [
    "inv_pairs[[\"bin_sim_docvecs\", \"asg_match\", \"op_cites_tp\"]].groupby([\"bin_sim_docvecs\", \"asg_match\"]).count()"
   ]
  },
  {
   "cell_type": "code",
   "execution_count": null,
   "metadata": {},
   "outputs": [],
   "source": []
  }
 ],
 "metadata": {
  "hide_input": false,
  "kernelspec": {
   "display_name": "Python 3",
   "language": "python",
   "name": "python3"
  },
  "language_info": {
   "codemirror_mode": {
    "name": "ipython",
    "version": 3
   },
   "file_extension": ".py",
   "mimetype": "text/x-python",
   "name": "python",
   "nbconvert_exporter": "python",
   "pygments_lexer": "ipython3",
   "version": "3.6.5"
  }
 },
 "nbformat": 4,
 "nbformat_minor": 2
}
