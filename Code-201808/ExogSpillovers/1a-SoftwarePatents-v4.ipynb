{
 "cells": [
  {
   "cell_type": "code",
   "execution_count": 3,
   "metadata": {},
   "outputs": [
    {
     "name": "stderr",
     "output_type": "stream",
     "text": [
      "/homedir/eco/sfeng/bigdata/python/miniconda3/lib/python3.6/site-packages/statsmodels/compat/pandas.py:56: FutureWarning: The pandas.core.datetools module is deprecated and will be removed in a future version. Please use the pandas.tseries module instead.\n",
      "  from pandas.core import datetools\n"
     ]
    }
   ],
   "source": [
    "import scipy as sp\n",
    "import numpy as np\n",
    "import pandas as pd\n",
    "import timeit\n",
    "import re\n",
    "import json\n",
    "import pickle\n",
    "import fastparquet\n",
    "import os\n",
    "os.chdir('/mnt/t48/bighomes-active/sfeng/patentdiffusion/')\n",
    "seed = 3\n",
    "import seaborn as sns\n",
    "import matplotlib\n",
    "import matplotlib.pyplot as plt\n",
    "from sklearn.preprocessing import StandardScaler\n",
    "scaler = StandardScaler()\n",
    "import datetime\n",
    "import statsmodels.api as sm\n",
    "import statsmodels.formula.api as smf\n",
    "import statsmodels.iolib.summary2 as summary2"
   ]
  },
  {
   "cell_type": "markdown",
   "metadata": {},
   "source": [
    "## Software patents\n",
    "1. Get all software patents\n",
    "2. Sample within Computers; indicate whether the *tp* or *op* is a software patent\n",
    "\n",
    "Code mostly taken from https://sfengc7.stern.nyu.edu:8888/notebooks/patentdiffusion/Results/Regressions/1-NewSample.ipynb\n",
    "and https://sfengc7.stern.nyu.edu:8888/notebooks/patentdiffusion/Results/ExogSpillovers/2a-UniversityPatents-v2.ipynb#2.-Bayh-Dole-Sample"
   ]
  },
  {
   "cell_type": "code",
   "execution_count": 2,
   "metadata": {},
   "outputs": [
    {
     "name": "stdout",
     "output_type": "stream",
     "text": [
      "2575725\n",
      "28249\n",
      "28249\n"
     ]
    }
   ],
   "source": [
    "# 1. Software in abstract\n",
    "pabs = fastparquet.ParquetFile(\"RawData/Cleaned/patabs7615_us_no_dup.parq\").to_pandas()\n",
    "print(len(pabs))\n",
    "pabs = pabs.loc[pabs[\"abs_stemmed\"].str.contains('software|softwar', regex=True)]\n",
    "print(len(pabs))\n",
    "sw_pats = pabs[\"patent\"]\n",
    "print(len(sw_pats))\n",
    "sw_pats.to_pickle(\"DataStore/2018-07-P2/Software/sw_pats.pkl\")\n",
    "# del(pabs)"
   ]
  },
  {
   "cell_type": "code",
   "execution_count": 2,
   "metadata": {},
   "outputs": [
    {
     "name": "stdout",
     "output_type": "stream",
     "text": [
      "2523739\n",
      "2220706\n",
      "2002788\n"
     ]
    }
   ],
   "source": [
    "# Load data\n",
    "pdf = fastparquet.ParquetFile(\"RawData/Cleaned/patent_loc_unique_us_0628.parq\").to_pandas()\n",
    "print(len(pdf))\n",
    "pdf = pdf.drop_duplicates(\"patent\")\n",
    "# Remove actual duplicates\n",
    "dup_pats = pd.read_pickle(\"RawData/Cleaned/duplicate_pattext_0712.pkl\")\n",
    "pdf = pdf.loc[~(pdf[\"patent\"].isin(dup_pats))]\n",
    "print(len(pdf))\n",
    "# Check that I have vector data for them\n",
    "pabs = fastparquet.ParquetFile(\"RawData/Cleaned/patabs7615_us_no_dup.parq\").to_pandas([\"patent\"])[\"patent\"].tolist()\n",
    "pdf = pdf.loc[pdf[\"patent\"].isin(pabs)]\n",
    "print(len(pdf))\n",
    "del(dup_pats, pabs)"
   ]
  },
  {
   "cell_type": "code",
   "execution_count": 3,
   "metadata": {},
   "outputs": [
    {
     "name": "stdout",
     "output_type": "stream",
     "text": [
      "1521233\n"
     ]
    }
   ],
   "source": [
    "def get_year_group(x):\n",
    "    if x in range(1975,1980):\n",
    "        yg = \"1975-80\"\n",
    "    elif x in range(1980,1985):\n",
    "        yg = \"1980-85\"\n",
    "    elif x in range(1985, 1990):\n",
    "        yg = \"1985-90\"\n",
    "    elif x in range(1990,1995):\n",
    "        yg = \"1990-95\"\n",
    "    elif x in range(1995,2000):\n",
    "        yg = \"1995-00\"\n",
    "    elif x in range(2000,2005):\n",
    "        yg = \"2000-05\"\n",
    "    elif x in range(2005,2010):\n",
    "        yg = \"2005-10\"\n",
    "    elif x in range(2010, 2015):\n",
    "        yg = \"2010-15\"\n",
    "    else:\n",
    "        yg = np.nan\n",
    "    return yg\n",
    "\n",
    "pdf[\"year_group\"] = pdf[\"appyear\"].apply(get_year_group)\n",
    "# Drop missing columns\n",
    "pdf = pdf.dropna(how=\"any\",subset=[\"appyear\", \"naics_name\", \"primclass\", \"year_group\"])\n",
    "print(len(pdf))"
   ]
  },
  {
   "cell_type": "code",
   "execution_count": 12,
   "metadata": {},
   "outputs": [
    {
     "name": "stderr",
     "output_type": "stream",
     "text": [
      "/homedir/eco/sfeng/bigdata/python/miniconda3/lib/python3.6/site-packages/ipykernel_launcher.py:12: FutureWarning: \n",
      "Passing list-likes to .loc or [] with any missing label will raise\n",
      "KeyError in the future, you can use .reindex() as an alternative.\n",
      "\n",
      "See the documentation here:\n",
      "http://pandas.pydata.org/pandas-docs/stable/indexing.html#deprecate-loc-reindex-listlike\n",
      "  if sys.path[0] == '':\n",
      "/homedir/eco/sfeng/bigdata/python/miniconda3/lib/python3.6/site-packages/pandas/core/indexing.py:1367: FutureWarning: \n",
      "Passing list-likes to .loc or [] with any missing label will raise\n",
      "KeyError in the future, you can use .reindex() as an alternative.\n",
      "\n",
      "See the documentation here:\n",
      "http://pandas.pydata.org/pandas-docs/stable/indexing.html#deprecate-loc-reindex-listlike\n",
      "  return self._getitem_tuple(key)\n"
     ]
    }
   ],
   "source": [
    "c = \"naics_name\"\n",
    "k = \"year_group\"\n",
    "m = \"inv_msa\"\n",
    "yr_min = 1990\n",
    "yr_max = 2006\n",
    "sw_pats = pd.read_pickle(\"DataStore/2018-07-P2/Software/sw_pats.pkl\")\n",
    "ind = [\"Computer and Peripheral Equipment\"]\n",
    "\n",
    "uni2 = pdf.loc[pdf[c].isin(ind) & pdf[\"patent\"].isin(sw_pats) \\\n",
    "               & (pdf[\"appyear\"].isin(range(yr_min, yr_max))),\n",
    "              [\"patent\", \"inv_msa\", \"appyear\", \"year_group\", \"naics_name\", \"primclass\"]].copy().reset_index(drop=True)\n",
    "uni2[\"tp_is_sw\"] = True\n",
    "p_rel = pdf.loc[pdf[c].isin(ind) & (pdf[\"appyear\"].isin(range(yr_min, yr_max))), uni2.columns]\n",
    "p2 = p_rel.sample(frac=0.6).reset_index(drop=True)\n",
    "p2[\"tp_is_sw\"] = False\n",
    "targ = uni2.append(p2, ignore_index=True).reset_index(drop=True)\n",
    "del(p2, uni2)"
   ]
  },
  {
   "cell_type": "code",
   "execution_count": 13,
   "metadata": {},
   "outputs": [
    {
     "name": "stdout",
     "output_type": "stream",
     "text": [
      "1377158\n"
     ]
    }
   ],
   "source": [
    "targ_g = targ.groupby([c,k,m]) # Each group is from same field, MSA, year group\n",
    "p_c_m = p_rel.groupby([c,k,m]) # Each group is from same field, MSA, year group\n",
    "p_c = p_rel.groupby([c,k]) # Each group from the same field, year group\n",
    "ts = pd.DataFrame()\n",
    "for n,g in targ_g:\n",
    "    # Propagate the target patents\n",
    "    # Get num x existing patent lists and randomize them\n",
    "    num = 20\n",
    "    p_all = []\n",
    "    for i in range(num):\n",
    "        p_all.extend(g[\"patent\"].tolist())\n",
    "    tp_in_msa = p_all\n",
    "    if n in p_c_m.groups.keys():\n",
    "        op_in_msa = p_c_m.get_group(n)[\"patent\"].sample(n=len(tp_in_msa), replace=True).tolist()\n",
    "        in_msa = pd.DataFrame({\"tp\": tp_in_msa, \"op\": op_in_msa})\n",
    "        in_msa[\"samp\"] = \"In MSA\"\n",
    "    else:\n",
    "        in_msa = pd.DataFrame()\n",
    "    if (n[0], n[1]) in p_c.groups.keys():\n",
    "        op_in_field = p_c.get_group((n[0], n[1]))[\"patent\"].sample(n=len(tp_in_msa), replace=True).tolist()\n",
    "        in_field = pd.DataFrame({\"tp\": tp_in_msa, \"op\": op_in_field})\n",
    "        in_field[\"samp\"] = \"In Field\"\n",
    "    else:\n",
    "        in_field = pd.DataFrame()   \n",
    "    \n",
    "    # Merge\n",
    "    samp = pd.concat([in_msa, in_field], axis=0)\n",
    "    if len(samp) > 0:\n",
    "        # Remove where other is less than target\n",
    "        samp = samp.loc[(samp[\"tp\"] < samp[\"op\"])]\n",
    "        ts = ts.append(samp, ignore_index = True)\n",
    "\n",
    "print(len(ts))"
   ]
  },
  {
   "cell_type": "code",
   "execution_count": 14,
   "metadata": {},
   "outputs": [
    {
     "name": "stdout",
     "output_type": "stream",
     "text": [
      "CPU times: user 59.3 ms, sys: 21.8 ms, total: 81.1 ms\n",
      "Wall time: 80.6 ms\n",
      "CPU times: user 2.42 s, sys: 8.72 ms, total: 2.43 s\n",
      "Wall time: 2.42 s\n",
      "1231274\n"
     ]
    }
   ],
   "source": [
    "asgs = pickle.load(open(\"RawData/Cleaned/patent_assignee_dict_0628.pkl\", \"rb\"))\n",
    "# Check that target and other do not have same assignee\n",
    "%time asg_match = (set(asgs.get(tp, [])).intersection(asgs.get(op, [])) for tp, op in zip(ts[\"tp\"], ts[\"op\"]))\n",
    "%time asg_match = [len(i) for i in asg_match]\n",
    "\n",
    "ts[\"asg_match\"] = asg_match\n",
    "ts = ts.loc[ts[\"asg_match\"] == 0]\n",
    "ts = ts.drop(\"asg_match\",1)\n",
    "print(len(ts))\n",
    "del(asgs)"
   ]
  },
  {
   "cell_type": "code",
   "execution_count": 15,
   "metadata": {},
   "outputs": [],
   "source": [
    "ts.to_pickle(\"DataStore/2018-07-P2/Software/computer_sw_samp_0723.pkl\")"
   ]
  },
  {
   "cell_type": "markdown",
   "metadata": {},
   "source": [
    "## 2. Location measures\n",
    "### 2.1. Location distributions of new patents at each year"
   ]
  },
  {
   "cell_type": "code",
   "execution_count": 4,
   "metadata": {},
   "outputs": [],
   "source": [
    "pdf = fastparquet.ParquetFile(\"RawData/Cleaned/patent_loc_unique_us_0628.parq\").to_pandas(\\\n",
    "                                    [\"patent\", \"appyear\", \"gyear\", \"naics_name\", \"primclass\", \"inv_msa\"]).drop_duplicates(\"patent\")\n",
    "sw_pats = pd.read_pickle(\"DataStore/2018-07-P2/Software/sw_pats.pkl\")\n",
    "sw_pats = pdf.loc[pdf[\"patent\"].isin(sw_pats)]\n",
    "del(pdf)"
   ]
  },
  {
   "cell_type": "code",
   "execution_count": 5,
   "metadata": {},
   "outputs": [
    {
     "data": {
      "image/png": "[encoded data removed]",
      "text/plain": [
       "<Figure size 720x504 with 1 Axes>"
      ]
     },
     "metadata": {},
     "output_type": "display_data"
    }
   ],
   "source": [
    "%matplotlib inline\n",
    "sns.set(font_scale=1.4)\n",
    "sns.set_style(\"ticks\")\n",
    "plt.rcParams[\"font.family\"] = \"Liberation Sans\"\n",
    "plt.rcParams.update({'font.size': 20})\n",
    "savepath = \"DataStore/2018-07-P3/ResultsGraphs/\"\n",
    "\n",
    "yr_min = 1990\n",
    "yr_max = 2005\n",
    "\n",
    "num_u = sw_pats.loc[sw_pats[\"appyear\"].isin(range(yr_min, yr_max+1)), \"appyear\"].value_counts().sort_index()\n",
    "fig, ax = plt.subplots(figsize=(10,7))\n",
    "num_u.plot.line(ax = ax)\n",
    "ax.set_xlabel(\"Grant Year\")\n",
    "ax.set_ylabel(\"Number of Patents Granted\")\n",
    "\n",
    "# plt.savefig(savepath+\"4a-SoftwarePatSize.png\")\n",
    "plt.show()"
   ]
  },
  {
   "cell_type": "code",
   "execution_count": 6,
   "metadata": {},
   "outputs": [
    {
     "name": "stdout",
     "output_type": "stream",
     "text": [
      "31\n"
     ]
    }
   ],
   "source": [
    "yr_min = 1990\n",
    "yr_max = 2005\n",
    "p3 = sw_pats.loc[(sw_pats[\"appyear\"] >= yr_min) & (sw_pats[\"appyear\"] <= yr_max)]\n",
    "ploc = p3[[\"inv_msa\", \"appyear\", \"patent\"]].groupby([\"inv_msa\", \"appyear\"]).count().reset_index()\n",
    "# Only use those places with greater than 10 patents\n",
    "ploc = ploc.loc[ploc[\"patent\"] >= 10]\n",
    "ploc = ploc.pivot(index=\"appyear\", columns=\"inv_msa\", values=\"patent\").fillna(0)\n",
    "\n",
    "# Get proportions\n",
    "ploc = ploc.apply(lambda x: x/x.sum(), axis=1)\n",
    "\n",
    "# Get number of cities\n",
    "print(len(ploc.columns))"
   ]
  },
  {
   "cell_type": "code",
   "execution_count": 7,
   "metadata": {},
   "outputs": [],
   "source": [
    "sim = 1-sp.spatial.distance.cdist(ploc.values,ploc.values,metric=\"cosine\")\n",
    "# Make dataframe\n",
    "sim = pd.DataFrame(sim, columns=list(range(yr_min,yr_max+1)), index=list(range(yr_min,yr_max+1))).unstack().reset_index()\n",
    "sim.columns=[\"appyear1\", \"appyear2\", \"sim_location\"]\n",
    "sim[\"lag\"] = sim[\"appyear2\"]-sim[\"appyear1\"]"
   ]
  },
  {
   "cell_type": "code",
   "execution_count": 8,
   "metadata": {},
   "outputs": [],
   "source": [
    "# Timeline of lag1\n",
    "sim1 = sim.loc[sim[\"lag\"] == 1, [\"appyear1\", \"sim_location\"]].set_index(\"appyear1\")"
   ]
  },
  {
   "cell_type": "code",
   "execution_count": 9,
   "metadata": {},
   "outputs": [
    {
     "data": {
      "text/plain": [
       "<matplotlib.axes._subplots.AxesSubplot at 0x7f9620f94ba8>"
      ]
     },
     "execution_count": 9,
     "metadata": {},
     "output_type": "execute_result"
    },
    {
     "data": {
      "image/png": "[encoded data removed]",
      "text/plain": [
       "<Figure size 432x288 with 1 Axes>"
      ]
     },
     "metadata": {},
     "output_type": "display_data"
    }
   ],
   "source": [
    "%matplotlib inline\n",
    "# Plot\n",
    "sim1.plot.line()"
   ]
  },
  {
   "cell_type": "markdown",
   "metadata": {},
   "source": [
    "### 2.2 HHI"
   ]
  },
  {
   "cell_type": "code",
   "execution_count": 10,
   "metadata": {},
   "outputs": [],
   "source": [
    "hhi = pd.Series(np.sum(ploc.values**2,axis=1), index = list(range(yr_min,yr_max+1)))"
   ]
  },
  {
   "cell_type": "code",
   "execution_count": 11,
   "metadata": {},
   "outputs": [
    {
     "data": {
      "image/png": "[encoded data removed]",
      "text/plain": [
       "<Figure size 720x504 with 1 Axes>"
      ]
     },
     "metadata": {},
     "output_type": "display_data"
    }
   ],
   "source": [
    "%matplotlib inline\n",
    "# Plot\n",
    "fig, ax = plt.subplots(figsize=(10,7))\n",
    "hhi.plot.line(ax=ax)\n",
    "ax.set_xlabel(\"Grant Year\")\n",
    "ax.set_ylabel(\"HHI\")\n",
    "plt.savefig(savepath+\"1a-HHI_Software.png\")\n",
    "plt.show()"
   ]
  },
  {
   "cell_type": "code",
   "execution_count": null,
   "metadata": {},
   "outputs": [],
   "source": []
  }
 ],
 "metadata": {
  "hide_input": false,
  "kernelspec": {
   "display_name": "Python 3",
   "language": "python",
   "name": "python3"
  },
  "language_info": {
   "codemirror_mode": {
    "name": "ipython",
    "version": 3
   },
   "file_extension": ".py",
   "mimetype": "text/x-python",
   "name": "python",
   "nbconvert_exporter": "python",
   "pygments_lexer": "ipython3",
   "version": "3.6.5"
  }
 },
 "nbformat": 4,
 "nbformat_minor": 2
}
