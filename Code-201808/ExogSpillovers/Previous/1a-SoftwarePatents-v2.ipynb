{
 "cells": [
  {
   "cell_type": "code",
   "execution_count": 1,
   "metadata": {},
   "outputs": [
    {
     "name": "stderr",
     "output_type": "stream",
     "text": [
      "/homedir/eco/sfeng/bigdata/python/miniconda3/lib/python3.6/site-packages/statsmodels/compat/pandas.py:56: FutureWarning: The pandas.core.datetools module is deprecated and will be removed in a future version. Please use the pandas.tseries module instead.\n",
      "  from pandas.core import datetools\n"
     ]
    }
   ],
   "source": [
    "import scipy as sp\n",
    "import numpy as np\n",
    "import pandas as pd\n",
    "import timeit\n",
    "import re\n",
    "import json\n",
    "import pickle\n",
    "import fastparquet\n",
    "import os\n",
    "os.chdir('/mnt/t48/bighomes-active/sfeng/patentdiffusion/')\n",
    "seed = 3\n",
    "import seaborn as sns\n",
    "import matplotlib\n",
    "import matplotlib.pyplot as plt\n",
    "from sklearn.preprocessing import StandardScaler\n",
    "scaler = StandardScaler()\n",
    "import datetime\n",
    "import statsmodels.api as sm\n",
    "import statsmodels.formula.api as smf\n",
    "import statsmodels.iolib.summary2 as summary2"
   ]
  },
  {
   "cell_type": "markdown",
   "metadata": {},
   "source": [
    "## Exogenous introduction of new knowledge and effect on spillovers\n",
    "\n",
    "1. Find patents with \"software\" in abstract\n",
    "2. Merge patent with unique assignees\n",
    "3. Get new firms that applied for patents for the first time in 1995-1996 (In re Alappat, July 1994 - see Hall & MacGarvie) in primary classes from 1\n",
    "4. Get existing patents in primary classes from 1 applied for at same time\n",
    "5. Get sample of other patents applied for 1985-2005: PRIOR patents; 1985-1995: POST patents 1995-2005. NOTE: this includes Dotcom bubble burst of 2000.\n",
    "6. Get similarity calculations for all pairs for within NAICS sample\n",
    "\n",
    "### Spillover measures\n",
    "\n",
    "1. Measure similarity for both samples (a) within NAICS - all; (b) within primary class over time\n",
    "    - Expectation: Lower for new firm patents and then higher after 2001. Higher for existing firm patents and then lower after 2001.\n",
    "2. Measure localization for sample (a) within NAICS - all; (b) within primary class over time\n",
    "    - Expectation: Decline in localization 1999-2000, increase after, then fall\n",
    "    \n",
    "### Location measures\n",
    "For each primary class plus NAICS, get distribution over locations for each year\n",
    "1. HHI index of location concentration time series\n",
    "2. Cosine similarity of location distributions over time"
   ]
  },
  {
   "cell_type": "code",
   "execution_count": 2,
   "metadata": {},
   "outputs": [],
   "source": [
    "# Merge patent with application year\n",
    "# pdf = fastparquet.ParquetFile(\"RawData/Cleaned/patent_loc_unique_us_0628.parq\").to_pandas()\n",
    "# print(len(pdf))\n",
    "# p2 = pd.read_pickle(\"RawData/HBSPatData/invpat_us_7509_loc_unique.pkl\")[[\"patent\", \"appyear\"]]\n",
    "# pdf = pdf.merge(p2, how = \"left\", on = \"patent\")\n",
    "# print(len(pdf))\n",
    "# fastparquet.write(\"RawData/Cleaned/patent_loc_unique_us_0628.parq\", pdf, compression=\"GZIP\")"
   ]
  },
  {
   "cell_type": "markdown",
   "metadata": {},
   "source": [
    "### 1. Software patent patterns"
   ]
  },
  {
   "cell_type": "code",
   "execution_count": 3,
   "metadata": {},
   "outputs": [
    {
     "name": "stdout",
     "output_type": "stream",
     "text": [
      "2575725\n",
      "28241\n"
     ]
    }
   ],
   "source": [
    "# 1. Software in abstract\n",
    "pabs = fastparquet.ParquetFile(\"RawData/Cleaned/patabs7615_us_no_dup.parq\").to_pandas()\n",
    "print(len(pabs))\n",
    "pabs = pabs.loc[pabs[\"Abstract\"].apply(lambda x: \"software\" in x.lower())]\n",
    "print(len(pabs))"
   ]
  },
  {
   "cell_type": "code",
   "execution_count": 4,
   "metadata": {},
   "outputs": [
    {
     "name": "stderr",
     "output_type": "stream",
     "text": [
      "/homedir/eco/sfeng/bigdata/python/miniconda3/lib/python3.6/site-packages/IPython/core/interactiveshell.py:2785: DtypeWarning: Columns (1) have mixed types. Specify dtype option on import or set low_memory=False.\n",
      "  interactivity=interactivity, compiler=compiler, result=result)\n"
     ]
    }
   ],
   "source": [
    "pdf = fastparquet.ParquetFile(\"RawData/Cleaned/patent_loc_unique_us_0628.parq\").to_pandas()\n",
    "# Load data\n",
    "pdf = pdf.drop_duplicates(\"patent\")\n",
    "# Remove actual duplicates\n",
    "dup_pats = pd.read_pickle(\"RawData/Cleaned/duplicate_pattext_0712.pkl\")\n",
    "pdf = pdf.loc[~(pdf[\"patent\"].isin(dup_pats))]\n",
    "asg = fastparquet.ParquetFile(\"RawData/Cleaned/patent_assignees_unique_0628.parq\").to_pandas()\n",
    "pc = pd.read_table(\"RawData/PatentView/uspc_current.tsv\")"
   ]
  },
  {
   "cell_type": "code",
   "execution_count": 5,
   "metadata": {},
   "outputs": [
    {
     "name": "stdout",
     "output_type": "stream",
     "text": [
      "22331\n",
      "21062\n",
      "21062\n",
      "19916\n"
     ]
    }
   ],
   "source": [
    "sw_pats = pdf.loc[pdf[\"patent\"].isin(pabs[\"patent\"])]\n",
    "#NAICS\n",
    "sw_naics = sw_pats[\"naics_name\"].value_counts()\n",
    "print(len(sw_pats))\n",
    "sw_naics = sw_naics[sw_naics >= 100]\n",
    "sw_pats = sw_pats.loc[sw_pats[\"naics_name\"].isin(sw_naics.index)]\n",
    "print(len(sw_pats))\n",
    "# Primclass\n",
    "sw_pc = sw_pats[\"primclass\"].value_counts()\n",
    "sw_pc = sw_pc[sw_pc >= 50]\n",
    "print(len(sw_pats))\n",
    "sw_pats = sw_pats.loc[sw_pats[\"primclass\"].isin(sw_pc.index)]\n",
    "print(len(sw_pats))"
   ]
  },
  {
   "cell_type": "code",
   "execution_count": 6,
   "metadata": {},
   "outputs": [
    {
     "data": {
      "image/png": "[encoded data removed]",
      "text/plain": [
       "<Figure size 432x288 with 1 Axes>"
      ]
     },
     "metadata": {},
     "output_type": "display_data"
    },
    {
     "data": {
      "image/png": "[encoded data removed]",
      "text/plain": [
       "<Figure size 432x288 with 1 Axes>"
      ]
     },
     "metadata": {},
     "output_type": "display_data"
    }
   ],
   "source": [
    "%matplotlib inline\n",
    "sw_appyear = sw_pats[\"appyear\"].value_counts().sort_index()\n",
    "sw_appyear.plot.line()\n",
    "plt.show()\n",
    "sw_appyear.diff().plot.line()\n",
    "plt.show()"
   ]
  },
  {
   "cell_type": "code",
   "execution_count": 7,
   "metadata": {},
   "outputs": [
    {
     "data": {
      "text/plain": [
       "1966.0       1\n",
       "1973.0       6\n",
       "1974.0       5\n",
       "1975.0       5\n",
       "1976.0       9\n",
       "1977.0       9\n",
       "1978.0      14\n",
       "1979.0      14\n",
       "1980.0      10\n",
       "1981.0      27\n",
       "1982.0      32\n",
       "1983.0      48\n",
       "1984.0      42\n",
       "1985.0      56\n",
       "1986.0      74\n",
       "1987.0      90\n",
       "1988.0     107\n",
       "1989.0     138\n",
       "1990.0     157\n",
       "1991.0     155\n",
       "1992.0     220\n",
       "1993.0     260\n",
       "1994.0     369\n",
       "1995.0     540\n",
       "1996.0     733\n",
       "1997.0     934\n",
       "1998.0     944\n",
       "1999.0     962\n",
       "2000.0    1207\n",
       "2001.0    1207\n",
       "2002.0    1097\n",
       "2003.0    1066\n",
       "2004.0     889\n",
       "2005.0     777\n",
       "2006.0     540\n",
       "2007.0     299\n",
       "2008.0      95\n",
       "2009.0      13\n",
       "Name: appyear, dtype: int64"
      ]
     },
     "execution_count": 7,
     "metadata": {},
     "output_type": "execute_result"
    }
   ],
   "source": [
    "sw_appyear"
   ]
  },
  {
   "cell_type": "code",
   "execution_count": 8,
   "metadata": {},
   "outputs": [],
   "source": [
    "# # 4. Merge with assignees\n",
    "sw_pats = sw_pats.merge(asg, how = \"left\", on = \"patent\")\n",
    "del(asg)\n",
    "\n",
    "# 5. Drop duplicate assignees\n",
    "s_asg = sw_pats[[\"assignee_id\", \"appyear\"]].drop_duplicates(\"assignee_id\", keep=\"first\")\n",
    "\n",
    "# 6. Number of first assignees by year\n",
    "sts = s_asg[\"appyear\"].value_counts().sort_index()"
   ]
  },
  {
   "cell_type": "code",
   "execution_count": 9,
   "metadata": {},
   "outputs": [
    {
     "data": {
      "image/png": "[encoded data removed]",
      "text/plain": [
       "<Figure size 432x288 with 1 Axes>"
      ]
     },
     "metadata": {},
     "output_type": "display_data"
    },
    {
     "data": {
      "image/png": "[encoded data removed]",
      "text/plain": [
       "<Figure size 432x288 with 1 Axes>"
      ]
     },
     "metadata": {},
     "output_type": "display_data"
    }
   ],
   "source": [
    "%matplotlib inline\n",
    "sts.plot.line()\n",
    "plt.show()\n",
    "sts.diff().plot.line()\n",
    "plt.show()"
   ]
  },
  {
   "cell_type": "markdown",
   "metadata": {},
   "source": [
    "## 1. Location measures\n",
    "### 1.1. Location distributions of new patents at each year"
   ]
  },
  {
   "cell_type": "code",
   "execution_count": 10,
   "metadata": {},
   "outputs": [
    {
     "name": "stdout",
     "output_type": "stream",
     "text": [
      "30\n"
     ]
    }
   ],
   "source": [
    "yr_min = 1990\n",
    "yr_max = 2005\n",
    "p3 = sw_pats.loc[(sw_pats[\"appyear\"] >= yr_min) & (sw_pats[\"appyear\"] <= yr_max)]\n",
    "ploc = p3[[\"inv_msa\", \"appyear\", \"patent\"]].groupby([\"inv_msa\", \"appyear\"]).count().reset_index()\n",
    "# Only use those places with greater than 10 patents\n",
    "ploc = ploc.loc[ploc[\"patent\"] >= 10]\n",
    "ploc = ploc.pivot(index=\"appyear\", columns=\"inv_msa\", values=\"patent\").fillna(0)\n",
    "\n",
    "# Get proportions\n",
    "ploc = ploc.apply(lambda x: x/x.sum(), axis=1)\n",
    "\n",
    "# Get number of cities\n",
    "print(len(ploc.columns))"
   ]
  },
  {
   "cell_type": "code",
   "execution_count": 11,
   "metadata": {},
   "outputs": [],
   "source": [
    "sim = 1-sp.spatial.distance.cdist(ploc.values,ploc.values,metric=\"cosine\")\n",
    "# Make dataframe\n",
    "sim = pd.DataFrame(sim, columns=list(range(yr_min,yr_max+1)), index=list(range(yr_min,yr_max+1))).unstack().reset_index()\n",
    "sim.columns=[\"appyear1\", \"appyear2\", \"sim_location\"]\n",
    "sim[\"lag\"] = sim[\"appyear2\"]-sim[\"appyear1\"]"
   ]
  },
  {
   "cell_type": "code",
   "execution_count": 12,
   "metadata": {},
   "outputs": [],
   "source": [
    "# Timeline of lag1\n",
    "sim1 = sim.loc[sim[\"lag\"] == 1, [\"appyear1\", \"sim_location\"]].set_index(\"appyear1\")"
   ]
  },
  {
   "cell_type": "code",
   "execution_count": 13,
   "metadata": {},
   "outputs": [
    {
     "data": {
      "text/plain": [
       "<matplotlib.axes._subplots.AxesSubplot at 0x7f054aa2e748>"
      ]
     },
     "execution_count": 13,
     "metadata": {},
     "output_type": "execute_result"
    },
    {
     "data": {
      "image/png": "[encoded data removed]",
      "text/plain": [
       "<Figure size 432x288 with 1 Axes>"
      ]
     },
     "metadata": {},
     "output_type": "display_data"
    }
   ],
   "source": [
    "%matplotlib inline\n",
    "# Plot\n",
    "sim1.plot.line()"
   ]
  },
  {
   "cell_type": "code",
   "execution_count": 14,
   "metadata": {},
   "outputs": [],
   "source": [
    "# Similarity to distribution at 1995 over time\n",
    "sim2 = sim.loc[sim[\"appyear1\"] == 1995, [\"lag\", \"sim_location\"]].set_index(\"lag\")"
   ]
  },
  {
   "cell_type": "code",
   "execution_count": 15,
   "metadata": {},
   "outputs": [
    {
     "data": {
      "text/plain": [
       "<matplotlib.axes._subplots.AxesSubplot at 0x7f05c1015978>"
      ]
     },
     "execution_count": 15,
     "metadata": {},
     "output_type": "execute_result"
    },
    {
     "data": {
      "image/png": "[encoded data removed]",
      "text/plain": [
       "<Figure size 432x288 with 1 Axes>"
      ]
     },
     "metadata": {},
     "output_type": "display_data"
    }
   ],
   "source": [
    "%matplotlib inline\n",
    "# Plot\n",
    "sim2.plot.line()"
   ]
  },
  {
   "cell_type": "markdown",
   "metadata": {},
   "source": [
    "### 1.2 HHI for each year"
   ]
  },
  {
   "cell_type": "code",
   "execution_count": 16,
   "metadata": {},
   "outputs": [],
   "source": [
    "hhi = pd.Series(np.sum(ploc.values**2,axis=1), index = list(range(yr_min,yr_max+1)))"
   ]
  },
  {
   "cell_type": "code",
   "execution_count": 17,
   "metadata": {},
   "outputs": [
    {
     "data": {
      "text/plain": [
       "<matplotlib.axes._subplots.AxesSubplot at 0x7f05c0f4ec88>"
      ]
     },
     "execution_count": 17,
     "metadata": {},
     "output_type": "execute_result"
    },
    {
     "data": {
      "image/png": "[encoded data removed]",
      "text/plain": [
       "<Figure size 432x288 with 1 Axes>"
      ]
     },
     "metadata": {},
     "output_type": "display_data"
    }
   ],
   "source": [
    "%matplotlib inline\n",
    "# Plot\n",
    "hhi.plot.line()"
   ]
  },
  {
   "cell_type": "markdown",
   "metadata": {},
   "source": [
    "## 2. Similarity comparison of new patents 1995-6\n",
    "\n",
    "### 2.1 First sample\n",
    "Sampling procedure:\n",
    "1. Get all new assignee patents 1995-96; get same number of existing assignee patents\n",
    "2. For each patent, for each year: assign one patent from (a) same NAICS; (b) same primclass"
   ]
  },
  {
   "cell_type": "code",
   "execution_count": 18,
   "metadata": {},
   "outputs": [
    {
     "name": "stdout",
     "output_type": "stream",
     "text": [
      "2486\n"
     ]
    }
   ],
   "source": [
    "# 1. Get new assignees 1995-6\n",
    "beg=1995\n",
    "end=2000\n",
    "n_asg = s_asg.loc[s_asg[\"appyear\"].isin(range(beg,end+1)), \"assignee_id\"].tolist()\n",
    "p4 = p3.loc[p3[\"assignee_id\"].isin(n_asg) & p3[\"appyear\"].isin(range(beg,end+1))].copy()\n",
    "p4[\"group\"] = \"new_software\"\n",
    "print(len(p4))"
   ]
  },
  {
   "cell_type": "code",
   "execution_count": 19,
   "metadata": {},
   "outputs": [
    {
     "name": "stdout",
     "output_type": "stream",
     "text": [
      "2834\n"
     ]
    }
   ],
   "source": [
    "p5 = p3.loc[~p3[\"assignee_id\"].isin(n_asg) & p3[\"appyear\"].isin(range(beg,end+1))].copy()\n",
    "p5[\"group\"] = \"old_software\"\n",
    "print(len(p5))"
   ]
  },
  {
   "cell_type": "code",
   "execution_count": 20,
   "metadata": {},
   "outputs": [
    {
     "data": {
      "text/plain": [
       "34860"
      ]
     },
     "execution_count": 20,
     "metadata": {},
     "output_type": "execute_result"
    }
   ],
   "source": [
    "# Target patents\n",
    "tp = p4[[\"patent\", \"primclass\", \"naics_name\", \"appyear\", \"group\"]].append\\\n",
    "(p5[[\"patent\", \"primclass\", \"naics_name\", \"appyear\", \"group\"]].sample(n=1000))\n",
    "\n",
    "# Times 10\n",
    "tp2 = pd.DataFrame()\n",
    "for i in range(10):\n",
    "    tp2 = tp2.append(tp, ignore_index=True)\n",
    "tp2[\"tp\"] = tp2[\"patent\"]\n",
    "tp2 = tp2.drop(\"patent\",1)\n",
    "len(tp2)"
   ]
  },
  {
   "cell_type": "code",
   "execution_count": 21,
   "metadata": {},
   "outputs": [],
   "source": [
    "# NAICS patents; p3 is primclass patents\n",
    "pdf = fastparquet.ParquetFile(\"RawData/Cleaned/patent_loc_unique_us_0628.parq\").to_pandas()\n",
    "pn = pdf.loc[pdf[\"appyear\"].isin(range(yr_min, yr_max+1)) & (pdf[\"naics_name\"].isin(sw_naics.index))].copy()\n",
    "ppc = pdf.loc[pdf[\"appyear\"].isin(range(yr_min, yr_max+1)) & (pdf[\"primclass\"].isin(sw_pc.index))].copy()\n",
    "del(pdf)"
   ]
  },
  {
   "cell_type": "code",
   "execution_count": 22,
   "metadata": {},
   "outputs": [
    {
     "name": "stderr",
     "output_type": "stream",
     "text": [
      "/homedir/eco/sfeng/bigdata/python/miniconda3/lib/python3.6/site-packages/ipykernel_launcher.py:14: SettingWithCopyWarning: \n",
      "A value is trying to be set on a copy of a slice from a DataFrame.\n",
      "Try using .loc[row_indexer,col_indexer] = value instead\n",
      "\n",
      "See the caveats in the documentation: http://pandas.pydata.org/pandas-docs/stable/indexing.html#indexing-view-versus-copy\n",
      "  \n"
     ]
    }
   ],
   "source": [
    "# %%time\n",
    "for k in [\"naics_name\", \"primclass\"]:\n",
    "    if k == \"naics_name\":\n",
    "        prel = pn\n",
    "    else:\n",
    "        prel = ppc\n",
    "    png = prel[[\"patent\", \"appyear\", k]].groupby([\"appyear\", k])\n",
    "    tpg = tp2.groupby(k)\n",
    "    psamp = pd.DataFrame()\n",
    "    for m,g in png:\n",
    "        try:\n",
    "            o = tpg.get_group(m[1])\n",
    "            g = g.loc[~g[\"patent\"].isin(o[\"tp\"])].copy()\n",
    "            o[\"op\"] = g.sample(n = len(o), replace=True)[\"patent\"].tolist()\n",
    "            psamp = psamp.append(o, ignore_index=True)\n",
    "        except Exception:\n",
    "            pass\n",
    "    psamp.to_pickle(\"DataStore/2018-07-P2/Software/software_{0}_0720.pkl\".format(k))"
   ]
  },
  {
   "cell_type": "code",
   "execution_count": 23,
   "metadata": {},
   "outputs": [
    {
     "data": {
      "text/html": [
       "<div>\n",
       "<style scoped>\n",
       "    .dataframe tbody tr th:only-of-type {\n",
       "        vertical-align: middle;\n",
       "    }\n",
       "\n",
       "    .dataframe tbody tr th {\n",
       "        vertical-align: top;\n",
       "    }\n",
       "\n",
       "    .dataframe thead th {\n",
       "        text-align: right;\n",
       "    }\n",
       "</style>\n",
       "<table border=\"1\" class=\"dataframe\">\n",
       "  <thead>\n",
       "    <tr style=\"text-align: right;\">\n",
       "      <th></th>\n",
       "      <th>primclass</th>\n",
       "      <th>naics_name</th>\n",
       "      <th>appyear</th>\n",
       "      <th>group</th>\n",
       "      <th>tp</th>\n",
       "      <th>op</th>\n",
       "    </tr>\n",
       "  </thead>\n",
       "  <tbody>\n",
       "    <tr>\n",
       "      <th>0</th>\n",
       "      <td>1.0</td>\n",
       "      <td>Other Miscellaneous</td>\n",
       "      <td>1995.0</td>\n",
       "      <td>new_software</td>\n",
       "      <td>5550971</td>\n",
       "      <td>5761493</td>\n",
       "    </tr>\n",
       "    <tr>\n",
       "      <th>1</th>\n",
       "      <td>1.0</td>\n",
       "      <td>Other Miscellaneous</td>\n",
       "      <td>1995.0</td>\n",
       "      <td>new_software</td>\n",
       "      <td>5551028</td>\n",
       "      <td>5761493</td>\n",
       "    </tr>\n",
       "    <tr>\n",
       "      <th>2</th>\n",
       "      <td>1.0</td>\n",
       "      <td>Other Miscellaneous</td>\n",
       "      <td>1995.0</td>\n",
       "      <td>new_software</td>\n",
       "      <td>5634056</td>\n",
       "      <td>5369761</td>\n",
       "    </tr>\n",
       "    <tr>\n",
       "      <th>3</th>\n",
       "      <td>1.0</td>\n",
       "      <td>Other Miscellaneous</td>\n",
       "      <td>1995.0</td>\n",
       "      <td>new_software</td>\n",
       "      <td>5659732</td>\n",
       "      <td>5278954</td>\n",
       "    </tr>\n",
       "    <tr>\n",
       "      <th>4</th>\n",
       "      <td>1.0</td>\n",
       "      <td>Other Miscellaneous</td>\n",
       "      <td>1996.0</td>\n",
       "      <td>new_software</td>\n",
       "      <td>5675780</td>\n",
       "      <td>5251314</td>\n",
       "    </tr>\n",
       "  </tbody>\n",
       "</table>\n",
       "</div>"
      ],
      "text/plain": [
       "   primclass           naics_name  appyear         group       tp       op\n",
       "0        1.0  Other Miscellaneous   1995.0  new_software  5550971  5761493\n",
       "1        1.0  Other Miscellaneous   1995.0  new_software  5551028  5761493\n",
       "2        1.0  Other Miscellaneous   1995.0  new_software  5634056  5369761\n",
       "3        1.0  Other Miscellaneous   1995.0  new_software  5659732  5278954\n",
       "4        1.0  Other Miscellaneous   1996.0  new_software  5675780  5251314"
      ]
     },
     "execution_count": 23,
     "metadata": {},
     "output_type": "execute_result"
    }
   ],
   "source": [
    "psamp.head()"
   ]
  },
  {
   "cell_type": "markdown",
   "metadata": {},
   "source": [
    "### 2.2 Second sample\n",
    "- Compare similarity of patents in software primclass (sw_primclass) 1993-1994 to other patents in same NAICS and primary class, to similarity of patents *not* in software primclass but in software naics"
   ]
  },
  {
   "cell_type": "code",
   "execution_count": 24,
   "metadata": {},
   "outputs": [],
   "source": [
    "ptreat = ppc.loc[ppc[\"appyear\"].isin([1993,1994])].sample(frac=0.5)[[\"patent\", \"naics_name\", \"primclass\", \"appyear\"]]\n",
    "ptreat[\"group\"] = \"software\"\n",
    "pcont = pn.loc[pn[\"appyear\"].isin([1993,1994]) & ~(pn[\"primclass\"].isin(sw_pc.index))].sample(frac=0.01)[[\"patent\", \"naics_name\", \"primclass\", \"appyear\"]]\n",
    "pcont[\"group\"] = \"non-software\""
   ]
  },
  {
   "cell_type": "code",
   "execution_count": 25,
   "metadata": {},
   "outputs": [
    {
     "data": {
      "text/plain": [
       "114810"
      ]
     },
     "execution_count": 25,
     "metadata": {},
     "output_type": "execute_result"
    }
   ],
   "source": [
    "# Times 10\n",
    "tp2 = pd.DataFrame()\n",
    "for i in range(10):\n",
    "    tp2 = tp2.append(ptreat, ignore_index=True)\n",
    "    tp2 = tp2.append(pcont)\n",
    "tp2[\"tp\"] = tp2[\"patent\"]\n",
    "tp2 = tp2.drop(\"patent\",1)\n",
    "len(tp2)"
   ]
  },
  {
   "cell_type": "code",
   "execution_count": 29,
   "metadata": {},
   "outputs": [
    {
     "name": "stderr",
     "output_type": "stream",
     "text": [
      "/homedir/eco/sfeng/bigdata/python/miniconda3/lib/python3.6/site-packages/ipykernel_launcher.py:14: SettingWithCopyWarning: \n",
      "A value is trying to be set on a copy of a slice from a DataFrame.\n",
      "Try using .loc[row_indexer,col_indexer] = value instead\n",
      "\n",
      "See the caveats in the documentation: http://pandas.pydata.org/pandas-docs/stable/indexing.html#indexing-view-versus-copy\n",
      "  \n"
     ]
    }
   ],
   "source": [
    "# %%time\n",
    "for k in [\"naics_name\", \"primclass\"]:\n",
    "    if k == \"naics_name\":\n",
    "        prel = pn\n",
    "    else:\n",
    "        prel = ppc\n",
    "    png = prel[[\"patent\", \"appyear\", k]].groupby([\"appyear\", k])\n",
    "    tpg = tp2.groupby(k)\n",
    "    psamp = pd.DataFrame()\n",
    "    for m,g in png:\n",
    "        try:\n",
    "            o = tpg.get_group(m[1])\n",
    "            g = g.loc[~g[\"patent\"].isin(o[\"tp\"])].copy()\n",
    "            o[\"op\"] = g.sample(n = len(o), replace=True)[\"patent\"].tolist()\n",
    "            psamp = psamp.append(o, ignore_index=True)\n",
    "        except Exception:\n",
    "            pass\n",
    "    psamp.to_pickle(\"DataStore/2018-07-P2/Software/software_pc_{0}_0720.pkl\".format(k))"
   ]
  },
  {
   "cell_type": "code",
   "execution_count": 30,
   "metadata": {},
   "outputs": [
    {
     "data": {
      "text/plain": [
       "0          software\n",
       "1          software\n",
       "2          software\n",
       "3          software\n",
       "4          software\n",
       "5          software\n",
       "6          software\n",
       "7          software\n",
       "8          software\n",
       "9          software\n",
       "10         software\n",
       "11         software\n",
       "12         software\n",
       "13         software\n",
       "14         software\n",
       "15         software\n",
       "16         software\n",
       "17         software\n",
       "18         software\n",
       "19         software\n",
       "20         software\n",
       "21         software\n",
       "22         software\n",
       "23         software\n",
       "24         software\n",
       "25         software\n",
       "26         software\n",
       "27         software\n",
       "28         software\n",
       "29         software\n",
       "             ...   \n",
       "1767490    software\n",
       "1767491    software\n",
       "1767492    software\n",
       "1767493    software\n",
       "1767494    software\n",
       "1767495    software\n",
       "1767496    software\n",
       "1767497    software\n",
       "1767498    software\n",
       "1767499    software\n",
       "1767500    software\n",
       "1767501    software\n",
       "1767502    software\n",
       "1767503    software\n",
       "1767504    software\n",
       "1767505    software\n",
       "1767506    software\n",
       "1767507    software\n",
       "1767508    software\n",
       "1767509    software\n",
       "1767510    software\n",
       "1767511    software\n",
       "1767512    software\n",
       "1767513    software\n",
       "1767514    software\n",
       "1767515    software\n",
       "1767516    software\n",
       "1767517    software\n",
       "1767518    software\n",
       "1767519    software\n",
       "Name: group, Length: 1767520, dtype: object"
      ]
     },
     "execution_count": 30,
     "metadata": {},
     "output_type": "execute_result"
    }
   ],
   "source": [
    "psamp[\"group\"]"
   ]
  },
  {
   "cell_type": "code",
   "execution_count": null,
   "metadata": {},
   "outputs": [],
   "source": []
  }
 ],
 "metadata": {
  "hide_input": false,
  "kernelspec": {
   "display_name": "Python 3",
   "language": "python",
   "name": "python3"
  },
  "language_info": {
   "codemirror_mode": {
    "name": "ipython",
    "version": 3
   },
   "file_extension": ".py",
   "mimetype": "text/x-python",
   "name": "python",
   "nbconvert_exporter": "python",
   "pygments_lexer": "ipython3",
   "version": "3.6.5"
  }
 },
 "nbformat": 4,
 "nbformat_minor": 2
}
