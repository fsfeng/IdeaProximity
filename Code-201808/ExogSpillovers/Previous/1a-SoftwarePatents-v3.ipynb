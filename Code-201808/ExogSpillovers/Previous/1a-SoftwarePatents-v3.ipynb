{
 "cells": [
  {
   "cell_type": "code",
   "execution_count": 1,
   "metadata": {},
   "outputs": [
    {
     "name": "stderr",
     "output_type": "stream",
     "text": [
      "/homedir/eco/sfeng/bigdata/python/miniconda3/lib/python3.6/site-packages/statsmodels/compat/pandas.py:56: FutureWarning: The pandas.core.datetools module is deprecated and will be removed in a future version. Please use the pandas.tseries module instead.\n",
      "  from pandas.core import datetools\n"
     ]
    }
   ],
   "source": [
    "import scipy as sp\n",
    "import numpy as np\n",
    "import pandas as pd\n",
    "import timeit\n",
    "import re\n",
    "import json\n",
    "import pickle\n",
    "import fastparquet\n",
    "import os\n",
    "os.chdir('/mnt/t48/bighomes-active/sfeng/patentdiffusion/')\n",
    "seed = 3\n",
    "import seaborn as sns\n",
    "import matplotlib\n",
    "import matplotlib.pyplot as plt\n",
    "from sklearn.preprocessing import StandardScaler\n",
    "scaler = StandardScaler()\n",
    "import datetime\n",
    "import statsmodels.api as sm\n",
    "import statsmodels.formula.api as smf\n",
    "import statsmodels.iolib.summary2 as summary2"
   ]
  },
  {
   "cell_type": "markdown",
   "metadata": {},
   "source": [
    "## Software patents\n",
    "1. Get all software patents\n",
    "2. Sample within Computers; indicate whether the *tp* or *op* is a software patent\n",
    "\n",
    "Code mostly taken from https://sfengc7.stern.nyu.edu:8888/notebooks/patentdiffusion/Results/Regressions/1-NewSample.ipynb"
   ]
  },
  {
   "cell_type": "code",
   "execution_count": 2,
   "metadata": {},
   "outputs": [
    {
     "name": "stdout",
     "output_type": "stream",
     "text": [
      "2575725\n",
      "28249\n",
      "28249\n"
     ]
    }
   ],
   "source": [
    "# 1. Software in abstract\n",
    "pabs = fastparquet.ParquetFile(\"RawData/Cleaned/patabs7615_us_no_dup.parq\").to_pandas()\n",
    "print(len(pabs))\n",
    "pabs = pabs.loc[pabs[\"abs_stemmed\"].str.contains('software|softwar', regex=True)]\n",
    "print(len(pabs))\n",
    "sw_pats = pabs[\"patent\"]\n",
    "print(len(sw_pats))\n",
    "sw_pats.to_pickle(\"DataStore/2018-07-P2/sw_pats.pkl\")\n",
    "# del(pabs)"
   ]
  },
  {
   "cell_type": "code",
   "execution_count": 3,
   "metadata": {},
   "outputs": [
    {
     "name": "stdout",
     "output_type": "stream",
     "text": [
      "2523739\n",
      "2220706\n",
      "2002788\n"
     ]
    }
   ],
   "source": [
    "# Load data\n",
    "pdf = fastparquet.ParquetFile(\"RawData/Cleaned/patent_loc_unique_us_0628.parq\").to_pandas()\n",
    "print(len(pdf))\n",
    "pdf = pdf.drop_duplicates(\"patent\")\n",
    "# Remove actual duplicates\n",
    "dup_pats = pd.read_pickle(\"RawData/Cleaned/duplicate_pattext_0712.pkl\")\n",
    "pdf = pdf.loc[~(pdf[\"patent\"].isin(dup_pats))]\n",
    "print(len(pdf))\n",
    "# Check that I have vector data for them\n",
    "pabs = fastparquet.ParquetFile(\"RawData/Cleaned/patabs7615_us_no_dup.parq\").to_pandas([\"patent\"])[\"patent\"].tolist()\n",
    "pdf = pdf.loc[pdf[\"patent\"].isin(pabs)]\n",
    "print(len(pdf))\n",
    "del(dup_pats, pabs)"
   ]
  },
  {
   "cell_type": "code",
   "execution_count": null,
   "metadata": {},
   "outputs": [
    {
     "name": "stdout",
     "output_type": "stream",
     "text": [
      "1521233\n"
     ]
    }
   ],
   "source": [
    "def get_year_group(x):\n",
    "    if x in range(1975,1980):\n",
    "        yg = \"1975-80\"\n",
    "    elif x in range(1980,1985):\n",
    "        yg = \"1980-85\"\n",
    "    elif x in range(1985, 1990):\n",
    "        yg = \"1985-90\"\n",
    "    elif x in range(1990,1995):\n",
    "        yg = \"1990-95\"\n",
    "    elif x in range(1995,2000):\n",
    "        yg = \"1995-00\"\n",
    "    elif x in range(2000,2005):\n",
    "        yg = \"2000-05\"\n",
    "    elif x in range(2005,2010):\n",
    "        yg = \"2005-10\"\n",
    "    elif x in range(2010, 2015):\n",
    "        yg = \"2010-15\"\n",
    "    else:\n",
    "        yg = np.nan\n",
    "    return yg\n",
    "\n",
    "pdf[\"year_group\"] = pdf[\"appyear\"].apply(get_year_group)\n",
    "# Drop missing columns\n",
    "pdf = pdf.dropna(how=\"any\",subset=[\"appyear\", \"naics_name\", \"primclass\", \"year_group\"])\n",
    "print(len(pdf))"
   ]
  },
  {
   "cell_type": "code",
   "execution_count": null,
   "metadata": {},
   "outputs": [],
   "source": [
    "c = \"naics_name\"\n",
    "k = \"year_group\"\n",
    "asgs = pickle.load(open(\"RawData/Cleaned/patent_assignee_dict_0628.pkl\", \"rb\"))\n",
    "print(c)\n",
    "print(datetime.datetime.now())\n",
    "sw2 = pdf.loc[pdf[\"patent\"].isin(sw_pats), [\"patent\", k]].groupby(k)\n",
    "p2 = pdf.loc[pdf[c].isin([\"Computer and Peripheral Equipment\"]) & (pdf[\"appyear\"] >= 1985)]\n",
    "print(len(p2))\n",
    "pg = p2.groupby(k)\n",
    "ts = pd.DataFrame()\n",
    "for n,g in pg:\n",
    "    s = pd.DataFrame()\n",
    "    samp = list(zip(g.sample(n=len(g)*10, replace=True)[\"patent\"].tolist(),\\\n",
    "                    g.sample(n=len(g)*10, replace=True)[\"patent\"].tolist()))\n",
    "    # Sort in order\n",
    "    samp = [(i,j) if (i<j)==True else (j,i) for (i,j) in samp]\n",
    "    s[\"tp\"] = [i[0] for i in samp]\n",
    "    s[\"op\"] = [i[1] for i in samp]\n",
    "    ts = ts.append(s, ignore_index = True)\n",
    "print(len(ts))\n",
    "    \n",
    "# Check that target and other do not have same assignee\n",
    "%time asg_match = (set(asgs.get(tp, [])).intersection(asgs.get(op, [])) for tp, op in zip(ts[\"tp\"], ts[\"op\"]))\n",
    "%time asg_match = [len(i) for i in asg_match]\n",
    "\n",
    "ts[\"asg_match\"] = asg_match\n",
    "ts = ts.loc[ts[\"asg_match\"] == 0]\n",
    "ts = ts.drop(\"asg_match\",1)\n",
    "print(len(ts))"
   ]
  },
  {
   "cell_type": "code",
   "execution_count": null,
   "metadata": {},
   "outputs": [],
   "source": [
    "print(len(ts.loc[ts[\"tp\"].isin(sw_pats)]))\n",
    "print(len(ts.loc[ts[\"op\"].isin(sw_pats)]))"
   ]
  },
  {
   "cell_type": "code",
   "execution_count": null,
   "metadata": {},
   "outputs": [],
   "source": [
    "ts.to_pickle(\"DataStore/2018-07-P2/Software/computer_sw_samp_0721.pkl\")"
   ]
  },
  {
   "cell_type": "markdown",
   "metadata": {},
   "source": [
    "## 2. Location measures\n",
    "### 2.1. Location distributions of new patents at each year"
   ]
  },
  {
   "cell_type": "code",
   "execution_count": 8,
   "metadata": {},
   "outputs": [],
   "source": [
    "pdf = fastparquet.ParquetFile(\"RawData/Cleaned/patent_loc_unique_us_0628.parq\").to_pandas(\\\n",
    "                                    [\"patent\", \"appyear\", \"gyear\", \"naics_name\", \"primclass\", \"inv_msa\"]).drop_duplicates(\"patent\")\n",
    "sw_pats = pd.read_pickle(\"DataStore/2018-07-P2/sw_pats.pkl\")\n",
    "sw_pats = pdf.loc[pdf[\"patent\"].isin(sw_pats)]\n",
    "del(pdf)"
   ]
  },
  {
   "cell_type": "code",
   "execution_count": 9,
   "metadata": {},
   "outputs": [
    {
     "name": "stdout",
     "output_type": "stream",
     "text": [
      "31\n"
     ]
    }
   ],
   "source": [
    "yr_min = 1990\n",
    "yr_max = 2005\n",
    "p3 = sw_pats.loc[(sw_pats[\"appyear\"] >= yr_min) & (sw_pats[\"appyear\"] <= yr_max)]\n",
    "ploc = p3[[\"inv_msa\", \"appyear\", \"patent\"]].groupby([\"inv_msa\", \"appyear\"]).count().reset_index()\n",
    "# Only use those places with greater than 10 patents\n",
    "ploc = ploc.loc[ploc[\"patent\"] >= 10]\n",
    "ploc = ploc.pivot(index=\"appyear\", columns=\"inv_msa\", values=\"patent\").fillna(0)\n",
    "\n",
    "# Get proportions\n",
    "ploc = ploc.apply(lambda x: x/x.sum(), axis=1)\n",
    "\n",
    "# Get number of cities\n",
    "print(len(ploc.columns))"
   ]
  },
  {
   "cell_type": "code",
   "execution_count": 11,
   "metadata": {},
   "outputs": [],
   "source": [
    "sim = 1-sp.spatial.distance.cdist(ploc.values,ploc.values,metric=\"cosine\")\n",
    "# Make dataframe\n",
    "sim = pd.DataFrame(sim, columns=list(range(yr_min,yr_max+1)), index=list(range(yr_min,yr_max+1))).unstack().reset_index()\n",
    "sim.columns=[\"appyear1\", \"appyear2\", \"sim_location\"]\n",
    "sim[\"lag\"] = sim[\"appyear2\"]-sim[\"appyear1\"]"
   ]
  },
  {
   "cell_type": "code",
   "execution_count": 12,
   "metadata": {},
   "outputs": [],
   "source": [
    "# Timeline of lag1\n",
    "sim1 = sim.loc[sim[\"lag\"] == 1, [\"appyear1\", \"sim_location\"]].set_index(\"appyear1\")"
   ]
  },
  {
   "cell_type": "code",
   "execution_count": 13,
   "metadata": {},
   "outputs": [
    {
     "data": {
      "text/plain": [
       "<matplotlib.axes._subplots.AxesSubplot at 0x7faba7f8d470>"
      ]
     },
     "execution_count": 13,
     "metadata": {},
     "output_type": "execute_result"
    },
    {
     "data": {
      "image/png": "[encoded data removed]",
      "text/plain": [
       "<Figure size 432x288 with 1 Axes>"
      ]
     },
     "metadata": {},
     "output_type": "display_data"
    }
   ],
   "source": [
    "%matplotlib inline\n",
    "# Plot\n",
    "sim1.plot.line()"
   ]
  },
  {
   "cell_type": "markdown",
   "metadata": {},
   "source": [
    "### 2.2 HHI"
   ]
  },
  {
   "cell_type": "code",
   "execution_count": 14,
   "metadata": {},
   "outputs": [],
   "source": [
    "hhi = pd.Series(np.sum(ploc.values**2,axis=1), index = list(range(yr_min,yr_max+1)))"
   ]
  },
  {
   "cell_type": "code",
   "execution_count": 15,
   "metadata": {},
   "outputs": [
    {
     "data": {
      "text/plain": [
       "<matplotlib.axes._subplots.AxesSubplot at 0x7faba7f8a198>"
      ]
     },
     "execution_count": 15,
     "metadata": {},
     "output_type": "execute_result"
    },
    {
     "data": {
      "image/png": "[encoded data removed]",
      "text/plain": [
       "<Figure size 432x288 with 1 Axes>"
      ]
     },
     "metadata": {},
     "output_type": "display_data"
    }
   ],
   "source": [
    "%matplotlib inline\n",
    "# Plot\n",
    "hhi.plot.line()"
   ]
  },
  {
   "cell_type": "code",
   "execution_count": null,
   "metadata": {},
   "outputs": [],
   "source": []
  }
 ],
 "metadata": {
  "hide_input": false,
  "kernelspec": {
   "display_name": "Python 3",
   "language": "python",
   "name": "python3"
  },
  "language_info": {
   "codemirror_mode": {
    "name": "ipython",
    "version": 3
   },
   "file_extension": ".py",
   "mimetype": "text/x-python",
   "name": "python",
   "nbconvert_exporter": "python",
   "pygments_lexer": "ipython3",
   "version": "3.6.5"
  }
 },
 "nbformat": 4,
 "nbformat_minor": 2
}
