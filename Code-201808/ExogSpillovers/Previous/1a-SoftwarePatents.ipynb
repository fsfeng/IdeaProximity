{
 "cells": [
  {
   "cell_type": "code",
   "execution_count": 1,
   "metadata": {},
   "outputs": [
    {
     "name": "stderr",
     "output_type": "stream",
     "text": [
      "/homedir/eco/sfeng/bigdata/python/miniconda3/lib/python3.6/site-packages/statsmodels/compat/pandas.py:56: FutureWarning: The pandas.core.datetools module is deprecated and will be removed in a future version. Please use the pandas.tseries module instead.\n",
      "  from pandas.core import datetools\n"
     ]
    }
   ],
   "source": [
    "import scipy as sp\n",
    "import numpy as np\n",
    "import pandas as pd\n",
    "import timeit\n",
    "import re\n",
    "import json\n",
    "import pickle\n",
    "import fastparquet\n",
    "import os\n",
    "os.chdir('/mnt/t48/bighomes-active/sfeng/patentdiffusion/')\n",
    "seed = 3\n",
    "import seaborn as sns\n",
    "import matplotlib\n",
    "import matplotlib.pyplot as plt\n",
    "from sklearn.preprocessing import StandardScaler\n",
    "scaler = StandardScaler()\n",
    "import datetime\n",
    "import statsmodels.api as sm\n",
    "import statsmodels.formula.api as smf\n",
    "import statsmodels.iolib.summary2 as summary2"
   ]
  },
  {
   "cell_type": "markdown",
   "metadata": {},
   "source": [
    "## Exogenous introduction of new knowledge and effect on spillovers\n",
    "\n",
    "1. Find primary classes with \"software\" in title\n",
    "2. Merge patent with unique assignees\n",
    "3. Get new firms that applied for patents for the first time in 1995-1996 (In re Alappat, July 1994 - see Hall & MacGarvie) in primary classes from 1\n",
    "4. Get existing patents in primary classes from 1 applied for at same time\n",
    "5. Get sample of other patents applied for 1985-2005: PRIOR patents; 1985-1995: POST patents 1995-2005. NOTE: this includes Dotcom bubble burst of 2000.\n",
    "6. Get similarity calculations for all pairs for within NAICS sample\n",
    "\n",
    "### Spillover measures\n",
    "\n",
    "1. Measure similarity for both samples (a) within NAICS - all; (b) within primary class over time\n",
    "    - Expectation: Lower for new firm patents and then higher after 2001. Higher for existing firm patents and then lower after 2001.\n",
    "2. Measure localization for sample (a) within NAICS - all; (b) within primary class over time\n",
    "    - Expectation: Decline in localization 1999-2000, increase after, then fall\n",
    "    \n",
    "### Location measures\n",
    "For each primary class plus NAICS, get distribution over locations for each year\n",
    "1. HHI index of location concentration time series\n",
    "2. Cosine similarity of location distributions over time"
   ]
  },
  {
   "cell_type": "code",
   "execution_count": 28,
   "metadata": {},
   "outputs": [],
   "source": [
    "# Merge patent with application year\n",
    "# pdf = fastparquet.ParquetFile(\"RawData/Cleaned/patent_loc_unique_us_0628.parq\").to_pandas()\n",
    "# print(len(pdf))\n",
    "# p2 = pd.read_pickle(\"RawData/HBSPatData/invpat_us_7509_loc_unique.pkl\")[[\"patent\", \"appyear\"]]\n",
    "# pdf = pdf.merge(p2, how = \"left\", on = \"patent\")\n",
    "# print(len(pdf))\n",
    "# fastparquet.write(\"RawData/Cleaned/patent_loc_unique_us_0628.parq\", pdf, compression=\"GZIP\")"
   ]
  },
  {
   "cell_type": "code",
   "execution_count": 44,
   "metadata": {},
   "outputs": [
    {
     "name": "stderr",
     "output_type": "stream",
     "text": [
      "/homedir/eco/sfeng/bigdata/python/miniconda3/lib/python3.6/site-packages/IPython/core/interactiveshell.py:2785: DtypeWarning: Columns (1) have mixed types. Specify dtype option on import or set low_memory=False.\n",
      "  interactivity=interactivity, compiler=compiler, result=result)\n"
     ]
    }
   ],
   "source": [
    "pdf = fastparquet.ParquetFile(\"RawData/Cleaned/patent_loc_unique_us_0628.parq\").to_pandas()\n",
    "asg = fastparquet.ParquetFile(\"RawData/Cleaned/patent_assignees_unique_0628.parq\").to_pandas()\n",
    "pc = pd.read_table(\"RawData/PatentView/uspc_current.tsv\")"
   ]
  },
  {
   "cell_type": "code",
   "execution_count": 16,
   "metadata": {},
   "outputs": [
    {
     "data": {
      "text/html": [
       "<div>\n",
       "<style scoped>\n",
       "    .dataframe tbody tr th:only-of-type {\n",
       "        vertical-align: middle;\n",
       "    }\n",
       "\n",
       "    .dataframe tbody tr th {\n",
       "        vertical-align: top;\n",
       "    }\n",
       "\n",
       "    .dataframe thead th {\n",
       "        text-align: right;\n",
       "    }\n",
       "</style>\n",
       "<table border=\"1\" class=\"dataframe\">\n",
       "  <thead>\n",
       "    <tr style=\"text-align: right;\">\n",
       "      <th></th>\n",
       "      <th>id</th>\n",
       "      <th>title</th>\n",
       "    </tr>\n",
       "  </thead>\n",
       "  <tbody>\n",
       "    <tr>\n",
       "      <th>403</th>\n",
       "      <td>700</td>\n",
       "      <td>DATA PROCESSING:  GENERIC CONTROL SYSTEMS OR S...</td>\n",
       "    </tr>\n",
       "    <tr>\n",
       "      <th>406</th>\n",
       "      <td>703</td>\n",
       "      <td>DATA PROCESSING:  STRUCTURAL DESIGN, MODELING,...</td>\n",
       "    </tr>\n",
       "    <tr>\n",
       "      <th>407</th>\n",
       "      <td>704</td>\n",
       "      <td>DATA PROCESSING: SPEECH SIGNAL PROCESSING, LIN...</td>\n",
       "    </tr>\n",
       "    <tr>\n",
       "      <th>408</th>\n",
       "      <td>705</td>\n",
       "      <td>DATA PROCESSING: FINANCIAL, BUSINESS PRACTICE,...</td>\n",
       "    </tr>\n",
       "    <tr>\n",
       "      <th>409</th>\n",
       "      <td>706</td>\n",
       "      <td>DATA PROCESSING: ARTIFICIAL INTELLIGENCE</td>\n",
       "    </tr>\n",
       "    <tr>\n",
       "      <th>410</th>\n",
       "      <td>707</td>\n",
       "      <td>DATA PROCESSING:  DATABASE AND FILE MANAGEMENT...</td>\n",
       "    </tr>\n",
       "    <tr>\n",
       "      <th>414</th>\n",
       "      <td>710</td>\n",
       "      <td>ELECTRICAL COMPUTERS AND DIGITAL DATA PROCESSI...</td>\n",
       "    </tr>\n",
       "    <tr>\n",
       "      <th>419</th>\n",
       "      <td>715</td>\n",
       "      <td>DATA PROCESSING:  PRESENTATION PROCESSING OF D...</td>\n",
       "    </tr>\n",
       "    <tr>\n",
       "      <th>421</th>\n",
       "      <td>717</td>\n",
       "      <td>DATA PROCESSING: SOFTWARE DEVELOPMENT, INSTALL...</td>\n",
       "    </tr>\n",
       "  </tbody>\n",
       "</table>\n",
       "</div>"
      ],
      "text/plain": [
       "      id                                              title\n",
       "403  700  DATA PROCESSING:  GENERIC CONTROL SYSTEMS OR S...\n",
       "406  703  DATA PROCESSING:  STRUCTURAL DESIGN, MODELING,...\n",
       "407  704  DATA PROCESSING: SPEECH SIGNAL PROCESSING, LIN...\n",
       "408  705  DATA PROCESSING: FINANCIAL, BUSINESS PRACTICE,...\n",
       "409  706           DATA PROCESSING: ARTIFICIAL INTELLIGENCE\n",
       "410  707  DATA PROCESSING:  DATABASE AND FILE MANAGEMENT...\n",
       "414  710  ELECTRICAL COMPUTERS AND DIGITAL DATA PROCESSI...\n",
       "419  715  DATA PROCESSING:  PRESENTATION PROCESSING OF D...\n",
       "421  717  DATA PROCESSING: SOFTWARE DEVELOPMENT, INSTALL..."
      ]
     },
     "metadata": {},
     "output_type": "display_data"
    }
   ],
   "source": [
    "# 1. Software/Data processing primary classes\n",
    "pc = pd.read_table(\"RawData/PatentView/mainclass_current.tsv\")\n",
    "pc = pc.dropna(how=\"any\")\n",
    "spc = pc.loc[pc[\"title\"].apply(lambda x: \"DATA PROCESSING\" in x)].copy()\n",
    "spc[\"id\"] = spc[\"id\"].astype(int)\n",
    "spc = spc.loc[~spc[\"id\"].isin([701,702])]\n",
    "# Drop navigational: 701, 702\n",
    "display(spc)"
   ]
  },
  {
   "cell_type": "code",
   "execution_count": 45,
   "metadata": {},
   "outputs": [
    {
     "data": {
      "text/plain": [
       "1964.0       1\n",
       "1970.0       2\n",
       "1971.0       7\n",
       "1972.0      14\n",
       "1973.0      37\n",
       "1974.0      91\n",
       "1975.0     126\n",
       "1976.0     134\n",
       "1977.0     156\n",
       "1978.0     179\n",
       "1979.0     181\n",
       "1980.0     259\n",
       "1981.0     253\n",
       "1982.0     257\n",
       "1983.0     275\n",
       "1984.0     300\n",
       "1985.0     271\n",
       "1986.0     360\n",
       "1987.0     443\n",
       "1988.0     444\n",
       "1989.0     642\n",
       "1990.0     686\n",
       "1991.0     738\n",
       "1992.0     967\n",
       "1993.0    1100\n",
       "1994.0    1559\n",
       "1995.0    2327\n",
       "1996.0    2755\n",
       "1997.0    3455\n",
       "1998.0    3738\n",
       "1999.0    4075\n",
       "2000.0    4711\n",
       "2001.0    4755\n",
       "2002.0    4260\n",
       "2003.0    4078\n",
       "2004.0    3921\n",
       "2005.0    3719\n",
       "2006.0    3214\n",
       "2007.0    2302\n",
       "2008.0     813\n",
       "2009.0     209\n",
       "Name: appyear, dtype: int64"
      ]
     },
     "metadata": {},
     "output_type": "display_data"
    }
   ],
   "source": [
    "# 2. Get pdf with primclass in these fields\n",
    "p2 = pdf.loc[pdf[\"primclass\"].isin(spc[\"id\"])].copy()\n",
    "del(pdf)\n",
    "\n",
    "pts = p2[\"appyear\"].value_counts().sort_index()\n",
    "display(pts)"
   ]
  },
  {
   "cell_type": "code",
   "execution_count": 130,
   "metadata": {},
   "outputs": [
    {
     "data": {
      "image/png": "[encoded data removed]",
      "text/plain": [
       "<Figure size 432x288 with 1 Axes>"
      ]
     },
     "metadata": {},
     "output_type": "display_data"
    },
    {
     "data": {
      "image/png": "[encoded data removed]",
      "text/plain": [
       "<Figure size 432x288 with 1 Axes>"
      ]
     },
     "metadata": {},
     "output_type": "display_data"
    },
    {
     "data": {
      "image/png": "[encoded data removed]",
      "text/plain": [
       "<Figure size 432x288 with 1 Axes>"
      ]
     },
     "metadata": {},
     "output_type": "display_data"
    }
   ],
   "source": [
    "%matplotlib inline\n",
    "pts.plot.line()\n",
    "plt.show()\n",
    "pts.diff().plot.line()\n",
    "plt.show()\n",
    "pts.pct_change().plot.line()\n",
    "plt.show()"
   ]
  },
  {
   "cell_type": "code",
   "execution_count": 18,
   "metadata": {},
   "outputs": [
    {
     "data": {
      "text/plain": [
       "Computer and Peripheral Equipment    112198\n",
       "Name: naics_name, dtype: int64"
      ]
     },
     "execution_count": 18,
     "metadata": {},
     "output_type": "execute_result"
    }
   ],
   "source": [
    "# 3. NAICS\n",
    "p2[\"naics_name\"].value_counts()"
   ]
  },
  {
   "cell_type": "code",
   "execution_count": 47,
   "metadata": {},
   "outputs": [],
   "source": [
    "# 4. Merge with assignees\n",
    "p2 = p2.merge(asg, how = \"left\", on = \"patent\")\n",
    "del(asg)\n",
    "\n",
    "# 5. Drop duplicate assignees\n",
    "s_asg = p2[[\"assignee_id\", \"appyear\"]].drop_duplicates(\"assignee_id\", keep=\"first\")\n",
    "\n",
    "# 6. Number of first assignees by year\n",
    "sts = s_asg[\"appyear\"].value_counts().sort_index()"
   ]
  },
  {
   "cell_type": "code",
   "execution_count": 40,
   "metadata": {},
   "outputs": [
    {
     "data": {
      "image/png": "[encoded data removed]",
      "text/plain": [
       "<Figure size 432x288 with 1 Axes>"
      ]
     },
     "metadata": {},
     "output_type": "display_data"
    },
    {
     "data": {
      "image/png": "[encoded data removed]",
      "text/plain": [
       "<Figure size 432x288 with 1 Axes>"
      ]
     },
     "metadata": {},
     "output_type": "display_data"
    }
   ],
   "source": [
    "%matplotlib inline\n",
    "sts.plot.line()\n",
    "plt.show()\n",
    "sts.diff().plot.line()\n",
    "plt.show()"
   ]
  },
  {
   "cell_type": "markdown",
   "metadata": {},
   "source": [
    "## 1. Location measures\n",
    "### 1.1. Location distributions of new patents at each year"
   ]
  },
  {
   "cell_type": "code",
   "execution_count": 115,
   "metadata": {},
   "outputs": [
    {
     "name": "stdout",
     "output_type": "stream",
     "text": [
      "42\n"
     ]
    }
   ],
   "source": [
    "p3 = p2.loc[(p2[\"appyear\"] >= 1985) & (p2[\"appyear\"] <= 2005)]\n",
    "ploc = p3[[\"inv_msa\", \"appyear\", \"patent\"]].groupby([\"inv_msa\", \"appyear\"]).count().reset_index()\n",
    "# Only use those places with greater than 10 patents\n",
    "ploc = ploc.loc[ploc[\"patent\"] >= 20]\n",
    "ploc = ploc.pivot(index=\"appyear\", columns=\"inv_msa\", values=\"patent\").fillna(0)\n",
    "\n",
    "# Get proportions\n",
    "ploc = ploc.apply(lambda x: x/x.sum(), axis=1)\n",
    "\n",
    "# Get number of cities\n",
    "print(len(ploc.columns))"
   ]
  },
  {
   "cell_type": "code",
   "execution_count": 116,
   "metadata": {},
   "outputs": [],
   "source": [
    "sim = 1-sp.spatial.distance.cdist(ploc.values,ploc.values,metric=\"cosine\")\n",
    "# Make dataframe\n",
    "sim = pd.DataFrame(sim, columns=list(range(1985,2006)), index=list(range(1985,2006))).unstack().reset_index()\n",
    "sim.columns=[\"appyear1\", \"appyear2\", \"sim_location\"]\n",
    "sim[\"lag\"] = sim[\"appyear2\"]-sim[\"appyear1\"]"
   ]
  },
  {
   "cell_type": "code",
   "execution_count": 117,
   "metadata": {},
   "outputs": [],
   "source": [
    "# Timeline of lag1\n",
    "sim1 = sim.loc[sim[\"lag\"] == 1, [\"appyear1\", \"sim_location\"]].set_index(\"appyear1\")"
   ]
  },
  {
   "cell_type": "code",
   "execution_count": 118,
   "metadata": {},
   "outputs": [
    {
     "data": {
      "text/plain": [
       "<matplotlib.axes._subplots.AxesSubplot at 0x7f3c1c21c278>"
      ]
     },
     "execution_count": 118,
     "metadata": {},
     "output_type": "execute_result"
    },
    {
     "data": {
      "image/png": "[encoded data removed]",
      "text/plain": [
       "<Figure size 432x288 with 1 Axes>"
      ]
     },
     "metadata": {},
     "output_type": "display_data"
    }
   ],
   "source": [
    "%matplotlib inline\n",
    "# Plot\n",
    "sim1.plot.line()"
   ]
  },
  {
   "cell_type": "code",
   "execution_count": 119,
   "metadata": {},
   "outputs": [],
   "source": [
    "# Similarity to distribution at 1995 over time\n",
    "sim2 = sim.loc[sim[\"appyear1\"] == 1995, [\"lag\", \"sim_location\"]].set_index(\"lag\")"
   ]
  },
  {
   "cell_type": "code",
   "execution_count": 120,
   "metadata": {},
   "outputs": [
    {
     "data": {
      "text/plain": [
       "<matplotlib.axes._subplots.AxesSubplot at 0x7f3b61d535c0>"
      ]
     },
     "execution_count": 120,
     "metadata": {},
     "output_type": "execute_result"
    },
    {
     "data": {
      "image/png": "[encoded data removed]",
      "text/plain": [
       "<Figure size 432x288 with 1 Axes>"
      ]
     },
     "metadata": {},
     "output_type": "display_data"
    }
   ],
   "source": [
    "%matplotlib inline\n",
    "# Plot\n",
    "sim2.plot.line()"
   ]
  },
  {
   "cell_type": "markdown",
   "metadata": {},
   "source": [
    "### 1.2 HHI for each year"
   ]
  },
  {
   "cell_type": "code",
   "execution_count": 121,
   "metadata": {},
   "outputs": [],
   "source": [
    "hhi = pd.Series(np.sum(ploc.values**2,axis=1), index = list(range(1985,2006)))"
   ]
  },
  {
   "cell_type": "code",
   "execution_count": 123,
   "metadata": {},
   "outputs": [
    {
     "data": {
      "text/plain": [
       "<matplotlib.axes._subplots.AxesSubplot at 0x7f3c4b9b7fd0>"
      ]
     },
     "execution_count": 123,
     "metadata": {},
     "output_type": "execute_result"
    },
    {
     "data": {
      "image/png": "[encoded data removed]",
      "text/plain": [
       "<Figure size 432x288 with 1 Axes>"
      ]
     },
     "metadata": {},
     "output_type": "display_data"
    }
   ],
   "source": [
    "%matplotlib inline\n",
    "# Plot\n",
    "hhi.plot.line()"
   ]
  },
  {
   "cell_type": "markdown",
   "metadata": {},
   "source": [
    "## 2. Similarity comparison of new patents 1995-6\n",
    "\n",
    "### 2.1 First sample\n",
    "Sampling procedure:\n",
    "1. Get all new assignee patents 1995-96; get same number of existing assignee patents\n",
    "2. For each patent, for each year: assign one patent from (a) same NAICS; (b) same primclass"
   ]
  },
  {
   "cell_type": "code",
   "execution_count": 135,
   "metadata": {},
   "outputs": [
    {
     "name": "stdout",
     "output_type": "stream",
     "text": [
      "1045\n"
     ]
    }
   ],
   "source": [
    "# 1. Get new assignees 1995-6\n",
    "n_asg = s_asg.loc[s_asg[\"appyear\"].isin([1995,1996]), \"assignee_id\"].tolist()\n",
    "p4 = p3.loc[p3[\"assignee_id\"].isin(n_asg) & p3[\"appyear\"].isin([1995,1996])]\n",
    "print(len(p4))"
   ]
  },
  {
   "cell_type": "code",
   "execution_count": 136,
   "metadata": {},
   "outputs": [
    {
     "name": "stdout",
     "output_type": "stream",
     "text": [
      "4037\n"
     ]
    }
   ],
   "source": [
    "p5 = p3.loc[~p3[\"assignee_id\"].isin(n_asg) & p3[\"appyear\"].isin([1995,1996])]\n",
    "print(len(p5))"
   ]
  },
  {
   "cell_type": "code",
   "execution_count": 152,
   "metadata": {},
   "outputs": [
    {
     "data": {
      "text/plain": [
       "62700"
      ]
     },
     "execution_count": 152,
     "metadata": {},
     "output_type": "execute_result"
    }
   ],
   "source": [
    "# Target patents\n",
    "tp = p4[[\"patent\", \"primclass\", \"appyear\"]].append(p5[[\"patent\", \"primclass\", \"appyear\"]].sample(n=len(p4)))\n",
    "\n",
    "# Times 10\n",
    "tp2 = pd.DataFrame()\n",
    "for i in range(30):\n",
    "    tp2 = tp2.append(tp, ignore_index=True)\n",
    "tp2[\"tp\"] = tp2[\"patent\"]\n",
    "tp2 = tp2.drop(\"patent\",1)\n",
    "len(tp2)"
   ]
  },
  {
   "cell_type": "code",
   "execution_count": 138,
   "metadata": {},
   "outputs": [],
   "source": [
    "# NAICS patents; p3 is primclass patents\n",
    "pdf = fastparquet.ParquetFile(\"RawData/Cleaned/patent_loc_unique_us_0628.parq\").to_pandas()\n",
    "pn = pdf.loc[(pdf[\"appyear\"] >= 1985) & (pdf[\"appyear\"] <= 2005) & (pdf[\"naics_name\"] == \"Computer and Peripheral Equipment\")]\n",
    "del(pdf)"
   ]
  },
  {
   "cell_type": "code",
   "execution_count": 159,
   "metadata": {},
   "outputs": [
    {
     "name": "stdout",
     "output_type": "stream",
     "text": [
      "CPU times: user 401 ms, sys: 29.5 ms, total: 431 ms\n",
      "Wall time: 1.43 s\n"
     ]
    }
   ],
   "source": [
    "%%time\n",
    "#NAICS Sample\n",
    "png = pn[[\"patent\", \"appyear\"]].groupby([\"appyear\"])\n",
    "nsamp = pd.DataFrame()\n",
    "for m,g in png:\n",
    "    o = tp2\n",
    "    g = g.loc[~g[\"patent\"].isin(o[\"tp\"])]\n",
    "    o[\"op\"] = g.sample(n = len(o), replace=True)[\"patent\"].tolist()\n",
    "    nsamp = nsamp.append(o, ignore_index=True)\n",
    "nsamp.to_pickle(\"DataStore/2018-07-P2/Software/software_naics_0720.pkl\")"
   ]
  },
  {
   "cell_type": "code",
   "execution_count": 161,
   "metadata": {},
   "outputs": [
    {
     "name": "stderr",
     "output_type": "stream",
     "text": [
      "/homedir/eco/sfeng/bigdata/python/miniconda3/lib/python3.6/site-packages/ipykernel_launcher.py:8: SettingWithCopyWarning: \n",
      "A value is trying to be set on a copy of a slice from a DataFrame.\n",
      "Try using .loc[row_indexer,col_indexer] = value instead\n",
      "\n",
      "See the caveats in the documentation: http://pandas.pydata.org/pandas-docs/stable/indexing.html#indexing-view-versus-copy\n",
      "  \n"
     ]
    },
    {
     "name": "stdout",
     "output_type": "stream",
     "text": [
      "CPU times: user 11.9 s, sys: 30.4 ms, total: 11.9 s\n",
      "Wall time: 13.2 s\n"
     ]
    }
   ],
   "source": [
    "%%time\n",
    "#Primclass Sample\n",
    "png = p3[[\"patent\", \"appyear\", \"primclass\"]].groupby([\"appyear\", \"primclass\"])\n",
    "tpg = tp2.groupby(\"primclass\")\n",
    "psamp = pd.DataFrame()\n",
    "for m,g in png:\n",
    "    o = tpg.get_group(m[1])\n",
    "    g = g.loc[~g[\"patent\"].isin(o[\"tp\"])]\n",
    "    o[\"op\"] = g.sample(n = len(o), replace=True)[\"patent\"].tolist()\n",
    "    psamp = psamp.append(o, ignore_index=True)\n",
    "psamp.to_pickle(\"DataStore/2018-07-P2/Software/software_primclass_0720.pkl\")"
   ]
  },
  {
   "cell_type": "code",
   "execution_count": 163,
   "metadata": {},
   "outputs": [
    {
     "data": {
      "text/html": [
       "<div>\n",
       "<style scoped>\n",
       "    .dataframe tbody tr th:only-of-type {\n",
       "        vertical-align: middle;\n",
       "    }\n",
       "\n",
       "    .dataframe tbody tr th {\n",
       "        vertical-align: top;\n",
       "    }\n",
       "\n",
       "    .dataframe thead th {\n",
       "        text-align: right;\n",
       "    }\n",
       "</style>\n",
       "<table border=\"1\" class=\"dataframe\">\n",
       "  <thead>\n",
       "    <tr style=\"text-align: right;\">\n",
       "      <th></th>\n",
       "      <th>primclass</th>\n",
       "      <th>appyear</th>\n",
       "      <th>tp</th>\n",
       "      <th>op</th>\n",
       "    </tr>\n",
       "  </thead>\n",
       "  <tbody>\n",
       "    <tr>\n",
       "      <th>0</th>\n",
       "      <td>700.0</td>\n",
       "      <td>1995.0</td>\n",
       "      <td>5495420</td>\n",
       "      <td>4630213</td>\n",
       "    </tr>\n",
       "    <tr>\n",
       "      <th>1</th>\n",
       "      <td>700.0</td>\n",
       "      <td>1995.0</td>\n",
       "      <td>5530962</td>\n",
       "      <td>4581699</td>\n",
       "    </tr>\n",
       "    <tr>\n",
       "      <th>2</th>\n",
       "      <td>700.0</td>\n",
       "      <td>1995.0</td>\n",
       "      <td>5544072</td>\n",
       "      <td>4727471</td>\n",
       "    </tr>\n",
       "    <tr>\n",
       "      <th>3</th>\n",
       "      <td>700.0</td>\n",
       "      <td>1996.0</td>\n",
       "      <td>5563802</td>\n",
       "      <td>4695941</td>\n",
       "    </tr>\n",
       "    <tr>\n",
       "      <th>4</th>\n",
       "      <td>700.0</td>\n",
       "      <td>1995.0</td>\n",
       "      <td>5568399</td>\n",
       "      <td>4729089</td>\n",
       "    </tr>\n",
       "  </tbody>\n",
       "</table>\n",
       "</div>"
      ],
      "text/plain": [
       "   primclass  appyear       tp       op\n",
       "0      700.0   1995.0  5495420  4630213\n",
       "1      700.0   1995.0  5530962  4581699\n",
       "2      700.0   1995.0  5544072  4727471\n",
       "3      700.0   1996.0  5563802  4695941\n",
       "4      700.0   1995.0  5568399  4729089"
      ]
     },
     "execution_count": 163,
     "metadata": {},
     "output_type": "execute_result"
    }
   ],
   "source": [
    "psamp.head()"
   ]
  },
  {
   "cell_type": "markdown",
   "metadata": {},
   "source": [
    "### 2.2 Second sample\n",
    "- Compare software vs 701 & 702 navigational patents"
   ]
  },
  {
   "cell_type": "code",
   "execution_count": 164,
   "metadata": {},
   "outputs": [],
   "source": [
    "# NAICS patents; p3 is primclass patents\n",
    "pdf = fastparquet.ParquetFile(\"RawData/Cleaned/patent_loc_unique_us_0628.parq\").to_pandas()\n",
    "p3 = pdf.loc[pdf[\"primclass\"].isin([701,702])]\n",
    "pn2 = pdf.loc[(pdf[\"appyear\"] >= 1985) & (pdf[\"appyear\"] <= 2005)\\\n",
    "              & (pdf[\"naics_name\"] == \"Navigational, Measuring, Electromedical, and Control Instruments\")]\n",
    "del(pdf)"
   ]
  },
  {
   "cell_type": "code",
   "execution_count": null,
   "metadata": {},
   "outputs": [],
   "source": [
    "tp3 = p3.loc[p3[\"appyear\"].isin([])]"
   ]
  }
 ],
 "metadata": {
  "hide_input": false,
  "kernelspec": {
   "display_name": "Python 3",
   "language": "python",
   "name": "python3"
  },
  "language_info": {
   "codemirror_mode": {
    "name": "ipython",
    "version": 3
   },
   "file_extension": ".py",
   "mimetype": "text/x-python",
   "name": "python",
   "nbconvert_exporter": "python",
   "pygments_lexer": "ipython3",
   "version": "3.6.5"
  }
 },
 "nbformat": 4,
 "nbformat_minor": 2
}
