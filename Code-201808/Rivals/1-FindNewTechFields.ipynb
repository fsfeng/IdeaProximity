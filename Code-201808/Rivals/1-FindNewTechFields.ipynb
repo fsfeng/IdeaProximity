{
 "cells": [
  {
   "cell_type": "code",
   "execution_count": 1,
   "metadata": {
    "collapsed": true
   },
   "outputs": [],
   "source": [
    "import numpy as np\n",
    "import scipy as sp\n",
    "import pandas as pd\n",
    "import timeit\n",
    "import datetime\n",
    "import pprint\n",
    "import itertools\n",
    "import pickle\n",
    "import sklearn\n",
    "import dask\n",
    "import dask.dataframe as dd\n",
    "import dask.array as da\n",
    "import os\n",
    "os.chdir('/mnt/t48/bighomes-active/sfeng/patentdiffusion/')\n",
    "import fastparquet\n",
    "seed = 3\n",
    "import seaborn as sns\n",
    "import matplotlib\n",
    "import matplotlib.pyplot as plt"
   ]
  },
  {
   "cell_type": "markdown",
   "metadata": {},
   "source": [
    "### Find new MSA-technology fields appearing after 1990"
   ]
  },
  {
   "cell_type": "code",
   "execution_count": 2,
   "metadata": {
    "collapsed": true
   },
   "outputs": [],
   "source": [
    "pdf = fastparquet.ParquetFile(\"RawData/Cleaned/patent_loc_unique_us_0628.parq\")\\\n",
    ".to_pandas()\n",
    "dup_pats = pd.read_pickle(\"RawData/Cleaned/duplicate_pattext_0712.pkl\").tolist()\n",
    "# Get relevant US Patents\n",
    "pdf = pdf.loc[~pdf[\"patent\"].isin(dup_pats)]"
   ]
  },
  {
   "cell_type": "code",
   "execution_count": 33,
   "metadata": {},
   "outputs": [
    {
     "name": "stderr",
     "output_type": "stream",
     "text": [
      "/homedir/eco/sfeng/bigdata/python/miniconda3/lib/python3.6/site-packages/ipykernel_launcher.py:14: SettingWithCopyWarning: \n",
      "A value is trying to be set on a copy of a slice from a DataFrame.\n",
      "Try using .loc[row_indexer,col_indexer] = value instead\n",
      "\n",
      "See the caveats in the documentation: http://pandas.pydata.org/pandas-docs/stable/indexing.html#indexing-view-versus-copy\n",
      "  \n"
     ]
    }
   ],
   "source": [
    "# Get number of primary class patents by MSA, and year of their first appearance\n",
    "p2 = pdf.groupby([\"inv_msa\", \"primclass\"]).size()\n",
    "# Only get primary classes with more than 50 patents\n",
    "p2 = p2.loc[p2 >= 50].reset_index().rename(columns={0:\"size\"})\n",
    "# Date of first appearance\n",
    "p3 = pdf[[\"inv_msa\", \"primclass\", \"gyear\"]].sort_values([\"inv_msa\", \"primclass\", \"gyear\"]).drop_duplicates([\"inv_msa\", \"primclass\"])\n",
    "# Merge\n",
    "p2 = p2.merge(p3, how=\"left\", on=[\"inv_msa\", \"primclass\"]).rename(columns={\"gyear\": \"first_gyear\"})\n",
    "\n",
    "# New technology fields after 1990\n",
    "p3 = p2.loc[p2[\"first_gyear\"] >= 1990]\n",
    "\n",
    "# Subfield\n",
    "p3[\"msa_pc\"] = list(zip(p3[\"inv_msa\"], p3[\"primclass\"]))"
   ]
  },
  {
   "cell_type": "markdown",
   "metadata": {},
   "source": [
    "### Find related subfields\n",
    "1. Find related MSA-subfields\n",
    "2. Gather all patents granted within 10 years of new subfield appearing in both new subfield and related subfield"
   ]
  },
  {
   "cell_type": "code",
   "execution_count": 36,
   "metadata": {
    "collapsed": true
   },
   "outputs": [],
   "source": [
    "# Primary class random sample\n",
    "ns = fastparquet.ParquetFile(\"DataStore/2018-07-P2/Reg0726/reg_naics_name_sim_tr_0726.parq\").to_pandas()\n",
    "ns[\"op_msa_pc\"] = list(zip(ns[\"op_inv_msa\"], ns[\"op_primclass\"]))\n",
    "ns[\"tp_msa_pc\"] = list(zip(ns[\"tp_inv_msa\"], ns[\"tp_primclass\"]))\n",
    "ns = ns.loc[ns[\"op_msa_pc\"].isin(p3[\"msa_pc\"])]"
   ]
  },
  {
   "cell_type": "code",
   "execution_count": 39,
   "metadata": {
    "collapsed": true
   },
   "outputs": [],
   "source": [
    "# Find highly similar MSA-PC subfields\n",
    "ns2 = ns.loc[ns[\"norm_sim_mean_docvecs_pc_msa\"] >= 1.5, [\"tp_msa_pc\", \"op_msa_pc\",\n",
    "\"inv_msa_match\", \"year_group\", \"sim_mean_docvecs_pc_msa\", \"norm_sim_mean_docvecs_pc_msa\"]].drop_duplicates()\n",
    "\n",
    "ns3 = ns2[[\"tp_msa_pc\", \"op_msa_pc\"]]\n",
    "\n",
    "# Merge with first year\n",
    "ns3 = ns3.merge(p3.add_prefix(\"op_\"), how=\"left\", on = [\"op_msa_pc\"]).drop([\"op_inv_msa\", \"op_primclass\"],1)"
   ]
  },
  {
   "cell_type": "code",
   "execution_count": null,
   "metadata": {},
   "outputs": [
    {
     "name": "stdout",
     "output_type": "stream",
     "text": [
      "CPU times: user 4min 44s, sys: 358 ms, total: 4min 45s\n",
      "Wall time: 4min 42s\n"
     ]
    }
   ],
   "source": [
    "pdf[\"msa_pc\"] = list(zip(pdf[\"inv_msa\"], pdf[\"primclass\"]))\n",
    "\n",
    "%time tmp = {mp+(yr,): pdf.loc[(pdf[\"msa_pc\"] == mp) & (pdf[\"gyear\"].isin(range(yr, yr+10))), \"patent\"].tolist() \\\n",
    "for mp, yr in zip(ns3[\"tp_msa_pc\"], ns3[\"op_first_gyear\"])}\n",
    "%time omp = {mp+(yr,): pdf.loc[(pdf[\"msa_pc\"] == mp) & (pdf[\"gyear\"].isin(range(yr, yr+10))), \"patent\"].tolist() \\\n",
    "for mp, yr in zip(ns3[\"op_msa_pc\"], ns3[\"op_first_gyear\"])}\n",
    "    "
   ]
  },
  {
   "cell_type": "code",
   "execution_count": 47,
   "metadata": {
    "collapsed": true
   },
   "outputs": [],
   "source": [
    "# Patents for each MSA-PC\n",
    "ns3[\"tp_msa_pc_pats\"] = [tmp[mp+(yr,)] for mp, yr in zip(ns3[\"tp_msa_pc\"], ns3[\"op_first_gyear\"])]\n",
    "ns3[\"op_msa_pc_pats\"] = [omp[mp+(yr,)] for mp, yr in zip(ns3[\"op_msa_pc\"], ns3[\"op_first_gyear\"])]"
   ]
  },
  {
   "cell_type": "code",
   "execution_count": 49,
   "metadata": {
    "collapsed": true
   },
   "outputs": [],
   "source": [
    "ns3.to_pickle(\"DataStore/2018-08/related_field_pats_0913.pkl\")"
   ]
  },
  {
   "cell_type": "code",
   "execution_count": 48,
   "metadata": {},
   "outputs": [
    {
     "data": {
      "text/html": [
       "<div>\n",
       "<style scoped>\n",
       "    .dataframe tbody tr th:only-of-type {\n",
       "        vertical-align: middle;\n",
       "    }\n",
       "\n",
       "    .dataframe tbody tr th {\n",
       "        vertical-align: top;\n",
       "    }\n",
       "\n",
       "    .dataframe thead th {\n",
       "        text-align: right;\n",
       "    }\n",
       "</style>\n",
       "<table border=\"1\" class=\"dataframe\">\n",
       "  <thead>\n",
       "    <tr style=\"text-align: right;\">\n",
       "      <th></th>\n",
       "      <th>tp_msa_pc</th>\n",
       "      <th>op_msa_pc</th>\n",
       "      <th>op_size</th>\n",
       "      <th>op_first_gyear</th>\n",
       "      <th>tp_msa_pc_pats</th>\n",
       "      <th>op_msa_pc_pats</th>\n",
       "    </tr>\n",
       "  </thead>\n",
       "  <tbody>\n",
       "    <tr>\n",
       "      <th>0</th>\n",
       "      <td>(New York-Northern New Jersey-Long Island, NY-...</td>\n",
       "      <td>(Atlanta-Sandy Springs-Marietta, GA, 707.0)</td>\n",
       "      <td>189</td>\n",
       "      <td>1992</td>\n",
       "      <td>[5388257, 5412808, 5491817, 5515534, 5551023, ...</td>\n",
       "      <td>[5161223, 5202981, 5291593, 5313629, 6226650, ...</td>\n",
       "    </tr>\n",
       "    <tr>\n",
       "      <th>1</th>\n",
       "      <td>(Colorado Springs, CO, 713.0)</td>\n",
       "      <td>(Colorado Springs, CO, 713.0)</td>\n",
       "      <td>60</td>\n",
       "      <td>1995</td>\n",
       "      <td>[5469553, 5768391, 5991890, 6000037, 6033441, ...</td>\n",
       "      <td>[5469553, 5768391, 5991890, 6000037, 6033441, ...</td>\n",
       "    </tr>\n",
       "    <tr>\n",
       "      <th>2</th>\n",
       "      <td>(Boston-Cambridge-Quincy, MA-NH, 715.0)</td>\n",
       "      <td>(Seattle-Tacoma-Bellevue, WA, 707.0)</td>\n",
       "      <td>2038</td>\n",
       "      <td>1995</td>\n",
       "      <td>[5392390, 5396587, 5404295, 5416900, 5418898, ...</td>\n",
       "      <td>[5392427, 5495604, 5506983, 5594898, 5701460, ...</td>\n",
       "    </tr>\n",
       "    <tr>\n",
       "      <th>3</th>\n",
       "      <td>(Washington-Arlington-Alexandria, DC-VA-MD-WV,...</td>\n",
       "      <td>(Kansas City, MO-KS, 370.0)</td>\n",
       "      <td>640</td>\n",
       "      <td>1991</td>\n",
       "      <td>[4987570, 5051984, 5079760, 5095481, 5099476, ...</td>\n",
       "      <td>[4999831, 5535200, 5606553, 5636210, 5742605, ...</td>\n",
       "    </tr>\n",
       "    <tr>\n",
       "      <th>4</th>\n",
       "      <td>(Mankato-North Mankato, MN, 800.0)</td>\n",
       "      <td>(Mankato-North Mankato, MN, 800.0)</td>\n",
       "      <td>67</td>\n",
       "      <td>2000</td>\n",
       "      <td>[6075186, 6180856, 6188001, 6730836, 6759577, ...</td>\n",
       "      <td>[6075186, 6180856, 6188001, 6730836, 6759577, ...</td>\n",
       "    </tr>\n",
       "  </tbody>\n",
       "</table>\n",
       "</div>"
      ],
      "text/plain": [
       "                                           tp_msa_pc  \\\n",
       "0  (New York-Northern New Jersey-Long Island, NY-...   \n",
       "1                      (Colorado Springs, CO, 713.0)   \n",
       "2            (Boston-Cambridge-Quincy, MA-NH, 715.0)   \n",
       "3  (Washington-Arlington-Alexandria, DC-VA-MD-WV,...   \n",
       "4                 (Mankato-North Mankato, MN, 800.0)   \n",
       "\n",
       "                                     op_msa_pc  op_size  op_first_gyear  \\\n",
       "0  (Atlanta-Sandy Springs-Marietta, GA, 707.0)      189            1992   \n",
       "1                (Colorado Springs, CO, 713.0)       60            1995   \n",
       "2         (Seattle-Tacoma-Bellevue, WA, 707.0)     2038            1995   \n",
       "3                  (Kansas City, MO-KS, 370.0)      640            1991   \n",
       "4           (Mankato-North Mankato, MN, 800.0)       67            2000   \n",
       "\n",
       "                                      tp_msa_pc_pats  \\\n",
       "0  [5388257, 5412808, 5491817, 5515534, 5551023, ...   \n",
       "1  [5469553, 5768391, 5991890, 6000037, 6033441, ...   \n",
       "2  [5392390, 5396587, 5404295, 5416900, 5418898, ...   \n",
       "3  [4987570, 5051984, 5079760, 5095481, 5099476, ...   \n",
       "4  [6075186, 6180856, 6188001, 6730836, 6759577, ...   \n",
       "\n",
       "                                      op_msa_pc_pats  \n",
       "0  [5161223, 5202981, 5291593, 5313629, 6226650, ...  \n",
       "1  [5469553, 5768391, 5991890, 6000037, 6033441, ...  \n",
       "2  [5392427, 5495604, 5506983, 5594898, 5701460, ...  \n",
       "3  [4999831, 5535200, 5606553, 5636210, 5742605, ...  \n",
       "4  [6075186, 6180856, 6188001, 6730836, 6759577, ...  "
      ]
     },
     "execution_count": 48,
     "metadata": {},
     "output_type": "execute_result"
    }
   ],
   "source": [
    "ns3.head()"
   ]
  },
  {
   "cell_type": "markdown",
   "metadata": {},
   "source": [
    "### Random pairs from related subfields"
   ]
  },
  {
   "cell_type": "code",
   "execution_count": 65,
   "metadata": {
    "collapsed": true
   },
   "outputs": [],
   "source": [
    "# Add max length of each list of patents\n",
    "ns3[\"max_len\"] = [max(len(i), len(j)) for i,j in zip(ns3[\"tp_msa_pc_pats\"], ns3[\"op_msa_pc_pats\"])]\n",
    "\n",
    "def rand_list(l, nlen):\n",
    "    try:\n",
    "        s = np.random.choice(l, size=nlen, replace=True)\n",
    "    except Exception:\n",
    "        s = [np.nan]\n",
    "    return s\n",
    "\n",
    "rp = [list(zip(rand_list(i, nlen), rand_list(j, nlen))) for i,j, nlen \\\n",
    "      in zip(ns3[\"tp_msa_pc_pats\"].tolist(), ns3[\"op_msa_pc_pats\"].tolist(), ns3[\"max_len\"].tolist())]\n",
    "rp = [item for sublist in rp for item in sublist]\n",
    "\n",
    "rs = pd.DataFrame({\"tp\": [i[0] for i in rp], \"op\": [i[1] for i in rp]})\n",
    "\n",
    "# Drop missing values\n",
    "rs = rs.dropna(how=\"any\")"
   ]
  },
  {
   "cell_type": "code",
   "execution_count": 66,
   "metadata": {},
   "outputs": [
    {
     "name": "stdout",
     "output_type": "stream",
     "text": [
      "Getting row values\n",
      "2018-09-13 13:43:22.889860\n",
      "('ldavecs', 'started')\n",
      "Loading matrix and dict\n",
      "2018-09-13 13:43:24.924251\n",
      "Getting chunks\n",
      "2018-09-13 13:43:48.323363\n",
      "Getting patent pair cosine similarity\n",
      "2018-09-13 13:43:51.381964\n",
      "finished\n",
      "2018-09-13 13:44:14.728588\n",
      "('docvecs', 'started')\n",
      "Loading matrix and dict\n",
      "2018-09-13 13:44:14.728706\n",
      "Getting chunks\n",
      "2018-09-13 13:44:39.747145\n",
      "Getting patent pair cosine similarity\n",
      "2018-09-13 13:44:44.868895\n",
      "finished\n",
      "2018-09-13 13:45:20.773289\n"
     ]
    }
   ],
   "source": [
    "# Get similarity\n",
    "def grouper(n, iterable):\n",
    "    \"\"\"\n",
    "    >>> list(grouper(3, 'ABCDEFG'))\n",
    "    [['A', 'B', 'C'], ['D', 'E', 'F'], ['G']]\n",
    "    \"\"\"\n",
    "    iterable = iter(iterable)\n",
    "    return iter(lambda: list(itertools.islice(iterable, n)), [])\n",
    "\n",
    "\n",
    "import scipy.spatial.distance as distance\n",
    "dms = [\"ldavecs\", \"docvecs\"]\n",
    "\n",
    "print(\"Getting row values\")\n",
    "print(datetime.datetime.now())\n",
    "pat_dict = fastparquet.ParquetFile(\"RawData/Cleaned/patabs7615_us_no_dup.parq\").to_pandas([\"patent\"])[\"patent\"].tolist()\n",
    "pat_dict = dict(zip(pat_dict, range(len(pat_dict))))\n",
    "\n",
    "l2 = rs\n",
    "\n",
    "for dm in dms:\n",
    "    print((dm,\"started\"))\n",
    "    print(\"Loading matrix and dict\")\n",
    "    print(datetime.datetime.now())\n",
    "    # Store copy as array\n",
    "    l3 = l2.loc[l2[\"tp\"].isin(pat_dict.keys()) & l2[\"op\"].isin(pat_dict.keys()), [\"tp\", \"op\"]].copy()\n",
    "\n",
    "    if dm == \"ldavecs\":\n",
    "        ncols = 60\n",
    "    else:\n",
    "        ncols = 100\n",
    "\n",
    "    pm = fastparquet.ParquetFile(\"DataStore/2018-07-P2/ML/{0}_pats_0712.parq\".format(dm))\\\n",
    ".to_pandas().values\n",
    "\n",
    "    # Convert to chunks\n",
    "    print(\"Getting chunks\")\n",
    "    print(datetime.datetime.now())\n",
    "    # Split into chunks\n",
    "    n_rows = 3000\n",
    "    n_chunks = int(np.round(len(l3)/n_rows))\n",
    "    tp_chunks = grouper(n_rows, pm[[pat_dict[p[1]] for p in l3[\"tp\"].iteritems()]])\n",
    "    op_chunks = grouper(n_rows, pm[[pat_dict[p[1]] for p in l3[\"op\"].iteritems()]])\n",
    "    del(pm)\n",
    "    chunks = itertools.zip_longest(tp_chunks, op_chunks)\n",
    "\n",
    "    print(\"Getting patent pair cosine similarity\")\n",
    "    print(datetime.datetime.now())\n",
    "    # Cosine\n",
    "\n",
    "    cos_dis = np.empty(len(l3))\n",
    "\n",
    "    for r, c in enumerate(chunks):\n",
    "        cos_dis[r*n_rows:r*n_rows+n_rows] = np.diag(distance.cdist(c[0],c[1], metric = \"cosine\"))\n",
    "\n",
    "    l3[\"sim_{0}\".format(dm)] = 1-cos_dis\n",
    "    \n",
    "    # Rename columns\n",
    "    l2 = l2.merge(l3, how = \"left\", on = [\"tp\", \"op\"])\n",
    "    del(l3)\n",
    "    print(\"finished\")\n",
    "    print(datetime.datetime.now())"
   ]
  },
  {
   "cell_type": "code",
   "execution_count": 70,
   "metadata": {
    "collapsed": true
   },
   "outputs": [],
   "source": [
    "rs.to_pickle(\"DataStore/2018-08/related_field_pats_pairs_0913.pkl\")"
   ]
  },
  {
   "cell_type": "code",
   "execution_count": 98,
   "metadata": {},
   "outputs": [
    {
     "data": {
      "text/plain": [
       "566742"
      ]
     },
     "execution_count": 98,
     "metadata": {},
     "output_type": "execute_result"
    }
   ],
   "source": [
    "rs = pd.read_pickle(\"DataStore/2018-08/related_field_pats_pairs_0913.pkl\")\n",
    "len(rs)"
   ]
  },
  {
   "cell_type": "code",
   "execution_count": 78,
   "metadata": {
    "collapsed": true
   },
   "outputs": [],
   "source": [
    "# Merge with pdf\n",
    "rs = rs.merge(pdf[[\"patent\", \"title\", \"gyear\", \"inv_msa\", \"primclass\", \"naics_name\", \"msa_pc\"]].add_prefix(\"tp_\"),\n",
    "             how=\"left\", left_on=\"tp\", right_on=\"tp_patent\").drop(\"tp_patent\",1)\n",
    "rs = rs.merge(pdf[[\"patent\", \"title\", \"gyear\", \"inv_msa\", \"primclass\", \"naics_name\", \"msa_pc\"]].add_prefix(\"op_\"),\n",
    "             how=\"left\", left_on=\"op\", right_on=\"op_patent\").drop(\"op_patent\",1)\n",
    "\n",
    "rs[\"primclass_match\"] = (rs[\"tp_primclass\"] == rs[\"op_primclass\"])\n",
    "rs[\"inv_msa_match\"] = (rs[\"tp_inv_msa\"] == rs[\"op_inv_msa\"])"
   ]
  },
  {
   "cell_type": "code",
   "execution_count": 99,
   "metadata": {},
   "outputs": [
    {
     "name": "stdout",
     "output_type": "stream",
     "text": [
      "566742\n",
      "566742\n"
     ]
    }
   ],
   "source": [
    "def get_year_group_10(x):\n",
    "    if x in range(1975,1985):\n",
    "        yg = \"1975-85\"\n",
    "    elif x in range(1985,1995):\n",
    "        yg = \"1985-95\"\n",
    "    elif x in range(1995, 2005):\n",
    "        yg = \"1995-05\"\n",
    "    elif x in range(2005,2015):\n",
    "        yg = \"2005-15\"\n",
    "    else:\n",
    "        yg = np.nan\n",
    "    return yg\n",
    "\n",
    "rs[\"year_group\"] = rs[\"tp_gyear\"].apply(get_year_group_10)\n",
    "\n",
    "# Merge with year of first appearance for other patent MSA-PC\n",
    "# rs = rs.merge(ns3[[\"op_msa_pc\", \"op_first_gyear\"]].drop_duplicates(), how=\"left\", on=\"op_msa_pc\")\n",
    "print(len(rs))\n",
    "\n",
    "# Add year from first appearance\n",
    "# rs[\"tp_yr_from_first\"] = rs[\"tp_gyear\"] - rs[\"op_first_gyear\"]\n",
    "\n",
    "# Merge with ns to get MSA-PC similarities\n",
    "# rs = rs.merge(ns[[\"sim_mean_docvecs_pc_msa\", \"norm_sim_mean_docvecs_pc_msa\", \"year_group\", \n",
    "#                   \"tp_msa_pc\", \"op_msa_pc\"]].drop_duplicates([\"year_group\", \n",
    "#                   \"tp_msa_pc\", \"op_msa_pc\"]), how=\"left\", on=[\"year_group\", \n",
    "#                   \"tp_msa_pc\", \"op_msa_pc\"])\n",
    "print(len(rs))"
   ]
  },
  {
   "cell_type": "code",
   "execution_count": 100,
   "metadata": {},
   "outputs": [
    {
     "data": {
      "text/plain": [
       "Index(['op', 'tp', 'sim_ldavecs', 'sim_docvecs', 'tp_title', 'tp_gyear',\n",
       "       'tp_inv_msa', 'tp_primclass', 'tp_naics_name', 'tp_msa_pc', 'op_title',\n",
       "       'op_gyear', 'op_inv_msa', 'op_primclass', 'op_naics_name', 'op_msa_pc',\n",
       "       'primclass_match', 'inv_msa_match', 'op_first_gyear',\n",
       "       'tp_yr_from_first', 'year_group', 'sim_mean_docvecs_pc_msa',\n",
       "       'norm_sim_mean_docvecs_pc_msa'],\n",
       "      dtype='object')"
      ]
     },
     "execution_count": 100,
     "metadata": {},
     "output_type": "execute_result"
    }
   ],
   "source": [
    "rs.columns"
   ]
  },
  {
   "cell_type": "code",
   "execution_count": 101,
   "metadata": {
    "collapsed": true
   },
   "outputs": [],
   "source": [
    "rs.to_pickle(\"DataStore/2018-08/related_field_pats_pairs_0913.pkl\")"
   ]
  },
  {
   "cell_type": "markdown",
   "metadata": {},
   "source": [
    "### Descriptive analysis\n",
    "\n",
    "#### What's average similarity and MSA PC similarity for patents in the same/different MSAs?"
   ]
  },
  {
   "cell_type": "code",
   "execution_count": 2,
   "metadata": {},
   "outputs": [
    {
     "data": {
      "text/plain": [
       "566742"
      ]
     },
     "execution_count": 2,
     "metadata": {},
     "output_type": "execute_result"
    }
   ],
   "source": [
    "rs = pd.read_pickle(\"DataStore/2018-08/related_field_pats_pairs_0913.pkl\")\n",
    "len(rs)"
   ]
  },
  {
   "cell_type": "code",
   "execution_count": 105,
   "metadata": {},
   "outputs": [
    {
     "data": {
      "text/html": [
       "<div>\n",
       "<style scoped>\n",
       "    .dataframe tbody tr th:only-of-type {\n",
       "        vertical-align: middle;\n",
       "    }\n",
       "\n",
       "    .dataframe tbody tr th {\n",
       "        vertical-align: top;\n",
       "    }\n",
       "\n",
       "    .dataframe thead th {\n",
       "        text-align: right;\n",
       "    }\n",
       "</style>\n",
       "<table border=\"1\" class=\"dataframe\">\n",
       "  <thead>\n",
       "    <tr style=\"text-align: right;\">\n",
       "      <th></th>\n",
       "      <th>sim_docvecs</th>\n",
       "      <th>norm_sim_docvecs</th>\n",
       "      <th>sim_mean_docvecs_pc_msa</th>\n",
       "      <th>norm_sim_mean_docvecs_pc_msa</th>\n",
       "    </tr>\n",
       "    <tr>\n",
       "      <th>inv_msa_match</th>\n",
       "      <th></th>\n",
       "      <th></th>\n",
       "      <th></th>\n",
       "      <th></th>\n",
       "    </tr>\n",
       "  </thead>\n",
       "  <tbody>\n",
       "    <tr>\n",
       "      <th>False</th>\n",
       "      <td>0.131802</td>\n",
       "      <td>0.009454</td>\n",
       "      <td>0.537534</td>\n",
       "      <td>0.157364</td>\n",
       "    </tr>\n",
       "    <tr>\n",
       "      <th>True</th>\n",
       "      <td>0.140638</td>\n",
       "      <td>0.074899</td>\n",
       "      <td>0.622227</td>\n",
       "      <td>0.501396</td>\n",
       "    </tr>\n",
       "  </tbody>\n",
       "</table>\n",
       "</div>"
      ],
      "text/plain": [
       "               sim_docvecs  norm_sim_docvecs  sim_mean_docvecs_pc_msa  \\\n",
       "inv_msa_match                                                           \n",
       "False             0.131802          0.009454                 0.537534   \n",
       "True              0.140638          0.074899                 0.622227   \n",
       "\n",
       "               norm_sim_mean_docvecs_pc_msa  \n",
       "inv_msa_match                                \n",
       "False                              0.157364  \n",
       "True                               0.501396  "
      ]
     },
     "execution_count": 105,
     "metadata": {},
     "output_type": "execute_result"
    }
   ],
   "source": [
    "ns[[\"sim_docvecs\", \"norm_sim_docvecs\", 'sim_mean_docvecs_pc_msa',\n",
    "    'norm_sim_mean_docvecs_pc_msa', \"inv_msa_match\"]].groupby([\"inv_msa_match\"]).mean()"
   ]
  },
  {
   "cell_type": "code",
   "execution_count": 108,
   "metadata": {
    "scrolled": true
   },
   "outputs": [
    {
     "data": {
      "text/html": [
       "<div>\n",
       "<style scoped>\n",
       "    .dataframe tbody tr th:only-of-type {\n",
       "        vertical-align: middle;\n",
       "    }\n",
       "\n",
       "    .dataframe tbody tr th {\n",
       "        vertical-align: top;\n",
       "    }\n",
       "\n",
       "    .dataframe thead th {\n",
       "        text-align: right;\n",
       "    }\n",
       "</style>\n",
       "<table border=\"1\" class=\"dataframe\">\n",
       "  <thead>\n",
       "    <tr style=\"text-align: right;\">\n",
       "      <th></th>\n",
       "      <th>sim_docvecs</th>\n",
       "      <th>norm_sim_docvecs</th>\n",
       "      <th>sim_mean_docvecs_pc_msa</th>\n",
       "      <th>norm_sim_mean_docvecs_pc_msa</th>\n",
       "    </tr>\n",
       "    <tr>\n",
       "      <th>inv_msa_match</th>\n",
       "      <th></th>\n",
       "      <th></th>\n",
       "      <th></th>\n",
       "      <th></th>\n",
       "    </tr>\n",
       "  </thead>\n",
       "  <tbody>\n",
       "    <tr>\n",
       "      <th>False</th>\n",
       "      <td>0.177416</td>\n",
       "      <td>0.347314</td>\n",
       "      <td>0.887443</td>\n",
       "      <td>1.578728</td>\n",
       "    </tr>\n",
       "    <tr>\n",
       "      <th>True</th>\n",
       "      <td>0.175757</td>\n",
       "      <td>0.335026</td>\n",
       "      <td>0.891697</td>\n",
       "      <td>1.596006</td>\n",
       "    </tr>\n",
       "  </tbody>\n",
       "</table>\n",
       "</div>"
      ],
      "text/plain": [
       "               sim_docvecs  norm_sim_docvecs  sim_mean_docvecs_pc_msa  \\\n",
       "inv_msa_match                                                           \n",
       "False             0.177416          0.347314                 0.887443   \n",
       "True              0.175757          0.335026                 0.891697   \n",
       "\n",
       "               norm_sim_mean_docvecs_pc_msa  \n",
       "inv_msa_match                                \n",
       "False                              1.578728  \n",
       "True                               1.596006  "
      ]
     },
     "metadata": {},
     "output_type": "display_data"
    },
    {
     "data": {
      "text/html": [
       "<div>\n",
       "<style scoped>\n",
       "    .dataframe tbody tr th:only-of-type {\n",
       "        vertical-align: middle;\n",
       "    }\n",
       "\n",
       "    .dataframe tbody tr th {\n",
       "        vertical-align: top;\n",
       "    }\n",
       "\n",
       "    .dataframe thead th {\n",
       "        text-align: right;\n",
       "    }\n",
       "</style>\n",
       "<table border=\"1\" class=\"dataframe\">\n",
       "  <thead>\n",
       "    <tr style=\"text-align: right;\">\n",
       "      <th></th>\n",
       "      <th>sim_docvecs</th>\n",
       "      <th>norm_sim_docvecs</th>\n",
       "      <th>sim_mean_docvecs_pc_msa</th>\n",
       "      <th>norm_sim_mean_docvecs_pc_msa</th>\n",
       "    </tr>\n",
       "    <tr>\n",
       "      <th>inv_msa_match</th>\n",
       "      <th></th>\n",
       "      <th></th>\n",
       "      <th></th>\n",
       "      <th></th>\n",
       "    </tr>\n",
       "  </thead>\n",
       "  <tbody>\n",
       "    <tr>\n",
       "      <th>False</th>\n",
       "      <td>0.180414</td>\n",
       "      <td>0.369516</td>\n",
       "      <td>0.921851</td>\n",
       "      <td>1.718496</td>\n",
       "    </tr>\n",
       "    <tr>\n",
       "      <th>True</th>\n",
       "      <td>0.214309</td>\n",
       "      <td>0.620576</td>\n",
       "      <td>1.000000</td>\n",
       "      <td>2.035944</td>\n",
       "    </tr>\n",
       "  </tbody>\n",
       "</table>\n",
       "</div>"
      ],
      "text/plain": [
       "               sim_docvecs  norm_sim_docvecs  sim_mean_docvecs_pc_msa  \\\n",
       "inv_msa_match                                                           \n",
       "False             0.180414          0.369516                 0.921851   \n",
       "True              0.214309          0.620576                 1.000000   \n",
       "\n",
       "               norm_sim_mean_docvecs_pc_msa  \n",
       "inv_msa_match                                \n",
       "False                              1.718496  \n",
       "True                               2.035944  "
      ]
     },
     "metadata": {},
     "output_type": "display_data"
    }
   ],
   "source": [
    "display(ns.loc[(ns[\"primclass_match\"] == False) & (ns[\"norm_sim_mean_docvecs_pc_msa\"] >= 1.5), \n",
    "               [\"sim_docvecs\", \"norm_sim_docvecs\", 'sim_mean_docvecs_pc_msa',\n",
    "    'norm_sim_mean_docvecs_pc_msa', \"inv_msa_match\"]].groupby([\"inv_msa_match\"]).mean())\n",
    "display(ns.loc[(ns[\"primclass_match\"] == True)& (ns[\"norm_sim_mean_docvecs_pc_msa\"] >= 1.5),\n",
    "               [\"sim_docvecs\", \"norm_sim_docvecs\", 'sim_mean_docvecs_pc_msa',\n",
    "    'norm_sim_mean_docvecs_pc_msa', \"inv_msa_match\"]].groupby([\"inv_msa_match\"]).mean())"
   ]
  },
  {
   "cell_type": "markdown",
   "metadata": {},
   "source": [
    "#### Primclass match vs non-match findings"
   ]
  },
  {
   "cell_type": "code",
   "execution_count": 6,
   "metadata": {
    "collapsed": true
   },
   "outputs": [],
   "source": [
    "rs[\"year_diff\"] = rs[\"tp_gyear\"]-rs[\"op_gyear\"]"
   ]
  },
  {
   "cell_type": "code",
   "execution_count": 7,
   "metadata": {},
   "outputs": [
    {
     "data": {
      "text/plain": [
       " 0    84270\n",
       "-1    67070\n",
       " 1    56375\n",
       "-2    51105\n",
       " 2    43141\n",
       "-3    39588\n",
       "-4    35098\n",
       " 3    33799\n",
       "-5    23748\n",
       "-6    23613\n",
       " 4    23505\n",
       " 5    16270\n",
       " 6    12985\n",
       " 7    12569\n",
       "-7    12390\n",
       " 8    10445\n",
       "-8     9082\n",
       " 9     7537\n",
       "-9     4152\n",
       "Name: year_diff, dtype: int64"
      ]
     },
     "execution_count": 7,
     "metadata": {},
     "output_type": "execute_result"
    }
   ],
   "source": [
    "rs[\"year_diff\"].value_counts()"
   ]
  },
  {
   "cell_type": "code",
   "execution_count": 3,
   "metadata": {},
   "outputs": [],
   "source": [
    "rs2 = rs.loc[(rs[\"primclass_match\"] == False), [\"tp_yr_from_first\", \"inv_msa_match\", \n",
    "    \"sim_docvecs\"]].groupby([\"tp_yr_from_first\", \"inv_msa_match\"]).mean().reset_index()"
   ]
  },
  {
   "cell_type": "code",
   "execution_count": 4,
   "metadata": {},
   "outputs": [
    {
     "data": {
      "text/plain": [
       "<matplotlib.axes._subplots.AxesSubplot at 0x7f725f2609b0>"
      ]
     },
     "execution_count": 4,
     "metadata": {},
     "output_type": "execute_result"
    },
    {
     "data": {
      "image/png": "[encoded data removed]",
      "text/plain": [
       "<Figure size 432x288 with 1 Axes>"
      ]
     },
     "metadata": {},
     "output_type": "display_data"
    }
   ],
   "source": [
    "%matplotlib inline\n",
    "rs2.loc[rs2[\"inv_msa_match\"] == True, \"sim_docvecs\"].plot.line()\n",
    "rs2.loc[rs2[\"inv_msa_match\"] == False, \"sim_docvecs\"].plot.line()"
   ]
  },
  {
   "cell_type": "code",
   "execution_count": 5,
   "metadata": {},
   "outputs": [
    {
     "data": {
      "text/html": [
       "<div>\n",
       "<style scoped>\n",
       "    .dataframe tbody tr th:only-of-type {\n",
       "        vertical-align: middle;\n",
       "    }\n",
       "\n",
       "    .dataframe tbody tr th {\n",
       "        vertical-align: top;\n",
       "    }\n",
       "\n",
       "    .dataframe thead th {\n",
       "        text-align: right;\n",
       "    }\n",
       "</style>\n",
       "<table border=\"1\" class=\"dataframe\">\n",
       "  <thead>\n",
       "    <tr style=\"text-align: right;\">\n",
       "      <th></th>\n",
       "      <th>tp_yr_from_first</th>\n",
       "      <th>inv_msa_match</th>\n",
       "      <th>sim_docvecs</th>\n",
       "    </tr>\n",
       "  </thead>\n",
       "  <tbody>\n",
       "    <tr>\n",
       "      <th>0</th>\n",
       "      <td>0</td>\n",
       "      <td>False</td>\n",
       "      <td>0.149814</td>\n",
       "    </tr>\n",
       "    <tr>\n",
       "      <th>1</th>\n",
       "      <td>0</td>\n",
       "      <td>True</td>\n",
       "      <td>0.112256</td>\n",
       "    </tr>\n",
       "    <tr>\n",
       "      <th>2</th>\n",
       "      <td>1</td>\n",
       "      <td>False</td>\n",
       "      <td>0.136853</td>\n",
       "    </tr>\n",
       "    <tr>\n",
       "      <th>3</th>\n",
       "      <td>1</td>\n",
       "      <td>True</td>\n",
       "      <td>0.104961</td>\n",
       "    </tr>\n",
       "    <tr>\n",
       "      <th>4</th>\n",
       "      <td>2</td>\n",
       "      <td>False</td>\n",
       "      <td>0.154938</td>\n",
       "    </tr>\n",
       "    <tr>\n",
       "      <th>5</th>\n",
       "      <td>2</td>\n",
       "      <td>True</td>\n",
       "      <td>0.171631</td>\n",
       "    </tr>\n",
       "    <tr>\n",
       "      <th>6</th>\n",
       "      <td>3</td>\n",
       "      <td>False</td>\n",
       "      <td>0.157705</td>\n",
       "    </tr>\n",
       "    <tr>\n",
       "      <th>7</th>\n",
       "      <td>3</td>\n",
       "      <td>True</td>\n",
       "      <td>0.174332</td>\n",
       "    </tr>\n",
       "    <tr>\n",
       "      <th>8</th>\n",
       "      <td>4</td>\n",
       "      <td>False</td>\n",
       "      <td>0.137479</td>\n",
       "    </tr>\n",
       "    <tr>\n",
       "      <th>9</th>\n",
       "      <td>4</td>\n",
       "      <td>True</td>\n",
       "      <td>0.177974</td>\n",
       "    </tr>\n",
       "    <tr>\n",
       "      <th>10</th>\n",
       "      <td>5</td>\n",
       "      <td>False</td>\n",
       "      <td>0.106489</td>\n",
       "    </tr>\n",
       "    <tr>\n",
       "      <th>11</th>\n",
       "      <td>5</td>\n",
       "      <td>True</td>\n",
       "      <td>0.160469</td>\n",
       "    </tr>\n",
       "    <tr>\n",
       "      <th>12</th>\n",
       "      <td>6</td>\n",
       "      <td>False</td>\n",
       "      <td>0.140379</td>\n",
       "    </tr>\n",
       "    <tr>\n",
       "      <th>13</th>\n",
       "      <td>6</td>\n",
       "      <td>True</td>\n",
       "      <td>0.155554</td>\n",
       "    </tr>\n",
       "    <tr>\n",
       "      <th>14</th>\n",
       "      <td>7</td>\n",
       "      <td>False</td>\n",
       "      <td>0.164312</td>\n",
       "    </tr>\n",
       "    <tr>\n",
       "      <th>15</th>\n",
       "      <td>7</td>\n",
       "      <td>True</td>\n",
       "      <td>0.118579</td>\n",
       "    </tr>\n",
       "    <tr>\n",
       "      <th>16</th>\n",
       "      <td>8</td>\n",
       "      <td>False</td>\n",
       "      <td>0.164288</td>\n",
       "    </tr>\n",
       "    <tr>\n",
       "      <th>17</th>\n",
       "      <td>8</td>\n",
       "      <td>True</td>\n",
       "      <td>0.160391</td>\n",
       "    </tr>\n",
       "    <tr>\n",
       "      <th>18</th>\n",
       "      <td>9</td>\n",
       "      <td>False</td>\n",
       "      <td>0.166132</td>\n",
       "    </tr>\n",
       "    <tr>\n",
       "      <th>19</th>\n",
       "      <td>9</td>\n",
       "      <td>True</td>\n",
       "      <td>0.156483</td>\n",
       "    </tr>\n",
       "  </tbody>\n",
       "</table>\n",
       "</div>"
      ],
      "text/plain": [
       "    tp_yr_from_first  inv_msa_match  sim_docvecs\n",
       "0                  0          False     0.149814\n",
       "1                  0           True     0.112256\n",
       "2                  1          False     0.136853\n",
       "3                  1           True     0.104961\n",
       "4                  2          False     0.154938\n",
       "5                  2           True     0.171631\n",
       "6                  3          False     0.157705\n",
       "7                  3           True     0.174332\n",
       "8                  4          False     0.137479\n",
       "9                  4           True     0.177974\n",
       "10                 5          False     0.106489\n",
       "11                 5           True     0.160469\n",
       "12                 6          False     0.140379\n",
       "13                 6           True     0.155554\n",
       "14                 7          False     0.164312\n",
       "15                 7           True     0.118579\n",
       "16                 8          False     0.164288\n",
       "17                 8           True     0.160391\n",
       "18                 9          False     0.166132\n",
       "19                 9           True     0.156483"
      ]
     },
     "execution_count": 5,
     "metadata": {},
     "output_type": "execute_result"
    }
   ],
   "source": [
    "rs2"
   ]
  },
  {
   "cell_type": "code",
   "execution_count": null,
   "metadata": {
    "collapsed": true
   },
   "outputs": [],
   "source": []
  }
 ],
 "metadata": {
  "kernelspec": {
   "display_name": "Python 3",
   "language": "python",
   "name": "python3"
  },
  "language_info": {
   "codemirror_mode": {
    "name": "ipython",
    "version": 3
   },
   "file_extension": ".py",
   "mimetype": "text/x-python",
   "name": "python",
   "nbconvert_exporter": "python",
   "pygments_lexer": "ipython3",
   "version": "3.6.5"
  }
 },
 "nbformat": 4,
 "nbformat_minor": 2
}
