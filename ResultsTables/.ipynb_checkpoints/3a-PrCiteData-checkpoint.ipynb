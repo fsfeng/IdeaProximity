{
 "cells": [
  {
   "cell_type": "code",
   "execution_count": 1,
   "metadata": {},
   "outputs": [
    {
     "name": "stderr",
     "output_type": "stream",
     "text": [
      "/homedir/eco/sfeng/bigdata/python/miniconda3/lib/python3.6/site-packages/h5py/__init__.py:36: FutureWarning: Conversion of the second argument of issubdtype from `float` to `np.floating` is deprecated. In future, it will be treated as `np.float64 == np.dtype(float).type`.\n",
      "  from ._conv import register_converters as _register_converters\n"
     ]
    }
   ],
   "source": [
    "import numpy as np\n",
    "import scipy as sp\n",
    "import pandas as pd\n",
    "import timeit\n",
    "import datetime\n",
    "import time\n",
    "import pprint\n",
    "import itertools\n",
    "import pickle\n",
    "import sklearn\n",
    "import dask\n",
    "import dask.dataframe as dd\n",
    "import dask.array as da\n",
    "import os\n",
    "os.chdir('/mnt/t48/bighomes-active/sfeng/patentdiffusion/')\n",
    "import fastparquet\n",
    "seed = 3\n",
    "import seaborn as sns\n",
    "import matplotlib\n",
    "import matplotlib.pyplot as plt\n",
    "# Distances\n",
    "import scipy.spatial.distance as distance\n",
    "# KL\n",
    "from scipy.stats import entropy\n",
    "# Normalize\n",
    "from sklearn.preprocessing import normalize\n",
    "from sklearn.preprocessing import StandardScaler\n",
    "scaler = StandardScaler()\n",
    "# Pairwise distances\n",
    "from sklearn.metrics.pairwise import pairwise_distances\n",
    "import h5py"
   ]
  },
  {
   "cell_type": "markdown",
   "metadata": {},
   "source": [
    "Code from:\n",
    "- https://sfengc7.stern.nyu.edu:8888/notebooks/patentdiffusion/201808Results/LocalRegressions/2c-AddingControls-0808.ipynb\n",
    "- https://sfengc7.stern.nyu.edu:8888/notebooks/patentdiffusion/201808Results/Reg1016/1-NewDataReg.ipynb"
   ]
  },
  {
   "cell_type": "code",
   "execution_count": 25,
   "metadata": {},
   "outputs": [],
   "source": [
    "k = \"naics_name\"\n",
    "mdc = dd.read_parquet(\"DataStore/2018-07-P2/Reg0726/local_{0}_samp_0723.parq\".format(k)).compute()\n",
    "print(mdc.columns)\n",
    "print(len(mdc))\n",
    "mdc = mdc.drop([\"index\", \"index2\", \"samp\"],1)"
   ]
  },
  {
   "cell_type": "code",
   "execution_count": 26,
   "metadata": {},
   "outputs": [
    {
     "name": "stdout",
     "output_type": "stream",
     "text": [
      "CPU times: user 19min 12s, sys: 12.9 s, total: 19min 24s\n",
      "Wall time: 19min 16s\n"
     ]
    }
   ],
   "source": [
    "# Num common inventors\n",
    "inv = fastparquet.ParquetFile(\"RawData/Cleaned/patent_inventors_0628.parq\").to_pandas([\"patent\", \"inventor_id\"])\n",
    "%time inv = {n: g[\"inventor_id\"].tolist() for n, g in inv.groupby(\"patent\")}"
   ]
  },
  {
   "cell_type": "code",
   "execution_count": 27,
   "metadata": {},
   "outputs": [
    {
     "name": "stdout",
     "output_type": "stream",
     "text": [
      "4580533\n",
      "CPU times: user 16.3 s, sys: 330 ms, total: 16.6 s\n",
      "Wall time: 16.6 s\n",
      "0     4565373\n",
      "1       13071\n",
      "2        1627\n",
      "3         358\n",
      "4          69\n",
      "5          16\n",
      "8           6\n",
      "6           6\n",
      "7           3\n",
      "11          2\n",
      "9           2\n",
      "Name: num_common_pat_inv, dtype: int64\n",
      "4580533\n"
     ]
    }
   ],
   "source": [
    "print(len(mdc))\n",
    "%time num_common_inv = [len(set(inv[tp]).intersection(inv[op])) if (tp in inv.keys()) & (op in inv.keys())\\\n",
    "                  else np.nan for tp, op in zip(mdc[\"tp\"], mdc[\"op\"])]\n",
    "mdc[\"num_common_pat_inv\"] = num_common_inv\n",
    "del(inv, num_common_inv)\n",
    "mdc[\"common_pat_inv\"] = np.nan\n",
    "mdc.loc[mdc[\"num_common_pat_inv\"] >= 1, \"common_pat_inv\"] = True\n",
    "mdc.loc[mdc[\"num_common_pat_inv\"] == 0, \"common_pat_inv\"] = False\n",
    "print(mdc[\"num_common_pat_inv\"].value_counts())\n",
    "print(len(mdc))"
   ]
  },
  {
   "cell_type": "code",
   "execution_count": 28,
   "metadata": {},
   "outputs": [
    {
     "name": "stdout",
     "output_type": "stream",
     "text": [
      "CPU times: user 40min 15s, sys: 25.5 s, total: 40min 41s\n",
      "Wall time: 40min 22s\n",
      "CPU times: user 305 ms, sys: 236 ms, total: 541 ms\n",
      "Wall time: 537 ms\n",
      "CPU times: user 14.9 s, sys: 88.1 ms, total: 15 s\n",
      "Wall time: 14.9 s\n",
      "CPU times: user 1.37 s, sys: 1.31 ms, total: 1.37 s\n",
      "Wall time: 1.36 s\n",
      "False    4555458\n",
      "True       25075\n",
      "Name: lawyer_match, dtype: int64\n",
      "4580533\n"
     ]
    }
   ],
   "source": [
    "# Lawyers\n",
    "ldf = pd.read_csv(\"RawData/Cleaned/patent_lawyer.csv\")\n",
    "%time ldf = {n:g[\"lawyer_id\"].tolist() for n,g in ldf[[\"patent\", \"lawyer_id\"]].groupby(\"patent\")}\n",
    "\n",
    "%time l_match = (set(ldf.get(tp, [])).intersection(set(ldf.get(op, []))) for tp, op in zip(mdc[\"tp\"], mdc[\"op\"]))\n",
    "%time mdc[\"lawyer_match\"] = [len(i) for i in l_match]\n",
    "%time mdc[\"lawyer_match\"] = mdc[\"lawyer_match\"].apply(lambda x: True if x >= 1 else False)\n",
    "print(mdc[\"lawyer_match\"].value_counts())\n",
    "print(len(mdc))\n",
    "del(ldf)"
   ]
  },
  {
   "cell_type": "code",
   "execution_count": 31,
   "metadata": {},
   "outputs": [],
   "source": [
    "# Examiners\n",
    "re = fastparquet.ParquetFile(\"RawData/Cleaned/patexaminer1016.parq\").to_pandas()\n",
    "re = dict(zip(re[\"patent_id\"], re[\"examiner_id\"]))\n",
    "mdc[\"examiner_match\"] = (mdc[\"tp\"].map(re) == mdc[\"op\"].map(re))"
   ]
  },
  {
   "cell_type": "code",
   "execution_count": 48,
   "metadata": {},
   "outputs": [
    {
     "data": {
      "text/plain": [
       "Index(['op', 'tp', 'num_common_pat_inv', 'common_pat_inv', 'lawyer_match',\n",
       "       'examiner_match', 'direct_cite', 'num_common_cites', 'num_common_npc',\n",
       "       'common_npc_match', 'common_cited_match', 'tp_inv_msa', 'op_inv_msa',\n",
       "       'inv_msa_match'],\n",
       "      dtype='object')"
      ]
     },
     "execution_count": 48,
     "metadata": {},
     "output_type": "execute_result"
    }
   ],
   "source": [
    "mdc.columns"
   ]
  },
  {
   "cell_type": "code",
   "execution_count": 47,
   "metadata": {},
   "outputs": [],
   "source": [
    "# Location match\n",
    "pdf = fastparquet.ParquetFile(\"RawData/Cleaned/patent_loc_unique_us_0628.parq\").to_pandas([\"patent\", \"inv_msa\"])\n",
    "pdf = dict(zip(pdf[\"patent\"], pdf[\"inv_msa\"]))\n",
    "mdc[\"tp_inv_msa\"] = mdc[\"tp\"].map(pdf)\n",
    "mdc[\"op_inv_msa\"] = mdc[\"op\"].map(pdf)\n",
    "mdc[\"inv_msa_match\"] = (mdc[\"tp_inv_msa\"] == mdc[\"op_inv_msa\"])\n",
    "del(pdf)"
   ]
  },
  {
   "cell_type": "code",
   "execution_count": 49,
   "metadata": {},
   "outputs": [
    {
     "name": "stderr",
     "output_type": "stream",
     "text": [
      "/homedir/eco/sfeng/bigdata/python/miniconda3/lib/python3.6/site-packages/fastparquet/writer.py:217: FutureWarning: Method .valid will be removed in a future version. Use .dropna instead.\n",
      "  head = data[:10] if isinstance(data, pd.Index) else data.valid()[:10]\n"
     ]
    }
   ],
   "source": [
    "fastparquet.write(\"DataStore/2019-01/{0}_pr_cite_0110.parq\".format(k), mdc, compression=\"GZIP\")"
   ]
  },
  {
   "cell_type": "code",
   "execution_count": 34,
   "metadata": {},
   "outputs": [
    {
     "name": "stdout",
     "output_type": "stream",
     "text": [
      "False    4575670\n",
      "True        4863\n",
      "Name: direct_cite, dtype: int64\n",
      "CPU times: user 4min 4s, sys: 36.9 s, total: 4min 41s\n",
      "Wall time: 1min 39s\n",
      "CPU times: user 9min 52s, sys: 18.9 s, total: 10min 11s\n",
      "Wall time: 9min 58s\n",
      "CPU times: user 275 ms, sys: 145 ms, total: 420 ms\n",
      "Wall time: 417 ms\n",
      "CPU times: user 26.7 s, sys: 91.7 ms, total: 26.7 s\n",
      "Wall time: 26.7 s\n",
      "0     4520243\n",
      "1       37282\n",
      "2        9129\n",
      "3        3986\n",
      "4        2175\n",
      "5        1363\n",
      "6         999\n",
      "7         702\n",
      "8         523\n",
      "9         413\n",
      "10        319\n",
      "11        314\n",
      "12        228\n",
      "13        186\n",
      "14        163\n",
      "15        146\n",
      "17        133\n",
      "16        126\n",
      "18        120\n",
      "19        115\n",
      "Name: num_common_cites, dtype: int64\n",
      "False    4520243\n",
      "True       60290\n",
      "Name: common_cited_match, dtype: int64\n",
      "4580533\n",
      "Index(['op', 'tp', 'num_common_pat_inv', 'common_pat_inv', 'lawyer_match',\n",
      "       'examiner_match', 'tp_inv_msa', 'op_inv_msa', 'direct_cite',\n",
      "       'num_common_cites', 'common_cited_match'],\n",
      "      dtype='object')\n"
     ]
    }
   ],
   "source": [
    "cit = dd.read_parquet(\"RawData/Cleaned/cit_0628.parq\")\n",
    "\n",
    "# Direct citations\n",
    "# Create all False\n",
    "mdc[\"direct_cite\"] = False\n",
    "# Create zipped pairs\n",
    "mdc[\"tp_op\"] = list(zip(mdc[\"tp\"], mdc[\"op\"]))\n",
    "# Citations\n",
    "c2 = cit[cit[\"cited\"].isin(mdc[\"tp\"])].compute()\n",
    "mdc.loc[mdc[\"tp_op\"].isin(list(zip(c2[\"cited\"], c2[\"citing\"]))), \"direct_cite\"] = True\n",
    "del(c2)\n",
    "print(mdc[\"direct_cite\"].value_counts())\n",
    "# Drop pairs\n",
    "mdc = mdc.drop(\"tp_op\",1)\n",
    "\n",
    "# Number of common citations\n",
    "# Citations\n",
    "%time c2 = cit[cit[\"citing\"].isin(mdc[\"tp\"]) | cit[\"citing\"].isin(mdc[\"op\"])].compute()\n",
    "# Dictionary of citing: cited patents\n",
    "%time c2 = {n:g[\"cited\"].tolist() for n,g in c2.groupby(\"citing\")}\n",
    "# Get number of overlapping\n",
    "%time num_common_cites = (set(c2.get(tp, [])).intersection(set(c2.get(op, []))) for tp, op in zip(mdc[\"tp\"], mdc[\"op\"]))\n",
    "%time mdc[\"num_common_cites\"] = [len(i) for i in num_common_cites]\n",
    "del(c2, cit)\n",
    "# At least one number of common cites\n",
    "mdc[\"common_cited_match\"] = False\n",
    "mdc.loc[(mdc[\"num_common_cites\"] >= 1), \"common_cited_match\"] = True\n",
    "print(mdc[\"num_common_cites\"].value_counts()[:20])\n",
    "print(mdc[\"common_cited_match\"].value_counts())\n",
    "print(len(mdc))\n",
    "print(mdc.columns)\n",
    "    \n",
    "    "
   ]
  },
  {
   "cell_type": "code",
   "execution_count": 35,
   "metadata": {},
   "outputs": [
    {
     "name": "stdout",
     "output_type": "stream",
     "text": [
      "CPU times: user 1min 19s, sys: 20.2 s, total: 1min 40s\n",
      "Wall time: 1min 38s\n",
      "CPU times: user 21min 31s, sys: 14.2 s, total: 21min 45s\n",
      "Wall time: 21min 35s\n",
      "CPU times: user 34.8 s, sys: 102 ms, total: 34.9 s\n",
      "Wall time: 34.9 s\n"
     ]
    }
   ],
   "source": [
    "# Non patent citations\n",
    "%time oc = fastparquet.ParquetFile(\"RawData/Cleaned/otherreference1016.parq\").to_pandas()\n",
    "%time oc = {n:g[\"ref_id\"].tolist() for n,g in oc.groupby(\"patent_id\")}\n",
    "\n",
    "num_common_cites = (set(oc.get(tp, [])).intersection(set(oc.get(op, []))) for tp, op in zip(mdc[\"tp\"], mdc[\"op\"]))\n",
    "%time mdc[\"num_common_npc\"] = [len(i) for i in num_common_cites]\n",
    "del(num_common_cites, oc)\n",
    "\n",
    "# Match\n",
    "mdc[\"common_npc_match\"] = False\n",
    "mdc.loc[mdc[\"num_common_npc\"] >= 1, \"common_npc_match\"] = True\n",
    "\n",
    "mdc[\"common_cited_match\"] = False\n",
    "mdc.loc[mdc[\"num_common_cites\"] >= 1, \"common_cited_match\"] = True"
   ]
  },
  {
   "cell_type": "code",
   "execution_count": 36,
   "metadata": {},
   "outputs": [
    {
     "name": "stderr",
     "output_type": "stream",
     "text": [
      "/homedir/eco/sfeng/bigdata/python/miniconda3/lib/python3.6/site-packages/fastparquet/writer.py:217: FutureWarning: Method .valid will be removed in a future version. Use .dropna instead.\n",
      "  head = data[:10] if isinstance(data, pd.Index) else data.valid()[:10]\n"
     ]
    }
   ],
   "source": [
    "%time fastparquet.write(\"DataStore/2019-01/{0}_pr_cite_0110.parq\".format(k), mdc, compression=\"GZIP\")"
   ]
  },
  {
   "cell_type": "code",
   "execution_count": 41,
   "metadata": {},
   "outputs": [
    {
     "data": {
      "text/plain": [
       "Index(['op', 'tp', 'num_common_pat_inv', 'common_pat_inv', 'lawyer_match',\n",
       "       'examiner_match', 'tp_inv_msa', 'op_inv_msa', 'direct_cite',\n",
       "       'num_common_cites', 'common_cited_match', 'num_common_npc',\n",
       "       'common_npc_match', 'inv_msa_match'],\n",
       "      dtype='object')"
      ]
     },
     "execution_count": 41,
     "metadata": {},
     "output_type": "execute_result"
    }
   ],
   "source": [
    "mdc.columns"
   ]
  },
  {
   "cell_type": "code",
   "execution_count": null,
   "metadata": {},
   "outputs": [],
   "source": []
  }
 ],
 "metadata": {
  "hide_input": false,
  "kernelspec": {
   "display_name": "Python 3",
   "language": "python",
   "name": "python3"
  },
  "language_info": {
   "codemirror_mode": {
    "name": "ipython",
    "version": 3
   },
   "file_extension": ".py",
   "mimetype": "text/x-python",
   "name": "python",
   "nbconvert_exporter": "python",
   "pygments_lexer": "ipython3",
   "version": "3.6.7"
  }
 },
 "nbformat": 4,
 "nbformat_minor": 2
}
