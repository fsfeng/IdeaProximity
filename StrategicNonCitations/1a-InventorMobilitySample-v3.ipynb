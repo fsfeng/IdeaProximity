{
 "cells": [
  {
   "cell_type": "code",
   "execution_count": 1,
   "metadata": {},
   "outputs": [
    {
     "name": "stderr",
     "output_type": "stream",
     "text": [
      "/homedir/eco/sfeng/bigdata/python/miniconda3/lib/python3.6/site-packages/h5py/__init__.py:36: FutureWarning: Conversion of the second argument of issubdtype from `float` to `np.floating` is deprecated. In future, it will be treated as `np.float64 == np.dtype(float).type`.\n",
      "  from ._conv import register_converters as _register_converters\n"
     ]
    }
   ],
   "source": [
    "import numpy as np\n",
    "import scipy as sp\n",
    "import pandas as pd\n",
    "import timeit\n",
    "import datetime\n",
    "import time\n",
    "import pprint\n",
    "import itertools\n",
    "import pickle\n",
    "import sklearn\n",
    "import dask\n",
    "import dask.dataframe as dd\n",
    "import os\n",
    "os.chdir('/mnt/t48/bighomes-active/sfeng/patentdiffusion/')\n",
    "import fastparquet\n",
    "seed = 3\n",
    "import seaborn as sns\n",
    "import matplotlib\n",
    "import matplotlib.pyplot as plt\n",
    "# Distances\n",
    "import scipy.spatial.distance as distance\n",
    "# KL\n",
    "from scipy.stats import entropy\n",
    "# Normalize\n",
    "from sklearn.preprocessing import normalize\n",
    "from sklearn.preprocessing import StandardScaler\n",
    "scaler = StandardScaler()\n",
    "# Pairwise distances\n",
    "from sklearn.metrics.pairwise import pairwise_distances\n",
    "import h5py\n",
    "# Percentiles\n",
    "from scipy.stats import percentileofscore"
   ]
  },
  {
   "cell_type": "markdown",
   "metadata": {},
   "source": [
    "### Removing duplicate patents\n",
    "- This is a huge problem; over 10% of patent text granted is duplicated"
   ]
  },
  {
   "cell_type": "code",
   "execution_count": 2,
   "metadata": {
    "collapsed": true
   },
   "outputs": [],
   "source": [
    "# # Create patent assignee unique data\n",
    "# pa = fastparquet.ParquetFile(\"RawData/Cleaned/patent_assignees_0628.parq\").to_pandas()\n",
    "# print(len(pa))\n",
    "# # Patent-asg count\n",
    "# pa = pa[[\"patent\", \"assignee_id\", \"type\"]].groupby([\"patent\", \"assignee_id\"]).count().reset_index()\n",
    "# print(len(pa))\n",
    "# # Sort by assignee count per patent\n",
    "# pa = pa.sort_values([\"patent\", \"type\"], ascending = [1,0])\n",
    "# # Keep assignee with most count\n",
    "# pa = pa.drop_duplicates(subset=[\"patent\"], keep=\"first\").drop(\"type\",1)\n",
    "# print(len(pa))\n",
    "# fastparquet.write(\"RawData/Cleaned/patent_assignees_unique_0628.parq\", pa, compression=\"GZIP\")"
   ]
  },
  {
   "cell_type": "code",
   "execution_count": 3,
   "metadata": {},
   "outputs": [
    {
     "name": "stdout",
     "output_type": "stream",
     "text": [
      "5017246\n",
      "4302101\n"
     ]
    }
   ],
   "source": [
    "# Inventor-patent pairs\n",
    "ip = fastparquet.ParquetFile(\"RawData/Cleaned/patent_inventors_0628.parq\").to_pandas()\n",
    "dup_pats = pd.read_pickle(\"RawData/Cleaned/duplicate_pattext_0712.pkl\").tolist()\n",
    "print(len(ip))\n",
    "# Get relevant US Patents\n",
    "usp = fastparquet.ParquetFile(\"RawData/Cleaned/patent_loc_unique_us_0628.parq\").to_pandas([\"patent\"])[\"patent\"]\n",
    "# Look at only relevant US patents and non-duplicated patents\n",
    "ip = ip.loc[ip[\"patent\"].isin(usp) & ~(ip[\"patent\"].isin(dup_pats))]\n",
    "print(len(ip))\n",
    "# Patent-assignee pairs\n",
    "pa = fastparquet.ParquetFile(\"RawData/Cleaned/patent_assignees_unique_0628.parq\").to_pandas()\n",
    "ip = ip.merge(pa, how = \"left\", on = \"patent\")\n",
    "del(pa, usp)"
   ]
  },
  {
   "cell_type": "code",
   "execution_count": 4,
   "metadata": {},
   "outputs": [
    {
     "name": "stdout",
     "output_type": "stream",
     "text": [
      "4302101\n",
      "3860816\n",
      "141583\n",
      "12377\n"
     ]
    }
   ],
   "source": [
    "# Get rid of patents with no assignee\n",
    "print(len(ip))\n",
    "ip = ip.loc[ip[\"assignee_id\"].notnull()]\n",
    "print(len(ip))\n",
    "\n",
    "# Count number of assignees by inventor\n",
    "i2 = ip[[\"inventor_id\", \"assignee_id\"]].drop_duplicates(\"assignee_id\").groupby(\"inventor_id\").size()\n",
    "print(len(i2)) # Num inventors working at firms in total\n",
    "\n",
    "# Keep inventors at more than 2 different assignees\n",
    "i2 = i2.loc[i2 >= 2]\n",
    "print(len(i2))"
   ]
  },
  {
   "cell_type": "code",
   "execution_count": 5,
   "metadata": {},
   "outputs": [
    {
     "name": "stdout",
     "output_type": "stream",
     "text": [
      "3860816\n",
      "140076\n"
     ]
    }
   ],
   "source": [
    "# Patents by inventors who move\n",
    "print(len(ip))\n",
    "ip = ip.loc[ip[\"inventor_id\"].isin(i2.index.tolist())]\n",
    "print(len(ip))\n",
    "ip.to_pickle(\"DataStore/2018-07/inv_move_pats_0712.pkl\")"
   ]
  },
  {
   "cell_type": "markdown",
   "metadata": {},
   "source": [
    "### Magnitude\n",
    "- 12377/141583 total inventors working at firms have switched firms\n",
    "- They account for 140076 of 3860816 patents assigned\n",
    "\n",
    "_____\n",
    "## Adjusting for moves across firms\n",
    "### Get rank of number of firms inventor has been at"
   ]
  },
  {
   "cell_type": "code",
   "execution_count": 19,
   "metadata": {
    "collapsed": true
   },
   "outputs": [],
   "source": [
    "ip = pd.read_pickle(\"DataStore/2018-07/inv_move_pats_0712.pkl\")\n",
    "# Sort ascending by inventor_id and grant year\n",
    "ip = ip.sort_values([\"inventor_id\", \"gyear\"], ascending = [1,1])"
   ]
  },
  {
   "cell_type": "code",
   "execution_count": 15,
   "metadata": {},
   "outputs": [
    {
     "name": "stderr",
     "output_type": "stream",
     "text": [
      "/homedir/eco/sfeng/bigdata/python/miniconda3/lib/python3.6/site-packages/ipykernel_launcher.py:5: SettingWithCopyWarning: \n",
      "A value is trying to be set on a copy of a slice from a DataFrame.\n",
      "Try using .loc[row_indexer,col_indexer] = value instead\n",
      "\n",
      "See the caveats in the documentation: http://pandas.pydata.org/pandas-docs/stable/indexing.html#indexing-view-versus-copy\n",
      "  \"\"\"\n"
     ]
    }
   ],
   "source": [
    "ir = ip[[\"inventor_id\", \"assignee_id\"]].drop_duplicates([\"inventor_id\", \"assignee_id\"])\n",
    "ir = ir.groupby(\"inventor_id\")\n",
    "ir2 = pd.DataFrame()\n",
    "for n,g in ir:\n",
    "    g[\"inv_asg_rank\"] = range(len(g))\n",
    "    ir2 = ir2.append(g, ignore_index = True)"
   ]
  },
  {
   "cell_type": "code",
   "execution_count": 20,
   "metadata": {},
   "outputs": [
    {
     "data": {
      "text/html": [
       "<div>\n",
       "<style scoped>\n",
       "    .dataframe tbody tr th:only-of-type {\n",
       "        vertical-align: middle;\n",
       "    }\n",
       "\n",
       "    .dataframe tbody tr th {\n",
       "        vertical-align: top;\n",
       "    }\n",
       "\n",
       "    .dataframe thead th {\n",
       "        text-align: right;\n",
       "    }\n",
       "</style>\n",
       "<table border=\"1\" class=\"dataframe\">\n",
       "  <thead>\n",
       "    <tr style=\"text-align: right;\">\n",
       "      <th></th>\n",
       "      <th>patent</th>\n",
       "      <th>inventor_id</th>\n",
       "      <th>location_id</th>\n",
       "      <th>city</th>\n",
       "      <th>state</th>\n",
       "      <th>country</th>\n",
       "      <th>inv_msa</th>\n",
       "      <th>gyear</th>\n",
       "      <th>assignee_id</th>\n",
       "      <th>inv_asg_rank</th>\n",
       "    </tr>\n",
       "  </thead>\n",
       "  <tbody>\n",
       "    <tr>\n",
       "      <th>0</th>\n",
       "      <td>3930283</td>\n",
       "      <td>3930282-1</td>\n",
       "      <td>kkownp0p29c9</td>\n",
       "      <td>Ephrata</td>\n",
       "      <td>PA</td>\n",
       "      <td>US</td>\n",
       "      <td>Lancaster, PA</td>\n",
       "      <td>1976</td>\n",
       "      <td>6d92f55ba3875e01b5554b98c65c929a</td>\n",
       "      <td>0</td>\n",
       "    </tr>\n",
       "    <tr>\n",
       "      <th>1</th>\n",
       "      <td>3930282</td>\n",
       "      <td>3930282-1</td>\n",
       "      <td>kkownp0p29c9</td>\n",
       "      <td>Ephrata</td>\n",
       "      <td>PA</td>\n",
       "      <td>US</td>\n",
       "      <td>Lancaster, PA</td>\n",
       "      <td>1976</td>\n",
       "      <td>6d92f55ba3875e01b5554b98c65c929a</td>\n",
       "      <td>0</td>\n",
       "    </tr>\n",
       "    <tr>\n",
       "      <th>2</th>\n",
       "      <td>4041572</td>\n",
       "      <td>3930282-1</td>\n",
       "      <td>kkownp0p29c9</td>\n",
       "      <td>Ephrata</td>\n",
       "      <td>PA</td>\n",
       "      <td>US</td>\n",
       "      <td>Lancaster, PA</td>\n",
       "      <td>1977</td>\n",
       "      <td>6d92f55ba3875e01b5554b98c65c929a</td>\n",
       "      <td>0</td>\n",
       "    </tr>\n",
       "    <tr>\n",
       "      <th>3</th>\n",
       "      <td>4016624</td>\n",
       "      <td>3930282-1</td>\n",
       "      <td>kkownp0p29c9</td>\n",
       "      <td>Ephrata</td>\n",
       "      <td>PA</td>\n",
       "      <td>US</td>\n",
       "      <td>Lancaster, PA</td>\n",
       "      <td>1977</td>\n",
       "      <td>6d92f55ba3875e01b5554b98c65c929a</td>\n",
       "      <td>0</td>\n",
       "    </tr>\n",
       "    <tr>\n",
       "      <th>4</th>\n",
       "      <td>4102014</td>\n",
       "      <td>3930282-1</td>\n",
       "      <td>kkownp0p29c9</td>\n",
       "      <td>Ephrata</td>\n",
       "      <td>PA</td>\n",
       "      <td>US</td>\n",
       "      <td>Lancaster, PA</td>\n",
       "      <td>1978</td>\n",
       "      <td>6d92f55ba3875e01b5554b98c65c929a</td>\n",
       "      <td>0</td>\n",
       "    </tr>\n",
       "  </tbody>\n",
       "</table>\n",
       "</div>"
      ],
      "text/plain": [
       "    patent inventor_id   location_id     city state country        inv_msa  \\\n",
       "0  3930283   3930282-1  kkownp0p29c9  Ephrata    PA      US  Lancaster, PA   \n",
       "1  3930282   3930282-1  kkownp0p29c9  Ephrata    PA      US  Lancaster, PA   \n",
       "2  4041572   3930282-1  kkownp0p29c9  Ephrata    PA      US  Lancaster, PA   \n",
       "3  4016624   3930282-1  kkownp0p29c9  Ephrata    PA      US  Lancaster, PA   \n",
       "4  4102014   3930282-1  kkownp0p29c9  Ephrata    PA      US  Lancaster, PA   \n",
       "\n",
       "   gyear                       assignee_id  inv_asg_rank  \n",
       "0   1976  6d92f55ba3875e01b5554b98c65c929a             0  \n",
       "1   1976  6d92f55ba3875e01b5554b98c65c929a             0  \n",
       "2   1977  6d92f55ba3875e01b5554b98c65c929a             0  \n",
       "3   1977  6d92f55ba3875e01b5554b98c65c929a             0  \n",
       "4   1978  6d92f55ba3875e01b5554b98c65c929a             0  "
      ]
     },
     "execution_count": 20,
     "metadata": {},
     "output_type": "execute_result"
    }
   ],
   "source": [
    "ip = ip.merge(ir2, how = \"left\", on = [\"inventor_id\", \"assignee_id\"])\n",
    "ip.head()"
   ]
  },
  {
   "cell_type": "code",
   "execution_count": 21,
   "metadata": {
    "collapsed": true
   },
   "outputs": [],
   "source": [
    "ip.to_pickle(\"DataStore/2018-07/inv_move_pats_0712.pkl\")"
   ]
  },
  {
   "cell_type": "markdown",
   "metadata": {},
   "source": [
    "### Use only patents from rank 0 or 1"
   ]
  },
  {
   "cell_type": "code",
   "execution_count": 43,
   "metadata": {
    "collapsed": true
   },
   "outputs": [],
   "source": [
    "ip = pd.read_pickle(\"DataStore/2018-07/inv_move_pats_0712.pkl\")"
   ]
  },
  {
   "cell_type": "code",
   "execution_count": 44,
   "metadata": {},
   "outputs": [
    {
     "name": "stdout",
     "output_type": "stream",
     "text": [
      "140076\n",
      "66790\n"
     ]
    }
   ],
   "source": [
    "print(len(ip))\n",
    "ip = ip.loc[ip[\"inv_asg_rank\"].isin([0,1])]\n",
    "print(len(ip))"
   ]
  },
  {
   "cell_type": "markdown",
   "metadata": {},
   "source": [
    "### Inventor cross-patent similarity pairs"
   ]
  },
  {
   "cell_type": "code",
   "execution_count": 45,
   "metadata": {
    "collapsed": true
   },
   "outputs": [],
   "source": [
    "ig = ip[[\"patent\", \"inventor_id\"]].groupby([\"inventor_id\"])\n",
    "inv_pairs = [list(itertools.combinations(g[\"patent\"].tolist(),2)) for n,g in ig]\n",
    "inv_pairs = [item for sublist in inv_pairs for item in sublist]\n",
    "\n",
    "# Order them by earlier patent first\n",
    "inv_pairs = [(i,j) if i<j else (j,i) for i,j in inv_pairs ]"
   ]
  },
  {
   "cell_type": "code",
   "execution_count": 46,
   "metadata": {},
   "outputs": [
    {
     "name": "stdout",
     "output_type": "stream",
     "text": [
      "708757\n",
      "694573\n"
     ]
    }
   ],
   "source": [
    "# Convert to dataframe\n",
    "inv_pairs = pd.DataFrame({\"tp\": [i[0] for i in inv_pairs],\n",
    "                         \"op\": [i[1] for i in inv_pairs]})\n",
    "print(len(inv_pairs))\n",
    "inv_pairs = inv_pairs.drop_duplicates()\n",
    "print(len(inv_pairs))"
   ]
  },
  {
   "cell_type": "code",
   "execution_count": 47,
   "metadata": {
    "collapsed": true
   },
   "outputs": [],
   "source": [
    "# Get inventor\n",
    "pat_asg = dict(zip(ip[\"patent\"], ip[\"assignee_id\"]))\n",
    "inv_pairs[\"inventor_id\"] = inv_pairs[\"tp\"].map(dict(zip(ip[\"patent\"], ip[\"inventor_id\"])))\n",
    "# Get assignee for each patent\n",
    "inv_pairs[\"tp_asg\"] = inv_pairs[\"tp\"].map(pat_asg)\n",
    "inv_pairs[\"op_asg\"] = inv_pairs[\"op\"].map(pat_asg)\n",
    "# # Assignee match DON'T DO THIS\n",
    "# inv_pairs[\"asg_match\"] = (inv_pairs[\"tp_asg\"] == inv_pairs[\"op_asg\"])"
   ]
  },
  {
   "cell_type": "code",
   "execution_count": 48,
   "metadata": {},
   "outputs": [
    {
     "name": "stdout",
     "output_type": "stream",
     "text": [
      "694573\n",
      "CPU times: user 25.6 ms, sys: 5.1 ms, total: 30.7 ms\n",
      "Wall time: 29.9 ms\n",
      "CPU times: user 805 ms, sys: 232 µs, total: 805 ms\n",
      "Wall time: 784 ms\n",
      "694573\n"
     ]
    }
   ],
   "source": [
    "# Assignee match\n",
    "asgs = pickle.load(open(\"RawData/Cleaned/patent_assignee_dict_0628.pkl\", \"rb\"))\n",
    "print(len(inv_pairs))\n",
    "# Check that target and other do not have same assignee\n",
    "%time asg_match = (set(asgs.get(tp, [])).intersection(asgs.get(op, [])) for tp, op in zip(inv_pairs[\"tp\"], inv_pairs[\"op\"]))\n",
    "%time asg_match = [len(i) for i in asg_match]\n",
    "\n",
    "inv_pairs[\"asg_match\"] = [True if i >=1 else False for i in asg_match]\n",
    "print(len(inv_pairs))"
   ]
  },
  {
   "cell_type": "code",
   "execution_count": 49,
   "metadata": {},
   "outputs": [
    {
     "data": {
      "text/plain": [
       "True     556338\n",
       "False    138235\n",
       "Name: asg_match, dtype: int64"
      ]
     },
     "execution_count": 49,
     "metadata": {},
     "output_type": "execute_result"
    }
   ],
   "source": [
    "inv_pairs[\"asg_match\"].value_counts()"
   ]
  },
  {
   "cell_type": "markdown",
   "metadata": {},
   "source": [
    "### Did citation occur?"
   ]
  },
  {
   "cell_type": "code",
   "execution_count": 50,
   "metadata": {},
   "outputs": [
    {
     "name": "stdout",
     "output_type": "stream",
     "text": [
      "1700957\n",
      "91813\n"
     ]
    }
   ],
   "source": [
    "cit = dd.read_parquet(\"RawData/Cleaned/cit_0628.parq\")\n",
    "# Use only relevant citations\n",
    "cit = cit[cit[\"cited\"].isin(inv_pairs[\"tp\"])]\n",
    "print(len(cit))\n",
    "cit = cit[cit[\"citing\"].isin(inv_pairs[\"op\"])]\n",
    "print(len(cit))\n",
    "cit = cit.compute()\n",
    "\n",
    "# Citation dictionary\n",
    "cit = dict(zip(list(zip(cit[\"cited\"], cit[\"citing\"])), [True]*len(cit)))"
   ]
  },
  {
   "cell_type": "code",
   "execution_count": 51,
   "metadata": {
    "collapsed": true
   },
   "outputs": [],
   "source": [
    "inv_pairs[\"op_cites_tp\"] = [cit.get(i, False) for i in zip(inv_pairs[\"tp\"], inv_pairs[\"op\"])]"
   ]
  },
  {
   "cell_type": "code",
   "execution_count": 52,
   "metadata": {},
   "outputs": [
    {
     "data": {
      "text/plain": [
       "False    639532\n",
       "True      55041\n",
       "Name: op_cites_tp, dtype: int64"
      ]
     },
     "execution_count": 52,
     "metadata": {},
     "output_type": "execute_result"
    }
   ],
   "source": [
    "inv_pairs[\"op_cites_tp\"].value_counts()"
   ]
  },
  {
   "cell_type": "code",
   "execution_count": 53,
   "metadata": {
    "collapsed": true
   },
   "outputs": [],
   "source": [
    "fastparquet.write(\"DataStore/2018-07-P2/inv_move_pat_pairs_0714.parq\", inv_pairs, compression=\"GZIP\")"
   ]
  },
  {
   "cell_type": "code",
   "execution_count": 54,
   "metadata": {
    "collapsed": true
   },
   "outputs": [],
   "source": [
    "del(inv_pairs)"
   ]
  },
  {
   "cell_type": "markdown",
   "metadata": {},
   "source": [
    "### Similarity"
   ]
  },
  {
   "cell_type": "code",
   "execution_count": 62,
   "metadata": {},
   "outputs": [
    {
     "name": "stdout",
     "output_type": "stream",
     "text": [
      "Loading matrix and dict\n",
      "2018-07-16 18:10:59.821376\n",
      "694573\n",
      "571068\n",
      "571068\n",
      "571068\n",
      "Getting patent pair similarity\n",
      "cosine\n",
      "2018-07-16 18:11:09.198377\n",
      "finished\n",
      "2018-07-16 18:12:02.016132\n",
      "Loading matrix and dict\n",
      "2018-07-16 18:12:02.016190\n",
      "694573\n",
      "571068\n",
      "571068\n",
      "571068\n",
      "Getting patent pair similarity\n",
      "cosine\n",
      "2018-07-16 18:12:18.771313\n",
      "finished\n",
      "2018-07-16 18:13:36.925054\n"
     ]
    }
   ],
   "source": [
    "import scipy.spatial.distance as distance\n",
    "dms = [\"ldavecs\", \"docvecs\"]\n",
    "# dms = [\"ldavecs\"]\n",
    "res = {}\n",
    "for dm in dms:\n",
    "    print(\"Loading matrix and dict\")\n",
    "    print(datetime.datetime.now())\n",
    "    \n",
    "    pat_dict = fastparquet.ParquetFile(\"RawData/Cleaned/patabs7615_us_no_dup.parq\").to_pandas([\"patent\"])[\"patent\"].tolist()\n",
    "    pat_dict = dict(zip(pat_dict, range(len(pat_dict))))\n",
    "    pm = dd.read_parquet(\"DataStore/2018-07-P2/ML/{0}_pats_0712.parq\".format(dm)).values.compute()\n",
    "    \n",
    "    l3 = fastparquet.ParquetFile(\"DataStore/2018-07-P2/inv_move_pat_pairs_0714.parq\").to_pandas([\"tp\", \"op\"])\n",
    "    \n",
    "    # Remove missing values\n",
    "    print(len(l3))\n",
    "    l3 = l3.loc[l3[\"tp\"].isin(pat_dict.keys()) & l3[\"op\"].isin(pat_dict.keys())]\n",
    "    print(len(l3))\n",
    "    if dm == \"ldavecs\":\n",
    "        ncols = 60\n",
    "    else:\n",
    "        ncols = 100\n",
    "    print(len(l3))\n",
    "    tp_pv = pm[[pat_dict[p] for p in l3[\"tp\"].tolist()]]\n",
    "    op_pv = pm[[pat_dict[p] for p in l3[\"op\"].tolist()]]\n",
    "    print(len(l3))\n",
    "    del(pat_dict, pm)\n",
    "\n",
    "    # Split into chunks\n",
    "    n_chunks = np.round(len(l3)/3000)\n",
    "    tp_chunks = np.array_split(tp_pv, n_chunks)\n",
    "    op_chunks = np.array_split(op_pv, n_chunks)\n",
    "    del(tp_pv, op_pv)\n",
    "\n",
    "    print(\"Getting patent pair similarity\")\n",
    "    print(\"cosine\")\n",
    "    print(datetime.datetime.now())\n",
    "    # Cosine\n",
    "    # Recursively lengthen the array of cosine distances\n",
    "    cos_dis = np.array([])\n",
    "    for i,j in zip(tp_chunks, op_chunks):\n",
    "        cos_dis = np.hstack((cos_dis, np.hstack([np.diag(distance.cdist(i,j, metric = \"cosine\"))])))\n",
    "        \n",
    "    l3[\"sim_{0}\".format(dm)] = 1-cos_dis\n",
    "    res[dm] = l3\n",
    "    print(\"finished\")\n",
    "    print(datetime.datetime.now())\n",
    "    del(l3)    \n",
    "        "
   ]
  },
  {
   "cell_type": "code",
   "execution_count": 63,
   "metadata": {
    "collapsed": true
   },
   "outputs": [],
   "source": [
    "sim = res[\"ldavecs\"].merge(res[\"docvecs\"][[\"tp\", \"op\", \"sim_docvecs\"]],\n",
    "                          how = \"left\", on = [\"tp\", \"op\"])\n",
    "# Save raw similarity\n",
    "fastparquet.write(\"DataStore/2018-07-P2/inv_move_pat_pairs_sim_0714.parq\", sim, compression=\"GZIP\")"
   ]
  },
  {
   "cell_type": "code",
   "execution_count": 4,
   "metadata": {},
   "outputs": [
    {
     "name": "stdout",
     "output_type": "stream",
     "text": [
      "694573\n",
      "694573\n"
     ]
    }
   ],
   "source": [
    "inv_pairs = fastparquet.ParquetFile(\"DataStore/2018-07-P2/inv_move_pat_pairs_0714.parq\").to_pandas()\\\n",
    ".drop([\"sim_ldavecs\", \"sim_docvecs\"],1)\n",
    "print(len(inv_pairs))\n",
    "sim = fastparquet.ParquetFile(\"DataStore/2018-07/inv_move_pat_pairs_sim_0712.parq\").to_pandas()\n",
    "# Merge with original\n",
    "inv_pairs = inv_pairs.merge(sim, how = \"left\", on = [\"tp\", \"op\"])\n",
    "print(len(inv_pairs))"
   ]
  },
  {
   "cell_type": "code",
   "execution_count": 5,
   "metadata": {},
   "outputs": [
    {
     "data": {
      "text/html": [
       "<div>\n",
       "<style scoped>\n",
       "    .dataframe tbody tr th:only-of-type {\n",
       "        vertical-align: middle;\n",
       "    }\n",
       "\n",
       "    .dataframe tbody tr th {\n",
       "        vertical-align: top;\n",
       "    }\n",
       "\n",
       "    .dataframe thead th {\n",
       "        text-align: right;\n",
       "    }\n",
       "</style>\n",
       "<table border=\"1\" class=\"dataframe\">\n",
       "  <thead>\n",
       "    <tr style=\"text-align: right;\">\n",
       "      <th></th>\n",
       "      <th>op</th>\n",
       "      <th>tp</th>\n",
       "      <th>inventor_id</th>\n",
       "      <th>tp_asg</th>\n",
       "      <th>op_asg</th>\n",
       "      <th>asg_match</th>\n",
       "      <th>op_cites_tp</th>\n",
       "      <th>sim_ldavecs</th>\n",
       "      <th>sim_docvecs</th>\n",
       "    </tr>\n",
       "  </thead>\n",
       "  <tbody>\n",
       "    <tr>\n",
       "      <th>0</th>\n",
       "      <td>3930283</td>\n",
       "      <td>3930282</td>\n",
       "      <td>3930282-1</td>\n",
       "      <td>6d92f55ba3875e01b5554b98c65c929a</td>\n",
       "      <td>6d92f55ba3875e01b5554b98c65c929a</td>\n",
       "      <td>True</td>\n",
       "      <td>False</td>\n",
       "      <td>0.546727</td>\n",
       "      <td>0.519405</td>\n",
       "    </tr>\n",
       "    <tr>\n",
       "      <th>1</th>\n",
       "      <td>4041572</td>\n",
       "      <td>3930283</td>\n",
       "      <td>3930282-1</td>\n",
       "      <td>6d92f55ba3875e01b5554b98c65c929a</td>\n",
       "      <td>6d92f55ba3875e01b5554b98c65c929a</td>\n",
       "      <td>True</td>\n",
       "      <td>False</td>\n",
       "      <td>0.378731</td>\n",
       "      <td>0.250033</td>\n",
       "    </tr>\n",
       "    <tr>\n",
       "      <th>2</th>\n",
       "      <td>4016624</td>\n",
       "      <td>3930283</td>\n",
       "      <td>3930282-1</td>\n",
       "      <td>6d92f55ba3875e01b5554b98c65c929a</td>\n",
       "      <td>6d92f55ba3875e01b5554b98c65c929a</td>\n",
       "      <td>True</td>\n",
       "      <td>False</td>\n",
       "      <td>0.410078</td>\n",
       "      <td>0.497906</td>\n",
       "    </tr>\n",
       "    <tr>\n",
       "      <th>3</th>\n",
       "      <td>4102014</td>\n",
       "      <td>3930283</td>\n",
       "      <td>3930282-1</td>\n",
       "      <td>6d92f55ba3875e01b5554b98c65c929a</td>\n",
       "      <td>6d92f55ba3875e01b5554b98c65c929a</td>\n",
       "      <td>True</td>\n",
       "      <td>True</td>\n",
       "      <td>0.678831</td>\n",
       "      <td>0.264625</td>\n",
       "    </tr>\n",
       "    <tr>\n",
       "      <th>4</th>\n",
       "      <td>4477942</td>\n",
       "      <td>3930283</td>\n",
       "      <td>3930282-1</td>\n",
       "      <td>6d92f55ba3875e01b5554b98c65c929a</td>\n",
       "      <td>6d92f55ba3875e01b5554b98c65c929a</td>\n",
       "      <td>True</td>\n",
       "      <td>False</td>\n",
       "      <td>0.566891</td>\n",
       "      <td>0.438904</td>\n",
       "    </tr>\n",
       "  </tbody>\n",
       "</table>\n",
       "</div>"
      ],
      "text/plain": [
       "        op       tp inventor_id                            tp_asg  \\\n",
       "0  3930283  3930282   3930282-1  6d92f55ba3875e01b5554b98c65c929a   \n",
       "1  4041572  3930283   3930282-1  6d92f55ba3875e01b5554b98c65c929a   \n",
       "2  4016624  3930283   3930282-1  6d92f55ba3875e01b5554b98c65c929a   \n",
       "3  4102014  3930283   3930282-1  6d92f55ba3875e01b5554b98c65c929a   \n",
       "4  4477942  3930283   3930282-1  6d92f55ba3875e01b5554b98c65c929a   \n",
       "\n",
       "                             op_asg  asg_match  op_cites_tp  sim_ldavecs  \\\n",
       "0  6d92f55ba3875e01b5554b98c65c929a       True        False     0.546727   \n",
       "1  6d92f55ba3875e01b5554b98c65c929a       True        False     0.378731   \n",
       "2  6d92f55ba3875e01b5554b98c65c929a       True        False     0.410078   \n",
       "3  6d92f55ba3875e01b5554b98c65c929a       True         True     0.678831   \n",
       "4  6d92f55ba3875e01b5554b98c65c929a       True        False     0.566891   \n",
       "\n",
       "   sim_docvecs  \n",
       "0     0.519405  \n",
       "1     0.250033  \n",
       "2     0.497906  \n",
       "3     0.264625  \n",
       "4     0.438904  "
      ]
     },
     "execution_count": 5,
     "metadata": {},
     "output_type": "execute_result"
    }
   ],
   "source": [
    "inv_pairs.head()"
   ]
  },
  {
   "cell_type": "code",
   "execution_count": 66,
   "metadata": {
    "collapsed": true
   },
   "outputs": [],
   "source": [
    "# # Scale\n",
    "# eps = 0.01\n",
    "# dv_min = 0.7\n",
    "# def scale_docvecs(x):\n",
    "#     scaled = ((x+dv_min)/(1+dv_min))*(1-eps)+eps\n",
    "#     return scaled\n",
    "# def scale_ldavecs(x):\n",
    "#     scaled = x*(1-eps)+eps\n",
    "#     return scaled\n",
    "\n",
    "# # Scale measures\n",
    "# inv_pairs[\"sim_docvecs\"] = inv_pairs[\"sim_docvecs\"].apply(scale_docvecs)\n",
    "# inv_pairs[\"sim_ldavecs\"] = inv_pairs[\"sim_ldavecs\"].apply(scale_ldavecs)"
   ]
  },
  {
   "cell_type": "code",
   "execution_count": 6,
   "metadata": {
    "collapsed": true
   },
   "outputs": [],
   "source": [
    "# Not scaled\n",
    "fastparquet.write(\"DataStore/2018-07-P2/inv_move_pat_pairs_0714.parq\", inv_pairs, compression=\"GZIP\")"
   ]
  },
  {
   "cell_type": "code",
   "execution_count": null,
   "metadata": {
    "collapsed": true
   },
   "outputs": [],
   "source": []
  }
 ],
 "metadata": {
  "hide_input": false,
  "kernelspec": {
   "display_name": "Python 3",
   "language": "python",
   "name": "python3"
  },
  "language_info": {
   "codemirror_mode": {
    "name": "ipython",
    "version": 3
   },
   "file_extension": ".py",
   "mimetype": "text/x-python",
   "name": "python",
   "nbconvert_exporter": "python",
   "pygments_lexer": "ipython3",
   "version": "3.6.5"
  }
 },
 "nbformat": 4,
 "nbformat_minor": 2
}
