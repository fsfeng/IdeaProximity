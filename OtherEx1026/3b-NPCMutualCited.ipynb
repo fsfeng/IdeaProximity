{
 "cells": [
  {
   "cell_type": "code",
   "execution_count": 1,
   "metadata": {},
   "outputs": [
    {
     "name": "stderr",
     "output_type": "stream",
     "text": [
      "/homedir/eco/sfeng/bigdata/python/miniconda3/lib/python3.6/site-packages/h5py/__init__.py:36: FutureWarning: Conversion of the second argument of issubdtype from `float` to `np.floating` is deprecated. In future, it will be treated as `np.float64 == np.dtype(float).type`.\n",
      "  from ._conv import register_converters as _register_converters\n"
     ]
    }
   ],
   "source": [
    "import numpy as np\n",
    "import scipy as sp\n",
    "import pandas as pd\n",
    "import timeit\n",
    "import datetime\n",
    "import time\n",
    "import pprint\n",
    "import itertools\n",
    "import pickle\n",
    "import sklearn\n",
    "import dask\n",
    "import os\n",
    "os.chdir('/mnt/t48/bighomes-active/sfeng/patentdiffusion/')\n",
    "import fastparquet\n",
    "seed = 3\n",
    "import seaborn as sns\n",
    "import matplotlib\n",
    "import matplotlib.pyplot as plt\n",
    "import h5py\n",
    "import collections\n",
    "import dask\n",
    "import dask.dataframe as dd\n",
    "import dask.array as da"
   ]
  },
  {
   "cell_type": "code",
   "execution_count": 2,
   "metadata": {},
   "outputs": [
    {
     "name": "stdout",
     "output_type": "stream",
     "text": [
      "955553\n"
     ]
    }
   ],
   "source": [
    "npc = fastparquet.ParquetFile(\"DataStore/2018-10/mutual_npc_1027.parq\").to_pandas()\n",
    "mdc = fastparquet.ParquetFile(\"DataStore/2018-07-P2/mutual_cited_0716.parq\").to_pandas()\n",
    "\n",
    "# Only NPC from differing inventors\n",
    "npc = npc.loc[(npc[\"common_pat_inv\"] == False)]\n",
    "# Rename column\n",
    "npc = npc.rename(columns={\"direct_cite\": \"op_cites_tp\"})\n",
    "print(len(npc))\n",
    "\n",
    "def get_year_group_10(x):\n",
    "    if x in range(1975,1985):\n",
    "        yg = \"1975-85\"\n",
    "    elif x in range(1985,1995):\n",
    "        yg = \"1985-95\"\n",
    "    elif x in range(1995, 2005):\n",
    "        yg = \"1995-05\"\n",
    "    elif x in range(2005,2015):\n",
    "        yg = \"2005-15\"\n",
    "    else:\n",
    "        yg = np.nan\n",
    "    return yg\n",
    "\n",
    "npc[\"year_group\"] = npc[\"tp_gyear\"].apply(get_year_group_10)"
   ]
  },
  {
   "cell_type": "code",
   "execution_count": 24,
   "metadata": {},
   "outputs": [
    {
     "data": {
      "text/plain": [
       "Index(['1975-85', '1985-95', '1995-05', '2005-15'], dtype='object')"
      ]
     },
     "execution_count": 24,
     "metadata": {},
     "output_type": "execute_result"
    }
   ],
   "source": [
    "r.columns"
   ]
  },
  {
   "cell_type": "code",
   "execution_count": 50,
   "metadata": {},
   "outputs": [],
   "source": [
    "c = \"direct_cite\"\n",
    "m2 = npc\n",
    "npc_T = m2.loc[(m2[\"inv_msa_match\"] == True)].groupby(\"year_group\")\n",
    "npc_F = m2.loc[(m2[\"inv_msa_match\"] == False)].groupby(\"year_group\")\n",
    "\n",
    "npc_T_mean = npc_T.mean()[c]\n",
    "npc_F_mean = npc_F.mean()[c]\n",
    "# tot_size = m2.groupby(\"year_group\").size()\n",
    "# npc_T_size = npc_T.size()/tot_size\n",
    "# npc_F_size = npc_F.size()/tot_size\n",
    "\n",
    "npc_T_size = npc_T.size().astype(int).astype(str)\n",
    "npc_F_size = npc_F.size().astype(int).astype(str)\n",
    "\n",
    "vals = [sp.stats.ttest_ind(npc_T.get_group(n)[c], npc_F.get_group(n)[c], nan_policy=\"omit\")\n",
    "       for n in npc_T.groups.keys()]\n",
    "t = [i[0] for i in vals]\n",
    "p = [i[1] for i in vals]\n",
    "\n",
    "r = pd.DataFrame({\"Pr Direct Cite, $I(MSA \\,Match) = T$\": np.round(npc_T_mean,3).tolist(),\n",
    "                \"Pr Direct Cite, $I(MSA \\,Match) = F$\": np.round(npc_F_mean,3).tolist(),\n",
    "                \"$N, I(MSA \\,Match) = T$\": npc_T_size,\n",
    "                \"$N, I(MSA \\,Match) = F$\": npc_F_size,  \n",
    "                                  \"$t$-value\":np.round(t,2),\n",
    "                                  \"$p$-value\":np.round(p,2),\n",
    "                                 }, index=npc_T_mean.index.tolist())\n",
    "r = r[[\"Pr Direct Cite, $I(MSA \\,Match) = T$\", \"Pr Direct Cite, $I(MSA \\,Match) = F$\", \"$N, I(MSA \\,Match) = T$\",\n",
    "        \"$N, I(MSA \\,Match) = F$\",  \"$t$-value\", \"$p$-value\"]]\n",
    "dc_msa = r.T\n",
    "\n",
    "c = \"sim_docvecs\"\n",
    "npc_T_mean = npc_T.mean()[c]\n",
    "npc_F_mean = npc_F.mean()[c]\n",
    "\n",
    "vals = [sp.stats.ttest_ind(npc_T.get_group(n)[c], npc_F.get_group(n)[c], nan_policy=\"omit\")\n",
    "       for n in npc_T.groups.keys()]\n",
    "t = [i[0] for i in vals]\n",
    "p = [i[1] for i in vals]\n",
    "\n",
    "r = pd.DataFrame({\"Sim DV, $I(MSA \\,Match) = T$\": np.round(npc_T_mean,3).tolist(),\n",
    "                \"Sim DV, $I(MSA \\,Match) = F$\": np.round(npc_F_mean,3).tolist(),\n",
    "                \"$N, I(MSA \\,Match) = T$\": npc_T_size,\n",
    "                \"$N, I(MSA \\,Match) = F$\": npc_F_size,  \n",
    "                                  \"$t$-value\":np.round(t,2),\n",
    "                                  \"$p$-value\":np.round(p,2),\n",
    "                                 }, index=npc_T_mean.index.tolist())\n",
    "\n",
    "r = r[[\"Sim DV, $I(MSA \\,Match) = T$\", \"Sim DV, $I(MSA \\,Match) = F$\", \"$N, I(MSA \\,Match) = T$\",\n",
    "        \"$N, I(MSA \\,Match) = F$\",  \"$t$-value\", \"$p$-value\"]]\n",
    "dv_msa = r.T"
   ]
  },
  {
   "cell_type": "code",
   "execution_count": 55,
   "metadata": {},
   "outputs": [
    {
     "name": "stdout",
     "output_type": "stream",
     "text": [
      "\\begin{tabular}{lcccc}\n",
      "\\toprule\n",
      "{} & 1975-85 & 1985-95 & 1995-05 & 2005-15 \\\\\n",
      "\\midrule\n",
      "Pr Direct Cite, $I(MSA \\,Match) = T$ &   0.061 &    0.06 &   0.023 &   0.093 \\\\\n",
      "Pr Direct Cite, $I(MSA \\,Match) = F$ &   0.018 &   0.024 &   0.006 &   0.023 \\\\\n",
      "$N, I(MSA \\,Match) = T$              &      33 &     990 &   19848 &  212732 \\\\\n",
      "$N, I(MSA \\,Match) = F$              &     168 &    1780 &   45258 &  521351 \\\\\n",
      "$t$-value                            &    1.44 &    4.76 &   19.19 &  136.81 \\\\\n",
      "$p$-value                            &    0.15 &       0 &       0 &       0 \\\\\n",
      "\\bottomrule\n",
      "\\end{tabular}\n",
      "\n",
      "\\begin{tabular}{lcccc}\n",
      "\\toprule\n",
      "{} & 1975-85 & 1985-95 & 1995-05 & 2005-15 \\\\\n",
      "\\midrule\n",
      "Sim DV, $I(MSA \\,Match) = T$ &   0.537 &   0.393 &   0.356 &   0.331 \\\\\n",
      "Sim DV, $I(MSA \\,Match) = F$ &    0.23 &   0.212 &   0.378 &   0.522 \\\\\n",
      "$N, I(MSA \\,Match) = T$      &      33 &     990 &   19848 &  212732 \\\\\n",
      "$N, I(MSA \\,Match) = F$      &     168 &    1780 &   45258 &  521351 \\\\\n",
      "$t$-value                    &    8.59 &   22.67 &     -11 & -326.31 \\\\\n",
      "$p$-value                    &       0 &       0 &       0 &       0 \\\\\n",
      "\\bottomrule\n",
      "\\end{tabular}\n",
      "\n"
     ]
    }
   ],
   "source": [
    "print(dc_msa.to_latex(index=True,escape=False,column_format=\"lcccc\"))\n",
    "print(dv_msa.to_latex(index=True,escape=False,column_format=\"lcccc\"))"
   ]
  },
  {
   "cell_type": "code",
   "execution_count": 20,
   "metadata": {},
   "outputs": [],
   "source": [
    "\n",
    "npc_T = npc.groupby(\"year_group\")\n",
    "npc_F = mdc.groupby(\"year_group\")\n",
    "\n",
    "npc_T_size = npc_T.size().astype(int).astype(str)\n",
    "npc_F_size = npc_F.size().astype(int).astype(str)\n",
    "\n",
    "# Sim DocVecs\n",
    "c = \"op_cites_tp\"\n",
    "npc_T_mean = npc_T.mean()[c]\n",
    "npc_F_mean = npc_F.mean()[c]\n",
    "\n",
    "vals = [sp.stats.ttest_ind(npc_T.get_group(n)[c], npc_F.get_group(n)[c], nan_policy=\"omit\")\n",
    "       for n in npc_T.groups.keys()]\n",
    "t = [i[0] for i in vals]\n",
    "p = [i[1] for i in vals]\n",
    "\n",
    "r = pd.DataFrame({\"Sim DV, Common Non-Pat Cited\": np.round(npc_T_mean,3).tolist(),\n",
    "                \"Sim DV, Common Pat Cited\": np.round(npc_F_mean,3).tolist(),\n",
    "                \"$N$, Common Non-Pat Cited\": npc_T_size,\n",
    "                \"$N$, Common Pat Cited\": npc_F_size,  \n",
    "                                  \"$t$-value\":np.round(t,2),\n",
    "                                  \"$p$-value\":np.round(p,2),\n",
    "                                 }, index=npc_T_mean.index.tolist())\n",
    "r = r[[\"Sim DV, Common Non-Pat Cited\", \"Sim DV, Common Pat Cited\", \"$N$, Common Non-Pat Cited\",\n",
    "        \"$N$, Common Pat Cited\",  \"$t$-value\", \"$p$-value\"]]\n",
    "dc_comp = r.T\n",
    "\n",
    "# Direct cites\n",
    "c = \"sim_docvecs\"\n",
    "npc_T_mean = npc_T.mean()[c]\n",
    "npc_F_mean = npc_F.mean()[c]\n",
    "\n",
    "vals = [sp.stats.ttest_ind(npc_T.get_group(n)[c], npc_F.get_group(n)[c], nan_policy=\"omit\")\n",
    "       for n in npc_T.groups.keys()]\n",
    "t = [i[0] for i in vals]\n",
    "p = [i[1] for i in vals]\n",
    "\n",
    "r = pd.DataFrame({\"Pr Direct Cite, Common Non-Pat Cited\": np.round(npc_T_mean,3).tolist(),\n",
    "                \"Pr Direct Cite, Common Pat Cited\": np.round(npc_F_mean,3).tolist(),\n",
    "                \"$N$, Common Non-Pat Cited\": npc_T_size,\n",
    "                \"$N$, Common Pat Cited\": npc_F_size,  \n",
    "                                  \"$t$-value\":np.round(t,2),\n",
    "                                  \"$p$-value\":np.round(p,2),\n",
    "                                 }, index=npc_T_mean.index.tolist())\n",
    "r = r[[\"Pr Direct Cite, Common Non-Pat Cited\", \"Pr Direct Cite, Common Pat Cited\", \"$N$, Common Non-Pat Cited\",\n",
    "        \"$N$, Common Pat Cited\",  \"$t$-value\", \"$p$-value\"]]\n",
    "dv_comp = r.T"
   ]
  },
  {
   "cell_type": "code",
   "execution_count": 21,
   "metadata": {},
   "outputs": [
    {
     "name": "stdout",
     "output_type": "stream",
     "text": [
      "\\begin{tabular}{lcccc}\n",
      "\\toprule\n",
      "{} & 1975-85 & 1985-95 & 1995-05 &  2005-15 \\\\\n",
      "\\midrule\n",
      "Sim DV, Common Non-Pat Cited &   0.025 &   0.037 &   0.011 &    0.043 \\\\\n",
      "Sim DV, Common Pat Cited     &   0.068 &   0.059 &   0.028 &    0.011 \\\\\n",
      "$N$, Common Non-Pat Cited    &     201 &    2770 &   65106 &   734083 \\\\\n",
      "$N$, Common Pat Cited        &   18954 &  149593 &  871983 &  1404639 \\\\\n",
      "$t$-value                    &   -2.42 &   -4.96 &  -24.92 &   152.15 \\\\\n",
      "$p$-value                    &    0.02 &       0 &       0 &        0 \\\\\n",
      "\\bottomrule\n",
      "\\end{tabular}\n",
      "\n",
      "\\begin{tabular}{lcccc}\n",
      "\\toprule\n",
      "{} & 1975-85 & 1985-95 & 1995-05 &  2005-15 \\\\\n",
      "\\midrule\n",
      "Pr Direct Cite, Common Non-Pat Cited &    0.28 &   0.277 &   0.371 &    0.467 \\\\\n",
      "Pr Direct Cite, Common Pat Cited     &   0.272 &   0.255 &   0.225 &     0.22 \\\\\n",
      "$N$, Common Non-Pat Cited            &     201 &    2770 &   65106 &   734083 \\\\\n",
      "$N$, Common Pat Cited                &   18954 &  149593 &  871983 &  1404639 \\\\\n",
      "$t$-value                            &    0.77 &     7.6 &  242.03 &   920.84 \\\\\n",
      "$p$-value                            &    0.44 &       0 &       0 &        0 \\\\\n",
      "\\bottomrule\n",
      "\\end{tabular}\n",
      "\n"
     ]
    }
   ],
   "source": [
    "print(dc_comp.to_latex(index=True,escape=False,column_format=\"lcccc\"))\n",
    "print(dv_comp.to_latex(index=True,escape=False,column_format=\"lcccc\"))"
   ]
  },
  {
   "cell_type": "code",
   "execution_count": null,
   "metadata": {},
   "outputs": [],
   "source": []
  }
 ],
 "metadata": {
  "hide_input": false,
  "kernelspec": {
   "display_name": "Python 3",
   "language": "python",
   "name": "python3"
  },
  "language_info": {
   "codemirror_mode": {
    "name": "ipython",
    "version": 3
   },
   "file_extension": ".py",
   "mimetype": "text/x-python",
   "name": "python",
   "nbconvert_exporter": "python",
   "pygments_lexer": "ipython3",
   "version": "3.6.5"
  }
 },
 "nbformat": 4,
 "nbformat_minor": 2
}
