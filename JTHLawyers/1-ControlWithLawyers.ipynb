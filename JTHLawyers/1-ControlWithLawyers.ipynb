{
 "cells": [
  {
   "cell_type": "code",
   "execution_count": 1,
   "metadata": {},
   "outputs": [
    {
     "name": "stderr",
     "output_type": "stream",
     "text": [
      "/homedir/eco/sfeng/bigdata/python/miniconda3/lib/python3.6/site-packages/h5py/__init__.py:36: FutureWarning: Conversion of the second argument of issubdtype from `float` to `np.floating` is deprecated. In future, it will be treated as `np.float64 == np.dtype(float).type`.\n",
      "  from ._conv import register_converters as _register_converters\n",
      "/homedir/eco/sfeng/bigdata/python/miniconda3/lib/python3.6/site-packages/statsmodels/compat/pandas.py:56: FutureWarning: The pandas.core.datetools module is deprecated and will be removed in a future version. Please use the pandas.tseries module instead.\n",
      "  from pandas.core import datetools\n"
     ]
    }
   ],
   "source": [
    "import numpy as np\n",
    "import scipy as sp\n",
    "import pandas as pd\n",
    "import timeit\n",
    "import datetime\n",
    "import time\n",
    "import pprint\n",
    "import itertools\n",
    "import pickle\n",
    "import sklearn\n",
    "import dask\n",
    "import os\n",
    "os.chdir('/mnt/t48/bighomes-active/sfeng/patentdiffusion/')\n",
    "import fastparquet\n",
    "seed = 3\n",
    "import seaborn as sns\n",
    "import matplotlib\n",
    "import matplotlib.pyplot as plt\n",
    "import h5py\n",
    "import collections\n",
    "import statsmodels.api as sm\n",
    "import statsmodels.formula.api as smf\n",
    "import statsmodels.iolib.summary2 as summary2\n",
    "import dask\n",
    "import dask.dataframe as dd"
   ]
  },
  {
   "cell_type": "code",
   "execution_count": 1,
   "metadata": {},
   "outputs": [
    {
     "ename": "NameError",
     "evalue": "name 'pd' is not defined",
     "output_type": "error",
     "traceback": [
      "\u001b[0;31m---------------------------------------------------------------------------\u001b[0m",
      "\u001b[0;31mNameError\u001b[0m                                 Traceback (most recent call last)",
      "\u001b[0;32m<ipython-input-1-806ec706d41c>\u001b[0m in \u001b[0;36m<module>\u001b[0;34m()\u001b[0m\n\u001b[0;32m----> 1\u001b[0;31m \u001b[0mts\u001b[0m \u001b[0;34m=\u001b[0m \u001b[0mpd\u001b[0m\u001b[0;34m.\u001b[0m\u001b[0mread_pickle\u001b[0m\u001b[0;34m(\u001b[0m\u001b[0;34m\"DataStore/2018-07-P2/targ_samp_0717.pkl\"\u001b[0m\u001b[0;34m)\u001b[0m\u001b[0;34m\u001b[0m\u001b[0m\n\u001b[0m\u001b[1;32m      2\u001b[0m \u001b[0mpat_dict\u001b[0m \u001b[0;34m=\u001b[0m \u001b[0mfastparquet\u001b[0m\u001b[0;34m.\u001b[0m\u001b[0mParquetFile\u001b[0m\u001b[0;34m(\u001b[0m\u001b[0;34m\"RawData/Cleaned/patabs7615_us_no_dup.parq\"\u001b[0m\u001b[0;34m)\u001b[0m\u001b[0;34m.\u001b[0m\u001b[0mto_pandas\u001b[0m\u001b[0;34m(\u001b[0m\u001b[0;34m[\u001b[0m\u001b[0;34m\"patent\"\u001b[0m\u001b[0;34m]\u001b[0m\u001b[0;34m)\u001b[0m\u001b[0;34m[\u001b[0m\u001b[0;34m\"patent\"\u001b[0m\u001b[0;34m]\u001b[0m\u001b[0;34m.\u001b[0m\u001b[0mtolist\u001b[0m\u001b[0;34m(\u001b[0m\u001b[0;34m)\u001b[0m\u001b[0;34m\u001b[0m\u001b[0m\n\u001b[1;32m      3\u001b[0m \u001b[0mpat_dict\u001b[0m \u001b[0;34m=\u001b[0m \u001b[0mdict\u001b[0m\u001b[0;34m(\u001b[0m\u001b[0mzip\u001b[0m\u001b[0;34m(\u001b[0m\u001b[0mpat_dict\u001b[0m\u001b[0;34m,\u001b[0m \u001b[0mrange\u001b[0m\u001b[0;34m(\u001b[0m\u001b[0mlen\u001b[0m\u001b[0;34m(\u001b[0m\u001b[0mpat_dict\u001b[0m\u001b[0;34m)\u001b[0m\u001b[0;34m)\u001b[0m\u001b[0;34m)\u001b[0m\u001b[0;34m)\u001b[0m\u001b[0;34m\u001b[0m\u001b[0m\n\u001b[1;32m      4\u001b[0m \u001b[0;34m\u001b[0m\u001b[0m\n\u001b[1;32m      5\u001b[0m \u001b[0;31m# Drop duplicates\u001b[0m\u001b[0;34m\u001b[0m\u001b[0;34m\u001b[0m\u001b[0m\n",
      "\u001b[0;31mNameError\u001b[0m: name 'pd' is not defined"
     ]
    }
   ],
   "source": [
    "ts = pd.read_pickle(\"DataStore/2018-07-P2/targ_samp_0717.pkl\")\n",
    "pat_dict = fastparquet.ParquetFile(\"RawData/Cleaned/patabs7615_us_no_dup.parq\").to_pandas([\"patent\"])[\"patent\"].tolist()\n",
    "pat_dict = dict(zip(pat_dict, range(len(pat_dict))))\n",
    "\n",
    "# Drop duplicates\n",
    "dup_pats = pd.read_pickle(\"RawData/Cleaned/duplicate_pattext_0712.pkl\").tolist()\n",
    "# Get relevant US Patents\n",
    "ts = ts.loc[~ts[\"tp\"].isin(dup_pats)]\n",
    "\n",
    "ts = ts[[\"tp\", \"tp_primclass\", \"tp_gyear\", \"tp_inv_msa\", \"tp_match_5\", \"tp_match_10\", \"cp_match_5\", \"cp_match_10\"]]\n"
   ]
  },
  {
   "cell_type": "markdown",
   "metadata": {},
   "source": [
    "### 1. Identifying lawyer control patent\n",
    "- First: same lawyer, same PC, different assignee, different MSA, closest in grant date\n",
    "- Second: same lawyer, same PC, different assignee, different MSA, close in grant date but closest in similarity\n",
    "\n",
    "#### 1.1 Identify patents by same lawyer in same primary class"
   ]
  },
  {
   "cell_type": "code",
   "execution_count": 6,
   "metadata": {},
   "outputs": [
    {
     "name": "stdout",
     "output_type": "stream",
     "text": [
      "CPU times: user 21min 35s, sys: 1.7 s, total: 21min 37s\n",
      "Wall time: 21min 37s\n"
     ]
    }
   ],
   "source": [
    "# # Limit to lawyers of patents within the sample\n",
    "# ldf = pd.read_csv(\"RawData/Cleaned/patent_lawyer.csv\")\n",
    "# samp_lawyers = ldf.loc[ldf[\"patent\"].isin(ts[\"tp\"]), \"lawyer_id\"].unique()\n",
    "# ldf = ldf.loc[ldf[\"lawyer_id\"].isin(samp_lawyers)]\n",
    "\n",
    "# pdf = fastparquet.ParquetFile(\"RawData/Cleaned/patent_loc_unique_us_0628.parq\")\\\n",
    "# .to_pandas([\"patent\", \"primclass\"])\n",
    "# ldf[\"primclass\"] = ldf[\"patent\"].map(dict(zip(pdf[\"patent\"], pdf[\"primclass\"])))\n",
    "\n",
    "# # Lawyer to patents by primary class\n",
    "# %time ldf1 = {n:g[\"patent\"].values for n,g in ldf[[\"patent\", \"lawyer_id\", \"primclass\"]].groupby([\"lawyer_id\", \"primclass\"])}\n",
    "\n",
    "# Patents to lawyers\n",
    "%time ldf2 = {n:g[\"lawyer_id\"].tolist() for n,g in ldf[[\"patent\", \"lawyer_id\"]].groupby([\"patent\"])}"
   ]
  },
  {
   "cell_type": "code",
   "execution_count": 11,
   "metadata": {},
   "outputs": [
    {
     "name": "stdout",
     "output_type": "stream",
     "text": [
      "CPU times: user 1.11 s, sys: 7.22 ms, total: 1.12 s\n",
      "Wall time: 1.06 s\n",
      "CPU times: user 3.07 s, sys: 34.6 ms, total: 3.11 s\n",
      "Wall time: 2.96 s\n"
     ]
    }
   ],
   "source": [
    "# # Lawyer for each target\n",
    "# ts[\"tp_lawyer\"] = ts[\"tp\"].map(ldf2)\n",
    "# del(ldf2)\n",
    "# ts.to_pickle(\"DataStore/2018-11/jth_rep_lawyers_1109.pkl\")\n",
    "\n",
    "# # Only patents with lawyers\n",
    "# print(len(ts))\n",
    "# ts3 = ts.copy()\n",
    "# ts3 = ts3.loc[ts3[\"tp_lawyer\"].notnull() & ts3[\"tp_primclass\"].notnull()]\n",
    "# print(len(ts3))\n",
    "# Lawyer patents in same primary class\n",
    "%time lp = [[ldf1.get((l,pc), []) for l in j] for pc,j in zip(ts3[\"tp_primclass\"], ts3[\"tp_lawyer\"])]\n",
    "%time lp = [np.array([item for sublist in j for item in sublist]) for j in lp]"
   ]
  },
  {
   "cell_type": "code",
   "execution_count": 13,
   "metadata": {},
   "outputs": [
    {
     "name": "stdout",
     "output_type": "stream",
     "text": [
      "CPU times: user 38 s, sys: 129 ms, total: 38.1 s\n",
      "Wall time: 38.4 s\n"
     ]
    }
   ],
   "source": [
    "# 1. Patents with forward citations\n",
    "cit = fastparquet.ParquetFile(\"RawData/Cleaned/cit_0628.parq\").to_pandas([\"cited\"])[\"cited\"].unique()\n",
    "all_closest = np.concatenate(lp).ravel()\n",
    "cit = set(set(all_closest).intersection(cit))\n",
    "# cit = set(cit)\n",
    "%time cp_cited = [np.array(list(set(x).intersection(cit))) for x in iter(lp)]"
   ]
  },
  {
   "cell_type": "code",
   "execution_count": 14,
   "metadata": {},
   "outputs": [
    {
     "name": "stdout",
     "output_type": "stream",
     "text": [
      "CPU times: user 666 ms, sys: 43.1 ms, total: 710 ms\n",
      "Wall time: 692 ms\n",
      "CPU times: user 20.2 s, sys: 107 ms, total: 20.3 s\n",
      "Wall time: 20.4 s\n",
      "CPU times: user 839 ms, sys: 71.3 ms, total: 911 ms\n",
      "Wall time: 1e+03 ms\n"
     ]
    }
   ],
   "source": [
    "# 2. Patents from different assignee\n",
    "asgs = pickle.load(open(\"RawData/Cleaned/patent_assignee_dict_0628.pkl\", \"rb\"))\n",
    "%time tp_asgs = [set(asgs.get(p, [])) for p in ts3[\"tp\"]]\n",
    "%time cp_cited_asgs = [np.array([len(set(asgs.get(cp, [])).intersection(tasg)) for cp in j]) for j, tasg in zip(cp_cited, tp_asgs)]\n",
    "%time cp_cited_asgs_ind = [np.where(j == 0) for j in cp_cited_asgs]\n",
    "del(asgs)\n",
    "\n",
    "cp_cited2 = [x[i] for x,i in zip(cp_cited, cp_cited_asgs_ind)]"
   ]
  },
  {
   "cell_type": "code",
   "execution_count": 19,
   "metadata": {},
   "outputs": [],
   "source": [
    "# # 3. Patents from different MSAs\n",
    "msas = fastparquet.ParquetFile(\"RawData/Cleaned/patent_loc_unique_us_0628.parq\")\\\n",
    ".to_pandas([\"patent\", \"inv_msa\", \"gyear\"]) \n",
    "msas = dict(zip(msas[\"patent\"], msas[\"inv_msa\"]))\n",
    "cp_cited_msas = [[msas[cp] == tp_msa for cp in j] for j, tp_msa in zip(cp_cited2, ts3[\"tp_inv_msa\"])]\n",
    "cp_cited_msas_ind = [np.where(np.array(j) == False) for j in cp_cited_msas]\n",
    "\n",
    "cp_cited3 = [x[i] for x,i in zip(cp_cited2, cp_cited_msas_ind)]"
   ]
  },
  {
   "cell_type": "code",
   "execution_count": 16,
   "metadata": {},
   "outputs": [
    {
     "name": "stdout",
     "output_type": "stream",
     "text": [
      "CPU times: user 3.5 s, sys: 79.4 ms, total: 3.58 s\n",
      "Wall time: 3.65 s\n",
      "CPU times: user 181 ms, sys: 23 ms, total: 204 ms\n",
      "Wall time: 197 ms\n"
     ]
    }
   ],
   "source": [
    "# 3. Minimum difference to the target\n",
    "%time min_diff = [np.argsort(np.abs(x-p))[:20] for x,p in zip(cp_cited3, ts3[\"tp\"])]\n",
    "%time min_diff_cited = [x[i] for x,i in zip(cp_cited2, min_diff)]"
   ]
  },
  {
   "cell_type": "code",
   "execution_count": 17,
   "metadata": {},
   "outputs": [],
   "source": [
    "ts3[\"lawyer_cp_20\"] = min_diff_cited\n",
    "ts3[\"lawyer_cp\"] = [i[0] if len(i) >0 else np.nan for i in min_diff_cited]"
   ]
  },
  {
   "cell_type": "code",
   "execution_count": 20,
   "metadata": {},
   "outputs": [
    {
     "data": {
      "text/html": [
       "<div>\n",
       "<style scoped>\n",
       "    .dataframe tbody tr th:only-of-type {\n",
       "        vertical-align: middle;\n",
       "    }\n",
       "\n",
       "    .dataframe tbody tr th {\n",
       "        vertical-align: top;\n",
       "    }\n",
       "\n",
       "    .dataframe thead th {\n",
       "        text-align: right;\n",
       "    }\n",
       "</style>\n",
       "<table border=\"1\" class=\"dataframe\">\n",
       "  <thead>\n",
       "    <tr style=\"text-align: right;\">\n",
       "      <th></th>\n",
       "      <th>tp</th>\n",
       "      <th>tp_primclass</th>\n",
       "      <th>tp_gyear</th>\n",
       "      <th>tp_inv_msa</th>\n",
       "      <th>tp_match_5</th>\n",
       "      <th>tp_match_10</th>\n",
       "      <th>cp_match_5</th>\n",
       "      <th>cp_match_10</th>\n",
       "      <th>tp_lawyer</th>\n",
       "      <th>lawyer_cp_20</th>\n",
       "      <th>lawyer_cp</th>\n",
       "    </tr>\n",
       "  </thead>\n",
       "  <tbody>\n",
       "    <tr>\n",
       "      <th>3</th>\n",
       "      <td>5241648</td>\n",
       "      <td>1.0</td>\n",
       "      <td>1993</td>\n",
       "      <td>San Jose-Sunnyvale-Santa Clara, CA</td>\n",
       "      <td>0.200000</td>\n",
       "      <td>0.285714</td>\n",
       "      <td>0.064516</td>\n",
       "      <td>0.151261</td>\n",
       "      <td>[749929edbbcab0a2eaa0667c763f2c27]</td>\n",
       "      <td>[5386558.0]</td>\n",
       "      <td>5386558.0</td>\n",
       "    </tr>\n",
       "    <tr>\n",
       "      <th>5</th>\n",
       "      <td>6665662</td>\n",
       "      <td>1.0</td>\n",
       "      <td>2003</td>\n",
       "      <td>San Francisco-Oakland-Fremont, CA</td>\n",
       "      <td>0.000000</td>\n",
       "      <td>0.145833</td>\n",
       "      <td>0.500000</td>\n",
       "      <td>0.600000</td>\n",
       "      <td>[990c21b7d6b16ab5b9b00059651db718]</td>\n",
       "      <td>[6728713.0, 7467127.0, 7020661.0, 6205442.0, 7...</td>\n",
       "      <td>6728713.0</td>\n",
       "    </tr>\n",
       "    <tr>\n",
       "      <th>11</th>\n",
       "      <td>7502777</td>\n",
       "      <td>1.0</td>\n",
       "      <td>2009</td>\n",
       "      <td>San Jose-Sunnyvale-Santa Clara, CA</td>\n",
       "      <td>0.000000</td>\n",
       "      <td>0.000000</td>\n",
       "      <td>0.000000</td>\n",
       "      <td>0.000000</td>\n",
       "      <td>[a423a0487ae59e1bf3e2a76b1fc8b4c1]</td>\n",
       "      <td>[]</td>\n",
       "      <td>NaN</td>\n",
       "    </tr>\n",
       "    <tr>\n",
       "      <th>15</th>\n",
       "      <td>7599939</td>\n",
       "      <td>1.0</td>\n",
       "      <td>2009</td>\n",
       "      <td>San Jose-Sunnyvale-Santa Clara, CA</td>\n",
       "      <td>0.166667</td>\n",
       "      <td>0.250000</td>\n",
       "      <td>0.150000</td>\n",
       "      <td>0.103448</td>\n",
       "      <td>[dbb09f3f7278f39eebe5c1e06acabb48]</td>\n",
       "      <td>[7590648.0, 7555491.0, 7299243.0, 7024420.0, 6...</td>\n",
       "      <td>7590648.0</td>\n",
       "    </tr>\n",
       "    <tr>\n",
       "      <th>19</th>\n",
       "      <td>5021995</td>\n",
       "      <td>1.0</td>\n",
       "      <td>1991</td>\n",
       "      <td>Boston-Cambridge-Quincy, MA-NH</td>\n",
       "      <td>0.000000</td>\n",
       "      <td>0.000000</td>\n",
       "      <td>0.000000</td>\n",
       "      <td>0.250000</td>\n",
       "      <td>[2877ae79d50f0a6886a3da57a9c07d3c]</td>\n",
       "      <td>[]</td>\n",
       "      <td>NaN</td>\n",
       "    </tr>\n",
       "  </tbody>\n",
       "</table>\n",
       "</div>"
      ],
      "text/plain": [
       "         tp  tp_primclass  tp_gyear                          tp_inv_msa  \\\n",
       "3   5241648           1.0      1993  San Jose-Sunnyvale-Santa Clara, CA   \n",
       "5   6665662           1.0      2003   San Francisco-Oakland-Fremont, CA   \n",
       "11  7502777           1.0      2009  San Jose-Sunnyvale-Santa Clara, CA   \n",
       "15  7599939           1.0      2009  San Jose-Sunnyvale-Santa Clara, CA   \n",
       "19  5021995           1.0      1991      Boston-Cambridge-Quincy, MA-NH   \n",
       "\n",
       "    tp_match_5  tp_match_10  cp_match_5  cp_match_10  \\\n",
       "3     0.200000     0.285714    0.064516     0.151261   \n",
       "5     0.000000     0.145833    0.500000     0.600000   \n",
       "11    0.000000     0.000000    0.000000     0.000000   \n",
       "15    0.166667     0.250000    0.150000     0.103448   \n",
       "19    0.000000     0.000000    0.000000     0.250000   \n",
       "\n",
       "                             tp_lawyer  \\\n",
       "3   [749929edbbcab0a2eaa0667c763f2c27]   \n",
       "5   [990c21b7d6b16ab5b9b00059651db718]   \n",
       "11  [a423a0487ae59e1bf3e2a76b1fc8b4c1]   \n",
       "15  [dbb09f3f7278f39eebe5c1e06acabb48]   \n",
       "19  [2877ae79d50f0a6886a3da57a9c07d3c]   \n",
       "\n",
       "                                         lawyer_cp_20  lawyer_cp  \n",
       "3                                         [5386558.0]  5386558.0  \n",
       "5   [6728713.0, 7467127.0, 7020661.0, 6205442.0, 7...  6728713.0  \n",
       "11                                                 []        NaN  \n",
       "15  [7590648.0, 7555491.0, 7299243.0, 7024420.0, 6...  7590648.0  \n",
       "19                                                 []        NaN  "
      ]
     },
     "execution_count": 20,
     "metadata": {},
     "output_type": "execute_result"
    }
   ],
   "source": [
    "ts3.head()"
   ]
  },
  {
   "cell_type": "code",
   "execution_count": 21,
   "metadata": {},
   "outputs": [
    {
     "name": "stdout",
     "output_type": "stream",
     "text": [
      "255238\n",
      "141043\n"
     ]
    }
   ],
   "source": [
    "# Only sample with lawyer control\n",
    "print(len(ts3))\n",
    "ts3 = ts3.loc[ts3[\"lawyer_cp\"].notnull()]\n",
    "print(len(ts3))\n",
    "ts3.to_pickle(\"DataStore/2018-11/jth_rep_lawyers_control_1109.pkl\")"
   ]
  },
  {
   "cell_type": "markdown",
   "metadata": {},
   "source": [
    "#### 1.2 Identify lawyer patent that has highest cosine similarity (and close grant date) to target"
   ]
  },
  {
   "cell_type": "code",
   "execution_count": 34,
   "metadata": {},
   "outputs": [
    {
     "name": "stdout",
     "output_type": "stream",
     "text": [
      "141043\n",
      "137850\n"
     ]
    }
   ],
   "source": [
    "# Only use lawyer patents in the patent dictionary\n",
    "ts3[\"lawyer_cp_20_pd\"] = [[p for p in j if p in pat_dict.keys()] for j in ts3[\"lawyer_cp_20\"]]\n",
    "\n",
    "# Make sure lawyer patents not empty\n",
    "print(len(ts3))\n",
    "ts3 = ts3.loc[(ts3[\"lawyer_cp_20_pd\"].apply(len) > 0)]\n",
    "print(len(ts3))"
   ]
  },
  {
   "cell_type": "code",
   "execution_count": 38,
   "metadata": {},
   "outputs": [
    {
     "name": "stdout",
     "output_type": "stream",
     "text": [
      "('getting sim', datetime.datetime(2018, 11, 9, 13, 45, 28, 654698))\n",
      "2018-11-09 13:47:29.652495\n"
     ]
    }
   ],
   "source": [
    "from sklearn.metrics import pairwise\n",
    "\n",
    "dm = \"docvecs\"\n",
    "pm = fastparquet.ParquetFile(\"DataStore/2018-07-P2/ML/{0}_pats_0712.parq\".format(dm))\\\n",
    "        .to_pandas().values\n",
    "tp_row = [pm[[pat_dict[p]]] for p in ts3[\"tp\"]]\n",
    "lp_row  = [pm[[pat_dict.get(p) for p in j]] for j in ts3[\"lawyer_cp_20_pd\"]]\n",
    "del(pm)\n",
    "sim = []\n",
    "print(\"getting sim\")\n",
    "print(datetime.datetime.now())\n",
    "for tp, lp in zip(tp_row, lp_row):\n",
    "    s = list(pairwise.cosine_similarity(tp, lp).ravel())\n",
    "    sim = sim+[s]\n",
    "print(datetime.datetime.now())"
   ]
  },
  {
   "cell_type": "code",
   "execution_count": 44,
   "metadata": {},
   "outputs": [],
   "source": [
    "ts3[\"lawyer_cp_pd_sim\"] = sim\n",
    "\n",
    "lawyer_sim_cont = [np.argmin(s) for s in sim]\n",
    "ts3[\"lawyer_sim_cp\"] = [x[i] for x,i in zip(ts3[\"lawyer_cp_20_pd\"], lawyer_sim_cont)]"
   ]
  },
  {
   "cell_type": "code",
   "execution_count": 48,
   "metadata": {},
   "outputs": [
    {
     "data": {
      "text/html": [
       "<div>\n",
       "<style scoped>\n",
       "    .dataframe tbody tr th:only-of-type {\n",
       "        vertical-align: middle;\n",
       "    }\n",
       "\n",
       "    .dataframe tbody tr th {\n",
       "        vertical-align: top;\n",
       "    }\n",
       "\n",
       "    .dataframe thead th {\n",
       "        text-align: right;\n",
       "    }\n",
       "</style>\n",
       "<table border=\"1\" class=\"dataframe\">\n",
       "  <thead>\n",
       "    <tr style=\"text-align: right;\">\n",
       "      <th></th>\n",
       "      <th>tp</th>\n",
       "      <th>tp_primclass</th>\n",
       "      <th>tp_gyear</th>\n",
       "      <th>tp_inv_msa</th>\n",
       "      <th>tp_match_5</th>\n",
       "      <th>tp_match_10</th>\n",
       "      <th>cp_match_5</th>\n",
       "      <th>cp_match_10</th>\n",
       "      <th>tp_lawyer</th>\n",
       "      <th>lawyer_cp_20</th>\n",
       "      <th>lawyer_cp</th>\n",
       "      <th>lawyer_cp_20_pd</th>\n",
       "      <th>lawyer_cp_pd_sim</th>\n",
       "      <th>lawyer_sim_cp</th>\n",
       "    </tr>\n",
       "  </thead>\n",
       "  <tbody>\n",
       "    <tr>\n",
       "      <th>3</th>\n",
       "      <td>5241648</td>\n",
       "      <td>1.0</td>\n",
       "      <td>1993</td>\n",
       "      <td>San Jose-Sunnyvale-Santa Clara, CA</td>\n",
       "      <td>0.200000</td>\n",
       "      <td>0.285714</td>\n",
       "      <td>0.064516</td>\n",
       "      <td>0.151261</td>\n",
       "      <td>[749929edbbcab0a2eaa0667c763f2c27]</td>\n",
       "      <td>[5386558.0]</td>\n",
       "      <td>5386558.0</td>\n",
       "      <td>[5386558.0]</td>\n",
       "      <td>[0.11714580654668626]</td>\n",
       "      <td>5386558.0</td>\n",
       "    </tr>\n",
       "    <tr>\n",
       "      <th>5</th>\n",
       "      <td>6665662</td>\n",
       "      <td>1.0</td>\n",
       "      <td>2003</td>\n",
       "      <td>San Francisco-Oakland-Fremont, CA</td>\n",
       "      <td>0.000000</td>\n",
       "      <td>0.145833</td>\n",
       "      <td>0.500000</td>\n",
       "      <td>0.600000</td>\n",
       "      <td>[990c21b7d6b16ab5b9b00059651db718]</td>\n",
       "      <td>[6728713.0, 7467127.0, 7020661.0, 6205442.0, 7...</td>\n",
       "      <td>6728713.0</td>\n",
       "      <td>[6728713.0, 7467127.0, 7020661.0, 6205442.0, 7...</td>\n",
       "      <td>[0.2905920125871887, 0.05489737161470509, 0.15...</td>\n",
       "      <td>6205442.0</td>\n",
       "    </tr>\n",
       "    <tr>\n",
       "      <th>15</th>\n",
       "      <td>7599939</td>\n",
       "      <td>1.0</td>\n",
       "      <td>2009</td>\n",
       "      <td>San Jose-Sunnyvale-Santa Clara, CA</td>\n",
       "      <td>0.166667</td>\n",
       "      <td>0.250000</td>\n",
       "      <td>0.150000</td>\n",
       "      <td>0.103448</td>\n",
       "      <td>[dbb09f3f7278f39eebe5c1e06acabb48]</td>\n",
       "      <td>[7590648.0, 7555491.0, 7299243.0, 7024420.0, 6...</td>\n",
       "      <td>7590648.0</td>\n",
       "      <td>[7590648.0, 7555491.0, 7299243.0, 7024420.0, 6...</td>\n",
       "      <td>[0.17401909527421866, 0.08728948251402635, 0.2...</td>\n",
       "      <td>7555491.0</td>\n",
       "    </tr>\n",
       "    <tr>\n",
       "      <th>26</th>\n",
       "      <td>7043476</td>\n",
       "      <td>1.0</td>\n",
       "      <td>2006</td>\n",
       "      <td>New York-Northern New Jersey-Long Island, NY-N...</td>\n",
       "      <td>0.000000</td>\n",
       "      <td>0.000000</td>\n",
       "      <td>0.000000</td>\n",
       "      <td>0.016949</td>\n",
       "      <td>[0f686a9b3ebcc743e3d2ec3adbec284b, 5853e967014...</td>\n",
       "      <td>[6487554.0, 6253207.0, 6496831.0]</td>\n",
       "      <td>6487554.0</td>\n",
       "      <td>[6253207.0]</td>\n",
       "      <td>[0.09528161686142628]</td>\n",
       "      <td>6253207.0</td>\n",
       "    </tr>\n",
       "    <tr>\n",
       "      <th>59</th>\n",
       "      <td>5206947</td>\n",
       "      <td>1.0</td>\n",
       "      <td>1993</td>\n",
       "      <td>San Jose-Sunnyvale-Santa Clara, CA</td>\n",
       "      <td>1.000000</td>\n",
       "      <td>0.500000</td>\n",
       "      <td>0.000000</td>\n",
       "      <td>0.000000</td>\n",
       "      <td>[406b554aaf3a924f4ead1a7e50b4f887]</td>\n",
       "      <td>[5222235.0, 5396623.0, 5430871.0, 5625817.0, 5...</td>\n",
       "      <td>5222235.0</td>\n",
       "      <td>[5222235.0, 5396623.0, 5430871.0, 5625817.0, 5...</td>\n",
       "      <td>[0.09300016237332007, 0.24661602489677448, 0.2...</td>\n",
       "      <td>5222235.0</td>\n",
       "    </tr>\n",
       "  </tbody>\n",
       "</table>\n",
       "</div>"
      ],
      "text/plain": [
       "         tp  tp_primclass  tp_gyear  \\\n",
       "3   5241648           1.0      1993   \n",
       "5   6665662           1.0      2003   \n",
       "15  7599939           1.0      2009   \n",
       "26  7043476           1.0      2006   \n",
       "59  5206947           1.0      1993   \n",
       "\n",
       "                                           tp_inv_msa  tp_match_5  \\\n",
       "3                  San Jose-Sunnyvale-Santa Clara, CA    0.200000   \n",
       "5                   San Francisco-Oakland-Fremont, CA    0.000000   \n",
       "15                 San Jose-Sunnyvale-Santa Clara, CA    0.166667   \n",
       "26  New York-Northern New Jersey-Long Island, NY-N...    0.000000   \n",
       "59                 San Jose-Sunnyvale-Santa Clara, CA    1.000000   \n",
       "\n",
       "    tp_match_10  cp_match_5  cp_match_10  \\\n",
       "3      0.285714    0.064516     0.151261   \n",
       "5      0.145833    0.500000     0.600000   \n",
       "15     0.250000    0.150000     0.103448   \n",
       "26     0.000000    0.000000     0.016949   \n",
       "59     0.500000    0.000000     0.000000   \n",
       "\n",
       "                                            tp_lawyer  \\\n",
       "3                  [749929edbbcab0a2eaa0667c763f2c27]   \n",
       "5                  [990c21b7d6b16ab5b9b00059651db718]   \n",
       "15                 [dbb09f3f7278f39eebe5c1e06acabb48]   \n",
       "26  [0f686a9b3ebcc743e3d2ec3adbec284b, 5853e967014...   \n",
       "59                 [406b554aaf3a924f4ead1a7e50b4f887]   \n",
       "\n",
       "                                         lawyer_cp_20  lawyer_cp  \\\n",
       "3                                         [5386558.0]  5386558.0   \n",
       "5   [6728713.0, 7467127.0, 7020661.0, 6205442.0, 7...  6728713.0   \n",
       "15  [7590648.0, 7555491.0, 7299243.0, 7024420.0, 6...  7590648.0   \n",
       "26                  [6487554.0, 6253207.0, 6496831.0]  6487554.0   \n",
       "59  [5222235.0, 5396623.0, 5430871.0, 5625817.0, 5...  5222235.0   \n",
       "\n",
       "                                      lawyer_cp_20_pd  \\\n",
       "3                                         [5386558.0]   \n",
       "5   [6728713.0, 7467127.0, 7020661.0, 6205442.0, 7...   \n",
       "15  [7590648.0, 7555491.0, 7299243.0, 7024420.0, 6...   \n",
       "26                                        [6253207.0]   \n",
       "59  [5222235.0, 5396623.0, 5430871.0, 5625817.0, 5...   \n",
       "\n",
       "                                     lawyer_cp_pd_sim  lawyer_sim_cp  \n",
       "3                               [0.11714580654668626]      5386558.0  \n",
       "5   [0.2905920125871887, 0.05489737161470509, 0.15...      6205442.0  \n",
       "15  [0.17401909527421866, 0.08728948251402635, 0.2...      7555491.0  \n",
       "26                              [0.09528161686142628]      6253207.0  \n",
       "59  [0.09300016237332007, 0.24661602489677448, 0.2...      5222235.0  "
      ]
     },
     "execution_count": 48,
     "metadata": {},
     "output_type": "execute_result"
    }
   ],
   "source": [
    "# ts3.to_pickle(\"DataStore/2018-11/jth_rep_lawyers_control_1109.pkl\")\n",
    "ts3.head()"
   ]
  },
  {
   "cell_type": "markdown",
   "metadata": {},
   "source": [
    "### 2. Find location of control patent's forward citations\n",
    "\n",
    "#### 2.1 Get location of citing patents for each of the closest patents"
   ]
  },
  {
   "cell_type": "code",
   "execution_count": 49,
   "metadata": {},
   "outputs": [
    {
     "name": "stdout",
     "output_type": "stream",
     "text": [
      "CPU times: user 166 ms, sys: 68.1 ms, total: 234 ms\n",
      "Wall time: 224 ms\n",
      "CPU times: user 13.4 s, sys: 34.3 ms, total: 13.4 s\n",
      "Wall time: 12.8 s\n",
      "3721781\n",
      "1209885\n"
     ]
    }
   ],
   "source": [
    "all_p = ts3[\"lawyer_cp\"].tolist()+ts3[\"lawyer_sim_cp\"].tolist()\n",
    "\n",
    "cit = fastparquet.ParquetFile(\"RawData/Cleaned/cit_0628.parq\").to_pandas()\n",
    "c2 = cit.loc[cit[\"cited\"].isin(all_p)]\n",
    "del(cit)\n",
    "asgs = pickle.load(open(\"RawData/Cleaned/patent_assignee_dict_0628.pkl\", \"rb\"))\n",
    "# Remove self-citations\n",
    "%time asg_match = (set(asgs.get(cited, [])).intersection(asgs.get(citing, [])) for cited, citing \\\n",
    "                       in zip(c2[\"cited\"], c2[\"citing\"]))\n",
    "%time asg_match = [len(i) for i in asg_match]\n",
    "del(asgs)\n",
    "c2[\"asg_match\"] = asg_match\n",
    "c2 = c2.loc[c2[\"asg_match\"] == 0]\n",
    "c2 = c2[[\"citing\", \"cited\"]]\n",
    "\n",
    "\n",
    "pdf = fastparquet.ParquetFile(\"RawData/Cleaned/patent_loc_unique_us_0628.parq\")\\\n",
    ".to_pandas([\"patent\", \"inv_msa\", \"gyear\"])\n",
    "\n",
    "# Citing patents granted in 10 years of cited\n",
    "gy = dict(zip(pdf[\"patent\"], pdf[\"gyear\"]))\n",
    "c2[\"cited_gyear\"] = c2[\"cited\"].map(gy)\n",
    "c2[\"citing_gyear\"] = c2[\"citing\"].map(gy)\n",
    "c2[\"diff\"] = c2[\"citing_gyear\"] - c2[\"cited_gyear\"]\n",
    "print(len(c2))\n",
    "c2 = c2.loc[c2[\"diff\"] <= 10]\n",
    "print(len(c2))\n",
    "\n",
    "# Get location of each citing patent\n",
    "msa = dict(zip(pdf[\"patent\"], pdf[\"inv_msa\"]))\n",
    "c2[\"citing_inv_msa\"] = c2[\"citing\"].map(msa)"
   ]
  },
  {
   "cell_type": "code",
   "execution_count": 50,
   "metadata": {},
   "outputs": [
    {
     "name": "stdout",
     "output_type": "stream",
     "text": [
      "CPU times: user 34.6 s, sys: 13.7 ms, total: 34.6 s\n",
      "Wall time: 34.9 s\n"
     ]
    }
   ],
   "source": [
    "# Dictionary of cited patent to citing locations\n",
    "%time cit = {n: g[\"citing_inv_msa\"].tolist() for n,g in c2[[\"cited\", \"citing_inv_msa\"]].groupby(\"cited\")}"
   ]
  },
  {
   "cell_type": "code",
   "execution_count": 51,
   "metadata": {},
   "outputs": [
    {
     "name": "stdout",
     "output_type": "stream",
     "text": [
      "CPU times: user 2.2 ms, sys: 0 ns, total: 2.2 ms\n",
      "Wall time: 2.23 ms\n",
      "CPU times: user 1.06 s, sys: 3.05 ms, total: 1.07 s\n",
      "Wall time: 1.06 s\n",
      "CPU times: user 466 ms, sys: 154 µs, total: 466 ms\n",
      "Wall time: 454 ms\n"
     ]
    }
   ],
   "source": [
    "# Location of citing patent for each lawyer control patent\n",
    "# List of lists of locations\n",
    "%time loc_cit = (cit.get(cp, []) for cp in ts3[\"lawyer_cp\"].tolist())\n",
    "%time loc_cit = [np.array([i == tp_msa for i in j]) for j,tp_msa in zip(loc_cit, ts3[\"tp_inv_msa\"])]\n",
    "# Proportion of True\n",
    "%time loc_cit1 = [len(j[np.where(j == True)])/len(j) if len(j) >0 else np.nan for j in loc_cit]"
   ]
  },
  {
   "cell_type": "code",
   "execution_count": 56,
   "metadata": {},
   "outputs": [
    {
     "name": "stdout",
     "output_type": "stream",
     "text": [
      "CPU times: user 115 ms, sys: 870 µs, total: 115 ms\n",
      "Wall time: 125 ms\n",
      "CPU times: user 1.45 s, sys: 4.27 ms, total: 1.45 s\n",
      "Wall time: 1.59 s\n",
      "CPU times: user 471 ms, sys: 0 ns, total: 471 ms\n",
      "Wall time: 517 ms\n"
     ]
    }
   ],
   "source": [
    "# Location of citing patent for each lawyer sim control patent\n",
    "# List of lists of locations\n",
    "%time loc_cit = (cit.get(cp, []) for cp in ts3[\"lawyer_sim_cp\"].tolist())\n",
    "%time loc_cit = [np.array([i == tp_msa for i in j]) for j,tp_msa in zip(loc_cit, ts3[\"tp_inv_msa\"])]\n",
    "# Proportion of True\n",
    "%time loc_cit2 = [len(j[np.where(j == True)])/len(j) if len(j) >0 else np.nan for j in loc_cit]"
   ]
  },
  {
   "cell_type": "code",
   "execution_count": 57,
   "metadata": {},
   "outputs": [],
   "source": [
    "ts3[\"lawyer_cp_match_10\"] = loc_cit1\n",
    "ts3[\"lawyer_sim_cp_match_10\"] = loc_cit2"
   ]
  },
  {
   "cell_type": "code",
   "execution_count": 61,
   "metadata": {},
   "outputs": [],
   "source": [
    "def get_year_group_10(x):\n",
    "    if x in range(1975,1985):\n",
    "        yg = \"1975-85\"\n",
    "    elif x in range(1985,1995):\n",
    "        yg = \"1985-95\"\n",
    "    elif x in range(1995, 2005):\n",
    "        yg = \"1995-05\"\n",
    "    elif x in range(2005,2015):\n",
    "        yg = \"2005-15\"\n",
    "    else:\n",
    "        yg = np.nan\n",
    "    return yg\n",
    "\n",
    "ts3[\"year_group\"] = ts3[\"tp_gyear\"].apply(get_year_group_10)"
   ]
  },
  {
   "cell_type": "code",
   "execution_count": 64,
   "metadata": {},
   "outputs": [
    {
     "data": {
      "text/html": [
       "<div>\n",
       "<style scoped>\n",
       "    .dataframe tbody tr th:only-of-type {\n",
       "        vertical-align: middle;\n",
       "    }\n",
       "\n",
       "    .dataframe tbody tr th {\n",
       "        vertical-align: top;\n",
       "    }\n",
       "\n",
       "    .dataframe thead th {\n",
       "        text-align: right;\n",
       "    }\n",
       "</style>\n",
       "<table border=\"1\" class=\"dataframe\">\n",
       "  <thead>\n",
       "    <tr style=\"text-align: right;\">\n",
       "      <th></th>\n",
       "      <th>tp</th>\n",
       "      <th>tp_primclass</th>\n",
       "      <th>tp_gyear</th>\n",
       "      <th>tp_inv_msa</th>\n",
       "      <th>tp_match_5</th>\n",
       "      <th>tp_match_10</th>\n",
       "      <th>cp_match_5</th>\n",
       "      <th>cp_match_10</th>\n",
       "      <th>tp_lawyer</th>\n",
       "      <th>lawyer_cp_20</th>\n",
       "      <th>lawyer_cp</th>\n",
       "      <th>lawyer_cp_20_pd</th>\n",
       "      <th>lawyer_cp_pd_sim</th>\n",
       "      <th>lawyer_sim_cp</th>\n",
       "      <th>lawyer_cp_match_10</th>\n",
       "      <th>lawyer_sim_cp_match_10</th>\n",
       "      <th>year_group</th>\n",
       "    </tr>\n",
       "  </thead>\n",
       "  <tbody>\n",
       "    <tr>\n",
       "      <th>3</th>\n",
       "      <td>5241648</td>\n",
       "      <td>1.0</td>\n",
       "      <td>1993</td>\n",
       "      <td>San Jose-Sunnyvale-Santa Clara, CA</td>\n",
       "      <td>0.200000</td>\n",
       "      <td>0.285714</td>\n",
       "      <td>0.064516</td>\n",
       "      <td>0.151261</td>\n",
       "      <td>[749929edbbcab0a2eaa0667c763f2c27]</td>\n",
       "      <td>[5386558.0]</td>\n",
       "      <td>5386558.0</td>\n",
       "      <td>[5386558.0]</td>\n",
       "      <td>[0.11714580654668626]</td>\n",
       "      <td>5386558.0</td>\n",
       "      <td>0.000000</td>\n",
       "      <td>0.000000</td>\n",
       "      <td>1985-95</td>\n",
       "    </tr>\n",
       "    <tr>\n",
       "      <th>5</th>\n",
       "      <td>6665662</td>\n",
       "      <td>1.0</td>\n",
       "      <td>2003</td>\n",
       "      <td>San Francisco-Oakland-Fremont, CA</td>\n",
       "      <td>0.000000</td>\n",
       "      <td>0.145833</td>\n",
       "      <td>0.500000</td>\n",
       "      <td>0.600000</td>\n",
       "      <td>[990c21b7d6b16ab5b9b00059651db718]</td>\n",
       "      <td>[6728713.0, 7467127.0, 7020661.0, 6205442.0, 7...</td>\n",
       "      <td>6728713.0</td>\n",
       "      <td>[6728713.0, 7467127.0, 7020661.0, 6205442.0, 7...</td>\n",
       "      <td>[0.2905920125871887, 0.05489737161470509, 0.15...</td>\n",
       "      <td>6205442.0</td>\n",
       "      <td>0.066667</td>\n",
       "      <td>0.333333</td>\n",
       "      <td>1995-05</td>\n",
       "    </tr>\n",
       "    <tr>\n",
       "      <th>15</th>\n",
       "      <td>7599939</td>\n",
       "      <td>1.0</td>\n",
       "      <td>2009</td>\n",
       "      <td>San Jose-Sunnyvale-Santa Clara, CA</td>\n",
       "      <td>0.166667</td>\n",
       "      <td>0.250000</td>\n",
       "      <td>0.150000</td>\n",
       "      <td>0.103448</td>\n",
       "      <td>[dbb09f3f7278f39eebe5c1e06acabb48]</td>\n",
       "      <td>[7590648.0, 7555491.0, 7299243.0, 7024420.0, 6...</td>\n",
       "      <td>7590648.0</td>\n",
       "      <td>[7590648.0, 7555491.0, 7299243.0, 7024420.0, 6...</td>\n",
       "      <td>[0.17401909527421866, 0.08728948251402635, 0.2...</td>\n",
       "      <td>7555491.0</td>\n",
       "      <td>0.500000</td>\n",
       "      <td>NaN</td>\n",
       "      <td>2005-15</td>\n",
       "    </tr>\n",
       "    <tr>\n",
       "      <th>26</th>\n",
       "      <td>7043476</td>\n",
       "      <td>1.0</td>\n",
       "      <td>2006</td>\n",
       "      <td>New York-Northern New Jersey-Long Island, NY-N...</td>\n",
       "      <td>0.000000</td>\n",
       "      <td>0.000000</td>\n",
       "      <td>0.000000</td>\n",
       "      <td>0.016949</td>\n",
       "      <td>[0f686a9b3ebcc743e3d2ec3adbec284b, 5853e967014...</td>\n",
       "      <td>[6487554.0, 6253207.0, 6496831.0]</td>\n",
       "      <td>6487554.0</td>\n",
       "      <td>[6253207.0]</td>\n",
       "      <td>[0.09528161686142628]</td>\n",
       "      <td>6253207.0</td>\n",
       "      <td>0.250000</td>\n",
       "      <td>0.000000</td>\n",
       "      <td>2005-15</td>\n",
       "    </tr>\n",
       "    <tr>\n",
       "      <th>59</th>\n",
       "      <td>5206947</td>\n",
       "      <td>1.0</td>\n",
       "      <td>1993</td>\n",
       "      <td>San Jose-Sunnyvale-Santa Clara, CA</td>\n",
       "      <td>1.000000</td>\n",
       "      <td>0.500000</td>\n",
       "      <td>0.000000</td>\n",
       "      <td>0.000000</td>\n",
       "      <td>[406b554aaf3a924f4ead1a7e50b4f887]</td>\n",
       "      <td>[5222235.0, 5396623.0, 5430871.0, 5625817.0, 5...</td>\n",
       "      <td>5222235.0</td>\n",
       "      <td>[5222235.0, 5396623.0, 5430871.0, 5625817.0, 5...</td>\n",
       "      <td>[0.09300016237332007, 0.24661602489677448, 0.2...</td>\n",
       "      <td>5222235.0</td>\n",
       "      <td>0.590909</td>\n",
       "      <td>0.590909</td>\n",
       "      <td>1985-95</td>\n",
       "    </tr>\n",
       "  </tbody>\n",
       "</table>\n",
       "</div>"
      ],
      "text/plain": [
       "         tp  tp_primclass  tp_gyear  \\\n",
       "3   5241648           1.0      1993   \n",
       "5   6665662           1.0      2003   \n",
       "15  7599939           1.0      2009   \n",
       "26  7043476           1.0      2006   \n",
       "59  5206947           1.0      1993   \n",
       "\n",
       "                                           tp_inv_msa  tp_match_5  \\\n",
       "3                  San Jose-Sunnyvale-Santa Clara, CA    0.200000   \n",
       "5                   San Francisco-Oakland-Fremont, CA    0.000000   \n",
       "15                 San Jose-Sunnyvale-Santa Clara, CA    0.166667   \n",
       "26  New York-Northern New Jersey-Long Island, NY-N...    0.000000   \n",
       "59                 San Jose-Sunnyvale-Santa Clara, CA    1.000000   \n",
       "\n",
       "    tp_match_10  cp_match_5  cp_match_10  \\\n",
       "3      0.285714    0.064516     0.151261   \n",
       "5      0.145833    0.500000     0.600000   \n",
       "15     0.250000    0.150000     0.103448   \n",
       "26     0.000000    0.000000     0.016949   \n",
       "59     0.500000    0.000000     0.000000   \n",
       "\n",
       "                                            tp_lawyer  \\\n",
       "3                  [749929edbbcab0a2eaa0667c763f2c27]   \n",
       "5                  [990c21b7d6b16ab5b9b00059651db718]   \n",
       "15                 [dbb09f3f7278f39eebe5c1e06acabb48]   \n",
       "26  [0f686a9b3ebcc743e3d2ec3adbec284b, 5853e967014...   \n",
       "59                 [406b554aaf3a924f4ead1a7e50b4f887]   \n",
       "\n",
       "                                         lawyer_cp_20  lawyer_cp  \\\n",
       "3                                         [5386558.0]  5386558.0   \n",
       "5   [6728713.0, 7467127.0, 7020661.0, 6205442.0, 7...  6728713.0   \n",
       "15  [7590648.0, 7555491.0, 7299243.0, 7024420.0, 6...  7590648.0   \n",
       "26                  [6487554.0, 6253207.0, 6496831.0]  6487554.0   \n",
       "59  [5222235.0, 5396623.0, 5430871.0, 5625817.0, 5...  5222235.0   \n",
       "\n",
       "                                      lawyer_cp_20_pd  \\\n",
       "3                                         [5386558.0]   \n",
       "5   [6728713.0, 7467127.0, 7020661.0, 6205442.0, 7...   \n",
       "15  [7590648.0, 7555491.0, 7299243.0, 7024420.0, 6...   \n",
       "26                                        [6253207.0]   \n",
       "59  [5222235.0, 5396623.0, 5430871.0, 5625817.0, 5...   \n",
       "\n",
       "                                     lawyer_cp_pd_sim  lawyer_sim_cp  \\\n",
       "3                               [0.11714580654668626]      5386558.0   \n",
       "5   [0.2905920125871887, 0.05489737161470509, 0.15...      6205442.0   \n",
       "15  [0.17401909527421866, 0.08728948251402635, 0.2...      7555491.0   \n",
       "26                              [0.09528161686142628]      6253207.0   \n",
       "59  [0.09300016237332007, 0.24661602489677448, 0.2...      5222235.0   \n",
       "\n",
       "    lawyer_cp_match_10  lawyer_sim_cp_match_10 year_group  \n",
       "3             0.000000                0.000000    1985-95  \n",
       "5             0.066667                0.333333    1995-05  \n",
       "15            0.500000                     NaN    2005-15  \n",
       "26            0.250000                0.000000    2005-15  \n",
       "59            0.590909                0.590909    1985-95  "
      ]
     },
     "execution_count": 64,
     "metadata": {},
     "output_type": "execute_result"
    }
   ],
   "source": [
    "# ts3.to_pickle(\"DataStore/2018-11/jth_rep_lawyers_control_1109.pkl\")\n",
    "ts3.head()"
   ]
  },
  {
   "cell_type": "code",
   "execution_count": 66,
   "metadata": {},
   "outputs": [
    {
     "data": {
      "text/html": [
       "<div>\n",
       "<style scoped>\n",
       "    .dataframe tbody tr th:only-of-type {\n",
       "        vertical-align: middle;\n",
       "    }\n",
       "\n",
       "    .dataframe tbody tr th {\n",
       "        vertical-align: top;\n",
       "    }\n",
       "\n",
       "    .dataframe thead th {\n",
       "        text-align: right;\n",
       "    }\n",
       "</style>\n",
       "<table border=\"1\" class=\"dataframe\">\n",
       "  <thead>\n",
       "    <tr style=\"text-align: right;\">\n",
       "      <th></th>\n",
       "      <th>cp_match_10</th>\n",
       "      <th>lawyer_cp_match_10</th>\n",
       "      <th>lawyer_sim_cp_match_10</th>\n",
       "      <th>tp_match_10</th>\n",
       "    </tr>\n",
       "    <tr>\n",
       "      <th>year_group</th>\n",
       "      <th></th>\n",
       "      <th></th>\n",
       "      <th></th>\n",
       "      <th></th>\n",
       "    </tr>\n",
       "  </thead>\n",
       "  <tbody>\n",
       "    <tr>\n",
       "      <th>1975-85</th>\n",
       "      <td>0.034831</td>\n",
       "      <td>0.076764</td>\n",
       "      <td>0.071326</td>\n",
       "      <td>0.093784</td>\n",
       "    </tr>\n",
       "    <tr>\n",
       "      <th>1985-95</th>\n",
       "      <td>0.035320</td>\n",
       "      <td>0.079018</td>\n",
       "      <td>0.075341</td>\n",
       "      <td>0.100434</td>\n",
       "    </tr>\n",
       "    <tr>\n",
       "      <th>1995-05</th>\n",
       "      <td>0.048878</td>\n",
       "      <td>0.088195</td>\n",
       "      <td>0.081694</td>\n",
       "      <td>0.114550</td>\n",
       "    </tr>\n",
       "    <tr>\n",
       "      <th>2005-15</th>\n",
       "      <td>0.059295</td>\n",
       "      <td>0.096463</td>\n",
       "      <td>0.086633</td>\n",
       "      <td>0.134609</td>\n",
       "    </tr>\n",
       "  </tbody>\n",
       "</table>\n",
       "</div>"
      ],
      "text/plain": [
       "            cp_match_10  lawyer_cp_match_10  lawyer_sim_cp_match_10  \\\n",
       "year_group                                                            \n",
       "1975-85        0.034831            0.076764                0.071326   \n",
       "1985-95        0.035320            0.079018                0.075341   \n",
       "1995-05        0.048878            0.088195                0.081694   \n",
       "2005-15        0.059295            0.096463                0.086633   \n",
       "\n",
       "            tp_match_10  \n",
       "year_group               \n",
       "1975-85        0.093784  \n",
       "1985-95        0.100434  \n",
       "1995-05        0.114550  \n",
       "2005-15        0.134609  "
      ]
     },
     "execution_count": 66,
     "metadata": {},
     "output_type": "execute_result"
    }
   ],
   "source": [
    "ts3[[\"year_group\", \"cp_match_10\", \"lawyer_cp_match_10\", \"lawyer_sim_cp_match_10\", \"tp_match_10\"]].groupby(\"year_group\").mean()"
   ]
  }
 ],
 "metadata": {
  "hide_input": false,
  "kernelspec": {
   "display_name": "My Python",
   "language": "python",
   "name": "base"
  },
  "language_info": {
   "codemirror_mode": {
    "name": "ipython",
    "version": 3
   },
   "file_extension": ".py",
   "mimetype": "text/x-python",
   "name": "python",
   "nbconvert_exporter": "python",
   "pygments_lexer": "ipython3",
   "version": "3.6.5"
  }
 },
 "nbformat": 4,
 "nbformat_minor": 2
}
