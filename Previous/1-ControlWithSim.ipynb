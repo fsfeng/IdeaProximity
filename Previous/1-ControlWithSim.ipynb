{
 "cells": [
  {
   "cell_type": "code",
   "execution_count": 1,
   "metadata": {},
   "outputs": [
    {
     "name": "stderr",
     "output_type": "stream",
     "text": [
      "/homedir/eco/sfeng/bigdata/python/miniconda3/lib/python3.6/site-packages/h5py/__init__.py:36: FutureWarning: Conversion of the second argument of issubdtype from `float` to `np.floating` is deprecated. In future, it will be treated as `np.float64 == np.dtype(float).type`.\n",
      "  from ._conv import register_converters as _register_converters\n",
      "/homedir/eco/sfeng/bigdata/python/miniconda3/lib/python3.6/site-packages/statsmodels/compat/pandas.py:56: FutureWarning: The pandas.core.datetools module is deprecated and will be removed in a future version. Please use the pandas.tseries module instead.\n",
      "  from pandas.core import datetools\n"
     ]
    }
   ],
   "source": [
    "import numpy as np\n",
    "import scipy as sp\n",
    "import pandas as pd\n",
    "import timeit\n",
    "import datetime\n",
    "import time\n",
    "import pprint\n",
    "import itertools\n",
    "import pickle\n",
    "import sklearn\n",
    "import dask\n",
    "import os\n",
    "os.chdir('/mnt/t48/bighomes-active/sfeng/patentdiffusion/')\n",
    "import fastparquet\n",
    "seed = 3\n",
    "import seaborn as sns\n",
    "import matplotlib\n",
    "import matplotlib.pyplot as plt\n",
    "import h5py\n",
    "import collections\n",
    "import statsmodels.api as sm\n",
    "import statsmodels.formula.api as smf\n",
    "import statsmodels.iolib.summary2 as summary2\n",
    "import dask\n",
    "import dask.dataframe as dd"
   ]
  },
  {
   "cell_type": "markdown",
   "metadata": {},
   "source": [
    "### Selecting control from similarity\n",
    "- Find top 100 most similar patents\n",
    "- For each in the 100:\n",
    "    - What has forward citations?\n",
    "    - What is in same PC?\n",
    "    - What has closest grant year?\n"
   ]
  },
  {
   "cell_type": "code",
   "execution_count": 3,
   "metadata": {},
   "outputs": [],
   "source": [
    "from gensim import models\n",
    "from gensim.models.word2vec import Word2Vec\n",
    "pm = Word2Vec.load(\"DataStore/2018-07-P2/ML/doc2vec_0712.model\")"
   ]
  },
  {
   "cell_type": "code",
   "execution_count": 5,
   "metadata": {},
   "outputs": [],
   "source": [
    "pat_dict = fastparquet.ParquetFile(\"RawData/Cleaned/patabs7615_us_no_dup.parq\").to_pandas([\"patent\"])[\"patent\"].tolist()\n",
    "pat_dict = dict(zip(pat_dict, range(len(pat_dict))))"
   ]
  },
  {
   "cell_type": "code",
   "execution_count": 48,
   "metadata": {},
   "outputs": [],
   "source": [
    "ts = pd.read_pickle(\"DataStore/2018-07-P2/targ_samp_0717.pkl\")\n",
    "\n",
    "# Only in dict\n",
    "ts = ts.loc[ts[\"tp\"].isin(pat_dict.keys())]\n",
    "\n",
    "# Drop duplicates\n",
    "dup_pats = pd.read_pickle(\"RawData/Cleaned/duplicate_pattext_0712.pkl\").tolist()\n",
    "# Get relevant US Patents\n",
    "ts = ts.loc[~ts[\"tp\"].isin(dup_pats)]\n",
    "\n",
    "ts = ts[[\"tp\", \"tp_primclass\", \"tp_gyear\", \"tp_inv_msa\", \"tp_match_5\", \"tp_match_10\"]]\n",
    "ts[\"tp_id\"] = ts[\"tp\"].astype(str)"
   ]
  },
  {
   "cell_type": "code",
   "execution_count": null,
   "metadata": {},
   "outputs": [],
   "source": [
    "def get_most_sim(pat, n):\n",
    "    try:\n",
    "        ms = pm.docvecs.most_similar(pat, topn=n)\n",
    "    except Exception:\n",
    "        ms = [(np.nan, np.nan)]\n",
    "    return ms\n",
    "\n",
    "%time ts_sp = [get_most_sim(i, 50) for i in ts[\"tp_id\"].tolist()]\n",
    "%time ts_sp = pd.DataFrame({\"tp\": ts[\"tp\"], \"closest_pat\": [np.array([i[0] for i in j]) for j in ts_sp],\\\n",
    "                     \"closest_pat_sim\": [np.array([i[1] for i in j]) for j in ts_sp]})"
   ]
  },
  {
   "cell_type": "markdown",
   "metadata": {},
   "source": [
    "Took maybe 6 hours?"
   ]
  },
  {
   "cell_type": "code",
   "execution_count": null,
   "metadata": {},
   "outputs": [],
   "source": [
    "ts_sp.to_pickle(\"DataStore/2018-11/closest_nbrs_1105.pkl\")"
   ]
  },
  {
   "cell_type": "markdown",
   "metadata": {},
   "source": [
    "### Find most relevant patents"
   ]
  },
  {
   "cell_type": "code",
   "execution_count": 90,
   "metadata": {},
   "outputs": [],
   "source": [
    "ts_sp = pd.read_pickle(\"DataStore/2018-11/closest_nbrs_1105.pkl\")"
   ]
  },
  {
   "cell_type": "code",
   "execution_count": 91,
   "metadata": {},
   "outputs": [
    {
     "name": "stdout",
     "output_type": "stream",
     "text": [
      "282079\n",
      "197506\n"
     ]
    }
   ],
   "source": [
    "ts_sp[\"closest_pat\"] = ts_sp[\"closest_pat\"].apply(lambda x: x.astype(float))\n",
    "\n",
    "print(len(ts_sp))\n",
    "ts_sp = ts_sp.loc[~(ts_sp[\"closest_pat\"].apply(lambda x: np.isnan(x[0])))]\n",
    "print(len(ts_sp))\n",
    "\n",
    "# Make dictionary of patents and sim for each tp\n",
    "sim_dict = {p: dict(zip(i,j)) for p,i,j in zip(ts_sp[\"tp\"], ts_sp[\"closest_pat\"], ts_sp[\"closest_pat_sim\"])}"
   ]
  },
  {
   "cell_type": "code",
   "execution_count": 92,
   "metadata": {},
   "outputs": [
    {
     "name": "stdout",
     "output_type": "stream",
     "text": [
      "CPU times: user 40.9 s, sys: 116 ms, total: 41 s\n",
      "Wall time: 42.1 s\n"
     ]
    }
   ],
   "source": [
    "# 1. Patents with forward citations\n",
    "cit = fastparquet.ParquetFile(\"RawData/Cleaned/cit_0628.parq\").to_pandas([\"cited\"])[\"cited\"].unique()\n",
    "all_closest = np.concatenate(ts_sp[\"closest_pat\"].tolist()).ravel()\n",
    "cit = set(set(all_closest).intersection(cit))\n",
    "# cit = set(cit)\n",
    "%time cp_cited = [np.array(list(set(x).intersection(cit))) for x in iter(ts_sp[\"closest_pat\"])]"
   ]
  },
  {
   "cell_type": "code",
   "execution_count": 105,
   "metadata": {},
   "outputs": [
    {
     "name": "stdout",
     "output_type": "stream",
     "text": [
      "CPU times: user 1.32 s, sys: 36 ms, total: 1.35 s\n",
      "Wall time: 1.35 s\n",
      "CPU times: user 27.6 s, sys: 47.2 ms, total: 27.6 s\n",
      "Wall time: 27.6 s\n",
      "CPU times: user 911 ms, sys: 45.9 ms, total: 957 ms\n",
      "Wall time: 956 ms\n"
     ]
    }
   ],
   "source": [
    "# 2. Patents from different assignee\n",
    "asgs = pickle.load(open(\"RawData/Cleaned/patent_assignee_dict_0628.pkl\", \"rb\"))\n",
    "%time tp_asgs = [set(asgs.get(p, [])) for p in ts_sp[\"tp\"]]\n",
    "%time cp_cited_asgs = [np.array([len(set(asgs.get(cp, [])).intersection(tasg)) for cp in j]) for j, tasg in zip(cp_cited, tp_asgs)]\n",
    "%time cp_cited_asgs_ind = [np.where(j == 0) for j in cp_cited_asgs]\n",
    "del(asgs)\n",
    "\n",
    "cp_cited2 = [x[i] for x,i in zip(cp_cited, cp_cited_asgs_ind)]"
   ]
  },
  {
   "cell_type": "code",
   "execution_count": 109,
   "metadata": {},
   "outputs": [
    {
     "name": "stdout",
     "output_type": "stream",
     "text": [
      "CPU times: user 2.98 s, sys: 23.7 ms, total: 3 s\n",
      "Wall time: 2.8 s\n",
      "CPU times: user 183 ms, sys: 1.05 ms, total: 184 ms\n",
      "Wall time: 172 ms\n"
     ]
    }
   ],
   "source": [
    "# 3. Minimum difference to the target\n",
    "%time min_diff = [np.argsort(np.abs(x-p))[:5] for x,p in zip(cp_cited2, ts_sp[\"tp\"])]\n",
    "%time min_diff_cited = [x[i] for x,i in zip(cp_cited2, min_diff)]"
   ]
  },
  {
   "cell_type": "markdown",
   "metadata": {},
   "source": [
    "### New dataframe with 5 closest patents in similarity and in grant date"
   ]
  },
  {
   "cell_type": "code",
   "execution_count": 120,
   "metadata": {},
   "outputs": [
    {
     "name": "stderr",
     "output_type": "stream",
     "text": [
      "/homedir/eco/sfeng/bigdata/python/miniconda3/lib/python3.6/site-packages/ipykernel_launcher.py:2: SettingWithCopyWarning: \n",
      "A value is trying to be set on a copy of a slice from a DataFrame.\n",
      "Try using .loc[row_indexer,col_indexer] = value instead\n",
      "\n",
      "See the caveats in the documentation: http://pandas.pydata.org/pandas-docs/stable/indexing.html#indexing-view-versus-copy\n",
      "  \n"
     ]
    },
    {
     "name": "stdout",
     "output_type": "stream",
     "text": [
      "CPU times: user 2.46 s, sys: 3.25 ms, total: 2.46 s\n",
      "Wall time: 2.39 s\n",
      "197506\n",
      "197443\n"
     ]
    }
   ],
   "source": [
    "ts2 = ts_sp[[\"tp\"]]\n",
    "ts2[\"closest_pat_5\"] = min_diff_cited\n",
    "%time ts2[\"closest_pat_5_sim\"] = [np.array([sim_dict[p][i] for i in j]) for p, j in zip(ts2[\"tp\"], ts2[\"closest_pat_5\"])]\n",
    "ts2[\"closest_pat\"] = [i[0] if len(i) > 0 else np.nan for i in min_diff_cited]\n",
    "ts2[\"closest_pat_sim\"] = [i[0] if len(i) > 0 else np.nan for i in ts2[\"closest_pat_5_sim\"]]\n",
    "print(len(ts2))\n",
    "ts2 = ts2.loc[ts2[\"closest_pat\"].notnull()]\n",
    "print(len(ts2))\n"
   ]
  },
  {
   "cell_type": "code",
   "execution_count": 121,
   "metadata": {},
   "outputs": [],
   "source": [
    "ts = pd.read_pickle(\"DataStore/2018-07-P2/targ_samp_0717.pkl\")\n",
    "ts2 = ts2.merge(ts[[\"tp\", \"tp_primclass\", \"tp_gyear\", \"tp_inv_msa\", \"tp_match_10\", \"cp_match_10\"]], how=\"left\", on = \"tp\")"
   ]
  },
  {
   "cell_type": "code",
   "execution_count": 122,
   "metadata": {},
   "outputs": [
    {
     "data": {
      "text/html": [
       "<div>\n",
       "<style scoped>\n",
       "    .dataframe tbody tr th:only-of-type {\n",
       "        vertical-align: middle;\n",
       "    }\n",
       "\n",
       "    .dataframe tbody tr th {\n",
       "        vertical-align: top;\n",
       "    }\n",
       "\n",
       "    .dataframe thead th {\n",
       "        text-align: right;\n",
       "    }\n",
       "</style>\n",
       "<table border=\"1\" class=\"dataframe\">\n",
       "  <thead>\n",
       "    <tr style=\"text-align: right;\">\n",
       "      <th></th>\n",
       "      <th>tp</th>\n",
       "      <th>closest_pat_5</th>\n",
       "      <th>closest_pat_5_sim</th>\n",
       "      <th>closest_pat</th>\n",
       "      <th>closest_pat_sim</th>\n",
       "      <th>tp_primclass</th>\n",
       "      <th>tp_gyear</th>\n",
       "      <th>tp_inv_msa</th>\n",
       "      <th>tp_match_10</th>\n",
       "      <th>cp_match_10</th>\n",
       "    </tr>\n",
       "  </thead>\n",
       "  <tbody>\n",
       "    <tr>\n",
       "      <th>0</th>\n",
       "      <td>5241648</td>\n",
       "      <td>[5412804.0, 4849219.0, 5639532.0, 4779792.0, 5...</td>\n",
       "      <td>[0.5511770844459534, 0.5152451992034912, 0.518...</td>\n",
       "      <td>5412804.0</td>\n",
       "      <td>0.551177</td>\n",
       "      <td>1.0</td>\n",
       "      <td>1993</td>\n",
       "      <td>San Jose-Sunnyvale-Santa Clara, CA</td>\n",
       "      <td>0.285714</td>\n",
       "      <td>0.151261</td>\n",
       "    </tr>\n",
       "    <tr>\n",
       "      <th>1</th>\n",
       "      <td>7502777</td>\n",
       "      <td>[7529754.0, 7472396.0, 7424711.0, 7580944.0, 7...</td>\n",
       "      <td>[0.5335527062416077, 0.4992726743221283, 0.502...</td>\n",
       "      <td>7529754.0</td>\n",
       "      <td>0.533553</td>\n",
       "      <td>1.0</td>\n",
       "      <td>2009</td>\n",
       "      <td>San Jose-Sunnyvale-Santa Clara, CA</td>\n",
       "      <td>0.000000</td>\n",
       "      <td>0.000000</td>\n",
       "    </tr>\n",
       "    <tr>\n",
       "      <th>2</th>\n",
       "      <td>7599939</td>\n",
       "      <td>[7536450.0, 7698251.0, 7490146.0, 7460837.0, 7...</td>\n",
       "      <td>[0.5319807529449463, 0.49737560749053955, 0.48...</td>\n",
       "      <td>7536450.0</td>\n",
       "      <td>0.531981</td>\n",
       "      <td>1.0</td>\n",
       "      <td>2009</td>\n",
       "      <td>San Jose-Sunnyvale-Santa Clara, CA</td>\n",
       "      <td>0.250000</td>\n",
       "      <td>0.103448</td>\n",
       "    </tr>\n",
       "    <tr>\n",
       "      <th>3</th>\n",
       "      <td>5021995</td>\n",
       "      <td>[5091868.0, 4946782.0, 4939674.0, 4903229.0, 5...</td>\n",
       "      <td>[0.5143916010856628, 0.5080559253692627, 0.517...</td>\n",
       "      <td>5091868.0</td>\n",
       "      <td>0.514392</td>\n",
       "      <td>1.0</td>\n",
       "      <td>1991</td>\n",
       "      <td>Boston-Cambridge-Quincy, MA-NH</td>\n",
       "      <td>0.000000</td>\n",
       "      <td>0.250000</td>\n",
       "    </tr>\n",
       "    <tr>\n",
       "      <th>4</th>\n",
       "      <td>7043476</td>\n",
       "      <td>[7029121.0, 7076485.0, 6912549.0, 7214065.0, 6...</td>\n",
       "      <td>[0.4758482575416565, 0.4910343587398529, 0.465...</td>\n",
       "      <td>7029121.0</td>\n",
       "      <td>0.475848</td>\n",
       "      <td>1.0</td>\n",
       "      <td>2006</td>\n",
       "      <td>New York-Northern New Jersey-Long Island, NY-N...</td>\n",
       "      <td>0.000000</td>\n",
       "      <td>0.016949</td>\n",
       "    </tr>\n",
       "  </tbody>\n",
       "</table>\n",
       "</div>"
      ],
      "text/plain": [
       "        tp                                      closest_pat_5  \\\n",
       "0  5241648  [5412804.0, 4849219.0, 5639532.0, 4779792.0, 5...   \n",
       "1  7502777  [7529754.0, 7472396.0, 7424711.0, 7580944.0, 7...   \n",
       "2  7599939  [7536450.0, 7698251.0, 7490146.0, 7460837.0, 7...   \n",
       "3  5021995  [5091868.0, 4946782.0, 4939674.0, 4903229.0, 5...   \n",
       "4  7043476  [7029121.0, 7076485.0, 6912549.0, 7214065.0, 6...   \n",
       "\n",
       "                                   closest_pat_5_sim  closest_pat  \\\n",
       "0  [0.5511770844459534, 0.5152451992034912, 0.518...    5412804.0   \n",
       "1  [0.5335527062416077, 0.4992726743221283, 0.502...    7529754.0   \n",
       "2  [0.5319807529449463, 0.49737560749053955, 0.48...    7536450.0   \n",
       "3  [0.5143916010856628, 0.5080559253692627, 0.517...    5091868.0   \n",
       "4  [0.4758482575416565, 0.4910343587398529, 0.465...    7029121.0   \n",
       "\n",
       "   closest_pat_sim  tp_primclass  tp_gyear  \\\n",
       "0         0.551177           1.0      1993   \n",
       "1         0.533553           1.0      2009   \n",
       "2         0.531981           1.0      2009   \n",
       "3         0.514392           1.0      1991   \n",
       "4         0.475848           1.0      2006   \n",
       "\n",
       "                                          tp_inv_msa  tp_match_10  cp_match_10  \n",
       "0                 San Jose-Sunnyvale-Santa Clara, CA     0.285714     0.151261  \n",
       "1                 San Jose-Sunnyvale-Santa Clara, CA     0.000000     0.000000  \n",
       "2                 San Jose-Sunnyvale-Santa Clara, CA     0.250000     0.103448  \n",
       "3                     Boston-Cambridge-Quincy, MA-NH     0.000000     0.250000  \n",
       "4  New York-Northern New Jersey-Long Island, NY-N...     0.000000     0.016949  "
      ]
     },
     "execution_count": 122,
     "metadata": {},
     "output_type": "execute_result"
    }
   ],
   "source": [
    "ts2.head()"
   ]
  },
  {
   "cell_type": "markdown",
   "metadata": {},
   "source": [
    "### Get location of citing patents for each of the closest patents"
   ]
  },
  {
   "cell_type": "code",
   "execution_count": 135,
   "metadata": {},
   "outputs": [
    {
     "name": "stdout",
     "output_type": "stream",
     "text": [
      "CPU times: user 1.01 s, sys: 487 ms, total: 1.49 s\n",
      "Wall time: 1.5 s\n",
      "CPU times: user 53.6 s, sys: 102 ms, total: 53.7 s\n",
      "Wall time: 53.4 s\n",
      "12333353\n",
      "3111609\n"
     ]
    }
   ],
   "source": [
    "# all_p = [item for sublist in ts2[\"closest_pat_5\"] for item in sublist]\n",
    "\n",
    "cit = fastparquet.ParquetFile(\"RawData/Cleaned/cit_0628.parq\").to_pandas()\n",
    "c2 = cit.loc[cit[\"cited\"].isin(all_p)]\n",
    "del(cit)\n",
    "asgs = pickle.load(open(\"RawData/Cleaned/patent_assignee_dict_0628.pkl\", \"rb\"))\n",
    "# Remove self-citations\n",
    "%time asg_match = (set(asgs.get(cited, [])).intersection(asgs.get(citing, [])) for cited, citing \\\n",
    "                       in zip(c2[\"cited\"], c2[\"citing\"]))\n",
    "%time asg_match = [len(i) for i in asg_match]\n",
    "del(asgs)\n",
    "c2[\"asg_match\"] = asg_match\n",
    "c2 = c2.loc[c2[\"asg_match\"] == 0]\n",
    "c2 = c2[[\"citing\", \"cited\"]]\n",
    "\n",
    "\n",
    "pdf = fastparquet.ParquetFile(\"RawData/Cleaned/patent_loc_unique_us_0628.parq\")\\\n",
    ".to_pandas([\"patent\", \"inv_msa\", \"gyear\"])\n",
    "\n",
    "# Citing patents granted in 10 years of cited\n",
    "gy = dict(zip(pdf[\"patent\"], pdf[\"gyear\"]))\n",
    "c2[\"cited_gyear\"] = c2[\"cited\"].map(gy)\n",
    "c2[\"citing_gyear\"] = c2[\"citing\"].map(gy)\n",
    "c2[\"diff\"] = c2[\"citing_gyear\"] - c2[\"cited_gyear\"]\n",
    "print(len(c2))\n",
    "c2 = c2.loc[c2[\"diff\"] <= 10]\n",
    "print(len(c2))\n",
    "\n",
    "# Get location of each citing patent\n",
    "msa = dict(zip(pdf[\"patent\"], pdf[\"inv_msa\"]))\n",
    "c2[\"citing_inv_msa\"] = c2[\"citing\"].map(msa)"
   ]
  },
  {
   "cell_type": "code",
   "execution_count": 192,
   "metadata": {},
   "outputs": [
    {
     "data": {
      "text/html": [
       "<div>\n",
       "<style scoped>\n",
       "    .dataframe tbody tr th:only-of-type {\n",
       "        vertical-align: middle;\n",
       "    }\n",
       "\n",
       "    .dataframe tbody tr th {\n",
       "        vertical-align: top;\n",
       "    }\n",
       "\n",
       "    .dataframe thead th {\n",
       "        text-align: right;\n",
       "    }\n",
       "</style>\n",
       "<table border=\"1\" class=\"dataframe\">\n",
       "  <thead>\n",
       "    <tr style=\"text-align: right;\">\n",
       "      <th></th>\n",
       "      <th>citing</th>\n",
       "      <th>cited</th>\n",
       "      <th>cited_gyear</th>\n",
       "      <th>citing_gyear</th>\n",
       "      <th>diff</th>\n",
       "      <th>citing_inv_msa</th>\n",
       "    </tr>\n",
       "    <tr>\n",
       "      <th>index</th>\n",
       "      <th></th>\n",
       "      <th></th>\n",
       "      <th></th>\n",
       "      <th></th>\n",
       "      <th></th>\n",
       "      <th></th>\n",
       "    </tr>\n",
       "  </thead>\n",
       "  <tbody>\n",
       "    <tr>\n",
       "      <th>48</th>\n",
       "      <td>7686570</td>\n",
       "      <td>6871502</td>\n",
       "      <td>2005.0</td>\n",
       "      <td>2010.0</td>\n",
       "      <td>5.0</td>\n",
       "      <td>Orlando-Kissimmee-Sanford, FL</td>\n",
       "    </tr>\n",
       "    <tr>\n",
       "      <th>105</th>\n",
       "      <td>6405197</td>\n",
       "      <td>5717914</td>\n",
       "      <td>1998.0</td>\n",
       "      <td>2002.0</td>\n",
       "      <td>4.0</td>\n",
       "      <td>San Jose-Sunnyvale-Santa Clara, CA</td>\n",
       "    </tr>\n",
       "    <tr>\n",
       "      <th>108</th>\n",
       "      <td>8874102</td>\n",
       "      <td>7142661</td>\n",
       "      <td>2006.0</td>\n",
       "      <td>2014.0</td>\n",
       "      <td>8.0</td>\n",
       "      <td>Rochester, NY</td>\n",
       "    </tr>\n",
       "    <tr>\n",
       "      <th>141</th>\n",
       "      <td>5987537</td>\n",
       "      <td>5291604</td>\n",
       "      <td>1994.0</td>\n",
       "      <td>1999.0</td>\n",
       "      <td>5.0</td>\n",
       "      <td>Houston-Sugar Land-Baytown, TX</td>\n",
       "    </tr>\n",
       "    <tr>\n",
       "      <th>170</th>\n",
       "      <td>6831929</td>\n",
       "      <td>6208632</td>\n",
       "      <td>2001.0</td>\n",
       "      <td>2004.0</td>\n",
       "      <td>3.0</td>\n",
       "      <td>Dallas-Fort Worth-Arlington, TX</td>\n",
       "    </tr>\n",
       "  </tbody>\n",
       "</table>\n",
       "</div>"
      ],
      "text/plain": [
       "        citing    cited  cited_gyear  citing_gyear  diff  \\\n",
       "index                                                      \n",
       "48     7686570  6871502       2005.0        2010.0   5.0   \n",
       "105    6405197  5717914       1998.0        2002.0   4.0   \n",
       "108    8874102  7142661       2006.0        2014.0   8.0   \n",
       "141    5987537  5291604       1994.0        1999.0   5.0   \n",
       "170    6831929  6208632       2001.0        2004.0   3.0   \n",
       "\n",
       "                           citing_inv_msa  \n",
       "index                                      \n",
       "48          Orlando-Kissimmee-Sanford, FL  \n",
       "105    San Jose-Sunnyvale-Santa Clara, CA  \n",
       "108                         Rochester, NY  \n",
       "141        Houston-Sugar Land-Baytown, TX  \n",
       "170       Dallas-Fort Worth-Arlington, TX  "
      ]
     },
     "execution_count": 192,
     "metadata": {},
     "output_type": "execute_result"
    }
   ],
   "source": [
    "c2.head()"
   ]
  },
  {
   "cell_type": "code",
   "execution_count": 146,
   "metadata": {},
   "outputs": [
    {
     "name": "stdout",
     "output_type": "stream",
     "text": [
      "CPU times: user 1.83 s, sys: 2.25 ms, total: 1.83 s\n",
      "Wall time: 1.77 s\n"
     ]
    }
   ],
   "source": [
    "# # Dictionary of cited patent to citing locations\n",
    "# %time cit = {n: g[\"citing_inv_msa\"].tolist() for n,g in c2[[\"cited\", \"citing_inv_msa\"]].groupby(\"cited\")}\n",
    "\n",
    "# # Location of citing patent for each closest_patent list\n",
    "# # List of lists of locations\n",
    "# %time loc_cit = ([cit.get(cp, []) for cp in j] for j in ts2[\"closest_pat_5\"].tolist())\n",
    "# # Concatenate list for each tp\n",
    "# %time loc_cit = [[item for sublist in l for item in sublist] for l in loc_cit]\n",
    "# %time loc_cit = [np.array([i == tp_msa for i in j]) for j,tp_msa in zip(loc_cit, ts2[\"tp_inv_msa\"])]\n",
    "# Proportion of True\n",
    "%time loc_cit = [len(j[np.where(j == True)])/len(j) if len(j) >0 else np.nan for j in loc_cit]"
   ]
  },
  {
   "cell_type": "code",
   "execution_count": 148,
   "metadata": {},
   "outputs": [],
   "source": [
    "ts2[\"closest_5_match\"] = loc_cit"
   ]
  },
  {
   "cell_type": "code",
   "execution_count": 153,
   "metadata": {},
   "outputs": [
    {
     "name": "stdout",
     "output_type": "stream",
     "text": [
      "CPU times: user 7.02 ms, sys: 1.99 ms, total: 9.01 ms\n",
      "Wall time: 8.22 ms\n",
      "CPU times: user 1.23 s, sys: 9.23 ms, total: 1.24 s\n",
      "Wall time: 1.18 s\n",
      "CPU times: user 700 ms, sys: 1.13 ms, total: 701 ms\n",
      "Wall time: 668 ms\n"
     ]
    }
   ],
   "source": [
    "# Closest neighbour match\n",
    "# Location of citing patent for each closest_patent list\n",
    "# List of lists of locations\n",
    "%time loc_cit = (cit.get(cp, []) for cp in ts2[\"closest_pat\"].tolist())\n",
    "%time loc_cit = [np.array([i == tp_msa for i in j]) for j,tp_msa in zip(loc_cit, ts2[\"tp_inv_msa\"])]\n",
    "# Proportion of True\n",
    "%time loc_cit = [len(j[np.where(j == True)])/len(j) if len(j) >0 else np.nan for j in loc_cit]"
   ]
  },
  {
   "cell_type": "code",
   "execution_count": 160,
   "metadata": {},
   "outputs": [],
   "source": [
    "ts2[\"closest_pat_match\"] = loc_cit\n",
    "del(cit)"
   ]
  },
  {
   "cell_type": "code",
   "execution_count": 155,
   "metadata": {},
   "outputs": [
    {
     "data": {
      "text/html": [
       "<div>\n",
       "<style scoped>\n",
       "    .dataframe tbody tr th:only-of-type {\n",
       "        vertical-align: middle;\n",
       "    }\n",
       "\n",
       "    .dataframe tbody tr th {\n",
       "        vertical-align: top;\n",
       "    }\n",
       "\n",
       "    .dataframe thead th {\n",
       "        text-align: right;\n",
       "    }\n",
       "</style>\n",
       "<table border=\"1\" class=\"dataframe\">\n",
       "  <thead>\n",
       "    <tr style=\"text-align: right;\">\n",
       "      <th></th>\n",
       "      <th>tp</th>\n",
       "      <th>closest_pat</th>\n",
       "      <th>closest_pat_sim</th>\n",
       "      <th>tp_primclass</th>\n",
       "      <th>tp_gyear</th>\n",
       "      <th>tp_match_10</th>\n",
       "      <th>cp_match_10</th>\n",
       "      <th>closest_5_match</th>\n",
       "      <th>closest_pat_match</th>\n",
       "    </tr>\n",
       "  </thead>\n",
       "  <tbody>\n",
       "    <tr>\n",
       "      <th>count</th>\n",
       "      <td>1.974430e+05</td>\n",
       "      <td>1.974430e+05</td>\n",
       "      <td>197443.000000</td>\n",
       "      <td>197443.000000</td>\n",
       "      <td>197443.000000</td>\n",
       "      <td>197443.000000</td>\n",
       "      <td>158090.000000</td>\n",
       "      <td>194767.000000</td>\n",
       "      <td>123995.000000</td>\n",
       "    </tr>\n",
       "    <tr>\n",
       "      <th>mean</th>\n",
       "      <td>6.113596e+06</td>\n",
       "      <td>6.113234e+06</td>\n",
       "      <td>0.519520</td>\n",
       "      <td>370.994348</td>\n",
       "      <td>1998.260582</td>\n",
       "      <td>0.111420</td>\n",
       "      <td>0.045317</td>\n",
       "      <td>0.054024</td>\n",
       "      <td>0.053048</td>\n",
       "    </tr>\n",
       "    <tr>\n",
       "      <th>std</th>\n",
       "      <td>1.299113e+06</td>\n",
       "      <td>1.297836e+06</td>\n",
       "      <td>0.055924</td>\n",
       "      <td>197.562795</td>\n",
       "      <td>10.086002</td>\n",
       "      <td>0.249267</td>\n",
       "      <td>0.158954</td>\n",
       "      <td>0.126978</td>\n",
       "      <td>0.173798</td>\n",
       "    </tr>\n",
       "    <tr>\n",
       "      <th>min</th>\n",
       "      <td>3.930273e+06</td>\n",
       "      <td>3.930282e+06</td>\n",
       "      <td>0.378914</td>\n",
       "      <td>1.000000</td>\n",
       "      <td>1976.000000</td>\n",
       "      <td>0.000000</td>\n",
       "      <td>0.000000</td>\n",
       "      <td>0.000000</td>\n",
       "      <td>0.000000</td>\n",
       "    </tr>\n",
       "    <tr>\n",
       "      <th>25%</th>\n",
       "      <td>5.048790e+06</td>\n",
       "      <td>5.048479e+06</td>\n",
       "      <td>0.484988</td>\n",
       "      <td>224.000000</td>\n",
       "      <td>1991.000000</td>\n",
       "      <td>0.000000</td>\n",
       "      <td>0.000000</td>\n",
       "      <td>0.000000</td>\n",
       "      <td>0.000000</td>\n",
       "    </tr>\n",
       "    <tr>\n",
       "      <th>50%</th>\n",
       "      <td>6.016269e+06</td>\n",
       "      <td>6.015727e+06</td>\n",
       "      <td>0.509686</td>\n",
       "      <td>370.000000</td>\n",
       "      <td>2000.000000</td>\n",
       "      <td>0.000000</td>\n",
       "      <td>0.000000</td>\n",
       "      <td>0.000000</td>\n",
       "      <td>0.000000</td>\n",
       "    </tr>\n",
       "    <tr>\n",
       "      <th>75%</th>\n",
       "      <td>7.117426e+06</td>\n",
       "      <td>7.117488e+06</td>\n",
       "      <td>0.540773</td>\n",
       "      <td>482.000000</td>\n",
       "      <td>2006.000000</td>\n",
       "      <td>0.041667</td>\n",
       "      <td>0.000000</td>\n",
       "      <td>0.045455</td>\n",
       "      <td>0.000000</td>\n",
       "    </tr>\n",
       "    <tr>\n",
       "      <th>max</th>\n",
       "      <td>9.043942e+06</td>\n",
       "      <td>9.218209e+06</td>\n",
       "      <td>0.972122</td>\n",
       "      <td>850.000000</td>\n",
       "      <td>2015.000000</td>\n",
       "      <td>1.000000</td>\n",
       "      <td>1.000000</td>\n",
       "      <td>1.000000</td>\n",
       "      <td>1.000000</td>\n",
       "    </tr>\n",
       "  </tbody>\n",
       "</table>\n",
       "</div>"
      ],
      "text/plain": [
       "                 tp   closest_pat  closest_pat_sim   tp_primclass  \\\n",
       "count  1.974430e+05  1.974430e+05    197443.000000  197443.000000   \n",
       "mean   6.113596e+06  6.113234e+06         0.519520     370.994348   \n",
       "std    1.299113e+06  1.297836e+06         0.055924     197.562795   \n",
       "min    3.930273e+06  3.930282e+06         0.378914       1.000000   \n",
       "25%    5.048790e+06  5.048479e+06         0.484988     224.000000   \n",
       "50%    6.016269e+06  6.015727e+06         0.509686     370.000000   \n",
       "75%    7.117426e+06  7.117488e+06         0.540773     482.000000   \n",
       "max    9.043942e+06  9.218209e+06         0.972122     850.000000   \n",
       "\n",
       "            tp_gyear    tp_match_10    cp_match_10  closest_5_match  \\\n",
       "count  197443.000000  197443.000000  158090.000000    194767.000000   \n",
       "mean     1998.260582       0.111420       0.045317         0.054024   \n",
       "std        10.086002       0.249267       0.158954         0.126978   \n",
       "min      1976.000000       0.000000       0.000000         0.000000   \n",
       "25%      1991.000000       0.000000       0.000000         0.000000   \n",
       "50%      2000.000000       0.000000       0.000000         0.000000   \n",
       "75%      2006.000000       0.041667       0.000000         0.045455   \n",
       "max      2015.000000       1.000000       1.000000         1.000000   \n",
       "\n",
       "       closest_pat_match  \n",
       "count      123995.000000  \n",
       "mean            0.053048  \n",
       "std             0.173798  \n",
       "min             0.000000  \n",
       "25%             0.000000  \n",
       "50%             0.000000  \n",
       "75%             0.000000  \n",
       "max             1.000000  "
      ]
     },
     "execution_count": 155,
     "metadata": {},
     "output_type": "execute_result"
    }
   ],
   "source": [
    "ts2.describe()"
   ]
  },
  {
   "cell_type": "code",
   "execution_count": 157,
   "metadata": {},
   "outputs": [
    {
     "data": {
      "text/plain": [
       "<matplotlib.axes._subplots.AxesSubplot at 0x7fe9440066d8>"
      ]
     },
     "execution_count": 157,
     "metadata": {},
     "output_type": "execute_result"
    },
    {
     "data": {
      "image/png": "[encoded data removed]",
      "text/plain": [
       "<Figure size 432x288 with 1 Axes>"
      ]
     },
     "metadata": {},
     "output_type": "display_data"
    }
   ],
   "source": [
    "%matplotlib inline\n",
    "ts2.plot.scatter(x=\"closest_pat_sim\", y=\"closest_pat_match\")"
   ]
  },
  {
   "cell_type": "code",
   "execution_count": 158,
   "metadata": {},
   "outputs": [
    {
     "data": {
      "text/html": [
       "<div>\n",
       "<style scoped>\n",
       "    .dataframe tbody tr th:only-of-type {\n",
       "        vertical-align: middle;\n",
       "    }\n",
       "\n",
       "    .dataframe tbody tr th {\n",
       "        vertical-align: top;\n",
       "    }\n",
       "\n",
       "    .dataframe thead th {\n",
       "        text-align: right;\n",
       "    }\n",
       "</style>\n",
       "<table border=\"1\" class=\"dataframe\">\n",
       "  <thead>\n",
       "    <tr style=\"text-align: right;\">\n",
       "      <th></th>\n",
       "      <th>tp</th>\n",
       "      <th>closest_pat</th>\n",
       "      <th>closest_pat_sim</th>\n",
       "      <th>tp_primclass</th>\n",
       "      <th>tp_gyear</th>\n",
       "      <th>tp_match_10</th>\n",
       "      <th>cp_match_10</th>\n",
       "      <th>closest_5_match</th>\n",
       "      <th>closest_pat_match</th>\n",
       "    </tr>\n",
       "  </thead>\n",
       "  <tbody>\n",
       "    <tr>\n",
       "      <th>tp</th>\n",
       "      <td>1.000000</td>\n",
       "      <td>0.997809</td>\n",
       "      <td>0.066276</td>\n",
       "      <td>0.235906</td>\n",
       "      <td>0.976826</td>\n",
       "      <td>0.063023</td>\n",
       "      <td>0.050929</td>\n",
       "      <td>0.067010</td>\n",
       "      <td>0.045953</td>\n",
       "    </tr>\n",
       "    <tr>\n",
       "      <th>closest_pat</th>\n",
       "      <td>0.997809</td>\n",
       "      <td>1.000000</td>\n",
       "      <td>0.067402</td>\n",
       "      <td>0.236629</td>\n",
       "      <td>0.974875</td>\n",
       "      <td>0.063217</td>\n",
       "      <td>0.050964</td>\n",
       "      <td>0.066943</td>\n",
       "      <td>0.045824</td>\n",
       "    </tr>\n",
       "    <tr>\n",
       "      <th>closest_pat_sim</th>\n",
       "      <td>0.066276</td>\n",
       "      <td>0.067402</td>\n",
       "      <td>1.000000</td>\n",
       "      <td>0.112898</td>\n",
       "      <td>0.062152</td>\n",
       "      <td>0.050135</td>\n",
       "      <td>0.025678</td>\n",
       "      <td>0.074547</td>\n",
       "      <td>0.093623</td>\n",
       "    </tr>\n",
       "    <tr>\n",
       "      <th>tp_primclass</th>\n",
       "      <td>0.235906</td>\n",
       "      <td>0.236629</td>\n",
       "      <td>0.112898</td>\n",
       "      <td>1.000000</td>\n",
       "      <td>0.229919</td>\n",
       "      <td>0.020014</td>\n",
       "      <td>0.064146</td>\n",
       "      <td>0.069153</td>\n",
       "      <td>0.043547</td>\n",
       "    </tr>\n",
       "    <tr>\n",
       "      <th>tp_gyear</th>\n",
       "      <td>0.976826</td>\n",
       "      <td>0.974875</td>\n",
       "      <td>0.062152</td>\n",
       "      <td>0.229919</td>\n",
       "      <td>1.000000</td>\n",
       "      <td>0.058957</td>\n",
       "      <td>0.047615</td>\n",
       "      <td>0.061965</td>\n",
       "      <td>0.042097</td>\n",
       "    </tr>\n",
       "    <tr>\n",
       "      <th>tp_match_10</th>\n",
       "      <td>0.063023</td>\n",
       "      <td>0.063217</td>\n",
       "      <td>0.050135</td>\n",
       "      <td>0.020014</td>\n",
       "      <td>0.058957</td>\n",
       "      <td>1.000000</td>\n",
       "      <td>0.118365</td>\n",
       "      <td>0.204928</td>\n",
       "      <td>0.156654</td>\n",
       "    </tr>\n",
       "    <tr>\n",
       "      <th>cp_match_10</th>\n",
       "      <td>0.050929</td>\n",
       "      <td>0.050964</td>\n",
       "      <td>0.025678</td>\n",
       "      <td>0.064146</td>\n",
       "      <td>0.047615</td>\n",
       "      <td>0.118365</td>\n",
       "      <td>1.000000</td>\n",
       "      <td>0.175957</td>\n",
       "      <td>0.125803</td>\n",
       "    </tr>\n",
       "    <tr>\n",
       "      <th>closest_5_match</th>\n",
       "      <td>0.067010</td>\n",
       "      <td>0.066943</td>\n",
       "      <td>0.074547</td>\n",
       "      <td>0.069153</td>\n",
       "      <td>0.061965</td>\n",
       "      <td>0.204928</td>\n",
       "      <td>0.175957</td>\n",
       "      <td>1.000000</td>\n",
       "      <td>0.570148</td>\n",
       "    </tr>\n",
       "    <tr>\n",
       "      <th>closest_pat_match</th>\n",
       "      <td>0.045953</td>\n",
       "      <td>0.045824</td>\n",
       "      <td>0.093623</td>\n",
       "      <td>0.043547</td>\n",
       "      <td>0.042097</td>\n",
       "      <td>0.156654</td>\n",
       "      <td>0.125803</td>\n",
       "      <td>0.570148</td>\n",
       "      <td>1.000000</td>\n",
       "    </tr>\n",
       "  </tbody>\n",
       "</table>\n",
       "</div>"
      ],
      "text/plain": [
       "                         tp  closest_pat  closest_pat_sim  tp_primclass  \\\n",
       "tp                 1.000000     0.997809         0.066276      0.235906   \n",
       "closest_pat        0.997809     1.000000         0.067402      0.236629   \n",
       "closest_pat_sim    0.066276     0.067402         1.000000      0.112898   \n",
       "tp_primclass       0.235906     0.236629         0.112898      1.000000   \n",
       "tp_gyear           0.976826     0.974875         0.062152      0.229919   \n",
       "tp_match_10        0.063023     0.063217         0.050135      0.020014   \n",
       "cp_match_10        0.050929     0.050964         0.025678      0.064146   \n",
       "closest_5_match    0.067010     0.066943         0.074547      0.069153   \n",
       "closest_pat_match  0.045953     0.045824         0.093623      0.043547   \n",
       "\n",
       "                   tp_gyear  tp_match_10  cp_match_10  closest_5_match  \\\n",
       "tp                 0.976826     0.063023     0.050929         0.067010   \n",
       "closest_pat        0.974875     0.063217     0.050964         0.066943   \n",
       "closest_pat_sim    0.062152     0.050135     0.025678         0.074547   \n",
       "tp_primclass       0.229919     0.020014     0.064146         0.069153   \n",
       "tp_gyear           1.000000     0.058957     0.047615         0.061965   \n",
       "tp_match_10        0.058957     1.000000     0.118365         0.204928   \n",
       "cp_match_10        0.047615     0.118365     1.000000         0.175957   \n",
       "closest_5_match    0.061965     0.204928     0.175957         1.000000   \n",
       "closest_pat_match  0.042097     0.156654     0.125803         0.570148   \n",
       "\n",
       "                   closest_pat_match  \n",
       "tp                          0.045953  \n",
       "closest_pat                 0.045824  \n",
       "closest_pat_sim             0.093623  \n",
       "tp_primclass                0.043547  \n",
       "tp_gyear                    0.042097  \n",
       "tp_match_10                 0.156654  \n",
       "cp_match_10                 0.125803  \n",
       "closest_5_match             0.570148  \n",
       "closest_pat_match           1.000000  "
      ]
     },
     "execution_count": 158,
     "metadata": {},
     "output_type": "execute_result"
    }
   ],
   "source": [
    "ts2.corr()"
   ]
  },
  {
   "cell_type": "code",
   "execution_count": 159,
   "metadata": {},
   "outputs": [],
   "source": [
    "ts2.to_pickle(\"DataStore/2018-11/closest_nbr_control_1108.pkl\")"
   ]
  },
  {
   "cell_type": "markdown",
   "metadata": {},
   "source": [
    "## Selecting controls based on lawyers"
   ]
  },
  {
   "cell_type": "code",
   "execution_count": 162,
   "metadata": {},
   "outputs": [
    {
     "name": "stdout",
     "output_type": "stream",
     "text": [
      "CPU times: user 3min 23s, sys: 155 ms, total: 3min 23s\n",
      "Wall time: 3min 26s\n"
     ]
    }
   ],
   "source": [
    "# ldf = pd.read_csv(\"RawData/Cleaned/patent_lawyer.csv\")\n",
    "# pdf = fastparquet.ParquetFile(\"RawData/Cleaned/patent_loc_unique_us_0628.parq\")\\\n",
    "# .to_pandas([\"patent\", \"primclass\"])\n",
    "# ldf[\"primclass\"] = ldf[\"patent\"].map(dict(zip(pdf[\"patent\"], pdf[\"primclass\"])))\n",
    "%time ldf = {n:g[\"patent\"].values for n,g in ldf[[\"patent\", \"lawyer_id\", \"primclass\"]].groupby([\"lawyer_id\", \"primclass\"])}"
   ]
  },
  {
   "cell_type": "code",
   "execution_count": 168,
   "metadata": {},
   "outputs": [
    {
     "name": "stdout",
     "output_type": "stream",
     "text": [
      "CPU times: user 22min 39s, sys: 509 ms, total: 22min 39s\n",
      "Wall time: 22min 39s\n"
     ]
    },
    {
     "name": "stderr",
     "output_type": "stream",
     "text": [
      "/homedir/eco/sfeng/bigdata/python/miniconda3/lib/python3.6/site-packages/ipykernel_launcher.py:7: SettingWithCopyWarning: \n",
      "A value is trying to be set on a copy of a slice from a DataFrame.\n",
      "Try using .loc[row_indexer,col_indexer] = value instead\n",
      "\n",
      "See the caveats in the documentation: http://pandas.pydata.org/pandas-docs/stable/indexing.html#indexing-view-versus-copy\n",
      "  import sys\n"
     ]
    }
   ],
   "source": [
    "# ts3 = ts2[[\"tp\", \"tp_gyear\", \"tp_primclass\", \"tp_inv_msa\"]]\n",
    "\n",
    "# # Target lawyers\n",
    "# ldf2 = pd.read_csv(\"RawData/Cleaned/patent_lawyer.csv\")\n",
    "%time ldf2 = {n:g[\"lawyer_id\"].tolist() for n,g in ldf2[[\"patent\", \"lawyer_id\"]].groupby([\"patent\"])}\n",
    "\n",
    "ts3[\"tp_lawyer\"] = ts3[\"tp\"].map(ldf2)\n",
    "del(ldf2)"
   ]
  },
  {
   "cell_type": "code",
   "execution_count": 172,
   "metadata": {},
   "outputs": [],
   "source": [
    "ts3.to_pickle(\"DataStore/2018-11/lawyer_control_1108.pkl\")"
   ]
  },
  {
   "cell_type": "code",
   "execution_count": 182,
   "metadata": {},
   "outputs": [
    {
     "name": "stdout",
     "output_type": "stream",
     "text": [
      "197443\n",
      "178762\n",
      "CPU times: user 1.09 s, sys: 6.16 ms, total: 1.09 s\n",
      "Wall time: 1.05 s\n",
      "CPU times: user 2.21 s, sys: 1.35 ms, total: 2.21 s\n",
      "Wall time: 2.13 s\n"
     ]
    }
   ],
   "source": [
    "# Only patents with lawyers\n",
    "print(len(ts3))\n",
    "ts3 = ts3.loc[ts3[\"tp_lawyer\"].notnull() & ts3[\"tp_primclass\"].notnull()]\n",
    "print(len(ts3))\n",
    "# Lawyer patents in same primary class\n",
    "%time lp = [[ldf.get((l,pc), []) for l in j] for pc,j in zip(ts3[\"tp_primclass\"], ts3[\"tp_lawyer\"])]\n",
    "%time lp = [np.array([item for sublist in j for item in sublist]) for j in lp]"
   ]
  },
  {
   "cell_type": "code",
   "execution_count": 184,
   "metadata": {},
   "outputs": [
    {
     "name": "stdout",
     "output_type": "stream",
     "text": [
      "CPU times: user 31 s, sys: 6.28 ms, total: 31 s\n",
      "Wall time: 29.7 s\n"
     ]
    }
   ],
   "source": [
    "# 1. Patents with forward citations\n",
    "cit = fastparquet.ParquetFile(\"RawData/Cleaned/cit_0628.parq\").to_pandas([\"cited\"])[\"cited\"].unique()\n",
    "all_closest = np.concatenate(lp).ravel()\n",
    "cit = set(set(all_closest).intersection(cit))\n",
    "# cit = set(cit)\n",
    "%time cp_cited = [np.array(list(set(x).intersection(cit))) for x in iter(lp)]"
   ]
  },
  {
   "cell_type": "code",
   "execution_count": 185,
   "metadata": {},
   "outputs": [
    {
     "name": "stdout",
     "output_type": "stream",
     "text": [
      "CPU times: user 3.57 s, sys: 57.6 ms, total: 3.63 s\n",
      "Wall time: 3.47 s\n",
      "CPU times: user 15.6 s, sys: 16.3 ms, total: 15.6 s\n",
      "Wall time: 16.8 s\n",
      "CPU times: user 1.24 s, sys: 22.9 ms, total: 1.26 s\n",
      "Wall time: 1.29 s\n"
     ]
    }
   ],
   "source": [
    "# 2. Patents from different assignee\n",
    "asgs = pickle.load(open(\"RawData/Cleaned/patent_assignee_dict_0628.pkl\", \"rb\"))\n",
    "%time tp_asgs = [set(asgs.get(p, [])) for p in ts3[\"tp\"]]\n",
    "%time cp_cited_asgs = [np.array([len(set(asgs.get(cp, [])).intersection(tasg)) for cp in j]) for j, tasg in zip(cp_cited, tp_asgs)]\n",
    "%time cp_cited_asgs_ind = [np.where(j == 0) for j in cp_cited_asgs]\n",
    "del(asgs)\n",
    "\n",
    "cp_cited2 = [x[i] for x,i in zip(cp_cited, cp_cited_asgs_ind)]"
   ]
  },
  {
   "cell_type": "code",
   "execution_count": 227,
   "metadata": {},
   "outputs": [],
   "source": [
    "# # 3. Patents from different MSAs\n",
    "# msas = fastparquet.ParquetFile(\"RawData/Cleaned/patent_loc_unique_us_0628.parq\")\\\n",
    "# .to_pandas([\"patent\", \"inv_msa\", \"gyear\"]) \n",
    "# msas = dict(zip(msas[\"patent\"], msas[\"inv_msa\"]))\n",
    "# cp_cited_msas = [[msas[cp] == tp_msa for cp in j] for j, tp_msa in zip(cp_cited2, ts3[\"tp_inv_msa\"])]\n",
    "cp_cited_msas_ind = [np.where(np.array(j) == False) for j in cp_cited_msas]\n",
    "\n",
    "cp_cited3 = [x[i] for x,i in zip(cp_cited2, cp_cited_msas_ind)]"
   ]
  },
  {
   "cell_type": "code",
   "execution_count": 229,
   "metadata": {},
   "outputs": [
    {
     "name": "stdout",
     "output_type": "stream",
     "text": [
      "CPU times: user 2.64 s, sys: 15.5 ms, total: 2.65 s\n",
      "Wall time: 2.78 s\n",
      "CPU times: user 222 ms, sys: 0 ns, total: 222 ms\n",
      "Wall time: 244 ms\n"
     ]
    }
   ],
   "source": [
    "# 3. Minimum difference to the target\n",
    "%time min_diff = [np.argsort(np.abs(x-p))[:5] for x,p in zip(cp_cited3, ts3[\"tp\"])]\n",
    "%time min_diff_cited = [x[i] for x,i in zip(cp_cited2, min_diff)]"
   ]
  },
  {
   "cell_type": "code",
   "execution_count": 230,
   "metadata": {},
   "outputs": [],
   "source": [
    "ts3[\"lawyer_cp_5\"] = min_diff_cited\n",
    "ts3[\"lawyer_cp\"] = [i[0] if len(i) >0 else np.nan for i in min_diff_cited]"
   ]
  },
  {
   "cell_type": "code",
   "execution_count": 231,
   "metadata": {},
   "outputs": [],
   "source": [
    "ts3.to_pickle(\"DataStore/2018-11/lawyer_control_1108.pkl\")"
   ]
  },
  {
   "cell_type": "markdown",
   "metadata": {},
   "source": [
    "### Location of lawyer control citations"
   ]
  },
  {
   "cell_type": "code",
   "execution_count": 232,
   "metadata": {},
   "outputs": [
    {
     "name": "stdout",
     "output_type": "stream",
     "text": [
      "CPU times: user 8.21 ms, sys: 0 ns, total: 8.21 ms\n",
      "Wall time: 7.98 ms\n",
      "CPU times: user 1.3 s, sys: 5.09 ms, total: 1.31 s\n",
      "Wall time: 1.28 s\n",
      "CPU times: user 637 ms, sys: 41 µs, total: 637 ms\n",
      "Wall time: 627 ms\n",
      "CPU times: user 367 ms, sys: 28 µs, total: 367 ms\n",
      "Wall time: 360 ms\n"
     ]
    }
   ],
   "source": [
    "# Dictionary of cited patent to citing locations\n",
    "# %time cit = {n: g[\"citing_inv_msa\"].tolist() for n,g in c2[[\"cited\", \"citing_inv_msa\"]].groupby(\"cited\")}\n",
    "\n",
    "# Location of citing patent for each closest_patent list\n",
    "# List of lists of locations\n",
    "%time loc_cit = ([cit.get(cp, []) for cp in j] for j in ts3[\"lawyer_cp_5\"].tolist())\n",
    "# Concatenate list for each tp\n",
    "%time loc_cit = [[item for sublist in l for item in sublist] for l in loc_cit]\n",
    "%time loc_cit = [np.array([i == tp_msa for i in j]) for j,tp_msa in zip(loc_cit, ts3[\"tp_inv_msa\"])]\n",
    "# Proportion of True\n",
    "%time loc_cit = [len(j[np.where(j == True)])/len(j) if len(j) >0 else np.nan for j in loc_cit]"
   ]
  },
  {
   "cell_type": "code",
   "execution_count": 233,
   "metadata": {},
   "outputs": [],
   "source": [
    "ts3[\"lawyer_5_match\"] = loc_cit"
   ]
  },
  {
   "cell_type": "code",
   "execution_count": 234,
   "metadata": {},
   "outputs": [
    {
     "name": "stdout",
     "output_type": "stream",
     "text": [
      "CPU times: user 14.4 ms, sys: 0 ns, total: 14.4 ms\n",
      "Wall time: 12.8 ms\n",
      "CPU times: user 1.52 s, sys: 3.1 ms, total: 1.53 s\n",
      "Wall time: 1.5 s\n",
      "CPU times: user 355 ms, sys: 1.02 ms, total: 356 ms\n",
      "Wall time: 350 ms\n"
     ]
    }
   ],
   "source": [
    "# Closest neighbour match\n",
    "# Location of citing patent for each closest_patent list\n",
    "# List of lists of locations\n",
    "%time loc_cit = (cit.get(cp, []) for cp in ts3[\"lawyer_cp\"].tolist())\n",
    "%time loc_cit = [np.array([i == tp_msa for i in j]) for j,tp_msa in zip(loc_cit, ts3[\"tp_inv_msa\"])]\n",
    "# Proportion of True\n",
    "%time loc_cit = [len(j[np.where(j == True)])/len(j) if len(j) >0 else np.nan for j in loc_cit]"
   ]
  },
  {
   "cell_type": "code",
   "execution_count": 235,
   "metadata": {},
   "outputs": [],
   "source": [
    "ts3[\"lawyer_cp_match\"] = loc_cit\n",
    "# del(cit)"
   ]
  },
  {
   "cell_type": "code",
   "execution_count": 243,
   "metadata": {},
   "outputs": [
    {
     "data": {
      "text/html": [
       "<div>\n",
       "<style scoped>\n",
       "    .dataframe tbody tr th:only-of-type {\n",
       "        vertical-align: middle;\n",
       "    }\n",
       "\n",
       "    .dataframe tbody tr th {\n",
       "        vertical-align: top;\n",
       "    }\n",
       "\n",
       "    .dataframe thead th {\n",
       "        text-align: right;\n",
       "    }\n",
       "</style>\n",
       "<table border=\"1\" class=\"dataframe\">\n",
       "  <thead>\n",
       "    <tr style=\"text-align: right;\">\n",
       "      <th></th>\n",
       "      <th>tp</th>\n",
       "      <th>tp_gyear</th>\n",
       "      <th>tp_primclass</th>\n",
       "      <th>lawyer_cp</th>\n",
       "      <th>lawyer_5_match</th>\n",
       "      <th>lawyer_cp_match</th>\n",
       "      <th>tp_match_5</th>\n",
       "      <th>cp_match_5</th>\n",
       "      <th>lawyer_cp_gyear</th>\n",
       "    </tr>\n",
       "  </thead>\n",
       "  <tbody>\n",
       "    <tr>\n",
       "      <th>count</th>\n",
       "      <td>2.281300e+04</td>\n",
       "      <td>22813.000000</td>\n",
       "      <td>22813.000000</td>\n",
       "      <td>2.281300e+04</td>\n",
       "      <td>22813.000000</td>\n",
       "      <td>22813.000000</td>\n",
       "      <td>18463.000000</td>\n",
       "      <td>15140.000000</td>\n",
       "      <td>22813.000000</td>\n",
       "    </tr>\n",
       "    <tr>\n",
       "      <th>mean</th>\n",
       "      <td>6.133522e+06</td>\n",
       "      <td>1998.657038</td>\n",
       "      <td>395.253627</td>\n",
       "      <td>6.120119e+06</td>\n",
       "      <td>0.093822</td>\n",
       "      <td>0.094665</td>\n",
       "      <td>0.118471</td>\n",
       "      <td>0.051807</td>\n",
       "      <td>1998.635296</td>\n",
       "    </tr>\n",
       "    <tr>\n",
       "      <th>std</th>\n",
       "      <td>1.224272e+06</td>\n",
       "      <td>9.369022</td>\n",
       "      <td>198.995017</td>\n",
       "      <td>1.197250e+06</td>\n",
       "      <td>0.204735</td>\n",
       "      <td>0.224652</td>\n",
       "      <td>0.268496</td>\n",
       "      <td>0.181644</td>\n",
       "      <td>9.143894</td>\n",
       "    </tr>\n",
       "    <tr>\n",
       "      <th>min</th>\n",
       "      <td>3.930449e+06</td>\n",
       "      <td>1976.000000</td>\n",
       "      <td>1.000000</td>\n",
       "      <td>3.930684e+06</td>\n",
       "      <td>0.000000</td>\n",
       "      <td>0.000000</td>\n",
       "      <td>0.000000</td>\n",
       "      <td>0.000000</td>\n",
       "      <td>1976.000000</td>\n",
       "    </tr>\n",
       "    <tr>\n",
       "      <th>25%</th>\n",
       "      <td>5.146476e+06</td>\n",
       "      <td>1992.000000</td>\n",
       "      <td>257.000000</td>\n",
       "      <td>5.151638e+06</td>\n",
       "      <td>0.000000</td>\n",
       "      <td>0.000000</td>\n",
       "      <td>0.000000</td>\n",
       "      <td>0.000000</td>\n",
       "      <td>1992.000000</td>\n",
       "    </tr>\n",
       "    <tr>\n",
       "      <th>50%</th>\n",
       "      <td>6.048728e+06</td>\n",
       "      <td>2000.000000</td>\n",
       "      <td>379.000000</td>\n",
       "      <td>6.019768e+06</td>\n",
       "      <td>0.000000</td>\n",
       "      <td>0.000000</td>\n",
       "      <td>0.000000</td>\n",
       "      <td>0.000000</td>\n",
       "      <td>2000.000000</td>\n",
       "    </tr>\n",
       "    <tr>\n",
       "      <th>75%</th>\n",
       "      <td>7.069249e+06</td>\n",
       "      <td>2006.000000</td>\n",
       "      <td>521.000000</td>\n",
       "      <td>7.049636e+06</td>\n",
       "      <td>0.076923</td>\n",
       "      <td>0.000000</td>\n",
       "      <td>0.000000</td>\n",
       "      <td>0.000000</td>\n",
       "      <td>2006.000000</td>\n",
       "    </tr>\n",
       "    <tr>\n",
       "      <th>max</th>\n",
       "      <td>9.043826e+06</td>\n",
       "      <td>2015.000000</td>\n",
       "      <td>800.000000</td>\n",
       "      <td>9.043347e+06</td>\n",
       "      <td>1.000000</td>\n",
       "      <td>1.000000</td>\n",
       "      <td>1.000000</td>\n",
       "      <td>1.000000</td>\n",
       "      <td>2015.000000</td>\n",
       "    </tr>\n",
       "  </tbody>\n",
       "</table>\n",
       "</div>"
      ],
      "text/plain": [
       "                 tp      tp_gyear  tp_primclass     lawyer_cp  lawyer_5_match  \\\n",
       "count  2.281300e+04  22813.000000  22813.000000  2.281300e+04    22813.000000   \n",
       "mean   6.133522e+06   1998.657038    395.253627  6.120119e+06        0.093822   \n",
       "std    1.224272e+06      9.369022    198.995017  1.197250e+06        0.204735   \n",
       "min    3.930449e+06   1976.000000      1.000000  3.930684e+06        0.000000   \n",
       "25%    5.146476e+06   1992.000000    257.000000  5.151638e+06        0.000000   \n",
       "50%    6.048728e+06   2000.000000    379.000000  6.019768e+06        0.000000   \n",
       "75%    7.069249e+06   2006.000000    521.000000  7.049636e+06        0.076923   \n",
       "max    9.043826e+06   2015.000000    800.000000  9.043347e+06        1.000000   \n",
       "\n",
       "       lawyer_cp_match    tp_match_5    cp_match_5  lawyer_cp_gyear  \n",
       "count     22813.000000  18463.000000  15140.000000     22813.000000  \n",
       "mean          0.094665      0.118471      0.051807      1998.635296  \n",
       "std           0.224652      0.268496      0.181644         9.143894  \n",
       "min           0.000000      0.000000      0.000000      1976.000000  \n",
       "25%           0.000000      0.000000      0.000000      1992.000000  \n",
       "50%           0.000000      0.000000      0.000000      2000.000000  \n",
       "75%           0.000000      0.000000      0.000000      2006.000000  \n",
       "max           1.000000      1.000000      1.000000      2015.000000  "
      ]
     },
     "execution_count": 243,
     "metadata": {},
     "output_type": "execute_result"
    }
   ],
   "source": [
    "ts3.loc[ts3[\"lawyer_cp\"].notnull() & ts3[\"lawyer_cp_match\"].notnull()].describe()"
   ]
  },
  {
   "cell_type": "code",
   "execution_count": 202,
   "metadata": {},
   "outputs": [],
   "source": [
    "ts = pd.read_pickle(\"DataStore/2018-07-P2/targ_samp_0717.pkl\")\n",
    "ts3 = ts3.merge(ts[[\"tp\", \"tp_match_5\", \"cp_match_5\"]], how=\"left\", on=\"tp\")"
   ]
  },
  {
   "cell_type": "code",
   "execution_count": 239,
   "metadata": {},
   "outputs": [],
   "source": [
    "pdf = fastparquet.ParquetFile(\"RawData/Cleaned/patent_loc_unique_us_0628.parq\")\\\n",
    ".to_pandas([\"patent\", \"inv_msa\", \"gyear\"])\n",
    "ts3[\"lawyer_cp_gyear\"] = ts3[\"lawyer_cp\"].map(dict(zip(pdf[\"patent\"], pdf[\"gyear\"])))\n",
    "ts3[\"lawyer_cp_inv_msa\"] = ts3[\"lawyer_cp\"].map(dict(zip(pdf[\"patent\"], pdf[\"inv_msa\"])))\n",
    "ts3[\"lawyer_inv_msa_match\"] = (ts3[\"tp_inv_msa\"] == ts3[\"lawyer_cp_inv_msa\"])"
   ]
  },
  {
   "cell_type": "code",
   "execution_count": 240,
   "metadata": {},
   "outputs": [
    {
     "data": {
      "text/plain": [
       "False    154985\n",
       "True      23777\n",
       "Name: lawyer_inv_msa_match, dtype: int64"
      ]
     },
     "execution_count": 240,
     "metadata": {},
     "output_type": "execute_result"
    }
   ],
   "source": [
    "ts3[\"lawyer_inv_msa_match\"].value_counts()"
   ]
  },
  {
   "cell_type": "code",
   "execution_count": 210,
   "metadata": {},
   "outputs": [
    {
     "data": {
      "text/html": [
       "<div>\n",
       "<style scoped>\n",
       "    .dataframe tbody tr th:only-of-type {\n",
       "        vertical-align: middle;\n",
       "    }\n",
       "\n",
       "    .dataframe tbody tr th {\n",
       "        vertical-align: top;\n",
       "    }\n",
       "\n",
       "    .dataframe thead th {\n",
       "        text-align: right;\n",
       "    }\n",
       "</style>\n",
       "<table border=\"1\" class=\"dataframe\">\n",
       "  <thead>\n",
       "    <tr style=\"text-align: right;\">\n",
       "      <th></th>\n",
       "      <th>tp</th>\n",
       "      <th>tp_gyear</th>\n",
       "      <th>tp_primclass</th>\n",
       "      <th>lawyer_cp</th>\n",
       "      <th>lawyer_5_match</th>\n",
       "      <th>lawyer_cp_match</th>\n",
       "      <th>tp_match_5</th>\n",
       "      <th>cp_match_5</th>\n",
       "      <th>lawyer_cp_gyear</th>\n",
       "    </tr>\n",
       "  </thead>\n",
       "  <tbody>\n",
       "    <tr>\n",
       "      <th>count</th>\n",
       "      <td>1.205990e+05</td>\n",
       "      <td>120599.000000</td>\n",
       "      <td>120599.000000</td>\n",
       "      <td>6.758200e+04</td>\n",
       "      <td>38356.000000</td>\n",
       "      <td>15432.000000</td>\n",
       "      <td>95879.000000</td>\n",
       "      <td>77087.000000</td>\n",
       "      <td>67582.000000</td>\n",
       "    </tr>\n",
       "    <tr>\n",
       "      <th>mean</th>\n",
       "      <td>6.200333e+06</td>\n",
       "      <td>1998.894767</td>\n",
       "      <td>385.534358</td>\n",
       "      <td>6.356916e+06</td>\n",
       "      <td>0.075822</td>\n",
       "      <td>0.066710</td>\n",
       "      <td>0.099826</td>\n",
       "      <td>0.045444</td>\n",
       "      <td>2000.152748</td>\n",
       "    </tr>\n",
       "    <tr>\n",
       "      <th>std</th>\n",
       "      <td>1.309356e+06</td>\n",
       "      <td>10.070887</td>\n",
       "      <td>197.674791</td>\n",
       "      <td>1.288793e+06</td>\n",
       "      <td>0.186075</td>\n",
       "      <td>0.186442</td>\n",
       "      <td>0.253424</td>\n",
       "      <td>0.171715</td>\n",
       "      <td>9.542489</td>\n",
       "    </tr>\n",
       "    <tr>\n",
       "      <th>min</th>\n",
       "      <td>3.930273e+06</td>\n",
       "      <td>1976.000000</td>\n",
       "      <td>1.000000</td>\n",
       "      <td>3.930639e+06</td>\n",
       "      <td>0.000000</td>\n",
       "      <td>0.000000</td>\n",
       "      <td>0.000000</td>\n",
       "      <td>0.000000</td>\n",
       "      <td>1976.000000</td>\n",
       "    </tr>\n",
       "    <tr>\n",
       "      <th>25%</th>\n",
       "      <td>5.140428e+06</td>\n",
       "      <td>1992.000000</td>\n",
       "      <td>250.000000</td>\n",
       "      <td>5.307998e+06</td>\n",
       "      <td>0.000000</td>\n",
       "      <td>0.000000</td>\n",
       "      <td>0.000000</td>\n",
       "      <td>0.000000</td>\n",
       "      <td>1994.000000</td>\n",
       "    </tr>\n",
       "    <tr>\n",
       "      <th>50%</th>\n",
       "      <td>6.134944e+06</td>\n",
       "      <td>2000.000000</td>\n",
       "      <td>373.000000</td>\n",
       "      <td>6.331447e+06</td>\n",
       "      <td>0.000000</td>\n",
       "      <td>0.000000</td>\n",
       "      <td>0.000000</td>\n",
       "      <td>0.000000</td>\n",
       "      <td>2001.000000</td>\n",
       "    </tr>\n",
       "    <tr>\n",
       "      <th>75%</th>\n",
       "      <td>7.214426e+06</td>\n",
       "      <td>2007.000000</td>\n",
       "      <td>514.000000</td>\n",
       "      <td>7.362534e+06</td>\n",
       "      <td>0.029412</td>\n",
       "      <td>0.000000</td>\n",
       "      <td>0.000000</td>\n",
       "      <td>0.000000</td>\n",
       "      <td>2008.000000</td>\n",
       "    </tr>\n",
       "    <tr>\n",
       "      <th>max</th>\n",
       "      <td>9.043942e+06</td>\n",
       "      <td>2015.000000</td>\n",
       "      <td>850.000000</td>\n",
       "      <td>9.043850e+06</td>\n",
       "      <td>1.000000</td>\n",
       "      <td>1.000000</td>\n",
       "      <td>1.000000</td>\n",
       "      <td>1.000000</td>\n",
       "      <td>2015.000000</td>\n",
       "    </tr>\n",
       "  </tbody>\n",
       "</table>\n",
       "</div>"
      ],
      "text/plain": [
       "                 tp       tp_gyear   tp_primclass     lawyer_cp  \\\n",
       "count  1.205990e+05  120599.000000  120599.000000  6.758200e+04   \n",
       "mean   6.200333e+06    1998.894767     385.534358  6.356916e+06   \n",
       "std    1.309356e+06      10.070887     197.674791  1.288793e+06   \n",
       "min    3.930273e+06    1976.000000       1.000000  3.930639e+06   \n",
       "25%    5.140428e+06    1992.000000     250.000000  5.307998e+06   \n",
       "50%    6.134944e+06    2000.000000     373.000000  6.331447e+06   \n",
       "75%    7.214426e+06    2007.000000     514.000000  7.362534e+06   \n",
       "max    9.043942e+06    2015.000000     850.000000  9.043850e+06   \n",
       "\n",
       "       lawyer_5_match  lawyer_cp_match    tp_match_5    cp_match_5  \\\n",
       "count    38356.000000     15432.000000  95879.000000  77087.000000   \n",
       "mean         0.075822         0.066710      0.099826      0.045444   \n",
       "std          0.186075         0.186442      0.253424      0.171715   \n",
       "min          0.000000         0.000000      0.000000      0.000000   \n",
       "25%          0.000000         0.000000      0.000000      0.000000   \n",
       "50%          0.000000         0.000000      0.000000      0.000000   \n",
       "75%          0.029412         0.000000      0.000000      0.000000   \n",
       "max          1.000000         1.000000      1.000000      1.000000   \n",
       "\n",
       "       lawyer_cp_gyear  \n",
       "count     67582.000000  \n",
       "mean       2000.152748  \n",
       "std           9.542489  \n",
       "min        1976.000000  \n",
       "25%        1994.000000  \n",
       "50%        2001.000000  \n",
       "75%        2008.000000  \n",
       "max        2015.000000  "
      ]
     },
     "execution_count": 210,
     "metadata": {},
     "output_type": "execute_result"
    }
   ],
   "source": [
    "ts3.loc[ts3[\"lawyer_inv_msa_match\"] == False].describe()"
   ]
  },
  {
   "cell_type": "code",
   "execution_count": 241,
   "metadata": {},
   "outputs": [
    {
     "data": {
      "text/html": [
       "<div>\n",
       "<style scoped>\n",
       "    .dataframe tbody tr th:only-of-type {\n",
       "        vertical-align: middle;\n",
       "    }\n",
       "\n",
       "    .dataframe tbody tr th {\n",
       "        vertical-align: top;\n",
       "    }\n",
       "\n",
       "    .dataframe thead th {\n",
       "        text-align: right;\n",
       "    }\n",
       "</style>\n",
       "<table border=\"1\" class=\"dataframe\">\n",
       "  <thead>\n",
       "    <tr style=\"text-align: right;\">\n",
       "      <th></th>\n",
       "      <th>tp</th>\n",
       "      <th>tp_gyear</th>\n",
       "      <th>tp_primclass</th>\n",
       "      <th>tp_inv_msa</th>\n",
       "      <th>tp_lawyer</th>\n",
       "      <th>lawyer_cp</th>\n",
       "      <th>lawyer_cp_5</th>\n",
       "      <th>lawyer_5_match</th>\n",
       "      <th>lawyer_cp_match</th>\n",
       "      <th>tp_match_5</th>\n",
       "      <th>cp_match_5</th>\n",
       "      <th>lawyer_cp_gyear</th>\n",
       "      <th>lawyer_cp_inv_msa</th>\n",
       "      <th>lawyer_inv_msa_match</th>\n",
       "    </tr>\n",
       "  </thead>\n",
       "  <tbody>\n",
       "    <tr>\n",
       "      <th>0</th>\n",
       "      <td>5241648</td>\n",
       "      <td>1993</td>\n",
       "      <td>1.0</td>\n",
       "      <td>San Jose-Sunnyvale-Santa Clara, CA</td>\n",
       "      <td>[749929edbbcab0a2eaa0667c763f2c27]</td>\n",
       "      <td>5386558.0</td>\n",
       "      <td>[5386558.0]</td>\n",
       "      <td>0.0</td>\n",
       "      <td>0.0</td>\n",
       "      <td>0.200000</td>\n",
       "      <td>0.064516</td>\n",
       "      <td>1995.0</td>\n",
       "      <td>San Diego-Carlsbad-San Marcos, CA</td>\n",
       "      <td>False</td>\n",
       "    </tr>\n",
       "    <tr>\n",
       "      <th>1</th>\n",
       "      <td>7502777</td>\n",
       "      <td>2009</td>\n",
       "      <td>1.0</td>\n",
       "      <td>San Jose-Sunnyvale-Santa Clara, CA</td>\n",
       "      <td>[a423a0487ae59e1bf3e2a76b1fc8b4c1]</td>\n",
       "      <td>NaN</td>\n",
       "      <td>[]</td>\n",
       "      <td>NaN</td>\n",
       "      <td>NaN</td>\n",
       "      <td>0.000000</td>\n",
       "      <td>0.000000</td>\n",
       "      <td>NaN</td>\n",
       "      <td>NaN</td>\n",
       "      <td>False</td>\n",
       "    </tr>\n",
       "    <tr>\n",
       "      <th>2</th>\n",
       "      <td>7599939</td>\n",
       "      <td>2009</td>\n",
       "      <td>1.0</td>\n",
       "      <td>San Jose-Sunnyvale-Santa Clara, CA</td>\n",
       "      <td>[dbb09f3f7278f39eebe5c1e06acabb48]</td>\n",
       "      <td>7590648.0</td>\n",
       "      <td>[7590648.0, 7555491.0, 7299243.0, 7024420.0, 6...</td>\n",
       "      <td>0.0</td>\n",
       "      <td>NaN</td>\n",
       "      <td>0.166667</td>\n",
       "      <td>0.150000</td>\n",
       "      <td>2009.0</td>\n",
       "      <td>Seattle-Tacoma-Bellevue, WA</td>\n",
       "      <td>False</td>\n",
       "    </tr>\n",
       "    <tr>\n",
       "      <th>3</th>\n",
       "      <td>5021995</td>\n",
       "      <td>1991</td>\n",
       "      <td>1.0</td>\n",
       "      <td>Boston-Cambridge-Quincy, MA-NH</td>\n",
       "      <td>[2877ae79d50f0a6886a3da57a9c07d3c]</td>\n",
       "      <td>NaN</td>\n",
       "      <td>[]</td>\n",
       "      <td>NaN</td>\n",
       "      <td>NaN</td>\n",
       "      <td>0.000000</td>\n",
       "      <td>0.000000</td>\n",
       "      <td>NaN</td>\n",
       "      <td>NaN</td>\n",
       "      <td>False</td>\n",
       "    </tr>\n",
       "    <tr>\n",
       "      <th>4</th>\n",
       "      <td>7043476</td>\n",
       "      <td>2006</td>\n",
       "      <td>1.0</td>\n",
       "      <td>New York-Northern New Jersey-Long Island, NY-N...</td>\n",
       "      <td>[0f686a9b3ebcc743e3d2ec3adbec284b, 5853e967014...</td>\n",
       "      <td>6487554.0</td>\n",
       "      <td>[6487554.0, 6253207.0, 6496831.0]</td>\n",
       "      <td>NaN</td>\n",
       "      <td>NaN</td>\n",
       "      <td>0.000000</td>\n",
       "      <td>0.000000</td>\n",
       "      <td>2002.0</td>\n",
       "      <td>New York-Northern New Jersey-Long Island, NY-N...</td>\n",
       "      <td>True</td>\n",
       "    </tr>\n",
       "  </tbody>\n",
       "</table>\n",
       "</div>"
      ],
      "text/plain": [
       "        tp  tp_gyear  tp_primclass  \\\n",
       "0  5241648      1993           1.0   \n",
       "1  7502777      2009           1.0   \n",
       "2  7599939      2009           1.0   \n",
       "3  5021995      1991           1.0   \n",
       "4  7043476      2006           1.0   \n",
       "\n",
       "                                          tp_inv_msa  \\\n",
       "0                 San Jose-Sunnyvale-Santa Clara, CA   \n",
       "1                 San Jose-Sunnyvale-Santa Clara, CA   \n",
       "2                 San Jose-Sunnyvale-Santa Clara, CA   \n",
       "3                     Boston-Cambridge-Quincy, MA-NH   \n",
       "4  New York-Northern New Jersey-Long Island, NY-N...   \n",
       "\n",
       "                                           tp_lawyer  lawyer_cp  \\\n",
       "0                 [749929edbbcab0a2eaa0667c763f2c27]  5386558.0   \n",
       "1                 [a423a0487ae59e1bf3e2a76b1fc8b4c1]        NaN   \n",
       "2                 [dbb09f3f7278f39eebe5c1e06acabb48]  7590648.0   \n",
       "3                 [2877ae79d50f0a6886a3da57a9c07d3c]        NaN   \n",
       "4  [0f686a9b3ebcc743e3d2ec3adbec284b, 5853e967014...  6487554.0   \n",
       "\n",
       "                                         lawyer_cp_5  lawyer_5_match  \\\n",
       "0                                        [5386558.0]             0.0   \n",
       "1                                                 []             NaN   \n",
       "2  [7590648.0, 7555491.0, 7299243.0, 7024420.0, 6...             0.0   \n",
       "3                                                 []             NaN   \n",
       "4                  [6487554.0, 6253207.0, 6496831.0]             NaN   \n",
       "\n",
       "   lawyer_cp_match  tp_match_5  cp_match_5  lawyer_cp_gyear  \\\n",
       "0              0.0    0.200000    0.064516           1995.0   \n",
       "1              NaN    0.000000    0.000000              NaN   \n",
       "2              NaN    0.166667    0.150000           2009.0   \n",
       "3              NaN    0.000000    0.000000              NaN   \n",
       "4              NaN    0.000000    0.000000           2002.0   \n",
       "\n",
       "                                   lawyer_cp_inv_msa  lawyer_inv_msa_match  \n",
       "0                  San Diego-Carlsbad-San Marcos, CA                 False  \n",
       "1                                                NaN                 False  \n",
       "2                        Seattle-Tacoma-Bellevue, WA                 False  \n",
       "3                                                NaN                 False  \n",
       "4  New York-Northern New Jersey-Long Island, NY-N...                  True  "
      ]
     },
     "execution_count": 241,
     "metadata": {},
     "output_type": "execute_result"
    }
   ],
   "source": [
    "ts3.head()"
   ]
  },
  {
   "cell_type": "code",
   "execution_count": null,
   "metadata": {},
   "outputs": [],
   "source": []
  }
 ],
 "metadata": {
  "hide_input": false,
  "kernelspec": {
   "display_name": "My Python",
   "language": "python",
   "name": "base"
  },
  "language_info": {
   "codemirror_mode": {
    "name": "ipython",
    "version": 3
   },
   "file_extension": ".py",
   "mimetype": "text/x-python",
   "name": "python",
   "nbconvert_exporter": "python",
   "pygments_lexer": "ipython3",
   "version": "3.6.5"
  }
 },
 "nbformat": 4,
 "nbformat_minor": 2
}
